{
 "cells": [
  {
   "cell_type": "markdown",
   "id": "e0b063ae",
   "metadata": {},
   "source": [
    "# IEOR-E4501 Final Project"
   ]
  },
  {
   "cell_type": "code",
   "execution_count": null,
   "id": "0888a934",
   "metadata": {},
   "outputs": [],
   "source": []
  }
 ],
 "metadata": {
  "kernelspec": {
   "display_name": "Python 3 (ipykernel)",
   "language": "python",
   "name": "python3"
  },
  "language_info": {
   "codemirror_mode": {
    "name": "ipython",
    "version": 3
   },
   "file_extension": ".py",
   "mimetype": "text/x-python",
   "name": "python",
   "nbconvert_exporter": "python",
   "pygments_lexer": "ipython3",
   "version": "3.8.15"
  }
 },
 "nbformat": 4,
 "nbformat_minor": 5
}
