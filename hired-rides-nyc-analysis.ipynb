{
 "cells": [
  {
   "cell_type": "markdown",
   "id": "32f8ca24",
   "metadata": {},
   "source": [
    "# Understanding Hired Rides in NYC\n",
    "\n",
    "_[Project prompt](https://docs.google.com/document/d/1VERPjEZcC1XSs4-02aM-DbkNr_yaJVbFjLJxaYQswqA/edit#)_\n",
    "\n",
    "_This scaffolding notebook may be used to help setup your final project. It's **totally optional** whether you make use of this or not._\n",
    "\n",
    "_If you do use this notebook, everything provided is optional as well - you may remove or add prose and code as you wish._\n",
    "\n",
    "_Anything in italics (prose) or comments (in code) is meant to provide you with guidance. **Remove the italic lines and provided comments** before submitting the project, if you choose to use this scaffolding. We don't need the guidance when grading._\n",
    "\n",
    "_**All code below should be consider \"pseudo-code\" - not functional by itself, and only a suggestion at the approach.**_"
   ]
  },
  {
   "cell_type": "markdown",
   "id": "25627e8d",
   "metadata": {},
   "source": [
    "## Requirements\n",
    "\n",
    "_A checklist of requirements to keep you on track. Remove this whole cell before submitting the project._\n",
    "\n",
    "* Code clarity: make sure the code conforms to:\n",
    "    * [ ] [PEP 8](https://peps.python.org/pep-0008/) - You might find [this resource](https://realpython.com/python-pep8/) helpful as well as [this](https://github.com/dnanhkhoa/nb_black) or [this](https://jupyterlab-code-formatter.readthedocs.io/en/latest/) tool\n",
    "    * [ ] [PEP 257](https://peps.python.org/pep-0257/)\n",
    "    * [ ] Break each task down into logical functions\n",
    "* The following files are submitted for the project (see the project's GDoc for more details):\n",
    "    * [ ] `README.md`\n",
    "    * [ ] `requirements.txt`\n",
    "    * [ ] `.gitignore`\n",
    "    * [ ] `schema.sql`\n",
    "    * [ ] 6 query files (using the `.sql` extension), appropriately named for the purpose of the query\n",
    "    * [x] Jupyter Notebook containing the project (this file!)\n",
    "* [x] You can edit this cell and add a `x` inside the `[ ]` like this task to denote a completed task"
   ]
  },
  {
   "cell_type": "markdown",
   "id": "2f75fd94",
   "metadata": {},
   "source": [
    "## Project Setup"
   ]
  },
  {
   "cell_type": "code",
   "execution_count": 1,
   "id": "66dcde05",
   "metadata": {},
   "outputs": [],
   "source": [
    "# import libraries\n",
    "\n",
    "from math import radians, sin, cos, sqrt, atan2\n",
    "\n",
    "# import os\n",
    "import requests\n",
    "import bs4\n",
    "import re\n",
    "import geopandas\n",
    "import matplotlib.pyplot as plt\n",
    "import pandas as pd\n",
    "import sqlalchemy as db"
   ]
  },
  {
   "cell_type": "code",
   "execution_count": null,
   "id": "350b9f48",
   "metadata": {},
   "outputs": [],
   "source": []
  },
  {
   "cell_type": "code",
   "execution_count": 5,
   "id": "8b622a58",
   "metadata": {},
   "outputs": [
    {
     "data": {
      "application/javascript": [
       "\n",
       "            setTimeout(function() {\n",
       "                var nbb_cell_id = 5;\n",
       "                var nbb_unformatted_code = \"# notebook formatting\\n\\n%load_ext nb_black\";\n",
       "                var nbb_formatted_code = \"# notebook formatting\\n\\n%load_ext nb_black\";\n",
       "                var nbb_cells = Jupyter.notebook.get_cells();\n",
       "                for (var i = 0; i < nbb_cells.length; ++i) {\n",
       "                    if (nbb_cells[i].input_prompt_number == nbb_cell_id) {\n",
       "                        if (nbb_cells[i].get_text() == nbb_unformatted_code) {\n",
       "                             nbb_cells[i].set_text(nbb_formatted_code);\n",
       "                        }\n",
       "                        break;\n",
       "                    }\n",
       "                }\n",
       "            }, 500);\n",
       "            "
      ],
      "text/plain": [
       "<IPython.core.display.Javascript object>"
      ]
     },
     "metadata": {},
     "output_type": "display_data"
    }
   ],
   "source": [
    "# notebook formatting\n",
    "\n",
    "%load_ext nb_black"
   ]
  },
  {
   "cell_type": "code",
   "execution_count": 6,
   "id": "3f1242c4",
   "metadata": {},
   "outputs": [
    {
     "data": {
      "application/javascript": [
       "\n",
       "            setTimeout(function() {\n",
       "                var nbb_cell_id = 6;\n",
       "                var nbb_unformatted_code = \"# any constants you might need, for example:\\n\\nTAXI_URL = \\\"https://www1.nyc.gov/site/tlc/about/tlc-trip-record-data.page\\\"\\n# add other constants to refer to any local data, e.g. uber & weather\\nUBER_CSV = \\\"uber_rides_sample.csv\\\"\\n\\nNEW_YORK_BOX_COORDS = ((40.560445, -74.242330), (40.908524, -73.717047))\\n\\nDATABASE_URL = \\\"sqlite:///project.db\\\"\\nDATABASE_SCHEMA_FILE = \\\"schema.sql\\\"\\nQUERY_DIRECTORY = \\\"queries\\\"\";\n",
       "                var nbb_formatted_code = \"# any constants you might need, for example:\\n\\nTAXI_URL = \\\"https://www1.nyc.gov/site/tlc/about/tlc-trip-record-data.page\\\"\\n# add other constants to refer to any local data, e.g. uber & weather\\nUBER_CSV = \\\"uber_rides_sample.csv\\\"\\n\\nNEW_YORK_BOX_COORDS = ((40.560445, -74.242330), (40.908524, -73.717047))\\n\\nDATABASE_URL = \\\"sqlite:///project.db\\\"\\nDATABASE_SCHEMA_FILE = \\\"schema.sql\\\"\\nQUERY_DIRECTORY = \\\"queries\\\"\";\n",
       "                var nbb_cells = Jupyter.notebook.get_cells();\n",
       "                for (var i = 0; i < nbb_cells.length; ++i) {\n",
       "                    if (nbb_cells[i].input_prompt_number == nbb_cell_id) {\n",
       "                        if (nbb_cells[i].get_text() == nbb_unformatted_code) {\n",
       "                             nbb_cells[i].set_text(nbb_formatted_code);\n",
       "                        }\n",
       "                        break;\n",
       "                    }\n",
       "                }\n",
       "            }, 500);\n",
       "            "
      ],
      "text/plain": [
       "<IPython.core.display.Javascript object>"
      ]
     },
     "metadata": {},
     "output_type": "display_data"
    }
   ],
   "source": [
    "# any constants you might need, for example:\n",
    "\n",
    "TAXI_URL = \"https://www1.nyc.gov/site/tlc/about/tlc-trip-record-data.page\"\n",
    "# add other constants to refer to any local data, e.g. uber & weather\n",
    "UBER_CSV = \"uber_rides_sample.csv\"\n",
    "\n",
    "NEW_YORK_BOX_COORDS = ((40.560445, -74.242330), (40.908524, -73.717047))\n",
    "\n",
    "DATABASE_URL = \"sqlite:///project.db\"\n",
    "DATABASE_SCHEMA_FILE = \"schema.sql\"\n",
    "QUERY_DIRECTORY = \"queries\""
   ]
  },
  {
   "cell_type": "markdown",
   "id": "26ad10ea",
   "metadata": {},
   "source": [
    "## Part 1: Data Preprocessing"
   ]
  },
  {
   "cell_type": "markdown",
   "id": "ecf38168",
   "metadata": {},
   "source": [
    "_A checklist of requirements to keep you on track. Remove this whole cell before submitting the project. The order of these tasks aren't necessarily the order in which they need to be done. It's okay to do them in an order that makes sense to you._\n",
    "\n",
    "* [ ] Define a function that calculates the distance between two coordinates in kilometers that **only uses the `math` module** from the standard library.\n",
    "* [ ] Taxi data:\n",
    "    * [ ] Use the `re` module, and the packages `requests`, BeautifulSoup (`bs4`), and (optionally) `pandas` to programmatically download the required CSV files & load into memory.\n",
    "    * You may need to do this one file at a time - download, clean, sample. You can cache the sampling by saving it as a CSV file (and thereby freeing up memory on your computer) before moving onto the next file. \n",
    "* [ ] Weather & Uber data:\n",
    "    * [ ] Download the data manually in the link provided in the project doc.\n",
    "* [ ] All data:\n",
    "    * [ ] Load the data using `pandas`\n",
    "    * [ ] Clean the data, including:\n",
    "        * Remove unnecessary columns\n",
    "        * Remove invalid data points (take a moment to consider what's invalid)\n",
    "        * Normalize column names\n",
    "        * (Taxi & Uber data) Remove trips that start and/or end outside the designated [coordinate box](http://bboxfinder.com/#40.560445,-74.242330,40.908524,-73.717047)\n",
    "    * [ ] (Taxi data) Sample the data so that you have roughly the same amount of data points over the given date range for both Taxi data and Uber data.\n",
    "* [ ] Weather data:\n",
    "    * [ ] Split into two `pandas` DataFrames: one for required hourly data, and one for the required daily daya.\n",
    "    * [ ] You may find that the weather data you need later on does not exist at the frequency needed (daily vs hourly). You may calculate/generate samples from one to populate the other. Just document what you’re doing so we can follow along. "
   ]
  },
  {
   "cell_type": "markdown",
   "id": "6e26fe17",
   "metadata": {},
   "source": [
    "    \"\"\"Summary line.\n",
    "\n",
    "    Extended description of function.\n",
    "\n",
    "    Args:\n",
    "        arg1 (int): Description of arg1\n",
    "        arg2 (str): Description of arg2\n",
    "\n",
    "    Returns:\n",
    "        bool: Description of return value\n",
    "\n",
    "    \"\"\""
   ]
  },
  {
   "cell_type": "markdown",
   "id": "32074561",
   "metadata": {},
   "source": [
    "### Calculating distance\n",
    "_**TODO:** Write some prose that tells the reader what you're about to do here._"
   ]
  },
  {
   "cell_type": "code",
   "execution_count": 15,
   "id": "4cbbe6cc",
   "metadata": {},
   "outputs": [
    {
     "data": {
      "application/javascript": [
       "\n",
       "            setTimeout(function() {\n",
       "                var nbb_cell_id = 15;\n",
       "                var nbb_unformatted_code = \"def calculate_distance(from_coord, to_coord):\\n\\n    # convert degrees to radians\\n    lat1, lon1 = radians(from_coord[0]), radians(from_coord[1])\\n    lat2, lon2 = radians(to_coord[0]), radians(to_coord[1])\\n\\n    # apply Haversine formula\\n    dlat = lat2 - lat1\\n    dlon = lon2 - lon1\\n\\n    r = 6373.0  # radius of earth (km)\\n\\n    a = sin(dlat / 2) ** 2 + cos(lat1) * cos(lat2) * sin(dlon / 2) ** 2\\n    c = 2 * atan2(sqrt(a), sqrt(1 - a))\\n\\n    distance = r * c\\n\\n    return distance\";\n",
       "                var nbb_formatted_code = \"def calculate_distance(from_coord, to_coord):\\n\\n    # convert degrees to radians\\n    lat1, lon1 = radians(from_coord[0]), radians(from_coord[1])\\n    lat2, lon2 = radians(to_coord[0]), radians(to_coord[1])\\n\\n    # apply Haversine formula\\n    dlat = lat2 - lat1\\n    dlon = lon2 - lon1\\n\\n    r = 6373.0  # radius of earth (km)\\n\\n    a = sin(dlat / 2) ** 2 + cos(lat1) * cos(lat2) * sin(dlon / 2) ** 2\\n    c = 2 * atan2(sqrt(a), sqrt(1 - a))\\n\\n    distance = r * c\\n\\n    return distance\";\n",
       "                var nbb_cells = Jupyter.notebook.get_cells();\n",
       "                for (var i = 0; i < nbb_cells.length; ++i) {\n",
       "                    if (nbb_cells[i].input_prompt_number == nbb_cell_id) {\n",
       "                        if (nbb_cells[i].get_text() == nbb_unformatted_code) {\n",
       "                             nbb_cells[i].set_text(nbb_formatted_code);\n",
       "                        }\n",
       "                        break;\n",
       "                    }\n",
       "                }\n",
       "            }, 500);\n",
       "            "
      ],
      "text/plain": [
       "<IPython.core.display.Javascript object>"
      ]
     },
     "metadata": {},
     "output_type": "display_data"
    }
   ],
   "source": [
    "def calculate_distance(from_coord, to_coord):\n",
    "    \"\"\"Caculate the distance between two coordinates\n",
    "\n",
    "    Args:\n",
    "        from_coord (tuple): A pair values (float) of latitude and longitude\n",
    "        to_coord (tuple): A pair values (float) of latitude and longitude\n",
    "\n",
    "    Returns:\n",
    "        float: the distance\n",
    "\n",
    "    \"\"\"\n",
    "    \n",
    "    # convert degrees to radians\n",
    "    lat1, lon1 = radians(from_coord[0]), radians(from_coord[1])\n",
    "    lat2, lon2 = radians(to_coord[0]), radians(to_coord[1])\n",
    "\n",
    "    # apply Haversine formula\n",
    "    dlat = lat2 - lat1\n",
    "    dlon = lon2 - lon1\n",
    "\n",
    "    r = 6373.0  # radius of earth (km)\n",
    "\n",
    "    a = sin(dlat / 2) ** 2 + cos(lat1) * cos(lat2) * sin(dlon / 2) ** 2\n",
    "    c = 2 * atan2(sqrt(a), sqrt(1 - a))\n",
    "\n",
    "    distance = r * c\n",
    "\n",
    "    return distance"
   ]
  },
  {
   "cell_type": "code",
   "execution_count": 14,
   "id": "bf6e6a5e",
   "metadata": {},
   "outputs": [
    {
     "data": {
      "text/plain": [
       "58.8135468911925"
      ]
     },
     "execution_count": 14,
     "metadata": {},
     "output_type": "execute_result"
    },
    {
     "data": {
      "application/javascript": [
       "\n",
       "            setTimeout(function() {\n",
       "                var nbb_cell_id = 14;\n",
       "                var nbb_unformatted_code = \"calculate_distance(NEW_YORK_BOX_COORDS[0], NEW_YORK_BOX_COORDS[1])\";\n",
       "                var nbb_formatted_code = \"calculate_distance(NEW_YORK_BOX_COORDS[0], NEW_YORK_BOX_COORDS[1])\";\n",
       "                var nbb_cells = Jupyter.notebook.get_cells();\n",
       "                for (var i = 0; i < nbb_cells.length; ++i) {\n",
       "                    if (nbb_cells[i].input_prompt_number == nbb_cell_id) {\n",
       "                        if (nbb_cells[i].get_text() == nbb_unformatted_code) {\n",
       "                             nbb_cells[i].set_text(nbb_formatted_code);\n",
       "                        }\n",
       "                        break;\n",
       "                    }\n",
       "                }\n",
       "            }, 500);\n",
       "            "
      ],
      "text/plain": [
       "<IPython.core.display.Javascript object>"
      ]
     },
     "metadata": {},
     "output_type": "display_data"
    }
   ],
   "source": [
    "calculate_distance(NEW_YORK_BOX_COORDS[0], NEW_YORK_BOX_COORDS[1])"
   ]
  },
  {
   "cell_type": "code",
   "execution_count": null,
   "id": "6d6abf52",
   "metadata": {},
   "outputs": [],
   "source": [
    "def add_distance_column(dataframe):\n",
    "    raise NotImplemented()"
   ]
  },
  {
   "cell_type": "markdown",
   "id": "93daa717",
   "metadata": {},
   "source": [
    "### Processing Taxi Data\n",
    "\n",
    "_**TODO:** Write some prose that tells the reader what you're about to do here._"
   ]
  },
  {
   "cell_type": "code",
   "execution_count": 10,
   "id": "cbd0d198",
   "metadata": {},
   "outputs": [
    {
     "data": {
      "application/javascript": [
       "\n",
       "            setTimeout(function() {\n",
       "                var nbb_cell_id = 10;\n",
       "                var nbb_unformatted_code = \"def find_taxi_parquet_urls():\\n    \\\"\\\"\\\"Retrieve the yellow taxi parquet urls.\\n\\n    The function retrieves the url from January 2009 through June 2015.\\n\\n    Args:\\n        None\\n\\n    Returns:\\n        list: Desired urls as list of strings\\n\\n    \\\"\\\"\\\"\\n\\n    # Use requests library to get TAXI_URL html\\n    response = requests.get(TAXI_URL)\\n    html = response.content\\n\\n    # Use BeautifulSoup to get all yellow taxi parquet urls\\n    soup = bs4.BeautifulSoup(html, \\\"html.parser\\\")\\n    yellow_a_tags = soup.find_all(\\\"a\\\", attrs={\\\"title\\\": \\\"Yellow Taxi Trip Records\\\"})\\n    yellow_taxi_urls = [a[\\\"href\\\"] for a in yellow_a_tags]\\n\\n    # Use re moduel to filter the urls\\n    pattern = re.compile(\\n        r\\\"yellow_tripdata_20(09-(?:0\\\\d|1[0-2])|1[0-4]-(?:0\\\\d|1[0-2])|15-0[1-6]).parquet\\\"\\n    )\\n\\n    yellow_taxi_urls_desired = []\\n\\n    for link in yellow_taxi_urls:\\n        match = pattern.search(link)\\n        if match:\\n            yellow_taxi_urls_desired.append(match.string)\\n\\n    return yellow_taxi_urls_desired\";\n",
       "                var nbb_formatted_code = \"def find_taxi_parquet_urls():\\n    \\\"\\\"\\\"Retrieve the yellow taxi parquet urls.\\n\\n    The function retrieves the url from January 2009 through June 2015.\\n\\n    Args:\\n        None\\n\\n    Returns:\\n        list: Desired urls as list of strings\\n\\n    \\\"\\\"\\\"\\n\\n    # Use requests library to get TAXI_URL html\\n    response = requests.get(TAXI_URL)\\n    html = response.content\\n\\n    # Use BeautifulSoup to get all yellow taxi parquet urls\\n    soup = bs4.BeautifulSoup(html, \\\"html.parser\\\")\\n    yellow_a_tags = soup.find_all(\\\"a\\\", attrs={\\\"title\\\": \\\"Yellow Taxi Trip Records\\\"})\\n    yellow_taxi_urls = [a[\\\"href\\\"] for a in yellow_a_tags]\\n\\n    # Use re moduel to filter the urls\\n    pattern = re.compile(\\n        r\\\"yellow_tripdata_20(09-(?:0\\\\d|1[0-2])|1[0-4]-(?:0\\\\d|1[0-2])|15-0[1-6]).parquet\\\"\\n    )\\n\\n    yellow_taxi_urls_desired = []\\n\\n    for link in yellow_taxi_urls:\\n        match = pattern.search(link)\\n        if match:\\n            yellow_taxi_urls_desired.append(match.string)\\n\\n    return yellow_taxi_urls_desired\";\n",
       "                var nbb_cells = Jupyter.notebook.get_cells();\n",
       "                for (var i = 0; i < nbb_cells.length; ++i) {\n",
       "                    if (nbb_cells[i].input_prompt_number == nbb_cell_id) {\n",
       "                        if (nbb_cells[i].get_text() == nbb_unformatted_code) {\n",
       "                             nbb_cells[i].set_text(nbb_formatted_code);\n",
       "                        }\n",
       "                        break;\n",
       "                    }\n",
       "                }\n",
       "            }, 500);\n",
       "            "
      ],
      "text/plain": [
       "<IPython.core.display.Javascript object>"
      ]
     },
     "metadata": {},
     "output_type": "display_data"
    }
   ],
   "source": [
    "def find_taxi_parquet_urls():\n",
    "    \"\"\"Retrieve the yellow taxi parquet urls.\n",
    "\n",
    "    The function retrieves the url from January 2009 through June 2015.\n",
    "\n",
    "    Args:\n",
    "        None\n",
    "\n",
    "    Returns:\n",
    "        list: Desired urls as list of strings\n",
    "\n",
    "    \"\"\"\n",
    "\n",
    "    # Use requests library to get TAXI_URL html\n",
    "    response = requests.get(TAXI_URL)\n",
    "    html = response.content\n",
    "\n",
    "    # Use BeautifulSoup to get all yellow taxi parquet urls\n",
    "    soup = bs4.BeautifulSoup(html, \"html.parser\")\n",
    "    yellow_a_tags = soup.find_all(\"a\", attrs={\"title\": \"Yellow Taxi Trip Records\"})\n",
    "    yellow_taxi_urls = [a[\"href\"] for a in yellow_a_tags]\n",
    "\n",
    "    # Use re moduel to filter the urls\n",
    "    pattern = re.compile(\n",
    "        r\"yellow_tripdata_20(09-(?:0\\d|1[0-2])|1[0-4]-(?:0\\d|1[0-2])|15-0[1-6]).parquet\"\n",
    "    )\n",
    "\n",
    "    yellow_taxi_urls_desired = []\n",
    "\n",
    "    for link in yellow_taxi_urls:\n",
    "        match = pattern.search(link)\n",
    "        if match:\n",
    "            yellow_taxi_urls_desired.append(match.string)\n",
    "\n",
    "    return yellow_taxi_urls_desired"
   ]
  },
  {
   "cell_type": "code",
   "execution_count": 11,
   "id": "b7a2fe98",
   "metadata": {},
   "outputs": [
    {
     "data": {
      "application/javascript": [
       "\n",
       "            setTimeout(function() {\n",
       "                var nbb_cell_id = 11;\n",
       "                var nbb_unformatted_code = \"# find_taxi_parquet_urls()\";\n",
       "                var nbb_formatted_code = \"# find_taxi_parquet_urls()\";\n",
       "                var nbb_cells = Jupyter.notebook.get_cells();\n",
       "                for (var i = 0; i < nbb_cells.length; ++i) {\n",
       "                    if (nbb_cells[i].input_prompt_number == nbb_cell_id) {\n",
       "                        if (nbb_cells[i].get_text() == nbb_unformatted_code) {\n",
       "                             nbb_cells[i].set_text(nbb_formatted_code);\n",
       "                        }\n",
       "                        break;\n",
       "                    }\n",
       "                }\n",
       "            }, 500);\n",
       "            "
      ],
      "text/plain": [
       "<IPython.core.display.Javascript object>"
      ]
     },
     "metadata": {},
     "output_type": "display_data"
    }
   ],
   "source": [
    "# find_taxi_parquet_urls()"
   ]
  },
  {
   "cell_type": "code",
   "execution_count": 12,
   "id": "9bb298bd",
   "metadata": {},
   "outputs": [
    {
     "data": {
      "application/javascript": [
       "\n",
       "            setTimeout(function() {\n",
       "                var nbb_cell_id = 12;\n",
       "                var nbb_unformatted_code = \"def download_taxi_data(taxi_parquet_url):\\n    for url in taxi_parquet_url:\\n\\n        response = requests.get(url, stream=True)\\n        file_name = url.split(\\\"/\\\")[-1]\\n        # file_path = os.getcwd() + '/datasets/yellow_taxi_data/'\\n\\n        with open(file_name, \\\"wb\\\") as f:\\n            for chunk in response.iter_content(chunk_size=1024):\\n                if chunk:\\n                    f.write(chunk)\";\n",
       "                var nbb_formatted_code = \"def download_taxi_data(taxi_parquet_url):\\n    for url in taxi_parquet_url:\\n\\n        response = requests.get(url, stream=True)\\n        file_name = url.split(\\\"/\\\")[-1]\\n        # file_path = os.getcwd() + '/datasets/yellow_taxi_data/'\\n\\n        with open(file_name, \\\"wb\\\") as f:\\n            for chunk in response.iter_content(chunk_size=1024):\\n                if chunk:\\n                    f.write(chunk)\";\n",
       "                var nbb_cells = Jupyter.notebook.get_cells();\n",
       "                for (var i = 0; i < nbb_cells.length; ++i) {\n",
       "                    if (nbb_cells[i].input_prompt_number == nbb_cell_id) {\n",
       "                        if (nbb_cells[i].get_text() == nbb_unformatted_code) {\n",
       "                             nbb_cells[i].set_text(nbb_formatted_code);\n",
       "                        }\n",
       "                        break;\n",
       "                    }\n",
       "                }\n",
       "            }, 500);\n",
       "            "
      ],
      "text/plain": [
       "<IPython.core.display.Javascript object>"
      ]
     },
     "metadata": {},
     "output_type": "display_data"
    }
   ],
   "source": [
    "def download_taxi_data(taxi_parquet_url):\n",
    "    for url in taxi_parquet_url:\n",
    "\n",
    "        response = requests.get(url, stream=True)\n",
    "        file_name = url.split(\"/\")[-1]\n",
    "        # file_path = os.getcwd() + '/datasets/yellow_taxi_data/'\n",
    "\n",
    "        with open(file_name, \"wb\") as f:\n",
    "            for chunk in response.iter_content(chunk_size=1024):\n",
    "                if chunk:\n",
    "                    f.write(chunk)"
   ]
  },
  {
   "cell_type": "code",
   "execution_count": 13,
   "id": "30a25ab4",
   "metadata": {},
   "outputs": [
    {
     "data": {
      "application/javascript": [
       "\n",
       "            setTimeout(function() {\n",
       "                var nbb_cell_id = 13;\n",
       "                var nbb_unformatted_code = \"# Download the taxi parquet files to the current folder\\n\\ntaxi_parquet_url = find_taxi_parquet_urls()\\ndownload_taxi_data(taxi_parquet_url)\";\n",
       "                var nbb_formatted_code = \"# Download the taxi parquet files to the current folder\\n\\ntaxi_parquet_url = find_taxi_parquet_urls()\\ndownload_taxi_data(taxi_parquet_url)\";\n",
       "                var nbb_cells = Jupyter.notebook.get_cells();\n",
       "                for (var i = 0; i < nbb_cells.length; ++i) {\n",
       "                    if (nbb_cells[i].input_prompt_number == nbb_cell_id) {\n",
       "                        if (nbb_cells[i].get_text() == nbb_unformatted_code) {\n",
       "                             nbb_cells[i].set_text(nbb_formatted_code);\n",
       "                        }\n",
       "                        break;\n",
       "                    }\n",
       "                }\n",
       "            }, 500);\n",
       "            "
      ],
      "text/plain": [
       "<IPython.core.display.Javascript object>"
      ]
     },
     "metadata": {},
     "output_type": "display_data"
    }
   ],
   "source": [
    "# Download the taxi parquet files to the current folder\n",
    "\n",
    "taxi_parquet_url = find_taxi_parquet_urls()\n",
    "download_taxi_data(taxi_parquet_url)"
   ]
  },
  {
   "cell_type": "code",
   "execution_count": 49,
   "id": "bfe8b834",
   "metadata": {},
   "outputs": [
    {
     "data": {
      "text/plain": [
       "Index(['VendorID', 'tpep_pickup_datetime', 'tpep_dropoff_datetime',\n",
       "       'passenger_count', 'trip_distance', 'RatecodeID', 'store_and_fwd_flag',\n",
       "       'PULocationID', 'DOLocationID', 'payment_type', 'fare_amount', 'extra',\n",
       "       'mta_tax', 'tip_amount', 'tolls_amount', 'improvement_surcharge',\n",
       "       'total_amount', 'congestion_surcharge', 'airport_fee'],\n",
       "      dtype='object')"
      ]
     },
     "execution_count": 49,
     "metadata": {},
     "output_type": "execute_result"
    },
    {
     "data": {
      "application/javascript": [
       "\n",
       "            setTimeout(function() {\n",
       "                var nbb_cell_id = 49;\n",
       "                var nbb_unformatted_code = \"test = pd.read_parquet(\\\"yellow_tripdata_2014-12.parquet\\\")\\ncolumns_needed1 = [\\n    \\\"Trip_Pickup_DateTime\\\",\\n    \\\"Trip_Dropoff_DateTime\\\",\\n    \\\"Start_Lon\\\",\\n    \\\"Start_Lat\\\",\\n    \\\"End_Lon\\\",\\n    \\\"End_Lat\\\",\\n    \\\"Tip_Amt\\\",\\n]\\n\\ncolumns_needed2 = [\\n    \\\"tpep_pickup_datetime\\\",\\n    \\\"tpep_dropoff_datetime\\\",\\n    \\\"PULocationID\\\",\\n    \\\"DOLocationID\\\",\\n    \\\"tip_amount\\\",\\n]\\n\\ncolumns_needed3 = [\\n    \\\"pickup_datetime\\\",\\n    \\\"dropoff_datetime\\\",\\n    \\\"pickup_longitude\\\",\\n    \\\"pickup_latitude\\\",\\n    \\\"dropoff_longitude\\\",\\n    \\\"dropoff_latitude\\\",\\n    \\\"tip_amount\\\",\\n]\\n\\ntest.columns\";\n",
       "                var nbb_formatted_code = \"test = pd.read_parquet(\\\"yellow_tripdata_2014-12.parquet\\\")\\ncolumns_needed1 = [\\n    \\\"Trip_Pickup_DateTime\\\",\\n    \\\"Trip_Dropoff_DateTime\\\",\\n    \\\"Start_Lon\\\",\\n    \\\"Start_Lat\\\",\\n    \\\"End_Lon\\\",\\n    \\\"End_Lat\\\",\\n    \\\"Tip_Amt\\\",\\n]\\n\\ncolumns_needed2 = [\\n    \\\"tpep_pickup_datetime\\\",\\n    \\\"tpep_dropoff_datetime\\\",\\n    \\\"PULocationID\\\",\\n    \\\"DOLocationID\\\",\\n    \\\"tip_amount\\\",\\n]\\n\\ncolumns_needed3 = [\\n    \\\"pickup_datetime\\\",\\n    \\\"dropoff_datetime\\\",\\n    \\\"pickup_longitude\\\",\\n    \\\"pickup_latitude\\\",\\n    \\\"dropoff_longitude\\\",\\n    \\\"dropoff_latitude\\\",\\n    \\\"tip_amount\\\",\\n]\\n\\ntest.columns\";\n",
       "                var nbb_cells = Jupyter.notebook.get_cells();\n",
       "                for (var i = 0; i < nbb_cells.length; ++i) {\n",
       "                    if (nbb_cells[i].input_prompt_number == nbb_cell_id) {\n",
       "                        if (nbb_cells[i].get_text() == nbb_unformatted_code) {\n",
       "                             nbb_cells[i].set_text(nbb_formatted_code);\n",
       "                        }\n",
       "                        break;\n",
       "                    }\n",
       "                }\n",
       "            }, 500);\n",
       "            "
      ],
      "text/plain": [
       "<IPython.core.display.Javascript object>"
      ]
     },
     "metadata": {},
     "output_type": "display_data"
    }
   ],
   "source": [
    "test = pd.read_parquet(\"yellow_tripdata_2014-12.parquet\")\n",
    "columns_needed1 = [\n",
    "    \"Trip_Pickup_DateTime\",\n",
    "    \"Trip_Dropoff_DateTime\",\n",
    "    \"Start_Lon\",\n",
    "    \"Start_Lat\",\n",
    "    \"End_Lon\",\n",
    "    \"End_Lat\",\n",
    "    \"Tip_Amt\",\n",
    "]\n",
    "\n",
    "columns_needed2 = [\n",
    "    \"tpep_pickup_datetime\",\n",
    "    \"tpep_dropoff_datetime\",\n",
    "    \"PULocationID\",\n",
    "    \"DOLocationID\",\n",
    "    \"tip_amount\",\n",
    "]\n",
    "\n",
    "columns_needed3 = [\n",
    "    \"pickup_datetime\",\n",
    "    \"dropoff_datetime\",\n",
    "    \"pickup_longitude\",\n",
    "    \"pickup_latitude\",\n",
    "    \"dropoff_longitude\",\n",
    "    \"dropoff_latitude\",\n",
    "    \"tip_amount\",\n",
    "]\n",
    "\n",
    "test.columns"
   ]
  },
  {
   "cell_type": "code",
   "execution_count": 31,
   "id": "5f93715c",
   "metadata": {},
   "outputs": [
    {
     "data": {
      "text/html": [
       "<div>\n",
       "<style scoped>\n",
       "    .dataframe tbody tr th:only-of-type {\n",
       "        vertical-align: middle;\n",
       "    }\n",
       "\n",
       "    .dataframe tbody tr th {\n",
       "        vertical-align: top;\n",
       "    }\n",
       "\n",
       "    .dataframe thead th {\n",
       "        text-align: right;\n",
       "    }\n",
       "</style>\n",
       "<table border=\"1\" class=\"dataframe\">\n",
       "  <thead>\n",
       "    <tr style=\"text-align: right;\">\n",
       "      <th></th>\n",
       "      <th>vendor_id</th>\n",
       "      <th>pickup_datetime</th>\n",
       "      <th>dropoff_datetime</th>\n",
       "      <th>passenger_count</th>\n",
       "      <th>trip_distance</th>\n",
       "      <th>pickup_longitude</th>\n",
       "      <th>pickup_latitude</th>\n",
       "      <th>rate_code</th>\n",
       "      <th>store_and_fwd_flag</th>\n",
       "      <th>dropoff_longitude</th>\n",
       "      <th>dropoff_latitude</th>\n",
       "      <th>payment_type</th>\n",
       "      <th>fare_amount</th>\n",
       "      <th>surcharge</th>\n",
       "      <th>mta_tax</th>\n",
       "      <th>tip_amount</th>\n",
       "      <th>tolls_amount</th>\n",
       "      <th>total_amount</th>\n",
       "    </tr>\n",
       "  </thead>\n",
       "  <tbody>\n",
       "    <tr>\n",
       "      <th>0</th>\n",
       "      <td>VTS</td>\n",
       "      <td>2010-09-15 06:52:00</td>\n",
       "      <td>2010-09-15 06:56:00</td>\n",
       "      <td>1</td>\n",
       "      <td>0.39</td>\n",
       "      <td>-73.981725</td>\n",
       "      <td>40.763627</td>\n",
       "      <td>1</td>\n",
       "      <td>None</td>\n",
       "      <td>-73.975280</td>\n",
       "      <td>40.761040</td>\n",
       "      <td>CSH</td>\n",
       "      <td>3.7</td>\n",
       "      <td>0.0</td>\n",
       "      <td>0.5</td>\n",
       "      <td>0.0</td>\n",
       "      <td>0.00</td>\n",
       "      <td>4.20</td>\n",
       "    </tr>\n",
       "    <tr>\n",
       "      <th>1</th>\n",
       "      <td>VTS</td>\n",
       "      <td>2010-09-13 10:21:00</td>\n",
       "      <td>2010-09-13 10:34:00</td>\n",
       "      <td>1</td>\n",
       "      <td>1.48</td>\n",
       "      <td>-73.981770</td>\n",
       "      <td>40.745295</td>\n",
       "      <td>1</td>\n",
       "      <td>None</td>\n",
       "      <td>-73.992273</td>\n",
       "      <td>40.764130</td>\n",
       "      <td>CSH</td>\n",
       "      <td>8.1</td>\n",
       "      <td>0.0</td>\n",
       "      <td>0.5</td>\n",
       "      <td>0.0</td>\n",
       "      <td>0.00</td>\n",
       "      <td>8.60</td>\n",
       "    </tr>\n",
       "    <tr>\n",
       "      <th>2</th>\n",
       "      <td>VTS</td>\n",
       "      <td>2010-09-13 11:50:00</td>\n",
       "      <td>2010-09-13 11:59:00</td>\n",
       "      <td>1</td>\n",
       "      <td>1.37</td>\n",
       "      <td>-73.974165</td>\n",
       "      <td>40.750150</td>\n",
       "      <td>1</td>\n",
       "      <td>None</td>\n",
       "      <td>-73.948047</td>\n",
       "      <td>40.781815</td>\n",
       "      <td>CSH</td>\n",
       "      <td>6.9</td>\n",
       "      <td>0.0</td>\n",
       "      <td>0.5</td>\n",
       "      <td>0.0</td>\n",
       "      <td>0.00</td>\n",
       "      <td>7.40</td>\n",
       "    </tr>\n",
       "    <tr>\n",
       "      <th>3</th>\n",
       "      <td>VTS</td>\n",
       "      <td>2010-09-13 13:35:00</td>\n",
       "      <td>2010-09-13 14:07:00</td>\n",
       "      <td>1</td>\n",
       "      <td>11.11</td>\n",
       "      <td>-73.985448</td>\n",
       "      <td>40.717913</td>\n",
       "      <td>1</td>\n",
       "      <td>None</td>\n",
       "      <td>-74.015868</td>\n",
       "      <td>40.714947</td>\n",
       "      <td>CSH</td>\n",
       "      <td>27.3</td>\n",
       "      <td>0.0</td>\n",
       "      <td>0.5</td>\n",
       "      <td>0.0</td>\n",
       "      <td>4.57</td>\n",
       "      <td>32.37</td>\n",
       "    </tr>\n",
       "    <tr>\n",
       "      <th>4</th>\n",
       "      <td>VTS</td>\n",
       "      <td>2010-09-13 14:54:00</td>\n",
       "      <td>2010-09-13 15:13:00</td>\n",
       "      <td>3</td>\n",
       "      <td>3.52</td>\n",
       "      <td>-73.979482</td>\n",
       "      <td>40.746463</td>\n",
       "      <td>1</td>\n",
       "      <td>None</td>\n",
       "      <td>-73.967770</td>\n",
       "      <td>40.760060</td>\n",
       "      <td>CSH</td>\n",
       "      <td>12.5</td>\n",
       "      <td>0.0</td>\n",
       "      <td>0.5</td>\n",
       "      <td>0.0</td>\n",
       "      <td>0.00</td>\n",
       "      <td>13.00</td>\n",
       "    </tr>\n",
       "  </tbody>\n",
       "</table>\n",
       "</div>"
      ],
      "text/plain": [
       "  vendor_id      pickup_datetime     dropoff_datetime  passenger_count  \\\n",
       "0       VTS  2010-09-15 06:52:00  2010-09-15 06:56:00                1   \n",
       "1       VTS  2010-09-13 10:21:00  2010-09-13 10:34:00                1   \n",
       "2       VTS  2010-09-13 11:50:00  2010-09-13 11:59:00                1   \n",
       "3       VTS  2010-09-13 13:35:00  2010-09-13 14:07:00                1   \n",
       "4       VTS  2010-09-13 14:54:00  2010-09-13 15:13:00                3   \n",
       "\n",
       "   trip_distance  pickup_longitude  pickup_latitude rate_code  \\\n",
       "0           0.39        -73.981725        40.763627         1   \n",
       "1           1.48        -73.981770        40.745295         1   \n",
       "2           1.37        -73.974165        40.750150         1   \n",
       "3          11.11        -73.985448        40.717913         1   \n",
       "4           3.52        -73.979482        40.746463         1   \n",
       "\n",
       "  store_and_fwd_flag  dropoff_longitude  dropoff_latitude payment_type  \\\n",
       "0               None         -73.975280         40.761040          CSH   \n",
       "1               None         -73.992273         40.764130          CSH   \n",
       "2               None         -73.948047         40.781815          CSH   \n",
       "3               None         -74.015868         40.714947          CSH   \n",
       "4               None         -73.967770         40.760060          CSH   \n",
       "\n",
       "   fare_amount  surcharge  mta_tax  tip_amount  tolls_amount  total_amount  \n",
       "0          3.7        0.0      0.5         0.0          0.00          4.20  \n",
       "1          8.1        0.0      0.5         0.0          0.00          8.60  \n",
       "2          6.9        0.0      0.5         0.0          0.00          7.40  \n",
       "3         27.3        0.0      0.5         0.0          4.57         32.37  \n",
       "4         12.5        0.0      0.5         0.0          0.00         13.00  "
      ]
     },
     "execution_count": 31,
     "metadata": {},
     "output_type": "execute_result"
    },
    {
     "data": {
      "application/javascript": [
       "\n",
       "            setTimeout(function() {\n",
       "                var nbb_cell_id = 31;\n",
       "                var nbb_unformatted_code = \"test.head()\";\n",
       "                var nbb_formatted_code = \"test.head()\";\n",
       "                var nbb_cells = Jupyter.notebook.get_cells();\n",
       "                for (var i = 0; i < nbb_cells.length; ++i) {\n",
       "                    if (nbb_cells[i].input_prompt_number == nbb_cell_id) {\n",
       "                        if (nbb_cells[i].get_text() == nbb_unformatted_code) {\n",
       "                             nbb_cells[i].set_text(nbb_formatted_code);\n",
       "                        }\n",
       "                        break;\n",
       "                    }\n",
       "                }\n",
       "            }, 500);\n",
       "            "
      ],
      "text/plain": [
       "<IPython.core.display.Javascript object>"
      ]
     },
     "metadata": {},
     "output_type": "display_data"
    }
   ],
   "source": [
    "test.head()"
   ]
  },
  {
   "cell_type": "code",
   "execution_count": null,
   "id": "077fc59c",
   "metadata": {},
   "outputs": [],
   "source": [
    "def convert_locationId(locationId):\n",
    "    \n",
    "    "
   ]
  },
  {
   "cell_type": "code",
   "execution_count": 29,
   "id": "2f40130a",
   "metadata": {},
   "outputs": [
    {
     "data": {
      "application/javascript": [
       "\n",
       "            setTimeout(function() {\n",
       "                var nbb_cell_id = 29;\n",
       "                var nbb_unformatted_code = \"def get_and_clean_month_taxi_data(url):\\n    response = requests.get(url, stream=True)\\n    file_name = url.split(\\\"/\\\")[-1]\\n\\n    with open(file_name, \\\"wb\\\") as f:\\n        for chunk in response.iter_content(chunk_size=1024):\\n            if chunk:\\n                f.write(chunk)\\n\\n\\n# find_taxi_parquet_urls()[0]\\nget_and_clean_month_taxi_data(find_taxi_parquet_urls()[0])\";\n",
       "                var nbb_formatted_code = \"def get_and_clean_month_taxi_data(url):\\n    response = requests.get(url, stream=True)\\n    file_name = url.split(\\\"/\\\")[-1]\\n\\n    with open(file_name, \\\"wb\\\") as f:\\n        for chunk in response.iter_content(chunk_size=1024):\\n            if chunk:\\n                f.write(chunk)\\n\\n\\n# find_taxi_parquet_urls()[0]\\nget_and_clean_month_taxi_data(find_taxi_parquet_urls()[0])\";\n",
       "                var nbb_cells = Jupyter.notebook.get_cells();\n",
       "                for (var i = 0; i < nbb_cells.length; ++i) {\n",
       "                    if (nbb_cells[i].input_prompt_number == nbb_cell_id) {\n",
       "                        if (nbb_cells[i].get_text() == nbb_unformatted_code) {\n",
       "                             nbb_cells[i].set_text(nbb_formatted_code);\n",
       "                        }\n",
       "                        break;\n",
       "                    }\n",
       "                }\n",
       "            }, 500);\n",
       "            "
      ],
      "text/plain": [
       "<IPython.core.display.Javascript object>"
      ]
     },
     "metadata": {},
     "output_type": "display_data"
    }
   ],
   "source": [
    "def get_and_clean_month_taxi_data(url):\n",
    "    response = requests.get(url, stream=True)\n",
    "    file_name = url.split(\"/\")[-1]\n",
    "\n",
    "    with open(file_name, \"wb\") as f:\n",
    "        for chunk in response.iter_content(chunk_size=1024):\n",
    "            if chunk:\n",
    "                f.write(chunk)\n",
    "                \n",
    "    df = pd.read_parquet(file_name)\n",
    "    \n",
    "    \n",
    "\n",
    "\n",
    "# find_taxi_parquet_urls()[0]\n",
    "# get_and_clean_month_taxi_data(find_taxi_parquet_urls()[0])"
   ]
  },
  {
   "cell_type": "code",
   "execution_count": 53,
   "id": "dd8d0faf",
   "metadata": {},
   "outputs": [
    {
     "data": {
      "application/javascript": [
       "\n",
       "            setTimeout(function() {\n",
       "                var nbb_cell_id = 53;\n",
       "                var nbb_unformatted_code = \"# Test geopandas pacakge\\n\\ngdf = geopandas.read_file(\\\"taxi_zones/taxi_zones.shp\\\").to_crs(4326)\\nlon = gdf[\\\"geometry\\\"][0].centroid.x\\nlat = gdf[\\\"geometry\\\"][0].centroid.y\";\n",
       "                var nbb_formatted_code = \"# Test geopandas pacakge\\n\\ngdf = geopandas.read_file(\\\"taxi_zones/taxi_zones.shp\\\").to_crs(4326)\\nlon = gdf[\\\"geometry\\\"][0].centroid.x\\nlat = gdf[\\\"geometry\\\"][0].centroid.y\";\n",
       "                var nbb_cells = Jupyter.notebook.get_cells();\n",
       "                for (var i = 0; i < nbb_cells.length; ++i) {\n",
       "                    if (nbb_cells[i].input_prompt_number == nbb_cell_id) {\n",
       "                        if (nbb_cells[i].get_text() == nbb_unformatted_code) {\n",
       "                             nbb_cells[i].set_text(nbb_formatted_code);\n",
       "                        }\n",
       "                        break;\n",
       "                    }\n",
       "                }\n",
       "            }, 500);\n",
       "            "
      ],
      "text/plain": [
       "<IPython.core.display.Javascript object>"
      ]
     },
     "metadata": {},
     "output_type": "display_data"
    }
   ],
   "source": [
    "# Test geopandas pacakge\n",
    "\n",
    "gdf = geopandas.read_file(\"taxi_zones/taxi_zones.shp\").to_crs(4326)\n",
    "lon = gdf[\"geometry\"][0].centroid.x\n",
    "lat = gdf[\"geometry\"][0].centroid.y"
   ]
  },
  {
   "cell_type": "code",
   "execution_count": 54,
   "id": "d62cf9f3",
   "metadata": {},
   "outputs": [
    {
     "data": {
      "text/plain": [
       "-74.17400008189792"
      ]
     },
     "execution_count": 54,
     "metadata": {},
     "output_type": "execute_result"
    },
    {
     "data": {
      "application/javascript": [
       "\n",
       "            setTimeout(function() {\n",
       "                var nbb_cell_id = 54;\n",
       "                var nbb_unformatted_code = \"lon\";\n",
       "                var nbb_formatted_code = \"lon\";\n",
       "                var nbb_cells = Jupyter.notebook.get_cells();\n",
       "                for (var i = 0; i < nbb_cells.length; ++i) {\n",
       "                    if (nbb_cells[i].input_prompt_number == nbb_cell_id) {\n",
       "                        if (nbb_cells[i].get_text() == nbb_unformatted_code) {\n",
       "                             nbb_cells[i].set_text(nbb_formatted_code);\n",
       "                        }\n",
       "                        break;\n",
       "                    }\n",
       "                }\n",
       "            }, 500);\n",
       "            "
      ],
      "text/plain": [
       "<IPython.core.display.Javascript object>"
      ]
     },
     "metadata": {},
     "output_type": "display_data"
    }
   ],
   "source": [
    "lon"
   ]
  },
  {
   "cell_type": "code",
   "execution_count": null,
   "id": "35c9c0cd",
   "metadata": {},
   "outputs": [],
   "source": [
    "def get_and_clean_taxi_data():\n",
    "    all_taxi_dataframes = []\n",
    "    \n",
    "    all_csv_urls = find_taxi_csv_urls()\n",
    "    for csv_url in all_csv_url:\n",
    "        # maybe: first try to see if you've downloaded this exact\n",
    "        # file already and saved it before trying again\n",
    "        dataframe = get_and_clean_month_taxi_data(csv_url)\n",
    "        add_distance_column(dataframe)\n",
    "        # maybe: if the file hasn't been saved, save it so you can\n",
    "        # avoid re-downloading it if you re-run the function\n",
    "        \n",
    "        all_taxi_dataframes.append(dataframe)\n",
    "        \n",
    "    # create one gigantic dataframe with data from every month needed\n",
    "    taxi_data = pd.contact(all_taxi_dataframes)\n",
    "    return taxi_data"
   ]
  },
  {
   "cell_type": "markdown",
   "id": "094b4d6d",
   "metadata": {},
   "source": [
    "### Processing Uber Data\n",
    "\n",
    "_**TODO:** Write some prose that tells the reader what you're about to do here._"
   ]
  },
  {
   "cell_type": "code",
   "execution_count": 10,
   "id": "7c58e3a2",
   "metadata": {},
   "outputs": [],
   "source": [
    "def load_and_clean_uber_data(csv_file):\n",
    "    raise NotImplemented()"
   ]
  },
  {
   "cell_type": "code",
   "execution_count": null,
   "id": "f836f118",
   "metadata": {},
   "outputs": [],
   "source": [
    "def get_uber_data():\n",
    "    uber_dataframe = load_and_clean_uber_data(UBER_DATA)\n",
    "    add_distance_column(uber_dataframe)\n",
    "    return uber_dataframe"
   ]
  },
  {
   "cell_type": "markdown",
   "id": "45a15cbb",
   "metadata": {},
   "source": [
    "### Processing Weather Data\n",
    "\n",
    "_**TODO:** Write some prose that tells the reader what you're about to do here._"
   ]
  },
  {
   "cell_type": "code",
   "execution_count": 11,
   "id": "76e864ab",
   "metadata": {},
   "outputs": [],
   "source": [
    "def clean_month_weather_data_hourly(csv_file):\n",
    "    raise NotImplemented()"
   ]
  },
  {
   "cell_type": "code",
   "execution_count": null,
   "id": "0687581f",
   "metadata": {},
   "outputs": [],
   "source": [
    "def clean_month_weather_data_daily(csv_file):\n",
    "    raise NotImplemented()"
   ]
  },
  {
   "cell_type": "code",
   "execution_count": null,
   "id": "3ef8945d",
   "metadata": {},
   "outputs": [],
   "source": [
    "def load_and_clean_weather_data():\n",
    "    hourly_dataframes = []\n",
    "    daily_dataframes = []\n",
    "    \n",
    "    # add some way to find all weather CSV files\n",
    "    # or just add the name/paths manually\n",
    "    weather_csv_files = [\"TODO\"]\n",
    "    \n",
    "    for csv_file in weather_csv_files:\n",
    "        hourly_dataframe = clean_month_weather_data_hourly(csv_file)\n",
    "        daily_dataframe = clean_month_weather_data_daily(csv_file)\n",
    "        hourly_dataframes.append(hourly_dataframe)\n",
    "        daily_dataframes.append(daily_dataframe)\n",
    "        \n",
    "    # create two dataframes with hourly & daily data from every month\n",
    "    hourly_data = pd.concat(hourly_dataframes)\n",
    "    daily_data = pd.concat(daily_dataframes)\n",
    "    \n",
    "    return hourly_data, daily_data"
   ]
  },
  {
   "cell_type": "markdown",
   "id": "f900f7aa",
   "metadata": {},
   "source": [
    "### Process All Data\n",
    "\n",
    "_This is where you can actually execute all the required functions._\n",
    "\n",
    "_**TODO:** Write some prose that tells the reader what you're about to do here._"
   ]
  },
  {
   "cell_type": "code",
   "execution_count": null,
   "id": "f7cd53a6",
   "metadata": {},
   "outputs": [],
   "source": [
    "taxi_data = get_and_clean_taxi_data()\n",
    "uber_data = get_uber_data()\n",
    "hourly_weather_data, daily_weather_data = load_and_clean_weather_data()"
   ]
  },
  {
   "cell_type": "markdown",
   "id": "dd101f11",
   "metadata": {},
   "source": [
    "## Part 2: Storing Cleaned Data\n",
    "\n",
    "_Write some prose that tells the reader what you're about to do here._"
   ]
  },
  {
   "cell_type": "code",
   "execution_count": 14,
   "id": "f3529cf6",
   "metadata": {},
   "outputs": [],
   "source": [
    "engine = db.create_engine(DATABASE_URL)"
   ]
  },
  {
   "cell_type": "code",
   "execution_count": 15,
   "id": "d2bea0ff",
   "metadata": {},
   "outputs": [],
   "source": [
    "# if using SQL (as opposed to SQLAlchemy), define the commands \n",
    "# to create your 4 tables/dataframes\n",
    "HOURLY_WEATHER_SCHEMA = \"\"\"\n",
    "TODO\n",
    "\"\"\"\n",
    "\n",
    "DAILY_WEATHER_SCHEMA = \"\"\"\n",
    "TODO\n",
    "\"\"\"\n",
    "\n",
    "TAXI_TRIPS_SCHEMA = \"\"\"\n",
    "TODO\n",
    "\"\"\"\n",
    "\n",
    "UBER_TRIPS_SCHEMA = \"\"\"\n",
    "TODO\n",
    "\"\"\""
   ]
  },
  {
   "cell_type": "code",
   "execution_count": null,
   "id": "5f41e54b",
   "metadata": {},
   "outputs": [],
   "source": [
    "# create that required schema.sql file\n",
    "with open(DATABASE_SCHEMA_FILE, \"w\") as f:\n",
    "    f.write(HOURLY_WEATHER_SCHEMA)\n",
    "    f.write(DAILY_WEATHER_SCHEMA)\n",
    "    f.write(TAXI_TRIPS_SCHEMA)\n",
    "    f.write(UBER_TRIPS_SCHEMA)"
   ]
  },
  {
   "cell_type": "code",
   "execution_count": 16,
   "id": "02eccdba",
   "metadata": {},
   "outputs": [],
   "source": [
    "# create the tables with the schema files\n",
    "with engine.connect() as connection:\n",
    "    pass"
   ]
  },
  {
   "cell_type": "markdown",
   "id": "c122964f",
   "metadata": {},
   "source": [
    "### Add Data to Database\n",
    "\n",
    "_**TODO:** Write some prose that tells the reader what you're about to do here._"
   ]
  },
  {
   "cell_type": "code",
   "execution_count": 17,
   "id": "0e68a363",
   "metadata": {},
   "outputs": [],
   "source": [
    "def write_dataframes_to_table(table_to_df_dict):\n",
    "    raise NotImplemented()"
   ]
  },
  {
   "cell_type": "code",
   "execution_count": null,
   "id": "45d6c06c",
   "metadata": {},
   "outputs": [],
   "source": [
    "map_table_name_to_dataframe = {\n",
    "    \"taxi_trips\": taxi_data,\n",
    "    \"uber_trips\": uber_data,\n",
    "    \"hourly_weather\": hourly_data,\n",
    "    \"daily_weather\": daily_data,\n",
    "}"
   ]
  },
  {
   "cell_type": "code",
   "execution_count": null,
   "id": "74004f96",
   "metadata": {},
   "outputs": [],
   "source": [
    "write_dataframes_to_table(map_table_name_to_dataframe)"
   ]
  },
  {
   "cell_type": "markdown",
   "id": "8cb6e33e",
   "metadata": {},
   "source": [
    "## Part 3: Understanding the Data"
   ]
  },
  {
   "cell_type": "markdown",
   "id": "b4753fcd",
   "metadata": {},
   "source": [
    "_A checklist of requirements to keep you on track. Remove this whole cell before submitting the project. The order of these tasks aren't necessarily the order in which they need to be done. It's okay to do them in an order that makes sense to you._\n",
    "\n",
    "* [ ] For 01-2009 through 06-2015, what hour of the day was the most popular to take a yellow taxi? The result should have 24 bins.\n",
    "* [ ] For the same time frame, what day of the week was the most popular to take an uber? The result should have 7 bins.\n",
    "* [ ] What is the 95% percentile of distance traveled for all hired trips during July 2013?\n",
    "* [ ] What were the top 10 days with the highest number of hired rides for 2009, and what was the average distance for each day?\n",
    "* [ ] Which 10 days in 2014 were the windiest, and how many hired trips were made on those days?\n",
    "* [ ] During Hurricane Sandy in NYC (Oct 29-30, 2012) and the week leading up to it, how many trips were taken each hour, and for each hour, how much precipitation did NYC receive and what was the sustained wind speed?"
   ]
  },
  {
   "cell_type": "code",
   "execution_count": 18,
   "id": "6a849e92",
   "metadata": {},
   "outputs": [],
   "source": [
    "def write_query_to_file(query, outfile):\n",
    "    raise NotImplemented()"
   ]
  },
  {
   "cell_type": "markdown",
   "id": "ee70a777",
   "metadata": {},
   "source": [
    "### Query N\n",
    "\n",
    "_**TODO:** Write some prose that tells the reader what you're about to do here._\n",
    "\n",
    "_Repeat for each query_"
   ]
  },
  {
   "cell_type": "code",
   "execution_count": null,
   "id": "db871d3c",
   "metadata": {},
   "outputs": [],
   "source": [
    "QUERY_N = \"\"\"\n",
    "TODO\n",
    "\"\"\""
   ]
  },
  {
   "cell_type": "code",
   "execution_count": null,
   "id": "c5275f3a",
   "metadata": {},
   "outputs": [],
   "source": [
    "engine.execute(QUERY_N).fetchall()"
   ]
  },
  {
   "cell_type": "code",
   "execution_count": null,
   "id": "a2ef04df",
   "metadata": {},
   "outputs": [],
   "source": [
    "write_query_to_file(QUERY_N, \"some_descriptive_name.sql\")"
   ]
  },
  {
   "cell_type": "markdown",
   "id": "a13ced42",
   "metadata": {},
   "source": [
    "## Part 4: Visualizing the Data\n",
    "\n",
    "_A checklist of requirements to keep you on track. Remove this whole cell before submitting the project. The order of these tasks aren't necessarily the order in which they need to be done. It's okay to do them in an order that makes sense to you._\n",
    "\n",
    "* [ ] Create an appropriate visualization for the first query/question in part 3\n",
    "* [ ] Create a visualization that shows the average distance traveled per month (regardless of year - so group by each month). Include the 90% confidence interval around the mean in the visualization\n",
    "* [ ] Define three lat/long coordinate boxes around the three major New York airports: LGA, JFK, and EWR (you can use bboxfinder to help). Create a visualization that compares what day of the week was most popular for drop offs for each airport.\n",
    "* [ ] Create a heatmap of all hired trips over a map of the area. Consider using KeplerGL or another library that helps generate geospatial visualizations.\n",
    "* [ ] Create a scatter plot that compares tip amount versus distance.\n",
    "* [ ] Create another scatter plot that compares tip amount versus precipitation amount.\n",
    "\n",
    "_Be sure these cells are executed so that the visualizations are rendered when the notebook is submitted._"
   ]
  },
  {
   "cell_type": "markdown",
   "id": "6d9eef42",
   "metadata": {},
   "source": [
    "### Visualization N\n",
    "\n",
    "_**TODO:** Write some prose that tells the reader what you're about to do here._\n",
    "\n",
    "_Repeat for each visualization._\n",
    "\n",
    "_The example below makes use of the `matplotlib` library. There are other libraries, including `pandas` built-in plotting library, kepler for geospatial data representation, `seaborn`, and others._"
   ]
  },
  {
   "cell_type": "code",
   "execution_count": 19,
   "id": "0de8394c",
   "metadata": {},
   "outputs": [],
   "source": [
    "# use a more descriptive name for your function\n",
    "def plot_visual_n(dataframe):\n",
    "    figure, axes = plt.subplots(figsize=(20, 10))\n",
    "    \n",
    "    values = \"...\"  # use the dataframe to pull out values needed to plot\n",
    "    \n",
    "    # you may want to use matplotlib to plot your visualizations;\n",
    "    # there are also many other plot types (other \n",
    "    # than axes.plot) you can use\n",
    "    axes.plot(values, \"...\")\n",
    "    # there are other methods to use to label your axes, to style \n",
    "    # and set up axes labels, etc\n",
    "    axes.set_title(\"Some Descriptive Title\")\n",
    "    \n",
    "    plt.show()"
   ]
  },
  {
   "cell_type": "code",
   "execution_count": null,
   "id": "847ced2f",
   "metadata": {},
   "outputs": [],
   "source": [
    "def get_data_for_visual_n():\n",
    "    # Query SQL database for the data needed.\n",
    "    # You can put the data queried into a pandas dataframe, if you wish\n",
    "    raise NotImplemented()"
   ]
  },
  {
   "cell_type": "code",
   "execution_count": null,
   "id": "3c63e845",
   "metadata": {},
   "outputs": [],
   "source": [
    "some_dataframe = get_data_for_visual_n()\n",
    "plot_visual_n(some_dataframe)"
   ]
  }
 ],
 "metadata": {
  "kernelspec": {
   "display_name": "Python 3 (ipykernel)",
   "language": "python",
   "name": "python3"
  },
  "language_info": {
   "codemirror_mode": {
    "name": "ipython",
    "version": 3
   },
   "file_extension": ".py",
   "mimetype": "text/x-python",
   "name": "python",
   "nbconvert_exporter": "python",
   "pygments_lexer": "ipython3",
   "version": "3.10.8"
  }
 },
 "nbformat": 4,
 "nbformat_minor": 5
}
