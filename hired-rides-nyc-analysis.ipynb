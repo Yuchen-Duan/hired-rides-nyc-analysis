{
 "cells": [
  {
   "cell_type": "markdown",
   "id": "32f8ca24",
   "metadata": {},
   "source": [
    "# Understanding Hired Rides in NYC\n",
    "\n",
    "_[Project prompt](https://docs.google.com/document/d/1VERPjEZcC1XSs4-02aM-DbkNr_yaJVbFjLJxaYQswqA/edit#)_\n",
    "\n",
    "_This scaffolding notebook may be used to help setup your final project. It's **totally optional** whether you make use of this or not._\n",
    "\n",
    "_If you do use this notebook, everything provided is optional as well - you may remove or add prose and code as you wish._\n",
    "\n",
    "_Anything in italics (prose) or comments (in code) is meant to provide you with guidance. **Remove the italic lines and provided comments** before submitting the project, if you choose to use this scaffolding. We don't need the guidance when grading._\n",
    "\n",
    "_**All code below should be consider \"pseudo-code\" - not functional by itself, and only a suggestion at the approach.**_"
   ]
  },
  {
   "cell_type": "markdown",
   "id": "25627e8d",
   "metadata": {},
   "source": [
    "## Requirements\n",
    "\n",
    "_A checklist of requirements to keep you on track. Remove this whole cell before submitting the project._\n",
    "\n",
    "* Code clarity: make sure the code conforms to:\n",
    "    * [ ] [PEP 8](https://peps.python.org/pep-0008/) - You might find [this resource](https://realpython.com/python-pep8/) helpful as well as [this](https://github.com/dnanhkhoa/nb_black) or [this](https://jupyterlab-code-formatter.readthedocs.io/en/latest/) tool\n",
    "    * [ ] [PEP 257](https://peps.python.org/pep-0257/)\n",
    "    * [ ] Break each task down into logical functions\n",
    "* The following files are submitted for the project (see the project's GDoc for more details):\n",
    "    * [ ] `README.md`\n",
    "    * [ ] `requirements.txt`\n",
    "    * [ ] `.gitignore`\n",
    "    * [ ] `schema.sql`\n",
    "    * [ ] 6 query files (using the `.sql` extension), appropriately named for the purpose of the query\n",
    "    * [x] Jupyter Notebook containing the project (this file!)\n",
    "* [x] You can edit this cell and add a `x` inside the `[ ]` like this task to denote a completed task"
   ]
  },
  {
   "cell_type": "markdown",
   "id": "2f75fd94",
   "metadata": {},
   "source": [
    "## Project Setup"
   ]
  },
  {
   "cell_type": "code",
   "execution_count": 200,
   "id": "66dcde05",
   "metadata": {},
   "outputs": [
    {
     "data": {
      "application/javascript": [
       "\n",
       "            setTimeout(function() {\n",
       "                var nbb_cell_id = 200;\n",
       "                var nbb_unformatted_code = \"# import libraries\\n\\nfrom math import radians, sin, cos, sqrt, atan2\\n\\nimport os\\nimport requests\\nimport bs4\\nimport re\\nimport geopandas\\nimport matplotlib.pyplot as plt\\nimport pandas as pd\\nimport sqlalchemy as db\\nimport logging\\nfrom sqlalchemy.orm import declarative_base\\nfrom sqlalchemy import Column, Integer, String, DateTime, Float\";\n",
       "                var nbb_formatted_code = \"# import libraries\\n\\nfrom math import radians, sin, cos, sqrt, atan2\\n\\nimport os\\nimport requests\\nimport bs4\\nimport re\\nimport geopandas\\nimport matplotlib.pyplot as plt\\nimport pandas as pd\\nimport sqlalchemy as db\\nimport logging\\nfrom sqlalchemy.orm import declarative_base\\nfrom sqlalchemy import Column, Integer, String, DateTime, Float\";\n",
       "                var nbb_cells = Jupyter.notebook.get_cells();\n",
       "                for (var i = 0; i < nbb_cells.length; ++i) {\n",
       "                    if (nbb_cells[i].input_prompt_number == nbb_cell_id) {\n",
       "                        if (nbb_cells[i].get_text() == nbb_unformatted_code) {\n",
       "                             nbb_cells[i].set_text(nbb_formatted_code);\n",
       "                        }\n",
       "                        break;\n",
       "                    }\n",
       "                }\n",
       "            }, 500);\n",
       "            "
      ],
      "text/plain": [
       "<IPython.core.display.Javascript object>"
      ]
     },
     "metadata": {},
     "output_type": "display_data"
    },
    {
     "data": {
      "application/javascript": [
       "\n",
       "            setTimeout(function() {\n",
       "                var nbb_cell_id = 200;\n",
       "                var nbb_unformatted_code = \"# import libraries\\n\\nfrom math import radians, sin, cos, sqrt, atan2\\n\\nimport os\\nimport requests\\nimport bs4\\nimport re\\nimport geopandas\\nimport matplotlib.pyplot as plt\\nimport pandas as pd\\nimport sqlalchemy as db\\nimport logging\\nfrom sqlalchemy.orm import declarative_base\\nfrom sqlalchemy import Column, Integer, String, DateTime, Float\";\n",
       "                var nbb_formatted_code = \"# import libraries\\n\\nfrom math import radians, sin, cos, sqrt, atan2\\n\\nimport os\\nimport requests\\nimport bs4\\nimport re\\nimport geopandas\\nimport matplotlib.pyplot as plt\\nimport pandas as pd\\nimport sqlalchemy as db\\nimport logging\\nfrom sqlalchemy.orm import declarative_base\\nfrom sqlalchemy import Column, Integer, String, DateTime, Float\";\n",
       "                var nbb_cells = Jupyter.notebook.get_cells();\n",
       "                for (var i = 0; i < nbb_cells.length; ++i) {\n",
       "                    if (nbb_cells[i].input_prompt_number == nbb_cell_id) {\n",
       "                        if (nbb_cells[i].get_text() == nbb_unformatted_code) {\n",
       "                             nbb_cells[i].set_text(nbb_formatted_code);\n",
       "                        }\n",
       "                        break;\n",
       "                    }\n",
       "                }\n",
       "            }, 500);\n",
       "            "
      ],
      "text/plain": [
       "<IPython.core.display.Javascript object>"
      ]
     },
     "metadata": {},
     "output_type": "display_data"
    }
   ],
   "source": [
    "# import libraries\n",
    "\n",
    "from math import radians, sin, cos, sqrt, atan2\n",
    "\n",
    "import os\n",
    "import requests\n",
    "import bs4\n",
    "import re\n",
    "import geopandas\n",
    "import matplotlib.pyplot as plt\n",
    "import pandas as pd\n",
    "import sqlalchemy as db\n",
    "import logging\n",
    "from sqlalchemy.orm import declarative_base\n",
    "from sqlalchemy import Column, Integer, String, DateTime, Float"
   ]
  },
  {
   "cell_type": "code",
   "execution_count": 104,
   "id": "8b622a58",
   "metadata": {},
   "outputs": [
    {
     "data": {
      "application/javascript": [
       "\n",
       "            setTimeout(function() {\n",
       "                var nbb_cell_id = 104;\n",
       "                var nbb_unformatted_code = \"# notebook formatting\\n\\n# %load_ext nb_black\\n%reload_ext nb_black\";\n",
       "                var nbb_formatted_code = \"# notebook formatting\\n\\n# %load_ext nb_black\\n%reload_ext nb_black\";\n",
       "                var nbb_cells = Jupyter.notebook.get_cells();\n",
       "                for (var i = 0; i < nbb_cells.length; ++i) {\n",
       "                    if (nbb_cells[i].input_prompt_number == nbb_cell_id) {\n",
       "                        if (nbb_cells[i].get_text() == nbb_unformatted_code) {\n",
       "                             nbb_cells[i].set_text(nbb_formatted_code);\n",
       "                        }\n",
       "                        break;\n",
       "                    }\n",
       "                }\n",
       "            }, 500);\n",
       "            "
      ],
      "text/plain": [
       "<IPython.core.display.Javascript object>"
      ]
     },
     "metadata": {},
     "output_type": "display_data"
    },
    {
     "data": {
      "application/javascript": [
       "\n",
       "            setTimeout(function() {\n",
       "                var nbb_cell_id = 104;\n",
       "                var nbb_unformatted_code = \"# notebook formatting\\n\\n# %load_ext nb_black\\n%reload_ext nb_black\";\n",
       "                var nbb_formatted_code = \"# notebook formatting\\n\\n# %load_ext nb_black\\n%reload_ext nb_black\";\n",
       "                var nbb_cells = Jupyter.notebook.get_cells();\n",
       "                for (var i = 0; i < nbb_cells.length; ++i) {\n",
       "                    if (nbb_cells[i].input_prompt_number == nbb_cell_id) {\n",
       "                        if (nbb_cells[i].get_text() == nbb_unformatted_code) {\n",
       "                             nbb_cells[i].set_text(nbb_formatted_code);\n",
       "                        }\n",
       "                        break;\n",
       "                    }\n",
       "                }\n",
       "            }, 500);\n",
       "            "
      ],
      "text/plain": [
       "<IPython.core.display.Javascript object>"
      ]
     },
     "metadata": {},
     "output_type": "display_data"
    }
   ],
   "source": [
    "# notebook formatting\n",
    "\n",
    "# %load_ext nb_black\n",
    "%reload_ext nb_black"
   ]
  },
  {
   "cell_type": "code",
   "execution_count": 108,
   "id": "3f1242c4",
   "metadata": {},
   "outputs": [
    {
     "data": {
      "application/javascript": [
       "\n",
       "            setTimeout(function() {\n",
       "                var nbb_cell_id = 108;\n",
       "                var nbb_unformatted_code = \"# any constants you might need, for example:\\n\\nTAXI_URL = \\\"https://www1.nyc.gov/site/tlc/about/tlc-trip-record-data.page\\\"\\n# add other constants to refer to any local data, e.g. uber & weather\\nUBER_CSV = \\\"uber_rides_sample.csv\\\"\\n\\nNEW_YORK_BOX_COORDS = ((40.560445, -74.242330), (40.908524, -73.717047))\\n\\nDATABASE_URL = \\\"sqlite:///project.db\\\"\\nDATABASE_SCHEMA_FILE = \\\"schema.sql\\\"\\nQUERY_DIRECTORY = \\\"queries\\\"\";\n",
       "                var nbb_formatted_code = \"# any constants you might need, for example:\\n\\nTAXI_URL = \\\"https://www1.nyc.gov/site/tlc/about/tlc-trip-record-data.page\\\"\\n# add other constants to refer to any local data, e.g. uber & weather\\nUBER_CSV = \\\"uber_rides_sample.csv\\\"\\n\\nNEW_YORK_BOX_COORDS = ((40.560445, -74.242330), (40.908524, -73.717047))\\n\\nDATABASE_URL = \\\"sqlite:///project.db\\\"\\nDATABASE_SCHEMA_FILE = \\\"schema.sql\\\"\\nQUERY_DIRECTORY = \\\"queries\\\"\";\n",
       "                var nbb_cells = Jupyter.notebook.get_cells();\n",
       "                for (var i = 0; i < nbb_cells.length; ++i) {\n",
       "                    if (nbb_cells[i].input_prompt_number == nbb_cell_id) {\n",
       "                        if (nbb_cells[i].get_text() == nbb_unformatted_code) {\n",
       "                             nbb_cells[i].set_text(nbb_formatted_code);\n",
       "                        }\n",
       "                        break;\n",
       "                    }\n",
       "                }\n",
       "            }, 500);\n",
       "            "
      ],
      "text/plain": [
       "<IPython.core.display.Javascript object>"
      ]
     },
     "metadata": {},
     "output_type": "display_data"
    },
    {
     "data": {
      "application/javascript": [
       "\n",
       "            setTimeout(function() {\n",
       "                var nbb_cell_id = 108;\n",
       "                var nbb_unformatted_code = \"# any constants you might need, for example:\\n\\nTAXI_URL = \\\"https://www1.nyc.gov/site/tlc/about/tlc-trip-record-data.page\\\"\\n# add other constants to refer to any local data, e.g. uber & weather\\nUBER_CSV = \\\"uber_rides_sample.csv\\\"\\n\\nNEW_YORK_BOX_COORDS = ((40.560445, -74.242330), (40.908524, -73.717047))\\n\\nDATABASE_URL = \\\"sqlite:///project.db\\\"\\nDATABASE_SCHEMA_FILE = \\\"schema.sql\\\"\\nQUERY_DIRECTORY = \\\"queries\\\"\";\n",
       "                var nbb_formatted_code = \"# any constants you might need, for example:\\n\\nTAXI_URL = \\\"https://www1.nyc.gov/site/tlc/about/tlc-trip-record-data.page\\\"\\n# add other constants to refer to any local data, e.g. uber & weather\\nUBER_CSV = \\\"uber_rides_sample.csv\\\"\\n\\nNEW_YORK_BOX_COORDS = ((40.560445, -74.242330), (40.908524, -73.717047))\\n\\nDATABASE_URL = \\\"sqlite:///project.db\\\"\\nDATABASE_SCHEMA_FILE = \\\"schema.sql\\\"\\nQUERY_DIRECTORY = \\\"queries\\\"\";\n",
       "                var nbb_cells = Jupyter.notebook.get_cells();\n",
       "                for (var i = 0; i < nbb_cells.length; ++i) {\n",
       "                    if (nbb_cells[i].input_prompt_number == nbb_cell_id) {\n",
       "                        if (nbb_cells[i].get_text() == nbb_unformatted_code) {\n",
       "                             nbb_cells[i].set_text(nbb_formatted_code);\n",
       "                        }\n",
       "                        break;\n",
       "                    }\n",
       "                }\n",
       "            }, 500);\n",
       "            "
      ],
      "text/plain": [
       "<IPython.core.display.Javascript object>"
      ]
     },
     "metadata": {},
     "output_type": "display_data"
    }
   ],
   "source": [
    "# any constants you might need, for example:\n",
    "\n",
    "TAXI_URL = \"https://www1.nyc.gov/site/tlc/about/tlc-trip-record-data.page\"\n",
    "# add other constants to refer to any local data, e.g. uber & weather\n",
    "UBER_CSV = \"uber_rides_sample.csv\"\n",
    "\n",
    "NEW_YORK_BOX_COORDS = ((40.560445, -74.242330), (40.908524, -73.717047))\n",
    "\n",
    "DATABASE_URL = \"sqlite:///project.db\"\n",
    "DATABASE_SCHEMA_FILE = \"schema.sql\"\n",
    "QUERY_DIRECTORY = \"queries\""
   ]
  },
  {
   "cell_type": "markdown",
   "id": "26ad10ea",
   "metadata": {},
   "source": [
    "## Part 1: Data Preprocessing"
   ]
  },
  {
   "cell_type": "markdown",
   "id": "ecf38168",
   "metadata": {},
   "source": [
    "_A checklist of requirements to keep you on track. Remove this whole cell before submitting the project. The order of these tasks aren't necessarily the order in which they need to be done. It's okay to do them in an order that makes sense to you._\n",
    "\n",
    "* [ ] Define a function that calculates the distance between two coordinates in kilometers that **only uses the `math` module** from the standard library.\n",
    "* [ ] Taxi data:\n",
    "    * [ ] Use the `re` module, and the packages `requests`, BeautifulSoup (`bs4`), and (optionally) `pandas` to programmatically download the required CSV files & load into memory.\n",
    "    * You may need to do this one file at a time - download, clean, sample. You can cache the sampling by saving it as a CSV file (and thereby freeing up memory on your computer) before moving onto the next file. \n",
    "* [ ] Weather & Uber data:\n",
    "    * [ ] Download the data manually in the link provided in the project doc.\n",
    "* [ ] All data:\n",
    "    * [ ] Load the data using `pandas`\n",
    "    * [ ] Clean the data, including:\n",
    "        * Remove unnecessary columns\n",
    "        * Remove invalid data points (take a moment to consider what's invalid)\n",
    "        * Normalize column names\n",
    "        * (Taxi & Uber data) Remove trips that start and/or end outside the designated [coordinate box](http://bboxfinder.com/#40.560445,-74.242330,40.908524,-73.717047)\n",
    "    * [ ] (Taxi data) Sample the data so that you have roughly the same amount of data points over the given date range for both Taxi data and Uber data.\n",
    "* [ ] Weather data:\n",
    "    * [ ] Split into two `pandas` DataFrames: one for required hourly data, and one for the required daily daya.\n",
    "    * [ ] You may find that the weather data you need later on does not exist at the frequency needed (daily vs hourly). You may calculate/generate samples from one to populate the other. Just document what you’re doing so we can follow along. "
   ]
  },
  {
   "cell_type": "markdown",
   "id": "6e26fe17",
   "metadata": {},
   "source": [
    "    \"\"\"Summary line.\n",
    "\n",
    "    Extended description of function.\n",
    "\n",
    "    Args:\n",
    "        arg1 (int): Description of arg1\n",
    "        arg2 (str): Description of arg2\n",
    "\n",
    "    Returns:\n",
    "        bool: Description of return value\n",
    "\n",
    "    \"\"\""
   ]
  },
  {
   "cell_type": "markdown",
   "id": "32074561",
   "metadata": {},
   "source": [
    "### Calculating distance\n",
    "_**TODO:** Write some prose that tells the reader what you're about to do here._"
   ]
  },
  {
   "cell_type": "code",
   "execution_count": 4,
   "id": "4cbbe6cc",
   "metadata": {},
   "outputs": [
    {
     "data": {
      "application/javascript": [
       "\n",
       "            setTimeout(function() {\n",
       "                var nbb_cell_id = 4;\n",
       "                var nbb_unformatted_code = \"def calculate_distance(from_coord, to_coord):\\n    \\\"\\\"\\\"Caculate the distance between two coordinates\\n\\n    Args:\\n        from_coord (tuple): A pair values (float) of latitude and longitude\\n        to_coord (tuple): A pair values (float) of latitude and longitude\\n\\n    Returns:\\n        float: the distance, round to 3 decimals\\n\\n    \\\"\\\"\\\"\\n\\n    # convert degrees to radians\\n    lat1, lon1 = radians(from_coord[0]), radians(from_coord[1])\\n    lat2, lon2 = radians(to_coord[0]), radians(to_coord[1])\\n\\n    # apply Haversine formula\\n    dlat = lat2 - lat1\\n    dlon = lon2 - lon1\\n\\n    r = 6373.0  # radius of earth (km)\\n\\n    a = sin(dlat / 2) ** 2 + cos(lat1) * cos(lat2) * sin(dlon / 2) ** 2\\n    c = 2 * atan2(sqrt(a), sqrt(1 - a))\\n\\n    distance = round(r * c, 3)\\n\\n    return distance\";\n",
       "                var nbb_formatted_code = \"def calculate_distance(from_coord, to_coord):\\n    \\\"\\\"\\\"Caculate the distance between two coordinates\\n\\n    Args:\\n        from_coord (tuple): A pair values (float) of latitude and longitude\\n        to_coord (tuple): A pair values (float) of latitude and longitude\\n\\n    Returns:\\n        float: the distance, round to 3 decimals\\n\\n    \\\"\\\"\\\"\\n\\n    # convert degrees to radians\\n    lat1, lon1 = radians(from_coord[0]), radians(from_coord[1])\\n    lat2, lon2 = radians(to_coord[0]), radians(to_coord[1])\\n\\n    # apply Haversine formula\\n    dlat = lat2 - lat1\\n    dlon = lon2 - lon1\\n\\n    r = 6373.0  # radius of earth (km)\\n\\n    a = sin(dlat / 2) ** 2 + cos(lat1) * cos(lat2) * sin(dlon / 2) ** 2\\n    c = 2 * atan2(sqrt(a), sqrt(1 - a))\\n\\n    distance = round(r * c, 3)\\n\\n    return distance\";\n",
       "                var nbb_cells = Jupyter.notebook.get_cells();\n",
       "                for (var i = 0; i < nbb_cells.length; ++i) {\n",
       "                    if (nbb_cells[i].input_prompt_number == nbb_cell_id) {\n",
       "                        if (nbb_cells[i].get_text() == nbb_unformatted_code) {\n",
       "                             nbb_cells[i].set_text(nbb_formatted_code);\n",
       "                        }\n",
       "                        break;\n",
       "                    }\n",
       "                }\n",
       "            }, 500);\n",
       "            "
      ],
      "text/plain": [
       "<IPython.core.display.Javascript object>"
      ]
     },
     "metadata": {},
     "output_type": "display_data"
    }
   ],
   "source": [
    "def calculate_distance(from_coord, to_coord):\n",
    "    \"\"\"Caculate the distance between two coordinates\n",
    "\n",
    "    Args:\n",
    "        from_coord (tuple): A pair values (float) of latitude and longitude\n",
    "        to_coord (tuple): A pair values (float) of latitude and longitude\n",
    "\n",
    "    Returns:\n",
    "        float: the distance, round to 3 decimals\n",
    "\n",
    "    \"\"\"\n",
    "\n",
    "    # convert degrees to radians\n",
    "    lat1, lon1 = radians(from_coord[0]), radians(from_coord[1])\n",
    "    lat2, lon2 = radians(to_coord[0]), radians(to_coord[1])\n",
    "\n",
    "    # apply Haversine formula\n",
    "    dlat = lat2 - lat1\n",
    "    dlon = lon2 - lon1\n",
    "\n",
    "    r = 6373.0  # radius of earth (km)\n",
    "\n",
    "    a = sin(dlat / 2) ** 2 + cos(lat1) * cos(lat2) * sin(dlon / 2) ** 2\n",
    "    c = 2 * atan2(sqrt(a), sqrt(1 - a))\n",
    "\n",
    "    distance = round(r * c, 3)\n",
    "\n",
    "    return distance"
   ]
  },
  {
   "cell_type": "code",
   "execution_count": 67,
   "id": "026fa553",
   "metadata": {},
   "outputs": [
    {
     "data": {
      "application/javascript": [
       "\n",
       "            setTimeout(function() {\n",
       "                var nbb_cell_id = 67;\n",
       "                var nbb_unformatted_code = \"def calculate_distance(row):\\n    \\\"\\\"\\\"Caculate the distance between two coordinates\\n\\n    Args:\\n        from_coord (tuple): A pair values (float) of latitude and longitude\\n        to_coord (tuple): A pair values (float) of latitude and longitude\\n\\n    Returns:\\n        float: the distance, round to 3 decimals\\n\\n    \\\"\\\"\\\"\\n\\n    # convert degrees to radians\\n    lat1, lon1 = radians(row[\\\"pickup_latitude\\\"]), radians(row[\\\"pickup_longitude\\\"])\\n    lat2, lon2 = radians(row[\\\"dropoff_latitude\\\"]), radians(row[\\\"dropoff_longitude\\\"])\\n\\n    # apply Haversine formula\\n    dlat = lat2 - lat1\\n    dlon = lon2 - lon1\\n\\n    r = 6373.0  # radius of earth (km)\\n\\n    a = sin(dlat / 2) ** 2 + cos(lat1) * cos(lat2) * sin(dlon / 2) ** 2\\n    c = 2 * atan2(sqrt(a), sqrt(1 - a))\\n\\n    distance = round(r * c, 3)\\n\\n    return distance\";\n",
       "                var nbb_formatted_code = \"def calculate_distance(row):\\n    \\\"\\\"\\\"Caculate the distance between two coordinates\\n\\n    Args:\\n        from_coord (tuple): A pair values (float) of latitude and longitude\\n        to_coord (tuple): A pair values (float) of latitude and longitude\\n\\n    Returns:\\n        float: the distance, round to 3 decimals\\n\\n    \\\"\\\"\\\"\\n\\n    # convert degrees to radians\\n    lat1, lon1 = radians(row[\\\"pickup_latitude\\\"]), radians(row[\\\"pickup_longitude\\\"])\\n    lat2, lon2 = radians(row[\\\"dropoff_latitude\\\"]), radians(row[\\\"dropoff_longitude\\\"])\\n\\n    # apply Haversine formula\\n    dlat = lat2 - lat1\\n    dlon = lon2 - lon1\\n\\n    r = 6373.0  # radius of earth (km)\\n\\n    a = sin(dlat / 2) ** 2 + cos(lat1) * cos(lat2) * sin(dlon / 2) ** 2\\n    c = 2 * atan2(sqrt(a), sqrt(1 - a))\\n\\n    distance = round(r * c, 3)\\n\\n    return distance\";\n",
       "                var nbb_cells = Jupyter.notebook.get_cells();\n",
       "                for (var i = 0; i < nbb_cells.length; ++i) {\n",
       "                    if (nbb_cells[i].input_prompt_number == nbb_cell_id) {\n",
       "                        if (nbb_cells[i].get_text() == nbb_unformatted_code) {\n",
       "                             nbb_cells[i].set_text(nbb_formatted_code);\n",
       "                        }\n",
       "                        break;\n",
       "                    }\n",
       "                }\n",
       "            }, 500);\n",
       "            "
      ],
      "text/plain": [
       "<IPython.core.display.Javascript object>"
      ]
     },
     "metadata": {},
     "output_type": "display_data"
    }
   ],
   "source": [
    "def calculate_distance(row):\n",
    "    \"\"\"Caculate the distance between two coordinates\n",
    "\n",
    "    Args:\n",
    "        from_coord (tuple): A pair values (float) of latitude and longitude\n",
    "        to_coord (tuple): A pair values (float) of latitude and longitude\n",
    "\n",
    "    Returns:\n",
    "        float: the distance, round to 3 decimals\n",
    "\n",
    "    \"\"\"\n",
    "\n",
    "    # convert degrees to radians\n",
    "    lat1, lon1 = radians(row[\"pickup_latitude\"]), radians(row[\"pickup_longitude\"])\n",
    "    lat2, lon2 = radians(row[\"dropoff_latitude\"]), radians(row[\"dropoff_longitude\"])\n",
    "\n",
    "    # apply Haversine formula\n",
    "    dlat = lat2 - lat1\n",
    "    dlon = lon2 - lon1\n",
    "\n",
    "    r = 6373.0  # radius of earth (km)\n",
    "\n",
    "    a = sin(dlat / 2) ** 2 + cos(lat1) * cos(lat2) * sin(dlon / 2) ** 2\n",
    "    c = 2 * atan2(sqrt(a), sqrt(1 - a))\n",
    "\n",
    "    distance = round(r * c, 3)\n",
    "\n",
    "    return distance"
   ]
  },
  {
   "cell_type": "code",
   "execution_count": 71,
   "id": "bf6e6a5e",
   "metadata": {},
   "outputs": [
    {
     "data": {
      "text/plain": [
       "3.932"
      ]
     },
     "execution_count": 71,
     "metadata": {},
     "output_type": "execute_result"
    },
    {
     "data": {
      "application/javascript": [
       "\n",
       "            setTimeout(function() {\n",
       "                var nbb_cell_id = 71;\n",
       "                var nbb_unformatted_code = \"calculate_distance(foo.iloc[0])\\n\\n# foo.iloc[0]\";\n",
       "                var nbb_formatted_code = \"calculate_distance(foo.iloc[0])\\n\\n# foo.iloc[0]\";\n",
       "                var nbb_cells = Jupyter.notebook.get_cells();\n",
       "                for (var i = 0; i < nbb_cells.length; ++i) {\n",
       "                    if (nbb_cells[i].input_prompt_number == nbb_cell_id) {\n",
       "                        if (nbb_cells[i].get_text() == nbb_unformatted_code) {\n",
       "                             nbb_cells[i].set_text(nbb_formatted_code);\n",
       "                        }\n",
       "                        break;\n",
       "                    }\n",
       "                }\n",
       "            }, 500);\n",
       "            "
      ],
      "text/plain": [
       "<IPython.core.display.Javascript object>"
      ]
     },
     "metadata": {},
     "output_type": "display_data"
    }
   ],
   "source": [
    "# calculate_distance(foo.iloc[0])\n",
    "# foo.iloc[0]"
   ]
  },
  {
   "cell_type": "code",
   "execution_count": 76,
   "id": "6d6abf52",
   "metadata": {},
   "outputs": [
    {
     "data": {
      "application/javascript": [
       "\n",
       "            setTimeout(function() {\n",
       "                var nbb_cell_id = 76;\n",
       "                var nbb_unformatted_code = \"def add_distance_column(dataframe):\\n    dataframe[\\\"distance\\\"] = dataframe.apply(calculate_distance, axis=1)\\n\\n    return dataframe\";\n",
       "                var nbb_formatted_code = \"def add_distance_column(dataframe):\\n    dataframe[\\\"distance\\\"] = dataframe.apply(calculate_distance, axis=1)\\n\\n    return dataframe\";\n",
       "                var nbb_cells = Jupyter.notebook.get_cells();\n",
       "                for (var i = 0; i < nbb_cells.length; ++i) {\n",
       "                    if (nbb_cells[i].input_prompt_number == nbb_cell_id) {\n",
       "                        if (nbb_cells[i].get_text() == nbb_unformatted_code) {\n",
       "                             nbb_cells[i].set_text(nbb_formatted_code);\n",
       "                        }\n",
       "                        break;\n",
       "                    }\n",
       "                }\n",
       "            }, 500);\n",
       "            "
      ],
      "text/plain": [
       "<IPython.core.display.Javascript object>"
      ]
     },
     "metadata": {},
     "output_type": "display_data"
    }
   ],
   "source": [
    "def add_distance_column(dataframe):\n",
    "    dataframe[\"distance\"] = dataframe.apply(calculate_distance, axis=1)\n",
    "\n",
    "    return dataframe"
   ]
  },
  {
   "cell_type": "code",
   "execution_count": 79,
   "id": "d08fd1ae",
   "metadata": {},
   "outputs": [
    {
     "data": {
      "text/html": [
       "<div>\n",
       "<style scoped>\n",
       "    .dataframe tbody tr th:only-of-type {\n",
       "        vertical-align: middle;\n",
       "    }\n",
       "\n",
       "    .dataframe tbody tr th {\n",
       "        vertical-align: top;\n",
       "    }\n",
       "\n",
       "    .dataframe thead th {\n",
       "        text-align: right;\n",
       "    }\n",
       "</style>\n",
       "<table border=\"1\" class=\"dataframe\">\n",
       "  <thead>\n",
       "    <tr style=\"text-align: right;\">\n",
       "      <th></th>\n",
       "      <th>pickup_datetime</th>\n",
       "      <th>dropoff_datetime</th>\n",
       "      <th>pickup_longitude</th>\n",
       "      <th>pickup_latitude</th>\n",
       "      <th>dropoff_longitude</th>\n",
       "      <th>dropoff_latitude</th>\n",
       "      <th>tip_amount</th>\n",
       "      <th>distance</th>\n",
       "    </tr>\n",
       "  </thead>\n",
       "  <tbody>\n",
       "    <tr>\n",
       "      <th>0</th>\n",
       "      <td>2010-01-23 02:03:00</td>\n",
       "      <td>2010-01-23 02:12:00</td>\n",
       "      <td>-73.949508</td>\n",
       "      <td>40.776643</td>\n",
       "      <td>-73.974307</td>\n",
       "      <td>40.746695</td>\n",
       "      <td>1.0</td>\n",
       "      <td>3.932</td>\n",
       "    </tr>\n",
       "    <tr>\n",
       "      <th>1</th>\n",
       "      <td>2010-01-14 07:53:27</td>\n",
       "      <td>2010-01-14 08:02:49</td>\n",
       "      <td>-73.946638</td>\n",
       "      <td>40.780682</td>\n",
       "      <td>-73.952340</td>\n",
       "      <td>40.802278</td>\n",
       "      <td>0.0</td>\n",
       "      <td>2.450</td>\n",
       "    </tr>\n",
       "    <tr>\n",
       "      <th>2</th>\n",
       "      <td>2010-01-14 07:24:00</td>\n",
       "      <td>2010-01-14 07:37:00</td>\n",
       "      <td>-73.949312</td>\n",
       "      <td>40.772953</td>\n",
       "      <td>-73.985162</td>\n",
       "      <td>40.732343</td>\n",
       "      <td>0.0</td>\n",
       "      <td>5.434</td>\n",
       "    </tr>\n",
       "    <tr>\n",
       "      <th>3</th>\n",
       "      <td>2010-01-15 10:37:09</td>\n",
       "      <td>2010-01-15 10:54:53</td>\n",
       "      <td>-73.964136</td>\n",
       "      <td>40.776502</td>\n",
       "      <td>-74.005351</td>\n",
       "      <td>40.739304</td>\n",
       "      <td>0.0</td>\n",
       "      <td>5.402</td>\n",
       "    </tr>\n",
       "    <tr>\n",
       "      <th>4</th>\n",
       "      <td>2010-01-04 21:39:24</td>\n",
       "      <td>2010-01-04 21:40:01</td>\n",
       "      <td>-73.988878</td>\n",
       "      <td>40.817326</td>\n",
       "      <td>-73.988878</td>\n",
       "      <td>40.817326</td>\n",
       "      <td>15.0</td>\n",
       "      <td>0.000</td>\n",
       "    </tr>\n",
       "    <tr>\n",
       "      <th>...</th>\n",
       "      <td>...</td>\n",
       "      <td>...</td>\n",
       "      <td>...</td>\n",
       "      <td>...</td>\n",
       "      <td>...</td>\n",
       "      <td>...</td>\n",
       "      <td>...</td>\n",
       "      <td>...</td>\n",
       "    </tr>\n",
       "    <tr>\n",
       "      <th>2495</th>\n",
       "      <td>2010-01-15 09:29:00</td>\n",
       "      <td>2010-01-15 09:37:00</td>\n",
       "      <td>-73.995893</td>\n",
       "      <td>40.763018</td>\n",
       "      <td>-73.986055</td>\n",
       "      <td>40.756852</td>\n",
       "      <td>0.0</td>\n",
       "      <td>1.076</td>\n",
       "    </tr>\n",
       "    <tr>\n",
       "      <th>2496</th>\n",
       "      <td>2010-01-10 11:33:00</td>\n",
       "      <td>2010-01-10 11:41:00</td>\n",
       "      <td>-73.979368</td>\n",
       "      <td>40.762188</td>\n",
       "      <td>-73.985425</td>\n",
       "      <td>40.749822</td>\n",
       "      <td>0.0</td>\n",
       "      <td>1.467</td>\n",
       "    </tr>\n",
       "    <tr>\n",
       "      <th>2497</th>\n",
       "      <td>2010-01-18 23:04:00</td>\n",
       "      <td>2010-01-18 23:16:00</td>\n",
       "      <td>-73.962440</td>\n",
       "      <td>40.758090</td>\n",
       "      <td>-73.996950</td>\n",
       "      <td>40.742130</td>\n",
       "      <td>2.5</td>\n",
       "      <td>3.407</td>\n",
       "    </tr>\n",
       "    <tr>\n",
       "      <th>2498</th>\n",
       "      <td>2010-01-10 16:01:56</td>\n",
       "      <td>2010-01-10 16:05:30</td>\n",
       "      <td>-73.953695</td>\n",
       "      <td>40.766554</td>\n",
       "      <td>-73.959245</td>\n",
       "      <td>40.761876</td>\n",
       "      <td>0.0</td>\n",
       "      <td>0.700</td>\n",
       "    </tr>\n",
       "    <tr>\n",
       "      <th>2499</th>\n",
       "      <td>2010-01-03 00:14:20</td>\n",
       "      <td>2010-01-03 00:23:54</td>\n",
       "      <td>-73.981495</td>\n",
       "      <td>40.741015</td>\n",
       "      <td>-73.952775</td>\n",
       "      <td>40.780520</td>\n",
       "      <td>0.0</td>\n",
       "      <td>5.016</td>\n",
       "    </tr>\n",
       "  </tbody>\n",
       "</table>\n",
       "<p>2500 rows × 8 columns</p>\n",
       "</div>"
      ],
      "text/plain": [
       "         pickup_datetime    dropoff_datetime  pickup_longitude  \\\n",
       "0    2010-01-23 02:03:00 2010-01-23 02:12:00        -73.949508   \n",
       "1    2010-01-14 07:53:27 2010-01-14 08:02:49        -73.946638   \n",
       "2    2010-01-14 07:24:00 2010-01-14 07:37:00        -73.949312   \n",
       "3    2010-01-15 10:37:09 2010-01-15 10:54:53        -73.964136   \n",
       "4    2010-01-04 21:39:24 2010-01-04 21:40:01        -73.988878   \n",
       "...                  ...                 ...               ...   \n",
       "2495 2010-01-15 09:29:00 2010-01-15 09:37:00        -73.995893   \n",
       "2496 2010-01-10 11:33:00 2010-01-10 11:41:00        -73.979368   \n",
       "2497 2010-01-18 23:04:00 2010-01-18 23:16:00        -73.962440   \n",
       "2498 2010-01-10 16:01:56 2010-01-10 16:05:30        -73.953695   \n",
       "2499 2010-01-03 00:14:20 2010-01-03 00:23:54        -73.981495   \n",
       "\n",
       "      pickup_latitude  dropoff_longitude  dropoff_latitude  tip_amount  \\\n",
       "0           40.776643         -73.974307         40.746695         1.0   \n",
       "1           40.780682         -73.952340         40.802278         0.0   \n",
       "2           40.772953         -73.985162         40.732343         0.0   \n",
       "3           40.776502         -74.005351         40.739304         0.0   \n",
       "4           40.817326         -73.988878         40.817326        15.0   \n",
       "...               ...                ...               ...         ...   \n",
       "2495        40.763018         -73.986055         40.756852         0.0   \n",
       "2496        40.762188         -73.985425         40.749822         0.0   \n",
       "2497        40.758090         -73.996950         40.742130         2.5   \n",
       "2498        40.766554         -73.959245         40.761876         0.0   \n",
       "2499        40.741015         -73.952775         40.780520         0.0   \n",
       "\n",
       "      distance  \n",
       "0        3.932  \n",
       "1        2.450  \n",
       "2        5.434  \n",
       "3        5.402  \n",
       "4        0.000  \n",
       "...        ...  \n",
       "2495     1.076  \n",
       "2496     1.467  \n",
       "2497     3.407  \n",
       "2498     0.700  \n",
       "2499     5.016  \n",
       "\n",
       "[2500 rows x 8 columns]"
      ]
     },
     "execution_count": 79,
     "metadata": {},
     "output_type": "execute_result"
    },
    {
     "data": {
      "application/javascript": [
       "\n",
       "            setTimeout(function() {\n",
       "                var nbb_cell_id = 79;\n",
       "                var nbb_unformatted_code = \"add_distance_column(foo)\";\n",
       "                var nbb_formatted_code = \"add_distance_column(foo)\";\n",
       "                var nbb_cells = Jupyter.notebook.get_cells();\n",
       "                for (var i = 0; i < nbb_cells.length; ++i) {\n",
       "                    if (nbb_cells[i].input_prompt_number == nbb_cell_id) {\n",
       "                        if (nbb_cells[i].get_text() == nbb_unformatted_code) {\n",
       "                             nbb_cells[i].set_text(nbb_formatted_code);\n",
       "                        }\n",
       "                        break;\n",
       "                    }\n",
       "                }\n",
       "            }, 500);\n",
       "            "
      ],
      "text/plain": [
       "<IPython.core.display.Javascript object>"
      ]
     },
     "metadata": {},
     "output_type": "display_data"
    }
   ],
   "source": [
    "# foo1 = add_distance_column(foo)\n",
    "# foo1"
   ]
  },
  {
   "cell_type": "markdown",
   "id": "93daa717",
   "metadata": {},
   "source": [
    "### Processing Taxi Data\n",
    "\n",
    "_**TODO:** Write some prose that tells the reader what you're about to do here._"
   ]
  },
  {
   "cell_type": "code",
   "execution_count": 9,
   "id": "cbd0d198",
   "metadata": {},
   "outputs": [
    {
     "data": {
      "application/javascript": [
       "\n",
       "            setTimeout(function() {\n",
       "                var nbb_cell_id = 9;\n",
       "                var nbb_unformatted_code = \"def find_taxi_parquet_urls():\\n    \\\"\\\"\\\"Retrieve the yellow taxi parquet urls.\\n\\n    The function retrieves the url from January 2009 through June 2015.\\n\\n    Args:\\n        None\\n\\n    Returns:\\n        list: Desired urls as list of strings\\n\\n    \\\"\\\"\\\"\\n\\n    # Use requests library to get TAXI_URL html\\n    response = requests.get(TAXI_URL)\\n    html = response.content\\n\\n    # Use BeautifulSoup to get all yellow taxi parquet urls\\n    soup = bs4.BeautifulSoup(html, \\\"html.parser\\\")\\n    yellow_a_tags = soup.find_all(\\\"a\\\", attrs={\\\"title\\\": \\\"Yellow Taxi Trip Records\\\"})\\n    yellow_taxi_urls = [a[\\\"href\\\"] for a in yellow_a_tags]\\n\\n    # Use re moduel to filter the urls\\n    pattern = re.compile(\\n        r\\\"yellow_tripdata_20(09-(?:0\\\\d|1[0-2])|1[0-4]-(?:0\\\\d|1[0-2])|15-0[1-6]).parquet\\\"\\n    )\\n\\n    yellow_taxi_urls_desired = []\\n\\n    for link in yellow_taxi_urls:\\n        match = pattern.search(link)\\n        if match:\\n            yellow_taxi_urls_desired.append(match.string)\\n\\n    return yellow_taxi_urls_desired\";\n",
       "                var nbb_formatted_code = \"def find_taxi_parquet_urls():\\n    \\\"\\\"\\\"Retrieve the yellow taxi parquet urls.\\n\\n    The function retrieves the url from January 2009 through June 2015.\\n\\n    Args:\\n        None\\n\\n    Returns:\\n        list: Desired urls as list of strings\\n\\n    \\\"\\\"\\\"\\n\\n    # Use requests library to get TAXI_URL html\\n    response = requests.get(TAXI_URL)\\n    html = response.content\\n\\n    # Use BeautifulSoup to get all yellow taxi parquet urls\\n    soup = bs4.BeautifulSoup(html, \\\"html.parser\\\")\\n    yellow_a_tags = soup.find_all(\\\"a\\\", attrs={\\\"title\\\": \\\"Yellow Taxi Trip Records\\\"})\\n    yellow_taxi_urls = [a[\\\"href\\\"] for a in yellow_a_tags]\\n\\n    # Use re moduel to filter the urls\\n    pattern = re.compile(\\n        r\\\"yellow_tripdata_20(09-(?:0\\\\d|1[0-2])|1[0-4]-(?:0\\\\d|1[0-2])|15-0[1-6]).parquet\\\"\\n    )\\n\\n    yellow_taxi_urls_desired = []\\n\\n    for link in yellow_taxi_urls:\\n        match = pattern.search(link)\\n        if match:\\n            yellow_taxi_urls_desired.append(match.string)\\n\\n    return yellow_taxi_urls_desired\";\n",
       "                var nbb_cells = Jupyter.notebook.get_cells();\n",
       "                for (var i = 0; i < nbb_cells.length; ++i) {\n",
       "                    if (nbb_cells[i].input_prompt_number == nbb_cell_id) {\n",
       "                        if (nbb_cells[i].get_text() == nbb_unformatted_code) {\n",
       "                             nbb_cells[i].set_text(nbb_formatted_code);\n",
       "                        }\n",
       "                        break;\n",
       "                    }\n",
       "                }\n",
       "            }, 500);\n",
       "            "
      ],
      "text/plain": [
       "<IPython.core.display.Javascript object>"
      ]
     },
     "metadata": {},
     "output_type": "display_data"
    }
   ],
   "source": [
    "def find_taxi_parquet_urls():\n",
    "    \"\"\"Retrieve the yellow taxi parquet urls.\n",
    "\n",
    "    The function retrieves the url from January 2009 through June 2015.\n",
    "\n",
    "    Args:\n",
    "        None\n",
    "\n",
    "    Returns:\n",
    "        list: Desired urls as list of strings\n",
    "\n",
    "    \"\"\"\n",
    "    # Use requests library to get TAXI_URL html\n",
    "    response = requests.get(TAXI_URL)\n",
    "    html = response.content\n",
    "\n",
    "    # Use BeautifulSoup to get all yellow taxi parquet urls\n",
    "    soup = bs4.BeautifulSoup(html, \"html.parser\")\n",
    "    yellow_a_tags = soup.find_all(\"a\", attrs={\"title\": \"Yellow Taxi Trip Records\"})\n",
    "    yellow_taxi_urls = [a[\"href\"] for a in yellow_a_tags]\n",
    "\n",
    "    # Use re moduel to filter the urls\n",
    "    pattern = re.compile(\n",
    "        r\"yellow_tripdata_20(09-(?:0\\d|1[0-2])|1[0-4]-(?:0\\d|1[0-2])|15-0[1-6]).parquet\"\n",
    "    )\n",
    "\n",
    "    yellow_taxi_urls_desired = []\n",
    "\n",
    "    for link in yellow_taxi_urls:\n",
    "        match = pattern.search(link)\n",
    "        if match:\n",
    "            yellow_taxi_urls_desired.append(match.string)\n",
    "\n",
    "    return yellow_taxi_urls_desired"
   ]
  },
  {
   "cell_type": "code",
   "execution_count": 58,
   "id": "b7a2fe98",
   "metadata": {},
   "outputs": [
    {
     "data": {
      "text/plain": [
       "78"
      ]
     },
     "execution_count": 58,
     "metadata": {},
     "output_type": "execute_result"
    },
    {
     "data": {
      "application/javascript": [
       "\n",
       "            setTimeout(function() {\n",
       "                var nbb_cell_id = 58;\n",
       "                var nbb_unformatted_code = \"test = find_taxi_parquet_urls()\\nlen(test)\";\n",
       "                var nbb_formatted_code = \"test = find_taxi_parquet_urls()\\nlen(test)\";\n",
       "                var nbb_cells = Jupyter.notebook.get_cells();\n",
       "                for (var i = 0; i < nbb_cells.length; ++i) {\n",
       "                    if (nbb_cells[i].input_prompt_number == nbb_cell_id) {\n",
       "                        if (nbb_cells[i].get_text() == nbb_unformatted_code) {\n",
       "                             nbb_cells[i].set_text(nbb_formatted_code);\n",
       "                        }\n",
       "                        break;\n",
       "                    }\n",
       "                }\n",
       "            }, 500);\n",
       "            "
      ],
      "text/plain": [
       "<IPython.core.display.Javascript object>"
      ]
     },
     "metadata": {},
     "output_type": "display_data"
    }
   ],
   "source": [
    "test = find_taxi_parquet_urls()\n",
    "len(test)"
   ]
  },
  {
   "cell_type": "code",
   "execution_count": 10,
   "id": "9bb298bd",
   "metadata": {},
   "outputs": [
    {
     "data": {
      "application/javascript": [
       "\n",
       "            setTimeout(function() {\n",
       "                var nbb_cell_id = 10;\n",
       "                var nbb_unformatted_code = \"def download_taxi_data(taxi_parquet_url):\\n    for url in taxi_parquet_url:\\n\\n        response = requests.get(url, stream=True)\\n        file_name = url.split(\\\"/\\\")[-1]\\n        # file_path = os.getcwd() + '/datasets/yellow_taxi_data/'\\n\\n        with open(file_name, \\\"wb\\\") as f:\\n            for chunk in response.iter_content(chunk_size=1024):\\n                if chunk:\\n                    f.write(chunk)\";\n",
       "                var nbb_formatted_code = \"def download_taxi_data(taxi_parquet_url):\\n    for url in taxi_parquet_url:\\n\\n        response = requests.get(url, stream=True)\\n        file_name = url.split(\\\"/\\\")[-1]\\n        # file_path = os.getcwd() + '/datasets/yellow_taxi_data/'\\n\\n        with open(file_name, \\\"wb\\\") as f:\\n            for chunk in response.iter_content(chunk_size=1024):\\n                if chunk:\\n                    f.write(chunk)\";\n",
       "                var nbb_cells = Jupyter.notebook.get_cells();\n",
       "                for (var i = 0; i < nbb_cells.length; ++i) {\n",
       "                    if (nbb_cells[i].input_prompt_number == nbb_cell_id) {\n",
       "                        if (nbb_cells[i].get_text() == nbb_unformatted_code) {\n",
       "                             nbb_cells[i].set_text(nbb_formatted_code);\n",
       "                        }\n",
       "                        break;\n",
       "                    }\n",
       "                }\n",
       "            }, 500);\n",
       "            "
      ],
      "text/plain": [
       "<IPython.core.display.Javascript object>"
      ]
     },
     "metadata": {},
     "output_type": "display_data"
    }
   ],
   "source": [
    "# Deprecated\n",
    "# def download_taxi_data(taxi_parquet_url):\n",
    "#     for url in taxi_parquet_url:\n",
    "\n",
    "#         response = requests.get(url, stream=True)\n",
    "#         file_name = url.split(\"/\")[-1]\n",
    "#         # file_path = os.getcwd() + '/datasets/yellow_taxi_data/'\n",
    "\n",
    "#         with open(file_name, \"wb\") as f:\n",
    "#             for chunk in response.iter_content(chunk_size=1024):\n",
    "#                 if chunk:\n",
    "#                     f.write(chunk)\n",
    "# Download the taxi parquet files to the current folder\n",
    "\n",
    "# taxi_parquet_url = find_taxi_parquet_urls()\n",
    "# download_taxi_data(taxi_parquet_url)"
   ]
  },
  {
   "cell_type": "code",
   "execution_count": 99,
   "id": "bfe8b834",
   "metadata": {},
   "outputs": [
    {
     "data": {
      "text/plain": [
       "Index(['VendorID', 'tpep_pickup_datetime', 'tpep_dropoff_datetime',\n",
       "       'passenger_count', 'trip_distance', 'RatecodeID', 'store_and_fwd_flag',\n",
       "       'PULocationID', 'DOLocationID', 'payment_type', 'fare_amount', 'extra',\n",
       "       'mta_tax', 'tip_amount', 'tolls_amount', 'improvement_surcharge',\n",
       "       'total_amount', 'congestion_surcharge', 'airport_fee'],\n",
       "      dtype='object')"
      ]
     },
     "execution_count": 99,
     "metadata": {},
     "output_type": "execute_result"
    },
    {
     "data": {
      "application/javascript": [
       "\n",
       "            setTimeout(function() {\n",
       "                var nbb_cell_id = 99;\n",
       "                var nbb_unformatted_code = \"columns_needed1 = [\\n    \\\"Trip_Pickup_DateTime\\\",\\n    \\\"Trip_Dropoff_DateTime\\\",\\n    \\\"Start_Lon\\\",\\n    \\\"Start_Lat\\\",\\n    \\\"End_Lon\\\",\\n    \\\"End_Lat\\\",\\n    \\\"Tip_Amt\\\",\\n]  # 2009-02\\n\\ncolumns_needed2 = [\\n    \\\"tpep_pickup_datetime\\\",\\n    \\\"tpep_dropoff_datetime\\\",\\n    \\\"PULocationID\\\",\\n    \\\"DOLocationID\\\",\\n    \\\"tip_amount\\\",\\n]  # 2014-02\\n\\ncolumns_needed3 = [\\n    \\\"pickup_datetime\\\",\\n    \\\"dropoff_datetime\\\",\\n    \\\"pickup_longitude\\\",\\n    \\\"pickup_latitude\\\",\\n    \\\"dropoff_longitude\\\",\\n    \\\"dropoff_latitude\\\",\\n    \\\"tip_amount\\\",\\n] # 2010-01\\n\\ndf = pd.read_parquet(\\\"yellow_tripdata_2015-01.parquet\\\")\\n\\n\\ndf.columns\";\n",
       "                var nbb_formatted_code = \"columns_needed1 = [\\n    \\\"Trip_Pickup_DateTime\\\",\\n    \\\"Trip_Dropoff_DateTime\\\",\\n    \\\"Start_Lon\\\",\\n    \\\"Start_Lat\\\",\\n    \\\"End_Lon\\\",\\n    \\\"End_Lat\\\",\\n    \\\"Tip_Amt\\\",\\n]  # 2009-02\\n\\ncolumns_needed2 = [\\n    \\\"tpep_pickup_datetime\\\",\\n    \\\"tpep_dropoff_datetime\\\",\\n    \\\"PULocationID\\\",\\n    \\\"DOLocationID\\\",\\n    \\\"tip_amount\\\",\\n]  # 2014-02\\n\\ncolumns_needed3 = [\\n    \\\"pickup_datetime\\\",\\n    \\\"dropoff_datetime\\\",\\n    \\\"pickup_longitude\\\",\\n    \\\"pickup_latitude\\\",\\n    \\\"dropoff_longitude\\\",\\n    \\\"dropoff_latitude\\\",\\n    \\\"tip_amount\\\",\\n]  # 2010-01\\n\\ndf = pd.read_parquet(\\\"yellow_tripdata_2015-01.parquet\\\")\\n\\n\\ndf.columns\";\n",
       "                var nbb_cells = Jupyter.notebook.get_cells();\n",
       "                for (var i = 0; i < nbb_cells.length; ++i) {\n",
       "                    if (nbb_cells[i].input_prompt_number == nbb_cell_id) {\n",
       "                        if (nbb_cells[i].get_text() == nbb_unformatted_code) {\n",
       "                             nbb_cells[i].set_text(nbb_formatted_code);\n",
       "                        }\n",
       "                        break;\n",
       "                    }\n",
       "                }\n",
       "            }, 500);\n",
       "            "
      ],
      "text/plain": [
       "<IPython.core.display.Javascript object>"
      ]
     },
     "metadata": {},
     "output_type": "display_data"
    }
   ],
   "source": [
    "columns_needed1 = [\n",
    "    \"Trip_Pickup_DateTime\",\n",
    "    \"Trip_Dropoff_DateTime\",\n",
    "    \"Start_Lon\",\n",
    "    \"Start_Lat\",\n",
    "    \"End_Lon\",\n",
    "    \"End_Lat\",\n",
    "    \"Tip_Amt\",\n",
    "]  # 2009-02\n",
    "\n",
    "columns_needed2 = [\n",
    "    \"tpep_pickup_datetime\",\n",
    "    \"tpep_dropoff_datetime\",\n",
    "    \"PULocationID\",\n",
    "    \"DOLocationID\",\n",
    "    \"tip_amount\",\n",
    "]  # 2014-02\n",
    "\n",
    "columns_needed3 = [\n",
    "    \"pickup_datetime\",\n",
    "    \"dropoff_datetime\",\n",
    "    \"pickup_longitude\",\n",
    "    \"pickup_latitude\",\n",
    "    \"dropoff_longitude\",\n",
    "    \"dropoff_latitude\",\n",
    "    \"tip_amount\",\n",
    "]  # 2010-01\n",
    "\n",
    "df = pd.read_parquet(\"yellow_tripdata_2015-01.parquet\")\n",
    "\n",
    "\n",
    "df.columns"
   ]
  },
  {
   "cell_type": "code",
   "execution_count": 100,
   "id": "5f93715c",
   "metadata": {},
   "outputs": [
    {
     "data": {
      "text/html": [
       "<div>\n",
       "<style scoped>\n",
       "    .dataframe tbody tr th:only-of-type {\n",
       "        vertical-align: middle;\n",
       "    }\n",
       "\n",
       "    .dataframe tbody tr th {\n",
       "        vertical-align: top;\n",
       "    }\n",
       "\n",
       "    .dataframe thead th {\n",
       "        text-align: right;\n",
       "    }\n",
       "</style>\n",
       "<table border=\"1\" class=\"dataframe\">\n",
       "  <thead>\n",
       "    <tr style=\"text-align: right;\">\n",
       "      <th></th>\n",
       "      <th>VendorID</th>\n",
       "      <th>tpep_pickup_datetime</th>\n",
       "      <th>tpep_dropoff_datetime</th>\n",
       "      <th>passenger_count</th>\n",
       "      <th>trip_distance</th>\n",
       "      <th>RatecodeID</th>\n",
       "      <th>store_and_fwd_flag</th>\n",
       "      <th>PULocationID</th>\n",
       "      <th>DOLocationID</th>\n",
       "      <th>payment_type</th>\n",
       "      <th>fare_amount</th>\n",
       "      <th>extra</th>\n",
       "      <th>mta_tax</th>\n",
       "      <th>tip_amount</th>\n",
       "      <th>tolls_amount</th>\n",
       "      <th>improvement_surcharge</th>\n",
       "      <th>total_amount</th>\n",
       "      <th>congestion_surcharge</th>\n",
       "      <th>airport_fee</th>\n",
       "    </tr>\n",
       "  </thead>\n",
       "  <tbody>\n",
       "    <tr>\n",
       "      <th>0</th>\n",
       "      <td>1</td>\n",
       "      <td>2015-01-01 00:11:33</td>\n",
       "      <td>2015-01-01 00:16:48</td>\n",
       "      <td>1</td>\n",
       "      <td>1.0</td>\n",
       "      <td>1</td>\n",
       "      <td>N</td>\n",
       "      <td>41</td>\n",
       "      <td>166</td>\n",
       "      <td>1</td>\n",
       "      <td>5.7</td>\n",
       "      <td>0.5</td>\n",
       "      <td>0.5</td>\n",
       "      <td>1.40</td>\n",
       "      <td>0.0</td>\n",
       "      <td>0.0</td>\n",
       "      <td>8.40</td>\n",
       "      <td>None</td>\n",
       "      <td>None</td>\n",
       "    </tr>\n",
       "    <tr>\n",
       "      <th>1</th>\n",
       "      <td>1</td>\n",
       "      <td>2015-01-01 00:18:24</td>\n",
       "      <td>2015-01-01 00:24:20</td>\n",
       "      <td>1</td>\n",
       "      <td>0.9</td>\n",
       "      <td>1</td>\n",
       "      <td>N</td>\n",
       "      <td>166</td>\n",
       "      <td>238</td>\n",
       "      <td>3</td>\n",
       "      <td>6.0</td>\n",
       "      <td>0.5</td>\n",
       "      <td>0.5</td>\n",
       "      <td>0.00</td>\n",
       "      <td>0.0</td>\n",
       "      <td>0.0</td>\n",
       "      <td>7.30</td>\n",
       "      <td>None</td>\n",
       "      <td>None</td>\n",
       "    </tr>\n",
       "    <tr>\n",
       "      <th>2</th>\n",
       "      <td>1</td>\n",
       "      <td>2015-01-01 00:26:19</td>\n",
       "      <td>2015-01-01 00:41:06</td>\n",
       "      <td>1</td>\n",
       "      <td>3.5</td>\n",
       "      <td>1</td>\n",
       "      <td>N</td>\n",
       "      <td>238</td>\n",
       "      <td>162</td>\n",
       "      <td>1</td>\n",
       "      <td>13.2</td>\n",
       "      <td>0.5</td>\n",
       "      <td>0.5</td>\n",
       "      <td>2.90</td>\n",
       "      <td>0.0</td>\n",
       "      <td>0.0</td>\n",
       "      <td>17.40</td>\n",
       "      <td>None</td>\n",
       "      <td>None</td>\n",
       "    </tr>\n",
       "    <tr>\n",
       "      <th>3</th>\n",
       "      <td>1</td>\n",
       "      <td>2015-01-01 00:45:26</td>\n",
       "      <td>2015-01-01 00:53:20</td>\n",
       "      <td>1</td>\n",
       "      <td>2.1</td>\n",
       "      <td>1</td>\n",
       "      <td>N</td>\n",
       "      <td>162</td>\n",
       "      <td>263</td>\n",
       "      <td>1</td>\n",
       "      <td>8.2</td>\n",
       "      <td>0.5</td>\n",
       "      <td>0.5</td>\n",
       "      <td>2.37</td>\n",
       "      <td>0.0</td>\n",
       "      <td>0.0</td>\n",
       "      <td>11.87</td>\n",
       "      <td>None</td>\n",
       "      <td>None</td>\n",
       "    </tr>\n",
       "    <tr>\n",
       "      <th>4</th>\n",
       "      <td>1</td>\n",
       "      <td>2015-01-01 00:59:21</td>\n",
       "      <td>2015-01-01 01:05:24</td>\n",
       "      <td>1</td>\n",
       "      <td>1.0</td>\n",
       "      <td>1</td>\n",
       "      <td>N</td>\n",
       "      <td>236</td>\n",
       "      <td>141</td>\n",
       "      <td>3</td>\n",
       "      <td>6.0</td>\n",
       "      <td>0.5</td>\n",
       "      <td>0.5</td>\n",
       "      <td>0.00</td>\n",
       "      <td>0.0</td>\n",
       "      <td>0.0</td>\n",
       "      <td>7.30</td>\n",
       "      <td>None</td>\n",
       "      <td>None</td>\n",
       "    </tr>\n",
       "    <tr>\n",
       "      <th>...</th>\n",
       "      <td>...</td>\n",
       "      <td>...</td>\n",
       "      <td>...</td>\n",
       "      <td>...</td>\n",
       "      <td>...</td>\n",
       "      <td>...</td>\n",
       "      <td>...</td>\n",
       "      <td>...</td>\n",
       "      <td>...</td>\n",
       "      <td>...</td>\n",
       "      <td>...</td>\n",
       "      <td>...</td>\n",
       "      <td>...</td>\n",
       "      <td>...</td>\n",
       "      <td>...</td>\n",
       "      <td>...</td>\n",
       "      <td>...</td>\n",
       "      <td>...</td>\n",
       "      <td>...</td>\n",
       "    </tr>\n",
       "    <tr>\n",
       "      <th>12741030</th>\n",
       "      <td>1</td>\n",
       "      <td>2015-01-31 23:21:42</td>\n",
       "      <td>2015-01-31 23:31:00</td>\n",
       "      <td>1</td>\n",
       "      <td>1.6</td>\n",
       "      <td>1</td>\n",
       "      <td>N</td>\n",
       "      <td>90</td>\n",
       "      <td>249</td>\n",
       "      <td>1</td>\n",
       "      <td>8.0</td>\n",
       "      <td>0.5</td>\n",
       "      <td>0.5</td>\n",
       "      <td>2.32</td>\n",
       "      <td>0.0</td>\n",
       "      <td>0.3</td>\n",
       "      <td>11.62</td>\n",
       "      <td>None</td>\n",
       "      <td>None</td>\n",
       "    </tr>\n",
       "    <tr>\n",
       "      <th>12741031</th>\n",
       "      <td>1</td>\n",
       "      <td>2015-01-31 23:42:43</td>\n",
       "      <td>2015-01-31 23:49:32</td>\n",
       "      <td>1</td>\n",
       "      <td>0.6</td>\n",
       "      <td>1</td>\n",
       "      <td>N</td>\n",
       "      <td>90</td>\n",
       "      <td>68</td>\n",
       "      <td>1</td>\n",
       "      <td>6.0</td>\n",
       "      <td>0.5</td>\n",
       "      <td>0.5</td>\n",
       "      <td>1.46</td>\n",
       "      <td>0.0</td>\n",
       "      <td>0.3</td>\n",
       "      <td>8.76</td>\n",
       "      <td>None</td>\n",
       "      <td>None</td>\n",
       "    </tr>\n",
       "    <tr>\n",
       "      <th>12741032</th>\n",
       "      <td>1</td>\n",
       "      <td>2015-01-31 23:55:16</td>\n",
       "      <td>2015-02-01 00:16:45</td>\n",
       "      <td>1</td>\n",
       "      <td>3.0</td>\n",
       "      <td>1</td>\n",
       "      <td>N</td>\n",
       "      <td>68</td>\n",
       "      <td>148</td>\n",
       "      <td>1</td>\n",
       "      <td>15.0</td>\n",
       "      <td>0.5</td>\n",
       "      <td>0.5</td>\n",
       "      <td>4.07</td>\n",
       "      <td>0.0</td>\n",
       "      <td>0.3</td>\n",
       "      <td>20.37</td>\n",
       "      <td>None</td>\n",
       "      <td>None</td>\n",
       "    </tr>\n",
       "    <tr>\n",
       "      <th>12741033</th>\n",
       "      <td>1</td>\n",
       "      <td>2015-01-31 23:20:53</td>\n",
       "      <td>2015-02-01 00:07:35</td>\n",
       "      <td>1</td>\n",
       "      <td>6.9</td>\n",
       "      <td>1</td>\n",
       "      <td>N</td>\n",
       "      <td>189</td>\n",
       "      <td>237</td>\n",
       "      <td>1</td>\n",
       "      <td>32.5</td>\n",
       "      <td>0.5</td>\n",
       "      <td>0.5</td>\n",
       "      <td>6.00</td>\n",
       "      <td>0.0</td>\n",
       "      <td>0.3</td>\n",
       "      <td>39.80</td>\n",
       "      <td>None</td>\n",
       "      <td>None</td>\n",
       "    </tr>\n",
       "    <tr>\n",
       "      <th>12741034</th>\n",
       "      <td>1</td>\n",
       "      <td>2015-01-31 23:40:15</td>\n",
       "      <td>2015-01-31 23:56:52</td>\n",
       "      <td>1</td>\n",
       "      <td>3.6</td>\n",
       "      <td>1</td>\n",
       "      <td>N</td>\n",
       "      <td>162</td>\n",
       "      <td>145</td>\n",
       "      <td>1</td>\n",
       "      <td>15.0</td>\n",
       "      <td>0.5</td>\n",
       "      <td>0.5</td>\n",
       "      <td>3.25</td>\n",
       "      <td>0.0</td>\n",
       "      <td>0.3</td>\n",
       "      <td>19.55</td>\n",
       "      <td>None</td>\n",
       "      <td>None</td>\n",
       "    </tr>\n",
       "  </tbody>\n",
       "</table>\n",
       "<p>12741035 rows × 19 columns</p>\n",
       "</div>"
      ],
      "text/plain": [
       "          VendorID tpep_pickup_datetime tpep_dropoff_datetime  \\\n",
       "0                1  2015-01-01 00:11:33   2015-01-01 00:16:48   \n",
       "1                1  2015-01-01 00:18:24   2015-01-01 00:24:20   \n",
       "2                1  2015-01-01 00:26:19   2015-01-01 00:41:06   \n",
       "3                1  2015-01-01 00:45:26   2015-01-01 00:53:20   \n",
       "4                1  2015-01-01 00:59:21   2015-01-01 01:05:24   \n",
       "...            ...                  ...                   ...   \n",
       "12741030         1  2015-01-31 23:21:42   2015-01-31 23:31:00   \n",
       "12741031         1  2015-01-31 23:42:43   2015-01-31 23:49:32   \n",
       "12741032         1  2015-01-31 23:55:16   2015-02-01 00:16:45   \n",
       "12741033         1  2015-01-31 23:20:53   2015-02-01 00:07:35   \n",
       "12741034         1  2015-01-31 23:40:15   2015-01-31 23:56:52   \n",
       "\n",
       "          passenger_count  trip_distance  RatecodeID store_and_fwd_flag  \\\n",
       "0                       1            1.0           1                  N   \n",
       "1                       1            0.9           1                  N   \n",
       "2                       1            3.5           1                  N   \n",
       "3                       1            2.1           1                  N   \n",
       "4                       1            1.0           1                  N   \n",
       "...                   ...            ...         ...                ...   \n",
       "12741030                1            1.6           1                  N   \n",
       "12741031                1            0.6           1                  N   \n",
       "12741032                1            3.0           1                  N   \n",
       "12741033                1            6.9           1                  N   \n",
       "12741034                1            3.6           1                  N   \n",
       "\n",
       "          PULocationID  DOLocationID  payment_type  fare_amount  extra  \\\n",
       "0                   41           166             1          5.7    0.5   \n",
       "1                  166           238             3          6.0    0.5   \n",
       "2                  238           162             1         13.2    0.5   \n",
       "3                  162           263             1          8.2    0.5   \n",
       "4                  236           141             3          6.0    0.5   \n",
       "...                ...           ...           ...          ...    ...   \n",
       "12741030            90           249             1          8.0    0.5   \n",
       "12741031            90            68             1          6.0    0.5   \n",
       "12741032            68           148             1         15.0    0.5   \n",
       "12741033           189           237             1         32.5    0.5   \n",
       "12741034           162           145             1         15.0    0.5   \n",
       "\n",
       "          mta_tax  tip_amount  tolls_amount  improvement_surcharge  \\\n",
       "0             0.5        1.40           0.0                    0.0   \n",
       "1             0.5        0.00           0.0                    0.0   \n",
       "2             0.5        2.90           0.0                    0.0   \n",
       "3             0.5        2.37           0.0                    0.0   \n",
       "4             0.5        0.00           0.0                    0.0   \n",
       "...           ...         ...           ...                    ...   \n",
       "12741030      0.5        2.32           0.0                    0.3   \n",
       "12741031      0.5        1.46           0.0                    0.3   \n",
       "12741032      0.5        4.07           0.0                    0.3   \n",
       "12741033      0.5        6.00           0.0                    0.3   \n",
       "12741034      0.5        3.25           0.0                    0.3   \n",
       "\n",
       "          total_amount congestion_surcharge airport_fee  \n",
       "0                 8.40                 None        None  \n",
       "1                 7.30                 None        None  \n",
       "2                17.40                 None        None  \n",
       "3                11.87                 None        None  \n",
       "4                 7.30                 None        None  \n",
       "...                ...                  ...         ...  \n",
       "12741030         11.62                 None        None  \n",
       "12741031          8.76                 None        None  \n",
       "12741032         20.37                 None        None  \n",
       "12741033         39.80                 None        None  \n",
       "12741034         19.55                 None        None  \n",
       "\n",
       "[12741035 rows x 19 columns]"
      ]
     },
     "execution_count": 100,
     "metadata": {},
     "output_type": "execute_result"
    },
    {
     "data": {
      "application/javascript": [
       "\n",
       "            setTimeout(function() {\n",
       "                var nbb_cell_id = 100;\n",
       "                var nbb_unformatted_code = \"df\";\n",
       "                var nbb_formatted_code = \"df\";\n",
       "                var nbb_cells = Jupyter.notebook.get_cells();\n",
       "                for (var i = 0; i < nbb_cells.length; ++i) {\n",
       "                    if (nbb_cells[i].input_prompt_number == nbb_cell_id) {\n",
       "                        if (nbb_cells[i].get_text() == nbb_unformatted_code) {\n",
       "                             nbb_cells[i].set_text(nbb_formatted_code);\n",
       "                        }\n",
       "                        break;\n",
       "                    }\n",
       "                }\n",
       "            }, 500);\n",
       "            "
      ],
      "text/plain": [
       "<IPython.core.display.Javascript object>"
      ]
     },
     "metadata": {},
     "output_type": "display_data"
    }
   ],
   "source": [
    "df"
   ]
  },
  {
   "cell_type": "markdown",
   "id": "41bb06a7",
   "metadata": {},
   "source": [
    "### Load taxi zones shp file and convert the polygon to coordinates"
   ]
  },
  {
   "cell_type": "code",
   "execution_count": 12,
   "id": "443e0be5",
   "metadata": {},
   "outputs": [
    {
     "data": {
      "application/javascript": [
       "\n",
       "            setTimeout(function() {\n",
       "                var nbb_cell_id = 12;\n",
       "                var nbb_unformatted_code = \"def convert_geometry(polygon):\\n    \\\"\\\"\\\"Conver polygon to its center point\\n\\n    Args:\\n        polygon (Polygon): shapely.geometry.polygon.Polygon type\\n\\n    Returns:\\n        tuple: Contain the latitude and longitude values\\n\\n    \\\"\\\"\\\"\\n    lon = polygon.centroid.x\\n    lat = polygon.centroid.y\\n    return (lat, lon)\\n\\n\\ngdf = geopandas.read_file(\\\"taxi_zones/taxi_zones.shp\\\").to_crs(4326)\\n# gdf[\\\"center_lon\\\"] = gdf[\\\"geometry\\\"].apply(lambda p: p.centroid.x)\\n# gdf[\\\"center_lat\\\"] = gdf[\\\"geometry\\\"].apply(lambda p: p.centroid.y)\\ngdf[\\\"location_coordinate\\\"] = gdf[\\\"geometry\\\"].apply(convert_geometry)\\n\\n# Only keep the ID and coordinate columns\\ngdf = gdf[[\\\"LocationID\\\", \\\"location_coordinate\\\"]]\\n\\n# Remove duplicate LocationID: 56 and 103\\ngdf = gdf[~gdf[\\\"LocationID\\\"].duplicated(keep=False)]\";\n",
       "                var nbb_formatted_code = \"def convert_geometry(polygon):\\n    \\\"\\\"\\\"Conver polygon to its center point\\n\\n    Args:\\n        polygon (Polygon): shapely.geometry.polygon.Polygon type\\n\\n    Returns:\\n        tuple: Contain the latitude and longitude values\\n\\n    \\\"\\\"\\\"\\n    lon = polygon.centroid.x\\n    lat = polygon.centroid.y\\n    return (lat, lon)\\n\\n\\ngdf = geopandas.read_file(\\\"taxi_zones/taxi_zones.shp\\\").to_crs(4326)\\n# gdf[\\\"center_lon\\\"] = gdf[\\\"geometry\\\"].apply(lambda p: p.centroid.x)\\n# gdf[\\\"center_lat\\\"] = gdf[\\\"geometry\\\"].apply(lambda p: p.centroid.y)\\ngdf[\\\"location_coordinate\\\"] = gdf[\\\"geometry\\\"].apply(convert_geometry)\\n\\n# Only keep the ID and coordinate columns\\ngdf = gdf[[\\\"LocationID\\\", \\\"location_coordinate\\\"]]\\n\\n# Remove duplicate LocationID: 56 and 103\\ngdf = gdf[~gdf[\\\"LocationID\\\"].duplicated(keep=False)]\";\n",
       "                var nbb_cells = Jupyter.notebook.get_cells();\n",
       "                for (var i = 0; i < nbb_cells.length; ++i) {\n",
       "                    if (nbb_cells[i].input_prompt_number == nbb_cell_id) {\n",
       "                        if (nbb_cells[i].get_text() == nbb_unformatted_code) {\n",
       "                             nbb_cells[i].set_text(nbb_formatted_code);\n",
       "                        }\n",
       "                        break;\n",
       "                    }\n",
       "                }\n",
       "            }, 500);\n",
       "            "
      ],
      "text/plain": [
       "<IPython.core.display.Javascript object>"
      ]
     },
     "metadata": {},
     "output_type": "display_data"
    }
   ],
   "source": [
    "def convert_geometry(polygon):\n",
    "    \"\"\"Conver polygon to its center point\n",
    "\n",
    "    Args:\n",
    "        polygon (Polygon): shapely.geometry.polygon.Polygon type\n",
    "\n",
    "    Returns:\n",
    "        tuple: Contain the latitude and longitude values\n",
    "\n",
    "    \"\"\"\n",
    "    lon = polygon.centroid.x\n",
    "    lat = polygon.centroid.y\n",
    "    return (lat, lon)\n",
    "\n",
    "\n",
    "gdf = geopandas.read_file(\"taxi_zones/taxi_zones.shp\").to_crs(4326)\n",
    "# gdf[\"center_lon\"] = gdf[\"geometry\"].apply(lambda p: p.centroid.x)\n",
    "# gdf[\"center_lat\"] = gdf[\"geometry\"].apply(lambda p: p.centroid.y)\n",
    "gdf[\"location_coordinate\"] = gdf[\"geometry\"].apply(convert_geometry)\n",
    "\n",
    "# Only keep the ID and coordinate columns\n",
    "gdf = gdf[[\"LocationID\", \"location_coordinate\"]]\n",
    "\n",
    "# Remove duplicate LocationID: 56 and 103\n",
    "gdf = gdf[~gdf[\"LocationID\"].duplicated(keep=False)]"
   ]
  },
  {
   "cell_type": "code",
   "execution_count": 199,
   "id": "33dcfddc",
   "metadata": {},
   "outputs": [
    {
     "data": {
      "application/javascript": [
       "\n",
       "            setTimeout(function() {\n",
       "                var nbb_cell_id = 199;\n",
       "                var nbb_unformatted_code = \"def clean_taxi_data_with_locationId(df):\\n    # Keep only the columns that matters\\n    df = df[\\n        [\\n            \\\"tpep_pickup_datetime\\\",\\n            \\\"tpep_dropoff_datetime\\\",\\n            \\\"PULocationID\\\",\\n            \\\"DOLocationID\\\",\\n            \\\"tip_amount\\\",\\n        ]\\n    ]\\n    # Drop rows where pickup location ID is the same as drop-off\\n    df = df[df[\\\"PULocationID\\\"] != df[\\\"DOLocationID\\\"]]\\n\\n    # TODO: test dropoff Location ID == 56 & 103 (both ID have mutilple geometry entries)\\n#     df = df.drop(\\n#         df[\\n#             (df.PULocationID == 56)\\n#             | (df.PULocationID == 103)\\n#             | (df.DOLocationID == 56)\\n#             | (df.DOLocationID == 103)\\n#         ].index\\n#     )\\n\\n    # Convert LocationID to coordinate\\n    df[\\\"pickup_location\\\"] = df[\\\"PULocationID\\\"].map(\\n        gdf.set_index(\\\"LocationID\\\")[\\\"location_coordinate\\\"]\\n    )\\n    df[\\\"dropoff_location\\\"] = df[\\\"DOLocationID\\\"].map(\\n        gdf.set_index(\\\"LocationID\\\")[\\\"location_coordinate\\\"]\\n    )\\n    # Split the coordinate into latitude and longitude\\n    df[[\\\"pickup_latitude\\\", \\\"pickup_longitude\\\"]] = pd.DataFrame(\\n        df[\\\"pickup_location\\\"].tolist(), index=df.index\\n    )\\n    df[[\\\"dropoff_latitude\\\", \\\"dropoff_longitude\\\"]] = pd.DataFrame(\\n        df[\\\"dropoff_location\\\"].tolist(), index=df.index\\n    )\\n\\n    # Drop LocationID columns\\n    df = df.drop(\\n        columns=[\\\"PULocationID\\\", \\\"DOLocationID\\\", \\\"pickup_location\\\", \\\"dropoff_location\\\"]\\n    ).reset_index(drop=True)\\n\\n    # Normalize column names\\n    df = df.rename(\\n        columns={\\n            \\\"tpep_pickup_datetime\\\": \\\"pickup_datetime\\\",\\n            \\\"tpep_dropoff_datetime\\\": \\\"dropoff_datetime\\\",\\n        }\\n    )\\n\\n    return df\";\n",
       "                var nbb_formatted_code = \"def clean_taxi_data_with_locationId(df):\\n    # Keep only the columns that matters\\n    df = df[\\n        [\\n            \\\"tpep_pickup_datetime\\\",\\n            \\\"tpep_dropoff_datetime\\\",\\n            \\\"PULocationID\\\",\\n            \\\"DOLocationID\\\",\\n            \\\"tip_amount\\\",\\n        ]\\n    ]\\n    # Drop rows where pickup location ID is the same as drop-off\\n    df = df[df[\\\"PULocationID\\\"] != df[\\\"DOLocationID\\\"]]\\n\\n    # TODO: test dropoff Location ID == 56 & 103 (both ID have mutilple geometry entries)\\n    #     df = df.drop(\\n    #         df[\\n    #             (df.PULocationID == 56)\\n    #             | (df.PULocationID == 103)\\n    #             | (df.DOLocationID == 56)\\n    #             | (df.DOLocationID == 103)\\n    #         ].index\\n    #     )\\n\\n    # Convert LocationID to coordinate\\n    df[\\\"pickup_location\\\"] = df[\\\"PULocationID\\\"].map(\\n        gdf.set_index(\\\"LocationID\\\")[\\\"location_coordinate\\\"]\\n    )\\n    df[\\\"dropoff_location\\\"] = df[\\\"DOLocationID\\\"].map(\\n        gdf.set_index(\\\"LocationID\\\")[\\\"location_coordinate\\\"]\\n    )\\n    # Split the coordinate into latitude and longitude\\n    df[[\\\"pickup_latitude\\\", \\\"pickup_longitude\\\"]] = pd.DataFrame(\\n        df[\\\"pickup_location\\\"].tolist(), index=df.index\\n    )\\n    df[[\\\"dropoff_latitude\\\", \\\"dropoff_longitude\\\"]] = pd.DataFrame(\\n        df[\\\"dropoff_location\\\"].tolist(), index=df.index\\n    )\\n\\n    # Drop LocationID columns\\n    df = df.drop(\\n        columns=[\\\"PULocationID\\\", \\\"DOLocationID\\\", \\\"pickup_location\\\", \\\"dropoff_location\\\"]\\n    ).reset_index(drop=True)\\n\\n    # Normalize column names\\n    df = df.rename(\\n        columns={\\n            \\\"tpep_pickup_datetime\\\": \\\"pickup_datetime\\\",\\n            \\\"tpep_dropoff_datetime\\\": \\\"dropoff_datetime\\\",\\n        }\\n    )\\n\\n    return df\";\n",
       "                var nbb_cells = Jupyter.notebook.get_cells();\n",
       "                for (var i = 0; i < nbb_cells.length; ++i) {\n",
       "                    if (nbb_cells[i].input_prompt_number == nbb_cell_id) {\n",
       "                        if (nbb_cells[i].get_text() == nbb_unformatted_code) {\n",
       "                             nbb_cells[i].set_text(nbb_formatted_code);\n",
       "                        }\n",
       "                        break;\n",
       "                    }\n",
       "                }\n",
       "            }, 500);\n",
       "            "
      ],
      "text/plain": [
       "<IPython.core.display.Javascript object>"
      ]
     },
     "metadata": {},
     "output_type": "display_data"
    },
    {
     "data": {
      "application/javascript": [
       "\n",
       "            setTimeout(function() {\n",
       "                var nbb_cell_id = 199;\n",
       "                var nbb_unformatted_code = \"def clean_taxi_data_with_locationId(df):\\n    # Keep only the columns that matters\\n    df = df[\\n        [\\n            \\\"tpep_pickup_datetime\\\",\\n            \\\"tpep_dropoff_datetime\\\",\\n            \\\"PULocationID\\\",\\n            \\\"DOLocationID\\\",\\n            \\\"tip_amount\\\",\\n        ]\\n    ]\\n    # Drop rows where pickup location ID is the same as drop-off\\n    df = df[df[\\\"PULocationID\\\"] != df[\\\"DOLocationID\\\"]]\\n\\n    # TODO: test dropoff Location ID == 56 & 103 (both ID have mutilple geometry entries)\\n#     df = df.drop(\\n#         df[\\n#             (df.PULocationID == 56)\\n#             | (df.PULocationID == 103)\\n#             | (df.DOLocationID == 56)\\n#             | (df.DOLocationID == 103)\\n#         ].index\\n#     )\\n\\n    # Convert LocationID to coordinate\\n    df[\\\"pickup_location\\\"] = df[\\\"PULocationID\\\"].map(\\n        gdf.set_index(\\\"LocationID\\\")[\\\"location_coordinate\\\"]\\n    )\\n    df[\\\"dropoff_location\\\"] = df[\\\"DOLocationID\\\"].map(\\n        gdf.set_index(\\\"LocationID\\\")[\\\"location_coordinate\\\"]\\n    )\\n    # Split the coordinate into latitude and longitude\\n    df[[\\\"pickup_latitude\\\", \\\"pickup_longitude\\\"]] = pd.DataFrame(\\n        df[\\\"pickup_location\\\"].tolist(), index=df.index\\n    )\\n    df[[\\\"dropoff_latitude\\\", \\\"dropoff_longitude\\\"]] = pd.DataFrame(\\n        df[\\\"dropoff_location\\\"].tolist(), index=df.index\\n    )\\n\\n    # Drop LocationID columns\\n    df = df.drop(\\n        columns=[\\\"PULocationID\\\", \\\"DOLocationID\\\", \\\"pickup_location\\\", \\\"dropoff_location\\\"]\\n    ).reset_index(drop=True)\\n\\n    # Normalize column names\\n    df = df.rename(\\n        columns={\\n            \\\"tpep_pickup_datetime\\\": \\\"pickup_datetime\\\",\\n            \\\"tpep_dropoff_datetime\\\": \\\"dropoff_datetime\\\",\\n        }\\n    )\\n\\n    return df\";\n",
       "                var nbb_formatted_code = \"def clean_taxi_data_with_locationId(df):\\n    # Keep only the columns that matters\\n    df = df[\\n        [\\n            \\\"tpep_pickup_datetime\\\",\\n            \\\"tpep_dropoff_datetime\\\",\\n            \\\"PULocationID\\\",\\n            \\\"DOLocationID\\\",\\n            \\\"tip_amount\\\",\\n        ]\\n    ]\\n    # Drop rows where pickup location ID is the same as drop-off\\n    df = df[df[\\\"PULocationID\\\"] != df[\\\"DOLocationID\\\"]]\\n\\n    # TODO: test dropoff Location ID == 56 & 103 (both ID have mutilple geometry entries)\\n    #     df = df.drop(\\n    #         df[\\n    #             (df.PULocationID == 56)\\n    #             | (df.PULocationID == 103)\\n    #             | (df.DOLocationID == 56)\\n    #             | (df.DOLocationID == 103)\\n    #         ].index\\n    #     )\\n\\n    # Convert LocationID to coordinate\\n    df[\\\"pickup_location\\\"] = df[\\\"PULocationID\\\"].map(\\n        gdf.set_index(\\\"LocationID\\\")[\\\"location_coordinate\\\"]\\n    )\\n    df[\\\"dropoff_location\\\"] = df[\\\"DOLocationID\\\"].map(\\n        gdf.set_index(\\\"LocationID\\\")[\\\"location_coordinate\\\"]\\n    )\\n    # Split the coordinate into latitude and longitude\\n    df[[\\\"pickup_latitude\\\", \\\"pickup_longitude\\\"]] = pd.DataFrame(\\n        df[\\\"pickup_location\\\"].tolist(), index=df.index\\n    )\\n    df[[\\\"dropoff_latitude\\\", \\\"dropoff_longitude\\\"]] = pd.DataFrame(\\n        df[\\\"dropoff_location\\\"].tolist(), index=df.index\\n    )\\n\\n    # Drop LocationID columns\\n    df = df.drop(\\n        columns=[\\\"PULocationID\\\", \\\"DOLocationID\\\", \\\"pickup_location\\\", \\\"dropoff_location\\\"]\\n    ).reset_index(drop=True)\\n\\n    # Normalize column names\\n    df = df.rename(\\n        columns={\\n            \\\"tpep_pickup_datetime\\\": \\\"pickup_datetime\\\",\\n            \\\"tpep_dropoff_datetime\\\": \\\"dropoff_datetime\\\",\\n        }\\n    )\\n\\n    return df\";\n",
       "                var nbb_cells = Jupyter.notebook.get_cells();\n",
       "                for (var i = 0; i < nbb_cells.length; ++i) {\n",
       "                    if (nbb_cells[i].input_prompt_number == nbb_cell_id) {\n",
       "                        if (nbb_cells[i].get_text() == nbb_unformatted_code) {\n",
       "                             nbb_cells[i].set_text(nbb_formatted_code);\n",
       "                        }\n",
       "                        break;\n",
       "                    }\n",
       "                }\n",
       "            }, 500);\n",
       "            "
      ],
      "text/plain": [
       "<IPython.core.display.Javascript object>"
      ]
     },
     "metadata": {},
     "output_type": "display_data"
    }
   ],
   "source": [
    "def clean_taxi_data_with_locationId(df):\n",
    "    # Keep only the columns that matters\n",
    "    df = df[\n",
    "        [\n",
    "            \"tpep_pickup_datetime\",\n",
    "            \"tpep_dropoff_datetime\",\n",
    "            \"PULocationID\",\n",
    "            \"DOLocationID\",\n",
    "            \"tip_amount\",\n",
    "        ]\n",
    "    ]\n",
    "    # Drop rows where pickup location ID is the same as drop-off\n",
    "    df = df[df[\"PULocationID\"] != df[\"DOLocationID\"]]\n",
    "\n",
    "    # TODO: test dropoff Location ID == 56 & 103 (both ID have mutilple geometry entries)\n",
    "    #     df = df.drop(\n",
    "    #         df[\n",
    "    #             (df.PULocationID == 56)\n",
    "    #             | (df.PULocationID == 103)\n",
    "    #             | (df.DOLocationID == 56)\n",
    "    #             | (df.DOLocationID == 103)\n",
    "    #         ].index\n",
    "    #     )\n",
    "\n",
    "    # Convert LocationID to coordinate\n",
    "    df[\"pickup_location\"] = df[\"PULocationID\"].map(\n",
    "        gdf.set_index(\"LocationID\")[\"location_coordinate\"]\n",
    "    )\n",
    "    df[\"dropoff_location\"] = df[\"DOLocationID\"].map(\n",
    "        gdf.set_index(\"LocationID\")[\"location_coordinate\"]\n",
    "    )\n",
    "    # Split the coordinate into latitude and longitude\n",
    "    df[[\"pickup_latitude\", \"pickup_longitude\"]] = pd.DataFrame(\n",
    "        df[\"pickup_location\"].tolist(), index=df.index\n",
    "    )\n",
    "    df[[\"dropoff_latitude\", \"dropoff_longitude\"]] = pd.DataFrame(\n",
    "        df[\"dropoff_location\"].tolist(), index=df.index\n",
    "    )\n",
    "\n",
    "    # Drop LocationID columns\n",
    "    df = df.drop(\n",
    "        columns=[\"PULocationID\", \"DOLocationID\", \"pickup_location\", \"dropoff_location\"]\n",
    "    ).reset_index(drop=True)\n",
    "\n",
    "    # Normalize column names\n",
    "    df = df.rename(\n",
    "        columns={\n",
    "            \"tpep_pickup_datetime\": \"pickup_datetime\",\n",
    "            \"tpep_dropoff_datetime\": \"dropoff_datetime\",\n",
    "        }\n",
    "    )\n",
    "\n",
    "    return df"
   ]
  },
  {
   "cell_type": "code",
   "execution_count": 96,
   "id": "2f40130a",
   "metadata": {},
   "outputs": [
    {
     "data": {
      "application/javascript": [
       "\n",
       "            setTimeout(function() {\n",
       "                var nbb_cell_id = 96;\n",
       "                var nbb_unformatted_code = \"def get_and_clean_month_taxi_data(url):\\n    response = requests.get(url, stream=True)\\n    file_name = url.split(\\\"/\\\")[-1]\\n\\n    # Download file if it does not exist\\n    if not os.path.isfile(file_name):\\n        with open(file_name, \\\"wb\\\") as f:\\n            for chunk in response.iter_content(chunk_size=1024):\\n                if chunk:\\n                    f.write(chunk)\\n\\n    df = pd.read_parquet(file_name)\\n\\n    # There are three dataset types for taxi data\\n    # 1. Has location ID\\n    if \\\"PULocationID\\\" in df.columns:\\n        df = clean_taxi_data_with_locationId(df)\\n\\n    # 2. Column names with \\\"Start_Lon\\\", \\\"Start_Lat\\\", \\\"End_Lon\\\", \\\"End_Lat\\\"\\n    elif \\\"Start_Lon\\\" in df.columns:\\n        # Keep columns we need\\n        df = df[\\n            [\\n                \\\"Trip_Pickup_DateTime\\\",\\n                \\\"Trip_Dropoff_DateTime\\\",\\n                \\\"Start_Lon\\\",\\n                \\\"Start_Lat\\\",\\n                \\\"End_Lon\\\",\\n                \\\"End_Lat\\\",\\n                \\\"Tip_Amt\\\",\\n            ]\\n        ]\\n        # Normalize columns\\n        df = df.rename(\\n            columns={\\n                \\\"Trip_Pickup_DateTime\\\": \\\"pickup_datetime\\\",\\n                \\\"Trip_Dropoff_DateTime\\\": \\\"dropoff_datetime\\\",\\n                \\\"Start_Lon\\\": \\\"pickup_longitude\\\",\\n                \\\"Start_Lat\\\": \\\"pickup_latitude\\\",\\n                \\\"End_Lon\\\": \\\"dropoff_longitude\\\",\\n                \\\"End_Lat\\\": \\\"dropoff_latitude\\\",\\n                \\\"Tip_Amt\\\": \\\"tip_amount\\\",\\n            }\\n        )\\n\\n    # 3. Column names with \\\"pickup_datetime\\\" etc. which is our standard\\n    elif \\\"pickup_datetime\\\" in df.columns:\\n        # Keep columns we need\\n        df = df[\\n            [\\n                \\\"pickup_datetime\\\",\\n                \\\"dropoff_datetime\\\",\\n                \\\"pickup_longitude\\\",\\n                \\\"pickup_latitude\\\",\\n                \\\"dropoff_longitude\\\",\\n                \\\"dropoff_latitude\\\",\\n                \\\"tip_amount\\\",\\n            ]\\n        ]\\n\\n    else:\\n        raise (\\\"Dataset with unknown columns naming standard\\\")\\n\\n    # Drop out-off-region rows\\n    df = df.drop(\\n        df[\\n            (df.pickup_latitude > 40.908524)\\n            | (df.pickup_latitude < 40.560445)\\n            | (df.pickup_longitude > -73.717047)\\n            | (df.pickup_longitude < -74.242330)\\n            | (df.dropoff_latitude > 40.908524)\\n            | (df.dropoff_latitude < 40.560445)\\n            | (df.dropoff_longitude > -73.717047)\\n            | (df.dropoff_longitude < -74.242330)\\n        ].index\\n    )\\n\\n    # Convert pickup_datetime and dropoff_datetime to pandas DateTime\\n    df[\\\"pickup_datetime\\\"] = pd.to_datetime(df[\\\"pickup_datetime\\\"])\\n    df[\\\"dropoff_datetime\\\"] = pd.to_datetime(df[\\\"dropoff_datetime\\\"])\\n\\n    # Sampling:\\n    # sampling size = Uber data size / number of months of taxi datasets\\n    df = df.sample(n=int(195000 / 78))\\n\\n    return df.reset_index(drop=True)\";\n",
       "                var nbb_formatted_code = \"def get_and_clean_month_taxi_data(url):\\n    response = requests.get(url, stream=True)\\n    file_name = url.split(\\\"/\\\")[-1]\\n\\n    # Download file if it does not exist\\n    if not os.path.isfile(file_name):\\n        with open(file_name, \\\"wb\\\") as f:\\n            for chunk in response.iter_content(chunk_size=1024):\\n                if chunk:\\n                    f.write(chunk)\\n\\n    df = pd.read_parquet(file_name)\\n\\n    # There are three dataset types for taxi data\\n    # 1. Has location ID\\n    if \\\"PULocationID\\\" in df.columns:\\n        df = clean_taxi_data_with_locationId(df)\\n\\n    # 2. Column names with \\\"Start_Lon\\\", \\\"Start_Lat\\\", \\\"End_Lon\\\", \\\"End_Lat\\\"\\n    elif \\\"Start_Lon\\\" in df.columns:\\n        # Keep columns we need\\n        df = df[\\n            [\\n                \\\"Trip_Pickup_DateTime\\\",\\n                \\\"Trip_Dropoff_DateTime\\\",\\n                \\\"Start_Lon\\\",\\n                \\\"Start_Lat\\\",\\n                \\\"End_Lon\\\",\\n                \\\"End_Lat\\\",\\n                \\\"Tip_Amt\\\",\\n            ]\\n        ]\\n        # Normalize columns\\n        df = df.rename(\\n            columns={\\n                \\\"Trip_Pickup_DateTime\\\": \\\"pickup_datetime\\\",\\n                \\\"Trip_Dropoff_DateTime\\\": \\\"dropoff_datetime\\\",\\n                \\\"Start_Lon\\\": \\\"pickup_longitude\\\",\\n                \\\"Start_Lat\\\": \\\"pickup_latitude\\\",\\n                \\\"End_Lon\\\": \\\"dropoff_longitude\\\",\\n                \\\"End_Lat\\\": \\\"dropoff_latitude\\\",\\n                \\\"Tip_Amt\\\": \\\"tip_amount\\\",\\n            }\\n        )\\n\\n    # 3. Column names with \\\"pickup_datetime\\\" etc. which is our standard\\n    elif \\\"pickup_datetime\\\" in df.columns:\\n        # Keep columns we need\\n        df = df[\\n            [\\n                \\\"pickup_datetime\\\",\\n                \\\"dropoff_datetime\\\",\\n                \\\"pickup_longitude\\\",\\n                \\\"pickup_latitude\\\",\\n                \\\"dropoff_longitude\\\",\\n                \\\"dropoff_latitude\\\",\\n                \\\"tip_amount\\\",\\n            ]\\n        ]\\n\\n    else:\\n        raise (\\\"Dataset with unknown columns naming standard\\\")\\n\\n    # Drop out-off-region rows\\n    df = df.drop(\\n        df[\\n            (df.pickup_latitude > 40.908524)\\n            | (df.pickup_latitude < 40.560445)\\n            | (df.pickup_longitude > -73.717047)\\n            | (df.pickup_longitude < -74.242330)\\n            | (df.dropoff_latitude > 40.908524)\\n            | (df.dropoff_latitude < 40.560445)\\n            | (df.dropoff_longitude > -73.717047)\\n            | (df.dropoff_longitude < -74.242330)\\n        ].index\\n    )\\n\\n    # Convert pickup_datetime and dropoff_datetime to pandas DateTime\\n    df[\\\"pickup_datetime\\\"] = pd.to_datetime(df[\\\"pickup_datetime\\\"])\\n    df[\\\"dropoff_datetime\\\"] = pd.to_datetime(df[\\\"dropoff_datetime\\\"])\\n\\n    # Sampling:\\n    # sampling size = Uber data size / number of months of taxi datasets\\n    df = df.sample(n=int(195000 / 78))\\n\\n    return df.reset_index(drop=True)\";\n",
       "                var nbb_cells = Jupyter.notebook.get_cells();\n",
       "                for (var i = 0; i < nbb_cells.length; ++i) {\n",
       "                    if (nbb_cells[i].input_prompt_number == nbb_cell_id) {\n",
       "                        if (nbb_cells[i].get_text() == nbb_unformatted_code) {\n",
       "                             nbb_cells[i].set_text(nbb_formatted_code);\n",
       "                        }\n",
       "                        break;\n",
       "                    }\n",
       "                }\n",
       "            }, 500);\n",
       "            "
      ],
      "text/plain": [
       "<IPython.core.display.Javascript object>"
      ]
     },
     "metadata": {},
     "output_type": "display_data"
    }
   ],
   "source": [
    "def get_and_clean_month_taxi_data(url):\n",
    "    response = requests.get(url, stream=True)\n",
    "    file_name = url.split(\"/\")[-1]\n",
    "\n",
    "    # Download file if it does not exist\n",
    "    if not os.path.isfile(file_name):\n",
    "        with open(file_name, \"wb\") as f:\n",
    "            for chunk in response.iter_content(chunk_size=1024):\n",
    "                if chunk:\n",
    "                    f.write(chunk)\n",
    "\n",
    "    df = pd.read_parquet(file_name)\n",
    "\n",
    "    # There are three dataset types for taxi data\n",
    "    # 1. Has location ID\n",
    "    if \"PULocationID\" in df.columns:\n",
    "        df = clean_taxi_data_with_locationId(df)\n",
    "\n",
    "    # 2. Column names with \"Start_Lon\", \"Start_Lat\", \"End_Lon\", \"End_Lat\"\n",
    "    elif \"Start_Lon\" in df.columns:\n",
    "        # Keep columns we need\n",
    "        df = df[\n",
    "            [\n",
    "                \"Trip_Pickup_DateTime\",\n",
    "                \"Trip_Dropoff_DateTime\",\n",
    "                \"Start_Lon\",\n",
    "                \"Start_Lat\",\n",
    "                \"End_Lon\",\n",
    "                \"End_Lat\",\n",
    "                \"Tip_Amt\",\n",
    "            ]\n",
    "        ]\n",
    "        # Normalize columns\n",
    "        df = df.rename(\n",
    "            columns={\n",
    "                \"Trip_Pickup_DateTime\": \"pickup_datetime\",\n",
    "                \"Trip_Dropoff_DateTime\": \"dropoff_datetime\",\n",
    "                \"Start_Lon\": \"pickup_longitude\",\n",
    "                \"Start_Lat\": \"pickup_latitude\",\n",
    "                \"End_Lon\": \"dropoff_longitude\",\n",
    "                \"End_Lat\": \"dropoff_latitude\",\n",
    "                \"Tip_Amt\": \"tip_amount\",\n",
    "            }\n",
    "        )\n",
    "\n",
    "    # 3. Column names with \"pickup_datetime\" etc. which is our standard\n",
    "    elif \"pickup_datetime\" in df.columns:\n",
    "        # Keep columns we need\n",
    "        df = df[\n",
    "            [\n",
    "                \"pickup_datetime\",\n",
    "                \"dropoff_datetime\",\n",
    "                \"pickup_longitude\",\n",
    "                \"pickup_latitude\",\n",
    "                \"dropoff_longitude\",\n",
    "                \"dropoff_latitude\",\n",
    "                \"tip_amount\",\n",
    "            ]\n",
    "        ]\n",
    "\n",
    "    else:\n",
    "        raise (\"Dataset with unknown columns naming standard\")\n",
    "\n",
    "    # Drop out-off-region rows\n",
    "    df = df.drop(\n",
    "        df[\n",
    "            (df.pickup_latitude > 40.908524)\n",
    "            | (df.pickup_latitude < 40.560445)\n",
    "            | (df.pickup_longitude > -73.717047)\n",
    "            | (df.pickup_longitude < -74.242330)\n",
    "            | (df.dropoff_latitude > 40.908524)\n",
    "            | (df.dropoff_latitude < 40.560445)\n",
    "            | (df.dropoff_longitude > -73.717047)\n",
    "            | (df.dropoff_longitude < -74.242330)\n",
    "        ].index\n",
    "    )\n",
    "\n",
    "    # Convert pickup_datetime and dropoff_datetime to pandas DateTime\n",
    "    df[\"pickup_datetime\"] = pd.to_datetime(df[\"pickup_datetime\"])\n",
    "    df[\"dropoff_datetime\"] = pd.to_datetime(df[\"dropoff_datetime\"])\n",
    "\n",
    "    # Sampling:\n",
    "    # sampling size = Uber data size / number of months of taxi datasets\n",
    "    df = df.sample(n=int(195000 / 78))\n",
    "\n",
    "    return df.reset_index(drop=True)"
   ]
  },
  {
   "cell_type": "code",
   "execution_count": 91,
   "id": "cde7e8fa",
   "metadata": {},
   "outputs": [
    {
     "data": {
      "text/plain": [
       "False"
      ]
     },
     "execution_count": 91,
     "metadata": {},
     "output_type": "execute_result"
    },
    {
     "data": {
      "application/javascript": [
       "\n",
       "            setTimeout(function() {\n",
       "                var nbb_cell_id = 91;\n",
       "                var nbb_unformatted_code = \"os.path.isfile(\\\"yellow_tripdata_2013-05.parquet\\\")\\n# foo = get_and_clean_month_taxi_data(\\n#     \\\"https://d37ci6vzurychx.cloudfront.net/trip-data/yellow_tripdata_2010-01.parquet\\\"\\n# )\";\n",
       "                var nbb_formatted_code = \"os.path.isfile(\\\"yellow_tripdata_2013-05.parquet\\\")\\n# foo = get_and_clean_month_taxi_data(\\n#     \\\"https://d37ci6vzurychx.cloudfront.net/trip-data/yellow_tripdata_2010-01.parquet\\\"\\n# )\";\n",
       "                var nbb_cells = Jupyter.notebook.get_cells();\n",
       "                for (var i = 0; i < nbb_cells.length; ++i) {\n",
       "                    if (nbb_cells[i].input_prompt_number == nbb_cell_id) {\n",
       "                        if (nbb_cells[i].get_text() == nbb_unformatted_code) {\n",
       "                             nbb_cells[i].set_text(nbb_formatted_code);\n",
       "                        }\n",
       "                        break;\n",
       "                    }\n",
       "                }\n",
       "            }, 500);\n",
       "            "
      ],
      "text/plain": [
       "<IPython.core.display.Javascript object>"
      ]
     },
     "metadata": {},
     "output_type": "display_data"
    }
   ],
   "source": [
    "os.path.isfile(\"yellow_tripdata_2013-05.parquet\")\n",
    "# foo = get_and_clean_month_taxi_data(\n",
    "#     \"https://d37ci6vzurychx.cloudfront.net/trip-data/yellow_tripdata_2010-01.parquet\"\n",
    "# )"
   ]
  },
  {
   "cell_type": "code",
   "execution_count": 75,
   "id": "6421d079",
   "metadata": {},
   "outputs": [
    {
     "data": {
      "text/plain": [
       "pickup_datetime      datetime64[ns]\n",
       "dropoff_datetime     datetime64[ns]\n",
       "pickup_longitude            float64\n",
       "pickup_latitude             float64\n",
       "dropoff_longitude           float64\n",
       "dropoff_latitude            float64\n",
       "tip_amount                  float64\n",
       "dtype: object"
      ]
     },
     "execution_count": 75,
     "metadata": {},
     "output_type": "execute_result"
    },
    {
     "data": {
      "application/javascript": [
       "\n",
       "            setTimeout(function() {\n",
       "                var nbb_cell_id = 75;\n",
       "                var nbb_unformatted_code = \"foo.dtypes\";\n",
       "                var nbb_formatted_code = \"foo.dtypes\";\n",
       "                var nbb_cells = Jupyter.notebook.get_cells();\n",
       "                for (var i = 0; i < nbb_cells.length; ++i) {\n",
       "                    if (nbb_cells[i].input_prompt_number == nbb_cell_id) {\n",
       "                        if (nbb_cells[i].get_text() == nbb_unformatted_code) {\n",
       "                             nbb_cells[i].set_text(nbb_formatted_code);\n",
       "                        }\n",
       "                        break;\n",
       "                    }\n",
       "                }\n",
       "            }, 500);\n",
       "            "
      ],
      "text/plain": [
       "<IPython.core.display.Javascript object>"
      ]
     },
     "metadata": {},
     "output_type": "display_data"
    }
   ],
   "source": [
    "foo.dtypes"
   ]
  },
  {
   "cell_type": "code",
   "execution_count": 60,
   "id": "c667f2f0",
   "metadata": {},
   "outputs": [
    {
     "data": {
      "text/plain": [
       "2564"
      ]
     },
     "execution_count": 60,
     "metadata": {},
     "output_type": "execute_result"
    },
    {
     "data": {
      "application/javascript": [
       "\n",
       "            setTimeout(function() {\n",
       "                var nbb_cell_id = 60;\n",
       "                var nbb_unformatted_code = \"int(200000/78)\";\n",
       "                var nbb_formatted_code = \"int(200000 / 78)\";\n",
       "                var nbb_cells = Jupyter.notebook.get_cells();\n",
       "                for (var i = 0; i < nbb_cells.length; ++i) {\n",
       "                    if (nbb_cells[i].input_prompt_number == nbb_cell_id) {\n",
       "                        if (nbb_cells[i].get_text() == nbb_unformatted_code) {\n",
       "                             nbb_cells[i].set_text(nbb_formatted_code);\n",
       "                        }\n",
       "                        break;\n",
       "                    }\n",
       "                }\n",
       "            }, 500);\n",
       "            "
      ],
      "text/plain": [
       "<IPython.core.display.Javascript object>"
      ]
     },
     "metadata": {},
     "output_type": "display_data"
    }
   ],
   "source": [
    "int(200000 / 78)"
   ]
  },
  {
   "cell_type": "code",
   "execution_count": 185,
   "id": "35c9c0cd",
   "metadata": {},
   "outputs": [
    {
     "data": {
      "application/javascript": [
       "\n",
       "            setTimeout(function() {\n",
       "                var nbb_cell_id = 185;\n",
       "                var nbb_unformatted_code = \"def get_and_clean_taxi_data():\\n    all_taxi_dataframes = []\\n\\n    all_csv_urls = find_taxi_parquet_urls()\\n    for csv_url in all_csv_urls:\\n        # maybe: first try to see if you've downloaded this exact\\n        # file already and saved it before trying again\\n        dataframe = get_and_clean_month_taxi_data(csv_url)\\n        add_distance_column(dataframe)\\n        # maybe: if the file hasn't been saved, save it so you can\\n        # avoid re-downloading it if you re-run the function\\n\\n        all_taxi_dataframes.append(dataframe)\\n\\n    # create one gigantic dataframe with data from every month needed\\n    taxi_data = pd.concat(all_taxi_dataframes, ignore_index=True)\\n    return taxi_data\";\n",
       "                var nbb_formatted_code = \"def get_and_clean_taxi_data():\\n    all_taxi_dataframes = []\\n\\n    all_csv_urls = find_taxi_parquet_urls()\\n    for csv_url in all_csv_urls:\\n        # maybe: first try to see if you've downloaded this exact\\n        # file already and saved it before trying again\\n        dataframe = get_and_clean_month_taxi_data(csv_url)\\n        add_distance_column(dataframe)\\n        # maybe: if the file hasn't been saved, save it so you can\\n        # avoid re-downloading it if you re-run the function\\n\\n        all_taxi_dataframes.append(dataframe)\\n\\n    # create one gigantic dataframe with data from every month needed\\n    taxi_data = pd.concat(all_taxi_dataframes, ignore_index=True)\\n    return taxi_data\";\n",
       "                var nbb_cells = Jupyter.notebook.get_cells();\n",
       "                for (var i = 0; i < nbb_cells.length; ++i) {\n",
       "                    if (nbb_cells[i].input_prompt_number == nbb_cell_id) {\n",
       "                        if (nbb_cells[i].get_text() == nbb_unformatted_code) {\n",
       "                             nbb_cells[i].set_text(nbb_formatted_code);\n",
       "                        }\n",
       "                        break;\n",
       "                    }\n",
       "                }\n",
       "            }, 500);\n",
       "            "
      ],
      "text/plain": [
       "<IPython.core.display.Javascript object>"
      ]
     },
     "metadata": {},
     "output_type": "display_data"
    },
    {
     "data": {
      "application/javascript": [
       "\n",
       "            setTimeout(function() {\n",
       "                var nbb_cell_id = 185;\n",
       "                var nbb_unformatted_code = \"def get_and_clean_taxi_data():\\n    all_taxi_dataframes = []\\n\\n    all_csv_urls = find_taxi_parquet_urls()\\n    for csv_url in all_csv_urls:\\n        # maybe: first try to see if you've downloaded this exact\\n        # file already and saved it before trying again\\n        dataframe = get_and_clean_month_taxi_data(csv_url)\\n        add_distance_column(dataframe)\\n        # maybe: if the file hasn't been saved, save it so you can\\n        # avoid re-downloading it if you re-run the function\\n\\n        all_taxi_dataframes.append(dataframe)\\n\\n    # create one gigantic dataframe with data from every month needed\\n    taxi_data = pd.concat(all_taxi_dataframes, ignore_index=True)\\n    return taxi_data\";\n",
       "                var nbb_formatted_code = \"def get_and_clean_taxi_data():\\n    all_taxi_dataframes = []\\n\\n    all_csv_urls = find_taxi_parquet_urls()\\n    for csv_url in all_csv_urls:\\n        # maybe: first try to see if you've downloaded this exact\\n        # file already and saved it before trying again\\n        dataframe = get_and_clean_month_taxi_data(csv_url)\\n        add_distance_column(dataframe)\\n        # maybe: if the file hasn't been saved, save it so you can\\n        # avoid re-downloading it if you re-run the function\\n\\n        all_taxi_dataframes.append(dataframe)\\n\\n    # create one gigantic dataframe with data from every month needed\\n    taxi_data = pd.concat(all_taxi_dataframes, ignore_index=True)\\n    return taxi_data\";\n",
       "                var nbb_cells = Jupyter.notebook.get_cells();\n",
       "                for (var i = 0; i < nbb_cells.length; ++i) {\n",
       "                    if (nbb_cells[i].input_prompt_number == nbb_cell_id) {\n",
       "                        if (nbb_cells[i].get_text() == nbb_unformatted_code) {\n",
       "                             nbb_cells[i].set_text(nbb_formatted_code);\n",
       "                        }\n",
       "                        break;\n",
       "                    }\n",
       "                }\n",
       "            }, 500);\n",
       "            "
      ],
      "text/plain": [
       "<IPython.core.display.Javascript object>"
      ]
     },
     "metadata": {},
     "output_type": "display_data"
    }
   ],
   "source": [
    "def get_and_clean_taxi_data():\n",
    "    all_taxi_dataframes = []\n",
    "\n",
    "    all_csv_urls = find_taxi_parquet_urls()\n",
    "    for csv_url in all_csv_urls:\n",
    "        # maybe: first try to see if you've downloaded this exact\n",
    "        # file already and saved it before trying again\n",
    "        dataframe = get_and_clean_month_taxi_data(csv_url)\n",
    "        add_distance_column(dataframe)\n",
    "        # maybe: if the file hasn't been saved, save it so you can\n",
    "        # avoid re-downloading it if you re-run the function\n",
    "\n",
    "        all_taxi_dataframes.append(dataframe)\n",
    "\n",
    "    # create one gigantic dataframe with data from every month needed\n",
    "    taxi_data = pd.concat(all_taxi_dataframes, ignore_index=True)\n",
    "    return taxi_data"
   ]
  },
  {
   "cell_type": "code",
   "execution_count": 97,
   "id": "b337309b",
   "metadata": {},
   "outputs": [
    {
     "data": {
      "application/javascript": [
       "\n",
       "            setTimeout(function() {\n",
       "                var nbb_cell_id = 97;\n",
       "                var nbb_unformatted_code = \"taxi_data = get_and_clean_taxi_data()\";\n",
       "                var nbb_formatted_code = \"taxi_data = get_and_clean_taxi_data()\";\n",
       "                var nbb_cells = Jupyter.notebook.get_cells();\n",
       "                for (var i = 0; i < nbb_cells.length; ++i) {\n",
       "                    if (nbb_cells[i].input_prompt_number == nbb_cell_id) {\n",
       "                        if (nbb_cells[i].get_text() == nbb_unformatted_code) {\n",
       "                             nbb_cells[i].set_text(nbb_formatted_code);\n",
       "                        }\n",
       "                        break;\n",
       "                    }\n",
       "                }\n",
       "            }, 500);\n",
       "            "
      ],
      "text/plain": [
       "<IPython.core.display.Javascript object>"
      ]
     },
     "metadata": {},
     "output_type": "display_data"
    }
   ],
   "source": [
    "taxi_data = get_and_clean_taxi_data()"
   ]
  },
  {
   "cell_type": "code",
   "execution_count": 202,
   "id": "d6e91d29",
   "metadata": {},
   "outputs": [
    {
     "data": {
      "text/html": [
       "<div>\n",
       "<style scoped>\n",
       "    .dataframe tbody tr th:only-of-type {\n",
       "        vertical-align: middle;\n",
       "    }\n",
       "\n",
       "    .dataframe tbody tr th {\n",
       "        vertical-align: top;\n",
       "    }\n",
       "\n",
       "    .dataframe thead th {\n",
       "        text-align: right;\n",
       "    }\n",
       "</style>\n",
       "<table border=\"1\" class=\"dataframe\">\n",
       "  <thead>\n",
       "    <tr style=\"text-align: right;\">\n",
       "      <th></th>\n",
       "      <th>pickup_datetime</th>\n",
       "      <th>dropoff_datetime</th>\n",
       "      <th>tip_amount</th>\n",
       "      <th>pickup_latitude</th>\n",
       "      <th>pickup_longitude</th>\n",
       "      <th>dropoff_latitude</th>\n",
       "      <th>dropoff_longitude</th>\n",
       "      <th>distance</th>\n",
       "    </tr>\n",
       "  </thead>\n",
       "  <tbody>\n",
       "    <tr>\n",
       "      <th>0</th>\n",
       "      <td>2015-01-11 11:54:18</td>\n",
       "      <td>2015-01-11 12:09:33</td>\n",
       "      <td>2.65</td>\n",
       "      <td>NaN</td>\n",
       "      <td>NaN</td>\n",
       "      <td>40.748427</td>\n",
       "      <td>-73.999917</td>\n",
       "      <td>NaN</td>\n",
       "    </tr>\n",
       "    <tr>\n",
       "      <th>1</th>\n",
       "      <td>2015-01-09 01:09:39</td>\n",
       "      <td>2015-01-09 01:19:34</td>\n",
       "      <td>2.00</td>\n",
       "      <td>40.762252</td>\n",
       "      <td>-73.989844</td>\n",
       "      <td>40.728340</td>\n",
       "      <td>-73.997380</td>\n",
       "      <td>3.825</td>\n",
       "    </tr>\n",
       "    <tr>\n",
       "      <th>2</th>\n",
       "      <td>2015-01-08 23:54:59</td>\n",
       "      <td>2015-01-08 23:59:21</td>\n",
       "      <td>1.00</td>\n",
       "      <td>40.762252</td>\n",
       "      <td>-73.989844</td>\n",
       "      <td>40.753309</td>\n",
       "      <td>-74.004015</td>\n",
       "      <td>1.554</td>\n",
       "    </tr>\n",
       "    <tr>\n",
       "      <th>3</th>\n",
       "      <td>2015-01-31 23:48:22</td>\n",
       "      <td>2015-01-31 23:53:33</td>\n",
       "      <td>1.26</td>\n",
       "      <td>40.740438</td>\n",
       "      <td>-73.976495</td>\n",
       "      <td>40.736824</td>\n",
       "      <td>-73.984052</td>\n",
       "      <td>0.753</td>\n",
       "    </tr>\n",
       "    <tr>\n",
       "      <th>4</th>\n",
       "      <td>2015-01-24 22:07:10</td>\n",
       "      <td>2015-01-24 22:41:34</td>\n",
       "      <td>11.63</td>\n",
       "      <td>40.646984</td>\n",
       "      <td>-73.786533</td>\n",
       "      <td>40.753309</td>\n",
       "      <td>-74.004015</td>\n",
       "      <td>21.822</td>\n",
       "    </tr>\n",
       "    <tr>\n",
       "      <th>...</th>\n",
       "      <td>...</td>\n",
       "      <td>...</td>\n",
       "      <td>...</td>\n",
       "      <td>...</td>\n",
       "      <td>...</td>\n",
       "      <td>...</td>\n",
       "      <td>...</td>\n",
       "      <td>...</td>\n",
       "    </tr>\n",
       "    <tr>\n",
       "      <th>2495</th>\n",
       "      <td>2009-12-26 07:40:46</td>\n",
       "      <td>2009-12-26 07:46:35</td>\n",
       "      <td>0.00</td>\n",
       "      <td>40.759635</td>\n",
       "      <td>-73.970595</td>\n",
       "      <td>40.739741</td>\n",
       "      <td>-73.976257</td>\n",
       "      <td>2.264</td>\n",
       "    </tr>\n",
       "    <tr>\n",
       "      <th>2496</th>\n",
       "      <td>2009-12-15 19:07:41</td>\n",
       "      <td>2009-12-15 19:26:05</td>\n",
       "      <td>0.00</td>\n",
       "      <td>40.701749</td>\n",
       "      <td>-73.989617</td>\n",
       "      <td>40.672886</td>\n",
       "      <td>-73.962801</td>\n",
       "      <td>3.927</td>\n",
       "    </tr>\n",
       "    <tr>\n",
       "      <th>2497</th>\n",
       "      <td>2009-12-23 13:25:40</td>\n",
       "      <td>2009-12-23 13:32:27</td>\n",
       "      <td>0.00</td>\n",
       "      <td>40.779732</td>\n",
       "      <td>-73.982026</td>\n",
       "      <td>40.786822</td>\n",
       "      <td>-73.973100</td>\n",
       "      <td>1.090</td>\n",
       "    </tr>\n",
       "    <tr>\n",
       "      <th>2498</th>\n",
       "      <td>2009-12-07 21:45:51</td>\n",
       "      <td>2009-12-07 21:50:16</td>\n",
       "      <td>0.00</td>\n",
       "      <td>40.759860</td>\n",
       "      <td>-73.967791</td>\n",
       "      <td>40.774252</td>\n",
       "      <td>-73.963045</td>\n",
       "      <td>1.650</td>\n",
       "    </tr>\n",
       "    <tr>\n",
       "      <th>2499</th>\n",
       "      <td>2009-12-03 11:03:00</td>\n",
       "      <td>2009-12-03 11:12:00</td>\n",
       "      <td>0.00</td>\n",
       "      <td>40.780230</td>\n",
       "      <td>-73.946193</td>\n",
       "      <td>40.755222</td>\n",
       "      <td>-73.965113</td>\n",
       "      <td>3.206</td>\n",
       "    </tr>\n",
       "  </tbody>\n",
       "</table>\n",
       "<p>195000 rows × 8 columns</p>\n",
       "</div>"
      ],
      "text/plain": [
       "         pickup_datetime    dropoff_datetime  tip_amount  pickup_latitude  \\\n",
       "0    2015-01-11 11:54:18 2015-01-11 12:09:33        2.65              NaN   \n",
       "1    2015-01-09 01:09:39 2015-01-09 01:19:34        2.00        40.762252   \n",
       "2    2015-01-08 23:54:59 2015-01-08 23:59:21        1.00        40.762252   \n",
       "3    2015-01-31 23:48:22 2015-01-31 23:53:33        1.26        40.740438   \n",
       "4    2015-01-24 22:07:10 2015-01-24 22:41:34       11.63        40.646984   \n",
       "...                  ...                 ...         ...              ...   \n",
       "2495 2009-12-26 07:40:46 2009-12-26 07:46:35        0.00        40.759635   \n",
       "2496 2009-12-15 19:07:41 2009-12-15 19:26:05        0.00        40.701749   \n",
       "2497 2009-12-23 13:25:40 2009-12-23 13:32:27        0.00        40.779732   \n",
       "2498 2009-12-07 21:45:51 2009-12-07 21:50:16        0.00        40.759860   \n",
       "2499 2009-12-03 11:03:00 2009-12-03 11:12:00        0.00        40.780230   \n",
       "\n",
       "      pickup_longitude  dropoff_latitude  dropoff_longitude  distance  \n",
       "0                  NaN         40.748427         -73.999917       NaN  \n",
       "1           -73.989844         40.728340         -73.997380     3.825  \n",
       "2           -73.989844         40.753309         -74.004015     1.554  \n",
       "3           -73.976495         40.736824         -73.984052     0.753  \n",
       "4           -73.786533         40.753309         -74.004015    21.822  \n",
       "...                ...               ...                ...       ...  \n",
       "2495        -73.970595         40.739741         -73.976257     2.264  \n",
       "2496        -73.989617         40.672886         -73.962801     3.927  \n",
       "2497        -73.982026         40.786822         -73.973100     1.090  \n",
       "2498        -73.967791         40.774252         -73.963045     1.650  \n",
       "2499        -73.946193         40.755222         -73.965113     3.206  \n",
       "\n",
       "[195000 rows x 8 columns]"
      ]
     },
     "execution_count": 202,
     "metadata": {},
     "output_type": "execute_result"
    },
    {
     "data": {
      "application/javascript": [
       "\n",
       "            setTimeout(function() {\n",
       "                var nbb_cell_id = 202;\n",
       "                var nbb_unformatted_code = \"taxi_data\";\n",
       "                var nbb_formatted_code = \"taxi_data\";\n",
       "                var nbb_cells = Jupyter.notebook.get_cells();\n",
       "                for (var i = 0; i < nbb_cells.length; ++i) {\n",
       "                    if (nbb_cells[i].input_prompt_number == nbb_cell_id) {\n",
       "                        if (nbb_cells[i].get_text() == nbb_unformatted_code) {\n",
       "                             nbb_cells[i].set_text(nbb_formatted_code);\n",
       "                        }\n",
       "                        break;\n",
       "                    }\n",
       "                }\n",
       "            }, 500);\n",
       "            "
      ],
      "text/plain": [
       "<IPython.core.display.Javascript object>"
      ]
     },
     "metadata": {},
     "output_type": "display_data"
    },
    {
     "data": {
      "application/javascript": [
       "\n",
       "            setTimeout(function() {\n",
       "                var nbb_cell_id = 202;\n",
       "                var nbb_unformatted_code = \"taxi_data\";\n",
       "                var nbb_formatted_code = \"taxi_data\";\n",
       "                var nbb_cells = Jupyter.notebook.get_cells();\n",
       "                for (var i = 0; i < nbb_cells.length; ++i) {\n",
       "                    if (nbb_cells[i].input_prompt_number == nbb_cell_id) {\n",
       "                        if (nbb_cells[i].get_text() == nbb_unformatted_code) {\n",
       "                             nbb_cells[i].set_text(nbb_formatted_code);\n",
       "                        }\n",
       "                        break;\n",
       "                    }\n",
       "                }\n",
       "            }, 500);\n",
       "            "
      ],
      "text/plain": [
       "<IPython.core.display.Javascript object>"
      ]
     },
     "metadata": {},
     "output_type": "display_data"
    }
   ],
   "source": [
    "taxi_data"
   ]
  },
  {
   "cell_type": "markdown",
   "id": "094b4d6d",
   "metadata": {},
   "source": [
    "### Processing Uber Data\n",
    "\n",
    "_**TODO:** Write some prose that tells the reader what you're about to do here._"
   ]
  },
  {
   "cell_type": "code",
   "execution_count": 53,
   "id": "7c58e3a2",
   "metadata": {},
   "outputs": [
    {
     "data": {
      "application/javascript": [
       "\n",
       "            setTimeout(function() {\n",
       "                var nbb_cell_id = 53;\n",
       "                var nbb_unformatted_code = \"def load_and_clean_uber_data(csv_file):\\n    # Load and filter the columns\\n    df = pd.read_csv(\\n        csv_file,\\n        usecols=[\\n            \\\"pickup_datetime\\\",\\n            \\\"pickup_longitude\\\",\\n            \\\"pickup_latitude\\\",\\n            \\\"dropoff_longitude\\\",\\n            \\\"dropoff_latitude\\\",\\n        ],\\n    )\\n    \\n    # Drop out-off-region rows\\n    df = df.drop(\\n        df[\\n            (df.pickup_latitude > 40.908524)\\n            | (df.pickup_latitude < 40.560445)\\n            | (df.pickup_longitude > -73.717047)\\n            | (df.pickup_longitude < -74.242330)\\n            | (df.dropoff_latitude > 40.908524)\\n            | (df.dropoff_latitude < 40.560445)\\n            | (df.dropoff_longitude > -73.717047)\\n            | (df.dropoff_longitude < -74.242330)\\n        ].index\\n    )\\n    \\n    # Convert pickup_datetime column to pandas DateTime\\n    df[\\\"pickup_datetime\\\"] = pd.to_datetime(df[\\\"pickup_datetime\\\"])\\n    # Convert UTC to EST\\n    df[\\\"pickup_datetime\\\"] = df[\\\"pickup_datetime\\\"].dt.tz_convert(\\\"US/Eastern\\\")\\n    # Drop timezone suffix\\n    df[\\\"pickup_datetime\\\"] = df[\\\"pickup_datetime\\\"].dt.tz_localize(None)\\n\\n    return df\";\n",
       "                var nbb_formatted_code = \"def load_and_clean_uber_data(csv_file):\\n    # Load and filter the columns\\n    df = pd.read_csv(\\n        csv_file,\\n        usecols=[\\n            \\\"pickup_datetime\\\",\\n            \\\"pickup_longitude\\\",\\n            \\\"pickup_latitude\\\",\\n            \\\"dropoff_longitude\\\",\\n            \\\"dropoff_latitude\\\",\\n        ],\\n    )\\n\\n    # Drop out-off-region rows\\n    df = df.drop(\\n        df[\\n            (df.pickup_latitude > 40.908524)\\n            | (df.pickup_latitude < 40.560445)\\n            | (df.pickup_longitude > -73.717047)\\n            | (df.pickup_longitude < -74.242330)\\n            | (df.dropoff_latitude > 40.908524)\\n            | (df.dropoff_latitude < 40.560445)\\n            | (df.dropoff_longitude > -73.717047)\\n            | (df.dropoff_longitude < -74.242330)\\n        ].index\\n    )\\n\\n    # Convert pickup_datetime column to pandas DateTime\\n    df[\\\"pickup_datetime\\\"] = pd.to_datetime(df[\\\"pickup_datetime\\\"])\\n    # Convert UTC to EST\\n    df[\\\"pickup_datetime\\\"] = df[\\\"pickup_datetime\\\"].dt.tz_convert(\\\"US/Eastern\\\")\\n    # Drop timezone suffix\\n    df[\\\"pickup_datetime\\\"] = df[\\\"pickup_datetime\\\"].dt.tz_localize(None)\\n\\n    return df\";\n",
       "                var nbb_cells = Jupyter.notebook.get_cells();\n",
       "                for (var i = 0; i < nbb_cells.length; ++i) {\n",
       "                    if (nbb_cells[i].input_prompt_number == nbb_cell_id) {\n",
       "                        if (nbb_cells[i].get_text() == nbb_unformatted_code) {\n",
       "                             nbb_cells[i].set_text(nbb_formatted_code);\n",
       "                        }\n",
       "                        break;\n",
       "                    }\n",
       "                }\n",
       "            }, 500);\n",
       "            "
      ],
      "text/plain": [
       "<IPython.core.display.Javascript object>"
      ]
     },
     "metadata": {},
     "output_type": "display_data"
    }
   ],
   "source": [
    "def load_and_clean_uber_data(csv_file):\n",
    "    # Load and filter the columns\n",
    "    df = pd.read_csv(\n",
    "        csv_file,\n",
    "        usecols=[\n",
    "            \"pickup_datetime\",\n",
    "            \"pickup_longitude\",\n",
    "            \"pickup_latitude\",\n",
    "            \"dropoff_longitude\",\n",
    "            \"dropoff_latitude\",\n",
    "        ],\n",
    "    )\n",
    "\n",
    "    # Drop out-off-region rows\n",
    "    df = df.drop(\n",
    "        df[\n",
    "            (df.pickup_latitude > 40.908524)\n",
    "            | (df.pickup_latitude < 40.560445)\n",
    "            | (df.pickup_longitude > -73.717047)\n",
    "            | (df.pickup_longitude < -74.242330)\n",
    "            | (df.dropoff_latitude > 40.908524)\n",
    "            | (df.dropoff_latitude < 40.560445)\n",
    "            | (df.dropoff_longitude > -73.717047)\n",
    "            | (df.dropoff_longitude < -74.242330)\n",
    "        ].index\n",
    "    )\n",
    "\n",
    "    # Convert pickup_datetime column to pandas DateTime\n",
    "    df[\"pickup_datetime\"] = pd.to_datetime(df[\"pickup_datetime\"])\n",
    "    # Convert UTC to EST\n",
    "    df[\"pickup_datetime\"] = df[\"pickup_datetime\"].dt.tz_convert(\"US/Eastern\")\n",
    "    # Drop timezone suffix\n",
    "    df[\"pickup_datetime\"] = df[\"pickup_datetime\"].dt.tz_localize(None)\n",
    "\n",
    "    return df"
   ]
  },
  {
   "cell_type": "code",
   "execution_count": 206,
   "id": "325104f3",
   "metadata": {},
   "outputs": [
    {
     "data": {
      "application/javascript": [
       "\n",
       "            setTimeout(function() {\n",
       "                var nbb_cell_id = 206;\n",
       "                var nbb_unformatted_code = \"# Test\\nfoo = load_and_clean_uber_data(UBER_CSV)\";\n",
       "                var nbb_formatted_code = \"# Test\\nfoo = load_and_clean_uber_data(UBER_CSV)\";\n",
       "                var nbb_cells = Jupyter.notebook.get_cells();\n",
       "                for (var i = 0; i < nbb_cells.length; ++i) {\n",
       "                    if (nbb_cells[i].input_prompt_number == nbb_cell_id) {\n",
       "                        if (nbb_cells[i].get_text() == nbb_unformatted_code) {\n",
       "                             nbb_cells[i].set_text(nbb_formatted_code);\n",
       "                        }\n",
       "                        break;\n",
       "                    }\n",
       "                }\n",
       "            }, 500);\n",
       "            "
      ],
      "text/plain": [
       "<IPython.core.display.Javascript object>"
      ]
     },
     "metadata": {},
     "output_type": "display_data"
    },
    {
     "data": {
      "application/javascript": [
       "\n",
       "            setTimeout(function() {\n",
       "                var nbb_cell_id = 206;\n",
       "                var nbb_unformatted_code = \"# Test\\nfoo = load_and_clean_uber_data(UBER_CSV)\";\n",
       "                var nbb_formatted_code = \"# Test\\nfoo = load_and_clean_uber_data(UBER_CSV)\";\n",
       "                var nbb_cells = Jupyter.notebook.get_cells();\n",
       "                for (var i = 0; i < nbb_cells.length; ++i) {\n",
       "                    if (nbb_cells[i].input_prompt_number == nbb_cell_id) {\n",
       "                        if (nbb_cells[i].get_text() == nbb_unformatted_code) {\n",
       "                             nbb_cells[i].set_text(nbb_formatted_code);\n",
       "                        }\n",
       "                        break;\n",
       "                    }\n",
       "                }\n",
       "            }, 500);\n",
       "            "
      ],
      "text/plain": [
       "<IPython.core.display.Javascript object>"
      ]
     },
     "metadata": {},
     "output_type": "display_data"
    }
   ],
   "source": [
    "# Test\n",
    "foo = load_and_clean_uber_data(UBER_CSV)"
   ]
  },
  {
   "cell_type": "code",
   "execution_count": 55,
   "id": "312d504d",
   "metadata": {},
   "outputs": [
    {
     "data": {
      "text/html": [
       "<div>\n",
       "<style scoped>\n",
       "    .dataframe tbody tr th:only-of-type {\n",
       "        vertical-align: middle;\n",
       "    }\n",
       "\n",
       "    .dataframe tbody tr th {\n",
       "        vertical-align: top;\n",
       "    }\n",
       "\n",
       "    .dataframe thead th {\n",
       "        text-align: right;\n",
       "    }\n",
       "</style>\n",
       "<table border=\"1\" class=\"dataframe\">\n",
       "  <thead>\n",
       "    <tr style=\"text-align: right;\">\n",
       "      <th></th>\n",
       "      <th>pickup_datetime</th>\n",
       "      <th>pickup_longitude</th>\n",
       "      <th>pickup_latitude</th>\n",
       "      <th>dropoff_longitude</th>\n",
       "      <th>dropoff_latitude</th>\n",
       "    </tr>\n",
       "  </thead>\n",
       "  <tbody>\n",
       "    <tr>\n",
       "      <th>0</th>\n",
       "      <td>2015-05-07 15:52:06</td>\n",
       "      <td>-73.999817</td>\n",
       "      <td>40.738354</td>\n",
       "      <td>-73.999512</td>\n",
       "      <td>40.723217</td>\n",
       "    </tr>\n",
       "    <tr>\n",
       "      <th>1</th>\n",
       "      <td>2009-07-17 16:04:56</td>\n",
       "      <td>-73.994355</td>\n",
       "      <td>40.728225</td>\n",
       "      <td>-73.994710</td>\n",
       "      <td>40.750325</td>\n",
       "    </tr>\n",
       "    <tr>\n",
       "      <th>2</th>\n",
       "      <td>2009-08-24 17:45:00</td>\n",
       "      <td>-74.005043</td>\n",
       "      <td>40.740770</td>\n",
       "      <td>-73.962565</td>\n",
       "      <td>40.772647</td>\n",
       "    </tr>\n",
       "    <tr>\n",
       "      <th>3</th>\n",
       "      <td>2009-06-26 04:22:21</td>\n",
       "      <td>-73.976124</td>\n",
       "      <td>40.790844</td>\n",
       "      <td>-73.965316</td>\n",
       "      <td>40.803349</td>\n",
       "    </tr>\n",
       "    <tr>\n",
       "      <th>4</th>\n",
       "      <td>2014-08-28 13:47:00</td>\n",
       "      <td>-73.925023</td>\n",
       "      <td>40.744085</td>\n",
       "      <td>-73.973082</td>\n",
       "      <td>40.761247</td>\n",
       "    </tr>\n",
       "    <tr>\n",
       "      <th>...</th>\n",
       "      <td>...</td>\n",
       "      <td>...</td>\n",
       "      <td>...</td>\n",
       "      <td>...</td>\n",
       "      <td>...</td>\n",
       "    </tr>\n",
       "    <tr>\n",
       "      <th>199995</th>\n",
       "      <td>2012-10-28 06:49:00</td>\n",
       "      <td>-73.987042</td>\n",
       "      <td>40.739367</td>\n",
       "      <td>-73.986525</td>\n",
       "      <td>40.740297</td>\n",
       "    </tr>\n",
       "    <tr>\n",
       "      <th>199996</th>\n",
       "      <td>2014-03-13 21:09:00</td>\n",
       "      <td>-73.984722</td>\n",
       "      <td>40.736837</td>\n",
       "      <td>-74.006672</td>\n",
       "      <td>40.739620</td>\n",
       "    </tr>\n",
       "    <tr>\n",
       "      <th>199997</th>\n",
       "      <td>2009-06-28 20:42:00</td>\n",
       "      <td>-73.986017</td>\n",
       "      <td>40.756487</td>\n",
       "      <td>-73.858957</td>\n",
       "      <td>40.692588</td>\n",
       "    </tr>\n",
       "    <tr>\n",
       "      <th>199998</th>\n",
       "      <td>2015-05-20 10:56:25</td>\n",
       "      <td>-73.997124</td>\n",
       "      <td>40.725452</td>\n",
       "      <td>-73.983215</td>\n",
       "      <td>40.695415</td>\n",
       "    </tr>\n",
       "    <tr>\n",
       "      <th>199999</th>\n",
       "      <td>2010-05-15 00:08:00</td>\n",
       "      <td>-73.984395</td>\n",
       "      <td>40.720077</td>\n",
       "      <td>-73.985508</td>\n",
       "      <td>40.768793</td>\n",
       "    </tr>\n",
       "  </tbody>\n",
       "</table>\n",
       "<p>195473 rows × 5 columns</p>\n",
       "</div>"
      ],
      "text/plain": [
       "           pickup_datetime  pickup_longitude  pickup_latitude  \\\n",
       "0      2015-05-07 15:52:06        -73.999817        40.738354   \n",
       "1      2009-07-17 16:04:56        -73.994355        40.728225   \n",
       "2      2009-08-24 17:45:00        -74.005043        40.740770   \n",
       "3      2009-06-26 04:22:21        -73.976124        40.790844   \n",
       "4      2014-08-28 13:47:00        -73.925023        40.744085   \n",
       "...                    ...               ...              ...   \n",
       "199995 2012-10-28 06:49:00        -73.987042        40.739367   \n",
       "199996 2014-03-13 21:09:00        -73.984722        40.736837   \n",
       "199997 2009-06-28 20:42:00        -73.986017        40.756487   \n",
       "199998 2015-05-20 10:56:25        -73.997124        40.725452   \n",
       "199999 2010-05-15 00:08:00        -73.984395        40.720077   \n",
       "\n",
       "        dropoff_longitude  dropoff_latitude  \n",
       "0              -73.999512         40.723217  \n",
       "1              -73.994710         40.750325  \n",
       "2              -73.962565         40.772647  \n",
       "3              -73.965316         40.803349  \n",
       "4              -73.973082         40.761247  \n",
       "...                   ...               ...  \n",
       "199995         -73.986525         40.740297  \n",
       "199996         -74.006672         40.739620  \n",
       "199997         -73.858957         40.692588  \n",
       "199998         -73.983215         40.695415  \n",
       "199999         -73.985508         40.768793  \n",
       "\n",
       "[195473 rows x 5 columns]"
      ]
     },
     "execution_count": 55,
     "metadata": {},
     "output_type": "execute_result"
    },
    {
     "data": {
      "application/javascript": [
       "\n",
       "            setTimeout(function() {\n",
       "                var nbb_cell_id = 55;\n",
       "                var nbb_unformatted_code = \"foo\\n# # Convert pickup_datetime to pandas DateTime\\n# df[\\\"pickup_datetime\\\"] = pd.to_datetime(df[\\\"pickup_datetime\\\"])\\n# # Convert UTC to EST\\n# df[\\\"pickup_datetime\\\"] = df[\\\"pickup_datetime\\\"].dt.tz_convert(\\\"US/Eastern\\\")\\n# # Drop timezone suffix\\n# df[\\\"pickup_datetime\\\"] = df[\\\"pickup_datetime\\\"].dt.tz_localize(None)\\n# # foo[\\\"pickup_datetime\\\"].dt.tz_localize(None)\";\n",
       "                var nbb_formatted_code = \"foo\\n# # Convert pickup_datetime to pandas DateTime\\n# df[\\\"pickup_datetime\\\"] = pd.to_datetime(df[\\\"pickup_datetime\\\"])\\n# # Convert UTC to EST\\n# df[\\\"pickup_datetime\\\"] = df[\\\"pickup_datetime\\\"].dt.tz_convert(\\\"US/Eastern\\\")\\n# # Drop timezone suffix\\n# df[\\\"pickup_datetime\\\"] = df[\\\"pickup_datetime\\\"].dt.tz_localize(None)\\n# # foo[\\\"pickup_datetime\\\"].dt.tz_localize(None)\";\n",
       "                var nbb_cells = Jupyter.notebook.get_cells();\n",
       "                for (var i = 0; i < nbb_cells.length; ++i) {\n",
       "                    if (nbb_cells[i].input_prompt_number == nbb_cell_id) {\n",
       "                        if (nbb_cells[i].get_text() == nbb_unformatted_code) {\n",
       "                             nbb_cells[i].set_text(nbb_formatted_code);\n",
       "                        }\n",
       "                        break;\n",
       "                    }\n",
       "                }\n",
       "            }, 500);\n",
       "            "
      ],
      "text/plain": [
       "<IPython.core.display.Javascript object>"
      ]
     },
     "metadata": {},
     "output_type": "display_data"
    }
   ],
   "source": [
    "foo\n",
    "# # Convert pickup_datetime to pandas DateTime\n",
    "# df[\"pickup_datetime\"] = pd.to_datetime(df[\"pickup_datetime\"])\n",
    "# # Convert UTC to EST\n",
    "# df[\"pickup_datetime\"] = df[\"pickup_datetime\"].dt.tz_convert(\"US/Eastern\")\n",
    "# # Drop timezone suffix\n",
    "# df[\"pickup_datetime\"] = df[\"pickup_datetime\"].dt.tz_localize(None)\n",
    "# # foo[\"pickup_datetime\"].dt.tz_localize(None)"
   ]
  },
  {
   "cell_type": "code",
   "execution_count": 21,
   "id": "99323c3d",
   "metadata": {},
   "outputs": [
    {
     "data": {
      "text/plain": [
       "pickup_datetime      datetime64[ns]\n",
       "pickup_longitude            float64\n",
       "pickup_latitude             float64\n",
       "dropoff_longitude           float64\n",
       "dropoff_latitude            float64\n",
       "dtype: object"
      ]
     },
     "execution_count": 21,
     "metadata": {},
     "output_type": "execute_result"
    },
    {
     "data": {
      "application/javascript": [
       "\n",
       "            setTimeout(function() {\n",
       "                var nbb_cell_id = 21;\n",
       "                var nbb_unformatted_code = \"df.dtypes\";\n",
       "                var nbb_formatted_code = \"df.dtypes\";\n",
       "                var nbb_cells = Jupyter.notebook.get_cells();\n",
       "                for (var i = 0; i < nbb_cells.length; ++i) {\n",
       "                    if (nbb_cells[i].input_prompt_number == nbb_cell_id) {\n",
       "                        if (nbb_cells[i].get_text() == nbb_unformatted_code) {\n",
       "                             nbb_cells[i].set_text(nbb_formatted_code);\n",
       "                        }\n",
       "                        break;\n",
       "                    }\n",
       "                }\n",
       "            }, 500);\n",
       "            "
      ],
      "text/plain": [
       "<IPython.core.display.Javascript object>"
      ]
     },
     "metadata": {},
     "output_type": "display_data"
    }
   ],
   "source": [
    "df.dtypes"
   ]
  },
  {
   "cell_type": "code",
   "execution_count": 109,
   "id": "f836f118",
   "metadata": {},
   "outputs": [
    {
     "data": {
      "application/javascript": [
       "\n",
       "            setTimeout(function() {\n",
       "                var nbb_cell_id = 109;\n",
       "                var nbb_unformatted_code = \"def get_uber_data():\\n    uber_dataframe = load_and_clean_uber_data(UBER_CSV)\\n    add_distance_column(uber_dataframe)\\n    return uber_dataframe\";\n",
       "                var nbb_formatted_code = \"def get_uber_data():\\n    uber_dataframe = load_and_clean_uber_data(UBER_CSV)\\n    add_distance_column(uber_dataframe)\\n    return uber_dataframe\";\n",
       "                var nbb_cells = Jupyter.notebook.get_cells();\n",
       "                for (var i = 0; i < nbb_cells.length; ++i) {\n",
       "                    if (nbb_cells[i].input_prompt_number == nbb_cell_id) {\n",
       "                        if (nbb_cells[i].get_text() == nbb_unformatted_code) {\n",
       "                             nbb_cells[i].set_text(nbb_formatted_code);\n",
       "                        }\n",
       "                        break;\n",
       "                    }\n",
       "                }\n",
       "            }, 500);\n",
       "            "
      ],
      "text/plain": [
       "<IPython.core.display.Javascript object>"
      ]
     },
     "metadata": {},
     "output_type": "display_data"
    },
    {
     "data": {
      "application/javascript": [
       "\n",
       "            setTimeout(function() {\n",
       "                var nbb_cell_id = 109;\n",
       "                var nbb_unformatted_code = \"def get_uber_data():\\n    uber_dataframe = load_and_clean_uber_data(UBER_CSV)\\n    add_distance_column(uber_dataframe)\\n    return uber_dataframe\";\n",
       "                var nbb_formatted_code = \"def get_uber_data():\\n    uber_dataframe = load_and_clean_uber_data(UBER_CSV)\\n    add_distance_column(uber_dataframe)\\n    return uber_dataframe\";\n",
       "                var nbb_cells = Jupyter.notebook.get_cells();\n",
       "                for (var i = 0; i < nbb_cells.length; ++i) {\n",
       "                    if (nbb_cells[i].input_prompt_number == nbb_cell_id) {\n",
       "                        if (nbb_cells[i].get_text() == nbb_unformatted_code) {\n",
       "                             nbb_cells[i].set_text(nbb_formatted_code);\n",
       "                        }\n",
       "                        break;\n",
       "                    }\n",
       "                }\n",
       "            }, 500);\n",
       "            "
      ],
      "text/plain": [
       "<IPython.core.display.Javascript object>"
      ]
     },
     "metadata": {},
     "output_type": "display_data"
    }
   ],
   "source": [
    "def get_uber_data():\n",
    "    uber_dataframe = load_and_clean_uber_data(UBER_CSV)\n",
    "    add_distance_column(uber_dataframe)\n",
    "    return uber_dataframe"
   ]
  },
  {
   "cell_type": "code",
   "execution_count": 110,
   "id": "b400ff76",
   "metadata": {},
   "outputs": [
    {
     "data": {
      "application/javascript": [
       "\n",
       "            setTimeout(function() {\n",
       "                var nbb_cell_id = 110;\n",
       "                var nbb_unformatted_code = \"uber_data = get_uber_data()\";\n",
       "                var nbb_formatted_code = \"uber_data = get_uber_data()\";\n",
       "                var nbb_cells = Jupyter.notebook.get_cells();\n",
       "                for (var i = 0; i < nbb_cells.length; ++i) {\n",
       "                    if (nbb_cells[i].input_prompt_number == nbb_cell_id) {\n",
       "                        if (nbb_cells[i].get_text() == nbb_unformatted_code) {\n",
       "                             nbb_cells[i].set_text(nbb_formatted_code);\n",
       "                        }\n",
       "                        break;\n",
       "                    }\n",
       "                }\n",
       "            }, 500);\n",
       "            "
      ],
      "text/plain": [
       "<IPython.core.display.Javascript object>"
      ]
     },
     "metadata": {},
     "output_type": "display_data"
    },
    {
     "data": {
      "application/javascript": [
       "\n",
       "            setTimeout(function() {\n",
       "                var nbb_cell_id = 110;\n",
       "                var nbb_unformatted_code = \"uber_data = get_uber_data()\";\n",
       "                var nbb_formatted_code = \"uber_data = get_uber_data()\";\n",
       "                var nbb_cells = Jupyter.notebook.get_cells();\n",
       "                for (var i = 0; i < nbb_cells.length; ++i) {\n",
       "                    if (nbb_cells[i].input_prompt_number == nbb_cell_id) {\n",
       "                        if (nbb_cells[i].get_text() == nbb_unformatted_code) {\n",
       "                             nbb_cells[i].set_text(nbb_formatted_code);\n",
       "                        }\n",
       "                        break;\n",
       "                    }\n",
       "                }\n",
       "            }, 500);\n",
       "            "
      ],
      "text/plain": [
       "<IPython.core.display.Javascript object>"
      ]
     },
     "metadata": {},
     "output_type": "display_data"
    }
   ],
   "source": [
    "uber_data = get_uber_data()"
   ]
  },
  {
   "cell_type": "code",
   "execution_count": 111,
   "id": "7312711d",
   "metadata": {},
   "outputs": [
    {
     "data": {
      "text/html": [
       "<div>\n",
       "<style scoped>\n",
       "    .dataframe tbody tr th:only-of-type {\n",
       "        vertical-align: middle;\n",
       "    }\n",
       "\n",
       "    .dataframe tbody tr th {\n",
       "        vertical-align: top;\n",
       "    }\n",
       "\n",
       "    .dataframe thead th {\n",
       "        text-align: right;\n",
       "    }\n",
       "</style>\n",
       "<table border=\"1\" class=\"dataframe\">\n",
       "  <thead>\n",
       "    <tr style=\"text-align: right;\">\n",
       "      <th></th>\n",
       "      <th>pickup_datetime</th>\n",
       "      <th>pickup_longitude</th>\n",
       "      <th>pickup_latitude</th>\n",
       "      <th>dropoff_longitude</th>\n",
       "      <th>dropoff_latitude</th>\n",
       "      <th>distance</th>\n",
       "    </tr>\n",
       "  </thead>\n",
       "  <tbody>\n",
       "    <tr>\n",
       "      <th>0</th>\n",
       "      <td>2015-05-07 15:52:06</td>\n",
       "      <td>-73.999817</td>\n",
       "      <td>40.738354</td>\n",
       "      <td>-73.999512</td>\n",
       "      <td>40.723217</td>\n",
       "      <td>1.684</td>\n",
       "    </tr>\n",
       "    <tr>\n",
       "      <th>1</th>\n",
       "      <td>2009-07-17 16:04:56</td>\n",
       "      <td>-73.994355</td>\n",
       "      <td>40.728225</td>\n",
       "      <td>-73.994710</td>\n",
       "      <td>40.750325</td>\n",
       "      <td>2.458</td>\n",
       "    </tr>\n",
       "    <tr>\n",
       "      <th>2</th>\n",
       "      <td>2009-08-24 17:45:00</td>\n",
       "      <td>-74.005043</td>\n",
       "      <td>40.740770</td>\n",
       "      <td>-73.962565</td>\n",
       "      <td>40.772647</td>\n",
       "      <td>5.038</td>\n",
       "    </tr>\n",
       "    <tr>\n",
       "      <th>3</th>\n",
       "      <td>2009-06-26 04:22:21</td>\n",
       "      <td>-73.976124</td>\n",
       "      <td>40.790844</td>\n",
       "      <td>-73.965316</td>\n",
       "      <td>40.803349</td>\n",
       "      <td>1.662</td>\n",
       "    </tr>\n",
       "    <tr>\n",
       "      <th>4</th>\n",
       "      <td>2014-08-28 13:47:00</td>\n",
       "      <td>-73.925023</td>\n",
       "      <td>40.744085</td>\n",
       "      <td>-73.973082</td>\n",
       "      <td>40.761247</td>\n",
       "      <td>4.477</td>\n",
       "    </tr>\n",
       "    <tr>\n",
       "      <th>...</th>\n",
       "      <td>...</td>\n",
       "      <td>...</td>\n",
       "      <td>...</td>\n",
       "      <td>...</td>\n",
       "      <td>...</td>\n",
       "      <td>...</td>\n",
       "    </tr>\n",
       "    <tr>\n",
       "      <th>199995</th>\n",
       "      <td>2012-10-28 06:49:00</td>\n",
       "      <td>-73.987042</td>\n",
       "      <td>40.739367</td>\n",
       "      <td>-73.986525</td>\n",
       "      <td>40.740297</td>\n",
       "      <td>0.112</td>\n",
       "    </tr>\n",
       "    <tr>\n",
       "      <th>199996</th>\n",
       "      <td>2014-03-13 21:09:00</td>\n",
       "      <td>-73.984722</td>\n",
       "      <td>40.736837</td>\n",
       "      <td>-74.006672</td>\n",
       "      <td>40.739620</td>\n",
       "      <td>1.876</td>\n",
       "    </tr>\n",
       "    <tr>\n",
       "      <th>199997</th>\n",
       "      <td>2009-06-28 20:42:00</td>\n",
       "      <td>-73.986017</td>\n",
       "      <td>40.756487</td>\n",
       "      <td>-73.858957</td>\n",
       "      <td>40.692588</td>\n",
       "      <td>12.854</td>\n",
       "    </tr>\n",
       "    <tr>\n",
       "      <th>199998</th>\n",
       "      <td>2015-05-20 10:56:25</td>\n",
       "      <td>-73.997124</td>\n",
       "      <td>40.725452</td>\n",
       "      <td>-73.983215</td>\n",
       "      <td>40.695415</td>\n",
       "      <td>3.541</td>\n",
       "    </tr>\n",
       "    <tr>\n",
       "      <th>199999</th>\n",
       "      <td>2010-05-15 00:08:00</td>\n",
       "      <td>-73.984395</td>\n",
       "      <td>40.720077</td>\n",
       "      <td>-73.985508</td>\n",
       "      <td>40.768793</td>\n",
       "      <td>5.419</td>\n",
       "    </tr>\n",
       "  </tbody>\n",
       "</table>\n",
       "<p>195473 rows × 6 columns</p>\n",
       "</div>"
      ],
      "text/plain": [
       "           pickup_datetime  pickup_longitude  pickup_latitude  \\\n",
       "0      2015-05-07 15:52:06        -73.999817        40.738354   \n",
       "1      2009-07-17 16:04:56        -73.994355        40.728225   \n",
       "2      2009-08-24 17:45:00        -74.005043        40.740770   \n",
       "3      2009-06-26 04:22:21        -73.976124        40.790844   \n",
       "4      2014-08-28 13:47:00        -73.925023        40.744085   \n",
       "...                    ...               ...              ...   \n",
       "199995 2012-10-28 06:49:00        -73.987042        40.739367   \n",
       "199996 2014-03-13 21:09:00        -73.984722        40.736837   \n",
       "199997 2009-06-28 20:42:00        -73.986017        40.756487   \n",
       "199998 2015-05-20 10:56:25        -73.997124        40.725452   \n",
       "199999 2010-05-15 00:08:00        -73.984395        40.720077   \n",
       "\n",
       "        dropoff_longitude  dropoff_latitude  distance  \n",
       "0              -73.999512         40.723217     1.684  \n",
       "1              -73.994710         40.750325     2.458  \n",
       "2              -73.962565         40.772647     5.038  \n",
       "3              -73.965316         40.803349     1.662  \n",
       "4              -73.973082         40.761247     4.477  \n",
       "...                   ...               ...       ...  \n",
       "199995         -73.986525         40.740297     0.112  \n",
       "199996         -74.006672         40.739620     1.876  \n",
       "199997         -73.858957         40.692588    12.854  \n",
       "199998         -73.983215         40.695415     3.541  \n",
       "199999         -73.985508         40.768793     5.419  \n",
       "\n",
       "[195473 rows x 6 columns]"
      ]
     },
     "execution_count": 111,
     "metadata": {},
     "output_type": "execute_result"
    },
    {
     "data": {
      "application/javascript": [
       "\n",
       "            setTimeout(function() {\n",
       "                var nbb_cell_id = 111;\n",
       "                var nbb_unformatted_code = \"uber_data\";\n",
       "                var nbb_formatted_code = \"uber_data\";\n",
       "                var nbb_cells = Jupyter.notebook.get_cells();\n",
       "                for (var i = 0; i < nbb_cells.length; ++i) {\n",
       "                    if (nbb_cells[i].input_prompt_number == nbb_cell_id) {\n",
       "                        if (nbb_cells[i].get_text() == nbb_unformatted_code) {\n",
       "                             nbb_cells[i].set_text(nbb_formatted_code);\n",
       "                        }\n",
       "                        break;\n",
       "                    }\n",
       "                }\n",
       "            }, 500);\n",
       "            "
      ],
      "text/plain": [
       "<IPython.core.display.Javascript object>"
      ]
     },
     "metadata": {},
     "output_type": "display_data"
    },
    {
     "data": {
      "application/javascript": [
       "\n",
       "            setTimeout(function() {\n",
       "                var nbb_cell_id = 111;\n",
       "                var nbb_unformatted_code = \"uber_data\";\n",
       "                var nbb_formatted_code = \"uber_data\";\n",
       "                var nbb_cells = Jupyter.notebook.get_cells();\n",
       "                for (var i = 0; i < nbb_cells.length; ++i) {\n",
       "                    if (nbb_cells[i].input_prompt_number == nbb_cell_id) {\n",
       "                        if (nbb_cells[i].get_text() == nbb_unformatted_code) {\n",
       "                             nbb_cells[i].set_text(nbb_formatted_code);\n",
       "                        }\n",
       "                        break;\n",
       "                    }\n",
       "                }\n",
       "            }, 500);\n",
       "            "
      ],
      "text/plain": [
       "<IPython.core.display.Javascript object>"
      ]
     },
     "metadata": {},
     "output_type": "display_data"
    }
   ],
   "source": [
    "uber_data"
   ]
  },
  {
   "cell_type": "markdown",
   "id": "45a15cbb",
   "metadata": {},
   "source": [
    "### Processing Weather Data\n",
    "\n",
    "_**TODO:** Write some prose that tells the reader what you're about to do here._"
   ]
  },
  {
   "cell_type": "code",
   "execution_count": 115,
   "id": "76e864ab",
   "metadata": {},
   "outputs": [
    {
     "data": {
      "application/javascript": [
       "\n",
       "            setTimeout(function() {\n",
       "                var nbb_cell_id = 115;\n",
       "                var nbb_unformatted_code = \"weather_csv_files = [\\n    \\\"2009_weather.csv\\\",\\n    \\\"2010_weather.csv\\\",\\n    \\\"2011_weather.csv\\\",\\n    \\\"2012_weather.csv\\\",\\n    \\\"2013_weather.csv\\\",\\n    \\\"2014_weather.csv\\\",\\n    \\\"2015_weather.csv\\\",\\n]\\n\\ncolumns_needed_daily = [\\n    \\\"DATE\\\", \\\"DailyAverageWindSpeed\\\"\\n]\\n\\ncolumns_needed_hourly = [\\n    \\\"DATE\\\", \\\"HourlyPrecipitation\\\", \\\"HourlyWindSpeed\\\"\\n]\\n\\ndef clean_month_weather_data_hourly(csv_file):\\n    return \\\"test\\\"\";\n",
       "                var nbb_formatted_code = \"weather_csv_files = [\\n    \\\"2009_weather.csv\\\",\\n    \\\"2010_weather.csv\\\",\\n    \\\"2011_weather.csv\\\",\\n    \\\"2012_weather.csv\\\",\\n    \\\"2013_weather.csv\\\",\\n    \\\"2014_weather.csv\\\",\\n    \\\"2015_weather.csv\\\",\\n]\\n\\ncolumns_needed_daily = [\\\"DATE\\\", \\\"DailyAverageWindSpeed\\\"]\\n\\ncolumns_needed_hourly = [\\\"DATE\\\", \\\"HourlyPrecipitation\\\", \\\"HourlyWindSpeed\\\"]\\n\\n\\ndef clean_month_weather_data_hourly(csv_file):\\n    return \\\"test\\\"\";\n",
       "                var nbb_cells = Jupyter.notebook.get_cells();\n",
       "                for (var i = 0; i < nbb_cells.length; ++i) {\n",
       "                    if (nbb_cells[i].input_prompt_number == nbb_cell_id) {\n",
       "                        if (nbb_cells[i].get_text() == nbb_unformatted_code) {\n",
       "                             nbb_cells[i].set_text(nbb_formatted_code);\n",
       "                        }\n",
       "                        break;\n",
       "                    }\n",
       "                }\n",
       "            }, 500);\n",
       "            "
      ],
      "text/plain": [
       "<IPython.core.display.Javascript object>"
      ]
     },
     "metadata": {},
     "output_type": "display_data"
    },
    {
     "data": {
      "application/javascript": [
       "\n",
       "            setTimeout(function() {\n",
       "                var nbb_cell_id = 115;\n",
       "                var nbb_unformatted_code = \"weather_csv_files = [\\n    \\\"2009_weather.csv\\\",\\n    \\\"2010_weather.csv\\\",\\n    \\\"2011_weather.csv\\\",\\n    \\\"2012_weather.csv\\\",\\n    \\\"2013_weather.csv\\\",\\n    \\\"2014_weather.csv\\\",\\n    \\\"2015_weather.csv\\\",\\n]\\n\\ncolumns_needed_daily = [\\n    \\\"DATE\\\", \\\"DailyAverageWindSpeed\\\"\\n]\\n\\ncolumns_needed_hourly = [\\n    \\\"DATE\\\", \\\"HourlyPrecipitation\\\", \\\"HourlyWindSpeed\\\"\\n]\\n\\ndef clean_month_weather_data_hourly(csv_file):\\n    return \\\"test\\\"\";\n",
       "                var nbb_formatted_code = \"weather_csv_files = [\\n    \\\"2009_weather.csv\\\",\\n    \\\"2010_weather.csv\\\",\\n    \\\"2011_weather.csv\\\",\\n    \\\"2012_weather.csv\\\",\\n    \\\"2013_weather.csv\\\",\\n    \\\"2014_weather.csv\\\",\\n    \\\"2015_weather.csv\\\",\\n]\\n\\ncolumns_needed_daily = [\\\"DATE\\\", \\\"DailyAverageWindSpeed\\\"]\\n\\ncolumns_needed_hourly = [\\\"DATE\\\", \\\"HourlyPrecipitation\\\", \\\"HourlyWindSpeed\\\"]\\n\\n\\ndef clean_month_weather_data_hourly(csv_file):\\n    return \\\"test\\\"\";\n",
       "                var nbb_cells = Jupyter.notebook.get_cells();\n",
       "                for (var i = 0; i < nbb_cells.length; ++i) {\n",
       "                    if (nbb_cells[i].input_prompt_number == nbb_cell_id) {\n",
       "                        if (nbb_cells[i].get_text() == nbb_unformatted_code) {\n",
       "                             nbb_cells[i].set_text(nbb_formatted_code);\n",
       "                        }\n",
       "                        break;\n",
       "                    }\n",
       "                }\n",
       "            }, 500);\n",
       "            "
      ],
      "text/plain": [
       "<IPython.core.display.Javascript object>"
      ]
     },
     "metadata": {},
     "output_type": "display_data"
    }
   ],
   "source": [
    "# Test\n",
    "\n",
    "columns_needed_daily = [\"DATE\", \"DailyAverageWindSpeed\", \"REPORT_TYPE\"]\n",
    "\n",
    "columns_needed_hourly = [\"DATE\", \"HourlyPrecipitation\", \"HourlyWindSpeed\"]"
   ]
  },
  {
   "cell_type": "code",
   "execution_count": 176,
   "id": "c42db492",
   "metadata": {},
   "outputs": [
    {
     "data": {
      "application/javascript": [
       "\n",
       "            setTimeout(function() {\n",
       "                var nbb_cell_id = 176;\n",
       "                var nbb_unformatted_code = \"def clean_month_weather_data_hourly(csv_file):\\n    df = pd.read_csv(\\n        csv_file,\\n        usecols=[\\n            \\\"DATE\\\",\\n            \\\"HourlyPrecipitation\\\",\\n            \\\"HourlyWindSpeed\\\",\\n        ],\\n    )\\n    # Convert column to DataTime\\n    df[\\\"DATE\\\"] = pd.to_datetime(df[\\\"DATE\\\"])\\n    # Extract rows that has minute as 51\\n    df = df.loc[df[\\\"DATE\\\"].apply(lambda x: x.minute) == 51]\\n    # Replace NaN as 0 for HourlyPrecipitation\\n    # df[[\\\"HourlyPrecipitation\\\"]] = df[[\\\"HourlyPrecipitation\\\"]].fillna(0)\\n    return df\";\n",
       "                var nbb_formatted_code = \"def clean_month_weather_data_hourly(csv_file):\\n    df = pd.read_csv(\\n        csv_file,\\n        usecols=[\\n            \\\"DATE\\\",\\n            \\\"HourlyPrecipitation\\\",\\n            \\\"HourlyWindSpeed\\\",\\n        ],\\n    )\\n    # Convert column to DataTime\\n    df[\\\"DATE\\\"] = pd.to_datetime(df[\\\"DATE\\\"])\\n    # Extract rows that has minute as 51\\n    df = df.loc[df[\\\"DATE\\\"].apply(lambda x: x.minute) == 51]\\n    # Replace NaN as 0 for HourlyPrecipitation\\n    # df[[\\\"HourlyPrecipitation\\\"]] = df[[\\\"HourlyPrecipitation\\\"]].fillna(0)\\n    return df\";\n",
       "                var nbb_cells = Jupyter.notebook.get_cells();\n",
       "                for (var i = 0; i < nbb_cells.length; ++i) {\n",
       "                    if (nbb_cells[i].input_prompt_number == nbb_cell_id) {\n",
       "                        if (nbb_cells[i].get_text() == nbb_unformatted_code) {\n",
       "                             nbb_cells[i].set_text(nbb_formatted_code);\n",
       "                        }\n",
       "                        break;\n",
       "                    }\n",
       "                }\n",
       "            }, 500);\n",
       "            "
      ],
      "text/plain": [
       "<IPython.core.display.Javascript object>"
      ]
     },
     "metadata": {},
     "output_type": "display_data"
    },
    {
     "data": {
      "application/javascript": [
       "\n",
       "            setTimeout(function() {\n",
       "                var nbb_cell_id = 176;\n",
       "                var nbb_unformatted_code = \"def clean_month_weather_data_hourly(csv_file):\\n    df = pd.read_csv(\\n        csv_file,\\n        usecols=[\\n            \\\"DATE\\\",\\n            \\\"HourlyPrecipitation\\\",\\n            \\\"HourlyWindSpeed\\\",\\n        ],\\n    )\\n    # Convert column to DataTime\\n    df[\\\"DATE\\\"] = pd.to_datetime(df[\\\"DATE\\\"])\\n    # Extract rows that has minute as 51\\n    df = df.loc[df[\\\"DATE\\\"].apply(lambda x: x.minute) == 51]\\n    # Replace NaN as 0 for HourlyPrecipitation\\n    # df[[\\\"HourlyPrecipitation\\\"]] = df[[\\\"HourlyPrecipitation\\\"]].fillna(0)\\n    return df\";\n",
       "                var nbb_formatted_code = \"def clean_month_weather_data_hourly(csv_file):\\n    df = pd.read_csv(\\n        csv_file,\\n        usecols=[\\n            \\\"DATE\\\",\\n            \\\"HourlyPrecipitation\\\",\\n            \\\"HourlyWindSpeed\\\",\\n        ],\\n    )\\n    # Convert column to DataTime\\n    df[\\\"DATE\\\"] = pd.to_datetime(df[\\\"DATE\\\"])\\n    # Extract rows that has minute as 51\\n    df = df.loc[df[\\\"DATE\\\"].apply(lambda x: x.minute) == 51]\\n    # Replace NaN as 0 for HourlyPrecipitation\\n    # df[[\\\"HourlyPrecipitation\\\"]] = df[[\\\"HourlyPrecipitation\\\"]].fillna(0)\\n    return df\";\n",
       "                var nbb_cells = Jupyter.notebook.get_cells();\n",
       "                for (var i = 0; i < nbb_cells.length; ++i) {\n",
       "                    if (nbb_cells[i].input_prompt_number == nbb_cell_id) {\n",
       "                        if (nbb_cells[i].get_text() == nbb_unformatted_code) {\n",
       "                             nbb_cells[i].set_text(nbb_formatted_code);\n",
       "                        }\n",
       "                        break;\n",
       "                    }\n",
       "                }\n",
       "            }, 500);\n",
       "            "
      ],
      "text/plain": [
       "<IPython.core.display.Javascript object>"
      ]
     },
     "metadata": {},
     "output_type": "display_data"
    }
   ],
   "source": [
    "def clean_month_weather_data_hourly(csv_file):\n",
    "    df = pd.read_csv(\n",
    "        csv_file,\n",
    "        usecols=[\n",
    "            \"DATE\",\n",
    "            \"HourlyPrecipitation\",\n",
    "            \"HourlyWindSpeed\",\n",
    "        ],\n",
    "    )\n",
    "    # Convert column to DataTime\n",
    "    df[\"DATE\"] = pd.to_datetime(df[\"DATE\"])\n",
    "    # Extract rows that has minute as 51\n",
    "    df = df.loc[df[\"DATE\"].apply(lambda x: x.minute) == 51]\n",
    "    # Replace NaN as 0 for HourlyPrecipitation\n",
    "    # df[[\"HourlyPrecipitation\"]] = df[[\"HourlyPrecipitation\"]].fillna(0)\n",
    "    return df"
   ]
  },
  {
   "cell_type": "code",
   "execution_count": null,
   "id": "4e7a50ae",
   "metadata": {},
   "outputs": [],
   "source": [
    "# # Test\n",
    "# # hourly\n",
    "# df = pd.read_csv(\n",
    "#     \"2009_weather.csv\",\n",
    "#     usecols=[\n",
    "#         \"DATE\",\n",
    "#         \"REPORT_TYPE\",\n",
    "#         \"HourlyPrecipitation\",\n",
    "#         \"HourlyWindSpeed\",\n",
    "#         \"DailyAverageWindSpeed\",\n",
    "#     ],\n",
    "# )\n",
    "# # Conver column to DataTime\n",
    "# df[\"DATE\"] = pd.to_datetime(df[\"DATE\"])\n",
    "# # Extract rows that has minute as 51\n",
    "# df = df.loc[df[\"DATE\"].apply(lambda x: x.minute) == 51]\n",
    "\n",
    "# df = clean_month_weather_data_hourly(\"2010_weather.csv\")\n",
    "# df"
   ]
  },
  {
   "cell_type": "code",
   "execution_count": 177,
   "id": "0687581f",
   "metadata": {},
   "outputs": [
    {
     "data": {
      "application/javascript": [
       "\n",
       "            setTimeout(function() {\n",
       "                var nbb_cell_id = 177;\n",
       "                var nbb_unformatted_code = \"def clean_month_weather_data_daily(csv_file):\\n    df = pd.read_csv(\\n        csv_file,\\n        usecols=[\\n            \\\"DATE\\\",\\n            \\\"DailySustainedWindSpeed\\\",\\n            \\\"REPORT_TYPE\\\",\\n        ],\\n    )\\n    # Strip space in the REPORT_TYPE column\\n    df[\\\"REPORT_TYPE\\\"] = df[\\\"REPORT_TYPE\\\"].str.strip()\\n    # Extract rows that has REPORT_TYPE as SOD (Summary of Day Eeport)\\n    df = df.loc[df[\\\"REPORT_TYPE\\\"] == \\\"SOD\\\"]\\n    # Convert column to DataTime\\n    df[\\\"DATE\\\"] = pd.to_datetime(df[\\\"DATE\\\"])\\n    # Drop REPORT_TYPE column\\n    df = df.drop(columns=[\\\"REPORT_TYPE\\\"]).reset_index(drop=True)\\n    return df\";\n",
       "                var nbb_formatted_code = \"def clean_month_weather_data_daily(csv_file):\\n    df = pd.read_csv(\\n        csv_file,\\n        usecols=[\\n            \\\"DATE\\\",\\n            \\\"DailySustainedWindSpeed\\\",\\n            \\\"REPORT_TYPE\\\",\\n        ],\\n    )\\n    # Strip space in the REPORT_TYPE column\\n    df[\\\"REPORT_TYPE\\\"] = df[\\\"REPORT_TYPE\\\"].str.strip()\\n    # Extract rows that has REPORT_TYPE as SOD (Summary of Day Eeport)\\n    df = df.loc[df[\\\"REPORT_TYPE\\\"] == \\\"SOD\\\"]\\n    # Convert column to DataTime\\n    df[\\\"DATE\\\"] = pd.to_datetime(df[\\\"DATE\\\"])\\n    # Drop REPORT_TYPE column\\n    df = df.drop(columns=[\\\"REPORT_TYPE\\\"]).reset_index(drop=True)\\n    return df\";\n",
       "                var nbb_cells = Jupyter.notebook.get_cells();\n",
       "                for (var i = 0; i < nbb_cells.length; ++i) {\n",
       "                    if (nbb_cells[i].input_prompt_number == nbb_cell_id) {\n",
       "                        if (nbb_cells[i].get_text() == nbb_unformatted_code) {\n",
       "                             nbb_cells[i].set_text(nbb_formatted_code);\n",
       "                        }\n",
       "                        break;\n",
       "                    }\n",
       "                }\n",
       "            }, 500);\n",
       "            "
      ],
      "text/plain": [
       "<IPython.core.display.Javascript object>"
      ]
     },
     "metadata": {},
     "output_type": "display_data"
    },
    {
     "data": {
      "application/javascript": [
       "\n",
       "            setTimeout(function() {\n",
       "                var nbb_cell_id = 177;\n",
       "                var nbb_unformatted_code = \"def clean_month_weather_data_daily(csv_file):\\n    df = pd.read_csv(\\n        csv_file,\\n        usecols=[\\n            \\\"DATE\\\",\\n            \\\"DailySustainedWindSpeed\\\",\\n            \\\"REPORT_TYPE\\\",\\n        ],\\n    )\\n    # Strip space in the REPORT_TYPE column\\n    df[\\\"REPORT_TYPE\\\"] = df[\\\"REPORT_TYPE\\\"].str.strip()\\n    # Extract rows that has REPORT_TYPE as SOD (Summary of Day Eeport)\\n    df = df.loc[df[\\\"REPORT_TYPE\\\"] == \\\"SOD\\\"]\\n    # Convert column to DataTime\\n    df[\\\"DATE\\\"] = pd.to_datetime(df[\\\"DATE\\\"])\\n    # Drop REPORT_TYPE column\\n    df = df.drop(columns=[\\\"REPORT_TYPE\\\"]).reset_index(drop=True)\\n    return df\";\n",
       "                var nbb_formatted_code = \"def clean_month_weather_data_daily(csv_file):\\n    df = pd.read_csv(\\n        csv_file,\\n        usecols=[\\n            \\\"DATE\\\",\\n            \\\"DailySustainedWindSpeed\\\",\\n            \\\"REPORT_TYPE\\\",\\n        ],\\n    )\\n    # Strip space in the REPORT_TYPE column\\n    df[\\\"REPORT_TYPE\\\"] = df[\\\"REPORT_TYPE\\\"].str.strip()\\n    # Extract rows that has REPORT_TYPE as SOD (Summary of Day Eeport)\\n    df = df.loc[df[\\\"REPORT_TYPE\\\"] == \\\"SOD\\\"]\\n    # Convert column to DataTime\\n    df[\\\"DATE\\\"] = pd.to_datetime(df[\\\"DATE\\\"])\\n    # Drop REPORT_TYPE column\\n    df = df.drop(columns=[\\\"REPORT_TYPE\\\"]).reset_index(drop=True)\\n    return df\";\n",
       "                var nbb_cells = Jupyter.notebook.get_cells();\n",
       "                for (var i = 0; i < nbb_cells.length; ++i) {\n",
       "                    if (nbb_cells[i].input_prompt_number == nbb_cell_id) {\n",
       "                        if (nbb_cells[i].get_text() == nbb_unformatted_code) {\n",
       "                             nbb_cells[i].set_text(nbb_formatted_code);\n",
       "                        }\n",
       "                        break;\n",
       "                    }\n",
       "                }\n",
       "            }, 500);\n",
       "            "
      ],
      "text/plain": [
       "<IPython.core.display.Javascript object>"
      ]
     },
     "metadata": {},
     "output_type": "display_data"
    }
   ],
   "source": [
    "def clean_month_weather_data_daily(csv_file):\n",
    "    df = pd.read_csv(\n",
    "        csv_file,\n",
    "        usecols=[\n",
    "            \"DATE\",\n",
    "            \"DailySustainedWindSpeed\",\n",
    "            \"REPORT_TYPE\",\n",
    "        ],\n",
    "    )\n",
    "    # Strip space in the REPORT_TYPE column\n",
    "    df[\"REPORT_TYPE\"] = df[\"REPORT_TYPE\"].str.strip()\n",
    "    # Extract rows that has REPORT_TYPE as SOD (Summary of Day Eeport)\n",
    "    df = df.loc[df[\"REPORT_TYPE\"] == \"SOD\"]\n",
    "    # Convert column to DataTime\n",
    "    df[\"DATE\"] = pd.to_datetime(df[\"DATE\"])\n",
    "    # Drop REPORT_TYPE column\n",
    "    df = df.drop(columns=[\"REPORT_TYPE\"]).reset_index(drop=True)\n",
    "    return df"
   ]
  },
  {
   "cell_type": "code",
   "execution_count": 172,
   "id": "22010ca9",
   "metadata": {},
   "outputs": [
    {
     "data": {
      "text/html": [
       "<div>\n",
       "<style scoped>\n",
       "    .dataframe tbody tr th:only-of-type {\n",
       "        vertical-align: middle;\n",
       "    }\n",
       "\n",
       "    .dataframe tbody tr th {\n",
       "        vertical-align: top;\n",
       "    }\n",
       "\n",
       "    .dataframe thead th {\n",
       "        text-align: right;\n",
       "    }\n",
       "</style>\n",
       "<table border=\"1\" class=\"dataframe\">\n",
       "  <thead>\n",
       "    <tr style=\"text-align: right;\">\n",
       "      <th></th>\n",
       "      <th>DATE</th>\n",
       "      <th>DailySustainedWindSpeed</th>\n",
       "    </tr>\n",
       "  </thead>\n",
       "  <tbody>\n",
       "    <tr>\n",
       "      <th>0</th>\n",
       "      <td>2014-01-01 23:59:00</td>\n",
       "      <td>14.0</td>\n",
       "    </tr>\n",
       "    <tr>\n",
       "      <th>1</th>\n",
       "      <td>2014-01-02 23:59:00</td>\n",
       "      <td>21.0</td>\n",
       "    </tr>\n",
       "    <tr>\n",
       "      <th>2</th>\n",
       "      <td>2014-01-03 23:59:00</td>\n",
       "      <td>21.0</td>\n",
       "    </tr>\n",
       "    <tr>\n",
       "      <th>3</th>\n",
       "      <td>2014-01-04 23:59:00</td>\n",
       "      <td>9.0</td>\n",
       "    </tr>\n",
       "    <tr>\n",
       "      <th>4</th>\n",
       "      <td>2014-01-05 23:59:00</td>\n",
       "      <td>7.0</td>\n",
       "    </tr>\n",
       "    <tr>\n",
       "      <th>...</th>\n",
       "      <td>...</td>\n",
       "      <td>...</td>\n",
       "    </tr>\n",
       "    <tr>\n",
       "      <th>360</th>\n",
       "      <td>2014-12-27 23:59:00</td>\n",
       "      <td>14.0</td>\n",
       "    </tr>\n",
       "    <tr>\n",
       "      <th>361</th>\n",
       "      <td>2014-12-28 23:59:00</td>\n",
       "      <td>15.0</td>\n",
       "    </tr>\n",
       "    <tr>\n",
       "      <th>362</th>\n",
       "      <td>2014-12-29 23:59:00</td>\n",
       "      <td>15.0</td>\n",
       "    </tr>\n",
       "    <tr>\n",
       "      <th>363</th>\n",
       "      <td>2014-12-30 23:59:00</td>\n",
       "      <td>10.0</td>\n",
       "    </tr>\n",
       "    <tr>\n",
       "      <th>364</th>\n",
       "      <td>2014-12-31 23:59:00</td>\n",
       "      <td>14.0</td>\n",
       "    </tr>\n",
       "  </tbody>\n",
       "</table>\n",
       "<p>365 rows × 2 columns</p>\n",
       "</div>"
      ],
      "text/plain": [
       "                   DATE  DailySustainedWindSpeed\n",
       "0   2014-01-01 23:59:00                     14.0\n",
       "1   2014-01-02 23:59:00                     21.0\n",
       "2   2014-01-03 23:59:00                     21.0\n",
       "3   2014-01-04 23:59:00                      9.0\n",
       "4   2014-01-05 23:59:00                      7.0\n",
       "..                  ...                      ...\n",
       "360 2014-12-27 23:59:00                     14.0\n",
       "361 2014-12-28 23:59:00                     15.0\n",
       "362 2014-12-29 23:59:00                     15.0\n",
       "363 2014-12-30 23:59:00                     10.0\n",
       "364 2014-12-31 23:59:00                     14.0\n",
       "\n",
       "[365 rows x 2 columns]"
      ]
     },
     "execution_count": 172,
     "metadata": {},
     "output_type": "execute_result"
    },
    {
     "data": {
      "application/javascript": [
       "\n",
       "            setTimeout(function() {\n",
       "                var nbb_cell_id = 172;\n",
       "                var nbb_unformatted_code = \"# # Test\\n# # daily\\ndf = clean_month_weather_data_daily(\\\"2014_weather.csv\\\")\\ndf[df[\\\"DailySustainedWindSpeed\\\"].notnull()]\";\n",
       "                var nbb_formatted_code = \"# # Test\\n# # daily\\ndf = clean_month_weather_data_daily(\\\"2014_weather.csv\\\")\\ndf[df[\\\"DailySustainedWindSpeed\\\"].notnull()]\";\n",
       "                var nbb_cells = Jupyter.notebook.get_cells();\n",
       "                for (var i = 0; i < nbb_cells.length; ++i) {\n",
       "                    if (nbb_cells[i].input_prompt_number == nbb_cell_id) {\n",
       "                        if (nbb_cells[i].get_text() == nbb_unformatted_code) {\n",
       "                             nbb_cells[i].set_text(nbb_formatted_code);\n",
       "                        }\n",
       "                        break;\n",
       "                    }\n",
       "                }\n",
       "            }, 500);\n",
       "            "
      ],
      "text/plain": [
       "<IPython.core.display.Javascript object>"
      ]
     },
     "metadata": {},
     "output_type": "display_data"
    },
    {
     "data": {
      "application/javascript": [
       "\n",
       "            setTimeout(function() {\n",
       "                var nbb_cell_id = 172;\n",
       "                var nbb_unformatted_code = \"# # Test\\n# # daily\\ndf = clean_month_weather_data_daily(\\\"2014_weather.csv\\\")\\ndf[df[\\\"DailySustainedWindSpeed\\\"].notnull()]\";\n",
       "                var nbb_formatted_code = \"# # Test\\n# # daily\\ndf = clean_month_weather_data_daily(\\\"2014_weather.csv\\\")\\ndf[df[\\\"DailySustainedWindSpeed\\\"].notnull()]\";\n",
       "                var nbb_cells = Jupyter.notebook.get_cells();\n",
       "                for (var i = 0; i < nbb_cells.length; ++i) {\n",
       "                    if (nbb_cells[i].input_prompt_number == nbb_cell_id) {\n",
       "                        if (nbb_cells[i].get_text() == nbb_unformatted_code) {\n",
       "                             nbb_cells[i].set_text(nbb_formatted_code);\n",
       "                        }\n",
       "                        break;\n",
       "                    }\n",
       "                }\n",
       "            }, 500);\n",
       "            "
      ],
      "text/plain": [
       "<IPython.core.display.Javascript object>"
      ]
     },
     "metadata": {},
     "output_type": "display_data"
    }
   ],
   "source": [
    "# # Test\n",
    "# # daily\n",
    "df = clean_month_weather_data_daily(\"2014_weather.csv\")\n",
    "df"
   ]
  },
  {
   "cell_type": "code",
   "execution_count": 181,
   "id": "3ef8945d",
   "metadata": {},
   "outputs": [
    {
     "data": {
      "application/javascript": [
       "\n",
       "            setTimeout(function() {\n",
       "                var nbb_cell_id = 181;\n",
       "                var nbb_unformatted_code = \"def load_and_clean_weather_data():\\n    hourly_dataframes = []\\n    daily_dataframes = []\\n\\n    # add some way to find all weather CSV files\\n    # or just add the name/paths manually\\n    weather_csv_files = [\\n        \\\"2009_weather.csv\\\",\\n        \\\"2010_weather.csv\\\",\\n        \\\"2011_weather.csv\\\",\\n        \\\"2012_weather.csv\\\",\\n        \\\"2013_weather.csv\\\",\\n        \\\"2014_weather.csv\\\",\\n        \\\"2015_weather.csv\\\",\\n    ]\\n\\n    for csv_file in weather_csv_files:\\n        hourly_dataframe = clean_month_weather_data_hourly(csv_file)\\n        daily_dataframe = clean_month_weather_data_daily(csv_file)\\n        hourly_dataframes.append(hourly_dataframe)\\n        daily_dataframes.append(daily_dataframe)\\n\\n    # create two dataframes with hourly & daily data from every month\\n    hourly_data = pd.concat(hourly_dataframes, ignore_index=True)\\n    daily_data = pd.concat(daily_dataframes, ignore_index=True)\\n\\n    return hourly_data, daily_data\";\n",
       "                var nbb_formatted_code = \"def load_and_clean_weather_data():\\n    hourly_dataframes = []\\n    daily_dataframes = []\\n\\n    # add some way to find all weather CSV files\\n    # or just add the name/paths manually\\n    weather_csv_files = [\\n        \\\"2009_weather.csv\\\",\\n        \\\"2010_weather.csv\\\",\\n        \\\"2011_weather.csv\\\",\\n        \\\"2012_weather.csv\\\",\\n        \\\"2013_weather.csv\\\",\\n        \\\"2014_weather.csv\\\",\\n        \\\"2015_weather.csv\\\",\\n    ]\\n\\n    for csv_file in weather_csv_files:\\n        hourly_dataframe = clean_month_weather_data_hourly(csv_file)\\n        daily_dataframe = clean_month_weather_data_daily(csv_file)\\n        hourly_dataframes.append(hourly_dataframe)\\n        daily_dataframes.append(daily_dataframe)\\n\\n    # create two dataframes with hourly & daily data from every month\\n    hourly_data = pd.concat(hourly_dataframes, ignore_index=True)\\n    daily_data = pd.concat(daily_dataframes, ignore_index=True)\\n\\n    return hourly_data, daily_data\";\n",
       "                var nbb_cells = Jupyter.notebook.get_cells();\n",
       "                for (var i = 0; i < nbb_cells.length; ++i) {\n",
       "                    if (nbb_cells[i].input_prompt_number == nbb_cell_id) {\n",
       "                        if (nbb_cells[i].get_text() == nbb_unformatted_code) {\n",
       "                             nbb_cells[i].set_text(nbb_formatted_code);\n",
       "                        }\n",
       "                        break;\n",
       "                    }\n",
       "                }\n",
       "            }, 500);\n",
       "            "
      ],
      "text/plain": [
       "<IPython.core.display.Javascript object>"
      ]
     },
     "metadata": {},
     "output_type": "display_data"
    },
    {
     "data": {
      "application/javascript": [
       "\n",
       "            setTimeout(function() {\n",
       "                var nbb_cell_id = 181;\n",
       "                var nbb_unformatted_code = \"def load_and_clean_weather_data():\\n    hourly_dataframes = []\\n    daily_dataframes = []\\n\\n    # add some way to find all weather CSV files\\n    # or just add the name/paths manually\\n    weather_csv_files = [\\n        \\\"2009_weather.csv\\\",\\n        \\\"2010_weather.csv\\\",\\n        \\\"2011_weather.csv\\\",\\n        \\\"2012_weather.csv\\\",\\n        \\\"2013_weather.csv\\\",\\n        \\\"2014_weather.csv\\\",\\n        \\\"2015_weather.csv\\\",\\n    ]\\n\\n    for csv_file in weather_csv_files:\\n        hourly_dataframe = clean_month_weather_data_hourly(csv_file)\\n        daily_dataframe = clean_month_weather_data_daily(csv_file)\\n        hourly_dataframes.append(hourly_dataframe)\\n        daily_dataframes.append(daily_dataframe)\\n\\n    # create two dataframes with hourly & daily data from every month\\n    hourly_data = pd.concat(hourly_dataframes, ignore_index=True)\\n    daily_data = pd.concat(daily_dataframes, ignore_index=True)\\n\\n    return hourly_data, daily_data\";\n",
       "                var nbb_formatted_code = \"def load_and_clean_weather_data():\\n    hourly_dataframes = []\\n    daily_dataframes = []\\n\\n    # add some way to find all weather CSV files\\n    # or just add the name/paths manually\\n    weather_csv_files = [\\n        \\\"2009_weather.csv\\\",\\n        \\\"2010_weather.csv\\\",\\n        \\\"2011_weather.csv\\\",\\n        \\\"2012_weather.csv\\\",\\n        \\\"2013_weather.csv\\\",\\n        \\\"2014_weather.csv\\\",\\n        \\\"2015_weather.csv\\\",\\n    ]\\n\\n    for csv_file in weather_csv_files:\\n        hourly_dataframe = clean_month_weather_data_hourly(csv_file)\\n        daily_dataframe = clean_month_weather_data_daily(csv_file)\\n        hourly_dataframes.append(hourly_dataframe)\\n        daily_dataframes.append(daily_dataframe)\\n\\n    # create two dataframes with hourly & daily data from every month\\n    hourly_data = pd.concat(hourly_dataframes, ignore_index=True)\\n    daily_data = pd.concat(daily_dataframes, ignore_index=True)\\n\\n    return hourly_data, daily_data\";\n",
       "                var nbb_cells = Jupyter.notebook.get_cells();\n",
       "                for (var i = 0; i < nbb_cells.length; ++i) {\n",
       "                    if (nbb_cells[i].input_prompt_number == nbb_cell_id) {\n",
       "                        if (nbb_cells[i].get_text() == nbb_unformatted_code) {\n",
       "                             nbb_cells[i].set_text(nbb_formatted_code);\n",
       "                        }\n",
       "                        break;\n",
       "                    }\n",
       "                }\n",
       "            }, 500);\n",
       "            "
      ],
      "text/plain": [
       "<IPython.core.display.Javascript object>"
      ]
     },
     "metadata": {},
     "output_type": "display_data"
    }
   ],
   "source": [
    "def load_and_clean_weather_data():\n",
    "    hourly_dataframes = []\n",
    "    daily_dataframes = []\n",
    "\n",
    "    # add some way to find all weather CSV files\n",
    "    # or just add the name/paths manually\n",
    "    weather_csv_files = [\n",
    "        \"2009_weather.csv\",\n",
    "        \"2010_weather.csv\",\n",
    "        \"2011_weather.csv\",\n",
    "        \"2012_weather.csv\",\n",
    "        \"2013_weather.csv\",\n",
    "        \"2014_weather.csv\",\n",
    "        \"2015_weather.csv\",\n",
    "    ]\n",
    "\n",
    "    for csv_file in weather_csv_files:\n",
    "        hourly_dataframe = clean_month_weather_data_hourly(csv_file)\n",
    "        daily_dataframe = clean_month_weather_data_daily(csv_file)\n",
    "        hourly_dataframes.append(hourly_dataframe)\n",
    "        daily_dataframes.append(daily_dataframe)\n",
    "\n",
    "    # create two dataframes with hourly & daily data from every month\n",
    "    hourly_data = pd.concat(hourly_dataframes, ignore_index=True)\n",
    "    daily_data = pd.concat(daily_dataframes, ignore_index=True)\n",
    "\n",
    "    return hourly_data, daily_data"
   ]
  },
  {
   "cell_type": "code",
   "execution_count": 182,
   "id": "c2fdb9c0",
   "metadata": {},
   "outputs": [
    {
     "data": {
      "application/javascript": [
       "\n",
       "            setTimeout(function() {\n",
       "                var nbb_cell_id = 182;\n",
       "                var nbb_unformatted_code = \"hourly_weather_data, daily_weather_data = load_and_clean_weather_data()\";\n",
       "                var nbb_formatted_code = \"hourly_weather_data, daily_weather_data = load_and_clean_weather_data()\";\n",
       "                var nbb_cells = Jupyter.notebook.get_cells();\n",
       "                for (var i = 0; i < nbb_cells.length; ++i) {\n",
       "                    if (nbb_cells[i].input_prompt_number == nbb_cell_id) {\n",
       "                        if (nbb_cells[i].get_text() == nbb_unformatted_code) {\n",
       "                             nbb_cells[i].set_text(nbb_formatted_code);\n",
       "                        }\n",
       "                        break;\n",
       "                    }\n",
       "                }\n",
       "            }, 500);\n",
       "            "
      ],
      "text/plain": [
       "<IPython.core.display.Javascript object>"
      ]
     },
     "metadata": {},
     "output_type": "display_data"
    },
    {
     "data": {
      "application/javascript": [
       "\n",
       "            setTimeout(function() {\n",
       "                var nbb_cell_id = 182;\n",
       "                var nbb_unformatted_code = \"hourly_weather_data, daily_weather_data = load_and_clean_weather_data()\";\n",
       "                var nbb_formatted_code = \"hourly_weather_data, daily_weather_data = load_and_clean_weather_data()\";\n",
       "                var nbb_cells = Jupyter.notebook.get_cells();\n",
       "                for (var i = 0; i < nbb_cells.length; ++i) {\n",
       "                    if (nbb_cells[i].input_prompt_number == nbb_cell_id) {\n",
       "                        if (nbb_cells[i].get_text() == nbb_unformatted_code) {\n",
       "                             nbb_cells[i].set_text(nbb_formatted_code);\n",
       "                        }\n",
       "                        break;\n",
       "                    }\n",
       "                }\n",
       "            }, 500);\n",
       "            "
      ],
      "text/plain": [
       "<IPython.core.display.Javascript object>"
      ]
     },
     "metadata": {},
     "output_type": "display_data"
    }
   ],
   "source": [
    "# hourly_weather_data, daily_weather_data = load_and_clean_weather_data()"
   ]
  },
  {
   "cell_type": "code",
   "execution_count": 184,
   "id": "889f7a8f",
   "metadata": {},
   "outputs": [
    {
     "data": {
      "text/html": [
       "<div>\n",
       "<style scoped>\n",
       "    .dataframe tbody tr th:only-of-type {\n",
       "        vertical-align: middle;\n",
       "    }\n",
       "\n",
       "    .dataframe tbody tr th {\n",
       "        vertical-align: top;\n",
       "    }\n",
       "\n",
       "    .dataframe thead th {\n",
       "        text-align: right;\n",
       "    }\n",
       "</style>\n",
       "<table border=\"1\" class=\"dataframe\">\n",
       "  <thead>\n",
       "    <tr style=\"text-align: right;\">\n",
       "      <th></th>\n",
       "      <th>DATE</th>\n",
       "      <th>HourlyPrecipitation</th>\n",
       "      <th>HourlyWindSpeed</th>\n",
       "    </tr>\n",
       "  </thead>\n",
       "  <tbody>\n",
       "    <tr>\n",
       "      <th>0</th>\n",
       "      <td>2009-01-01 00:51:00</td>\n",
       "      <td>NaN</td>\n",
       "      <td>18.0</td>\n",
       "    </tr>\n",
       "    <tr>\n",
       "      <th>1</th>\n",
       "      <td>2009-01-01 01:51:00</td>\n",
       "      <td>NaN</td>\n",
       "      <td>18.0</td>\n",
       "    </tr>\n",
       "    <tr>\n",
       "      <th>2</th>\n",
       "      <td>2009-01-01 02:51:00</td>\n",
       "      <td>NaN</td>\n",
       "      <td>18.0</td>\n",
       "    </tr>\n",
       "    <tr>\n",
       "      <th>3</th>\n",
       "      <td>2009-01-01 03:51:00</td>\n",
       "      <td>NaN</td>\n",
       "      <td>8.0</td>\n",
       "    </tr>\n",
       "    <tr>\n",
       "      <th>4</th>\n",
       "      <td>2009-01-01 04:51:00</td>\n",
       "      <td>NaN</td>\n",
       "      <td>11.0</td>\n",
       "    </tr>\n",
       "    <tr>\n",
       "      <th>...</th>\n",
       "      <td>...</td>\n",
       "      <td>...</td>\n",
       "      <td>...</td>\n",
       "    </tr>\n",
       "    <tr>\n",
       "      <th>60306</th>\n",
       "      <td>2015-12-31 19:51:00</td>\n",
       "      <td>0.00</td>\n",
       "      <td>6.0</td>\n",
       "    </tr>\n",
       "    <tr>\n",
       "      <th>60307</th>\n",
       "      <td>2015-12-31 20:51:00</td>\n",
       "      <td>0.00</td>\n",
       "      <td>10.0</td>\n",
       "    </tr>\n",
       "    <tr>\n",
       "      <th>60308</th>\n",
       "      <td>2015-12-31 21:51:00</td>\n",
       "      <td>0.00</td>\n",
       "      <td>NaN</td>\n",
       "    </tr>\n",
       "    <tr>\n",
       "      <th>60309</th>\n",
       "      <td>2015-12-31 22:51:00</td>\n",
       "      <td>0.00</td>\n",
       "      <td>7.0</td>\n",
       "    </tr>\n",
       "    <tr>\n",
       "      <th>60310</th>\n",
       "      <td>2015-12-31 23:51:00</td>\n",
       "      <td>0.00</td>\n",
       "      <td>5.0</td>\n",
       "    </tr>\n",
       "  </tbody>\n",
       "</table>\n",
       "<p>60311 rows × 3 columns</p>\n",
       "</div>"
      ],
      "text/plain": [
       "                     DATE HourlyPrecipitation  HourlyWindSpeed\n",
       "0     2009-01-01 00:51:00                 NaN             18.0\n",
       "1     2009-01-01 01:51:00                 NaN             18.0\n",
       "2     2009-01-01 02:51:00                 NaN             18.0\n",
       "3     2009-01-01 03:51:00                 NaN              8.0\n",
       "4     2009-01-01 04:51:00                 NaN             11.0\n",
       "...                   ...                 ...              ...\n",
       "60306 2015-12-31 19:51:00                0.00              6.0\n",
       "60307 2015-12-31 20:51:00                0.00             10.0\n",
       "60308 2015-12-31 21:51:00                0.00              NaN\n",
       "60309 2015-12-31 22:51:00                0.00              7.0\n",
       "60310 2015-12-31 23:51:00                0.00              5.0\n",
       "\n",
       "[60311 rows x 3 columns]"
      ]
     },
     "execution_count": 184,
     "metadata": {},
     "output_type": "execute_result"
    },
    {
     "data": {
      "application/javascript": [
       "\n",
       "            setTimeout(function() {\n",
       "                var nbb_cell_id = 184;\n",
       "                var nbb_unformatted_code = \"hourly_weather_data\";\n",
       "                var nbb_formatted_code = \"hourly_weather_data\";\n",
       "                var nbb_cells = Jupyter.notebook.get_cells();\n",
       "                for (var i = 0; i < nbb_cells.length; ++i) {\n",
       "                    if (nbb_cells[i].input_prompt_number == nbb_cell_id) {\n",
       "                        if (nbb_cells[i].get_text() == nbb_unformatted_code) {\n",
       "                             nbb_cells[i].set_text(nbb_formatted_code);\n",
       "                        }\n",
       "                        break;\n",
       "                    }\n",
       "                }\n",
       "            }, 500);\n",
       "            "
      ],
      "text/plain": [
       "<IPython.core.display.Javascript object>"
      ]
     },
     "metadata": {},
     "output_type": "display_data"
    },
    {
     "data": {
      "application/javascript": [
       "\n",
       "            setTimeout(function() {\n",
       "                var nbb_cell_id = 184;\n",
       "                var nbb_unformatted_code = \"hourly_weather_data\";\n",
       "                var nbb_formatted_code = \"hourly_weather_data\";\n",
       "                var nbb_cells = Jupyter.notebook.get_cells();\n",
       "                for (var i = 0; i < nbb_cells.length; ++i) {\n",
       "                    if (nbb_cells[i].input_prompt_number == nbb_cell_id) {\n",
       "                        if (nbb_cells[i].get_text() == nbb_unformatted_code) {\n",
       "                             nbb_cells[i].set_text(nbb_formatted_code);\n",
       "                        }\n",
       "                        break;\n",
       "                    }\n",
       "                }\n",
       "            }, 500);\n",
       "            "
      ],
      "text/plain": [
       "<IPython.core.display.Javascript object>"
      ]
     },
     "metadata": {},
     "output_type": "display_data"
    }
   ],
   "source": [
    "hourly_weather_data"
   ]
  },
  {
   "cell_type": "markdown",
   "id": "f900f7aa",
   "metadata": {},
   "source": [
    "### Process All Data\n",
    "\n",
    "_This is where you can actually execute all the required functions._\n",
    "\n",
    "_**TODO:** Write some prose that tells the reader what you're about to do here._"
   ]
  },
  {
   "cell_type": "code",
   "execution_count": null,
   "id": "f7cd53a6",
   "metadata": {},
   "outputs": [],
   "source": [
    "taxi_data = get_and_clean_taxi_data()\n",
    "uber_data = get_uber_data()\n",
    "hourly_weather_data, daily_weather_data = load_and_clean_weather_data()"
   ]
  },
  {
   "cell_type": "markdown",
   "id": "dd101f11",
   "metadata": {},
   "source": [
    "## Part 2: Storing Cleaned Data\n",
    "\n",
    "_Write some prose that tells the reader what you're about to do here._"
   ]
  },
  {
   "cell_type": "code",
   "execution_count": 234,
   "id": "f3529cf6",
   "metadata": {},
   "outputs": [
    {
     "data": {
      "application/javascript": [
       "\n",
       "            setTimeout(function() {\n",
       "                var nbb_cell_id = 234;\n",
       "                var nbb_unformatted_code = \"# Create connection\\nengine = db.create_engine(DATABASE_URL, echo=True)\\n# Logging - print out generated SQL\\nsqllogger = logging.getLogger(\\\"sqlalchemy.engine.Engine\\\")\\nformatter = logging.Formatter(\\\"[sqlalchemy] %(message)s\\\")\\nsqllogger.handlers[0].setFormatter(formatter)\";\n",
       "                var nbb_formatted_code = \"# Create connection\\nengine = db.create_engine(DATABASE_URL, echo=True)\\n# Logging - print out generated SQL\\nsqllogger = logging.getLogger(\\\"sqlalchemy.engine.Engine\\\")\\nformatter = logging.Formatter(\\\"[sqlalchemy] %(message)s\\\")\\nsqllogger.handlers[0].setFormatter(formatter)\";\n",
       "                var nbb_cells = Jupyter.notebook.get_cells();\n",
       "                for (var i = 0; i < nbb_cells.length; ++i) {\n",
       "                    if (nbb_cells[i].input_prompt_number == nbb_cell_id) {\n",
       "                        if (nbb_cells[i].get_text() == nbb_unformatted_code) {\n",
       "                             nbb_cells[i].set_text(nbb_formatted_code);\n",
       "                        }\n",
       "                        break;\n",
       "                    }\n",
       "                }\n",
       "            }, 500);\n",
       "            "
      ],
      "text/plain": [
       "<IPython.core.display.Javascript object>"
      ]
     },
     "metadata": {},
     "output_type": "display_data"
    },
    {
     "data": {
      "application/javascript": [
       "\n",
       "            setTimeout(function() {\n",
       "                var nbb_cell_id = 234;\n",
       "                var nbb_unformatted_code = \"# Create connection\\nengine = db.create_engine(DATABASE_URL, echo=True)\\n# Logging - print out generated SQL\\nsqllogger = logging.getLogger(\\\"sqlalchemy.engine.Engine\\\")\\nformatter = logging.Formatter(\\\"[sqlalchemy] %(message)s\\\")\\nsqllogger.handlers[0].setFormatter(formatter)\";\n",
       "                var nbb_formatted_code = \"# Create connection\\nengine = db.create_engine(DATABASE_URL, echo=True)\\n# Logging - print out generated SQL\\nsqllogger = logging.getLogger(\\\"sqlalchemy.engine.Engine\\\")\\nformatter = logging.Formatter(\\\"[sqlalchemy] %(message)s\\\")\\nsqllogger.handlers[0].setFormatter(formatter)\";\n",
       "                var nbb_cells = Jupyter.notebook.get_cells();\n",
       "                for (var i = 0; i < nbb_cells.length; ++i) {\n",
       "                    if (nbb_cells[i].input_prompt_number == nbb_cell_id) {\n",
       "                        if (nbb_cells[i].get_text() == nbb_unformatted_code) {\n",
       "                             nbb_cells[i].set_text(nbb_formatted_code);\n",
       "                        }\n",
       "                        break;\n",
       "                    }\n",
       "                }\n",
       "            }, 500);\n",
       "            "
      ],
      "text/plain": [
       "<IPython.core.display.Javascript object>"
      ]
     },
     "metadata": {},
     "output_type": "display_data"
    }
   ],
   "source": [
    "# DATABASE_URL = \"sqlite:///project.db\"\n",
    "# DATABASE_SCHEMA_FILE = \"schema.sql\"\n",
    "\n",
    "# Create connection\n",
    "engine = db.create_engine(DATABASE_URL, echo=True)\n",
    "# Logging - print out generated SQL\n",
    "sqllogger = logging.getLogger(\"sqlalchemy.engine.Engine\")\n",
    "formatter = logging.Formatter(\"[sqlalchemy] %(message)s\")\n",
    "sqllogger.handlers[0].setFormatter(formatter)"
   ]
  },
  {
   "cell_type": "markdown",
   "id": "5b90f910",
   "metadata": {},
   "source": [
    "### Create Python Class"
   ]
  },
  {
   "cell_type": "code",
   "execution_count": 235,
   "id": "f2315a4f",
   "metadata": {},
   "outputs": [
    {
     "data": {
      "application/javascript": [
       "\n",
       "            setTimeout(function() {\n",
       "                var nbb_cell_id = 235;\n",
       "                var nbb_unformatted_code = \"# Create \\\"base\\\" class\\nBase = declarative_base()\";\n",
       "                var nbb_formatted_code = \"# Create \\\"base\\\" class\\nBase = declarative_base()\";\n",
       "                var nbb_cells = Jupyter.notebook.get_cells();\n",
       "                for (var i = 0; i < nbb_cells.length; ++i) {\n",
       "                    if (nbb_cells[i].input_prompt_number == nbb_cell_id) {\n",
       "                        if (nbb_cells[i].get_text() == nbb_unformatted_code) {\n",
       "                             nbb_cells[i].set_text(nbb_formatted_code);\n",
       "                        }\n",
       "                        break;\n",
       "                    }\n",
       "                }\n",
       "            }, 500);\n",
       "            "
      ],
      "text/plain": [
       "<IPython.core.display.Javascript object>"
      ]
     },
     "metadata": {},
     "output_type": "display_data"
    },
    {
     "data": {
      "application/javascript": [
       "\n",
       "            setTimeout(function() {\n",
       "                var nbb_cell_id = 235;\n",
       "                var nbb_unformatted_code = \"# Create \\\"base\\\" class\\nBase = declarative_base()\";\n",
       "                var nbb_formatted_code = \"# Create \\\"base\\\" class\\nBase = declarative_base()\";\n",
       "                var nbb_cells = Jupyter.notebook.get_cells();\n",
       "                for (var i = 0; i < nbb_cells.length; ++i) {\n",
       "                    if (nbb_cells[i].input_prompt_number == nbb_cell_id) {\n",
       "                        if (nbb_cells[i].get_text() == nbb_unformatted_code) {\n",
       "                             nbb_cells[i].set_text(nbb_formatted_code);\n",
       "                        }\n",
       "                        break;\n",
       "                    }\n",
       "                }\n",
       "            }, 500);\n",
       "            "
      ],
      "text/plain": [
       "<IPython.core.display.Javascript object>"
      ]
     },
     "metadata": {},
     "output_type": "display_data"
    }
   ],
   "source": [
    "# Create \"base\" class\n",
    "Base = declarative_base()"
   ]
  },
  {
   "cell_type": "code",
   "execution_count": null,
   "id": "24bebe58",
   "metadata": {},
   "outputs": [],
   "source": [
    "# Test\n",
    "columns_needed3 = [\n",
    "    \"pickup_datetime\",\n",
    "    \"dropoff_datetime\",\n",
    "    \"pickup_longitude\",\n",
    "    \"pickup_latitude\",\n",
    "    \"dropoff_longitude\",\n",
    "    \"dropoff_latitude\",\n",
    "    \"tip_amount\",\n",
    "]  # 2010-01"
   ]
  },
  {
   "cell_type": "code",
   "execution_count": 236,
   "id": "4c336f09",
   "metadata": {},
   "outputs": [
    {
     "data": {
      "application/javascript": [
       "\n",
       "            setTimeout(function() {\n",
       "                var nbb_cell_id = 236;\n",
       "                var nbb_unformatted_code = \"# Define Classes\\n\\nclass TAXI_TRIP(Base):\\n    __tablename__ = \\\"taxi_trips\\\"\\n    \\n    taxi_id = Column(Integer, primary_key=True)\\n    pickup_datetime = Column(DateTime)\\n    dropoff_datetime = Column(DateTime)\\n    pickup_longitude = Column(Float)\\n    pickup_latitude = Column(Float)\\n    dropoff_longitude = Column(Float)\\n    dropoff_latitude = Column(Float)\\n    distance = Column(Float)\\n    tip_amount = Column(Float)\\n    \\n\\nclass UBER_TRIP(Base):\\n    __tablename__ = \\\"uber_trips\\\"\\n    \\n    uber_id = Column(Integer, primary_key=True)\\n    pickup_datetime = Column(DateTime)\\n    pickup_longitude = Column(Float)\\n    pickup_latitude = Column(Float)\\n    dropoff_longitude = Column(Float)\\n    dropoff_latitude = Column(Float)\\n    distance = Column(Float)\\n    \\n\\nclass HOURLY_WEATHER(Base):\\n    __tablename__ = \\\"hourly_weather\\\"\\n    \\n    hourly_weather_id = Column(Integer, primary_key=True)\\n    date = Column(DateTime)\\n    hourlyPrecipitation = Column(Float)\\n    hourlyWindSpeed = Column(Float)\\n    \\n    \\nclass DAILY_WEATHER(Base):\\n    __tablename__ = \\\"daily_weather\\\"\\n    \\n    daily_weather_id = Column(Integer, primary_key=True)\\n    date = Column(DateTime)\\n    dailySustainedWindSpeed = Column(Float)\";\n",
       "                var nbb_formatted_code = \"# Define Classes\\n\\n\\nclass TAXI_TRIP(Base):\\n    __tablename__ = \\\"taxi_trips\\\"\\n\\n    taxi_id = Column(Integer, primary_key=True)\\n    pickup_datetime = Column(DateTime)\\n    dropoff_datetime = Column(DateTime)\\n    pickup_longitude = Column(Float)\\n    pickup_latitude = Column(Float)\\n    dropoff_longitude = Column(Float)\\n    dropoff_latitude = Column(Float)\\n    distance = Column(Float)\\n    tip_amount = Column(Float)\\n\\n\\nclass UBER_TRIP(Base):\\n    __tablename__ = \\\"uber_trips\\\"\\n\\n    uber_id = Column(Integer, primary_key=True)\\n    pickup_datetime = Column(DateTime)\\n    pickup_longitude = Column(Float)\\n    pickup_latitude = Column(Float)\\n    dropoff_longitude = Column(Float)\\n    dropoff_latitude = Column(Float)\\n    distance = Column(Float)\\n\\n\\nclass HOURLY_WEATHER(Base):\\n    __tablename__ = \\\"hourly_weather\\\"\\n\\n    hourly_weather_id = Column(Integer, primary_key=True)\\n    date = Column(DateTime)\\n    hourlyPrecipitation = Column(Float)\\n    hourlyWindSpeed = Column(Float)\\n\\n\\nclass DAILY_WEATHER(Base):\\n    __tablename__ = \\\"daily_weather\\\"\\n\\n    daily_weather_id = Column(Integer, primary_key=True)\\n    date = Column(DateTime)\\n    dailySustainedWindSpeed = Column(Float)\";\n",
       "                var nbb_cells = Jupyter.notebook.get_cells();\n",
       "                for (var i = 0; i < nbb_cells.length; ++i) {\n",
       "                    if (nbb_cells[i].input_prompt_number == nbb_cell_id) {\n",
       "                        if (nbb_cells[i].get_text() == nbb_unformatted_code) {\n",
       "                             nbb_cells[i].set_text(nbb_formatted_code);\n",
       "                        }\n",
       "                        break;\n",
       "                    }\n",
       "                }\n",
       "            }, 500);\n",
       "            "
      ],
      "text/plain": [
       "<IPython.core.display.Javascript object>"
      ]
     },
     "metadata": {},
     "output_type": "display_data"
    },
    {
     "data": {
      "application/javascript": [
       "\n",
       "            setTimeout(function() {\n",
       "                var nbb_cell_id = 236;\n",
       "                var nbb_unformatted_code = \"# Define Classes\\n\\nclass TAXI_TRIP(Base):\\n    __tablename__ = \\\"taxi_trips\\\"\\n    \\n    taxi_id = Column(Integer, primary_key=True)\\n    pickup_datetime = Column(DateTime)\\n    dropoff_datetime = Column(DateTime)\\n    pickup_longitude = Column(Float)\\n    pickup_latitude = Column(Float)\\n    dropoff_longitude = Column(Float)\\n    dropoff_latitude = Column(Float)\\n    distance = Column(Float)\\n    tip_amount = Column(Float)\\n    \\n\\nclass UBER_TRIP(Base):\\n    __tablename__ = \\\"uber_trips\\\"\\n    \\n    uber_id = Column(Integer, primary_key=True)\\n    pickup_datetime = Column(DateTime)\\n    pickup_longitude = Column(Float)\\n    pickup_latitude = Column(Float)\\n    dropoff_longitude = Column(Float)\\n    dropoff_latitude = Column(Float)\\n    distance = Column(Float)\\n    \\n\\nclass HOURLY_WEATHER(Base):\\n    __tablename__ = \\\"hourly_weather\\\"\\n    \\n    hourly_weather_id = Column(Integer, primary_key=True)\\n    date = Column(DateTime)\\n    hourlyPrecipitation = Column(Float)\\n    hourlyWindSpeed = Column(Float)\\n    \\n    \\nclass DAILY_WEATHER(Base):\\n    __tablename__ = \\\"daily_weather\\\"\\n    \\n    daily_weather_id = Column(Integer, primary_key=True)\\n    date = Column(DateTime)\\n    dailySustainedWindSpeed = Column(Float)\";\n",
       "                var nbb_formatted_code = \"# Define Classes\\n\\n\\nclass TAXI_TRIP(Base):\\n    __tablename__ = \\\"taxi_trips\\\"\\n\\n    taxi_id = Column(Integer, primary_key=True)\\n    pickup_datetime = Column(DateTime)\\n    dropoff_datetime = Column(DateTime)\\n    pickup_longitude = Column(Float)\\n    pickup_latitude = Column(Float)\\n    dropoff_longitude = Column(Float)\\n    dropoff_latitude = Column(Float)\\n    distance = Column(Float)\\n    tip_amount = Column(Float)\\n\\n\\nclass UBER_TRIP(Base):\\n    __tablename__ = \\\"uber_trips\\\"\\n\\n    uber_id = Column(Integer, primary_key=True)\\n    pickup_datetime = Column(DateTime)\\n    pickup_longitude = Column(Float)\\n    pickup_latitude = Column(Float)\\n    dropoff_longitude = Column(Float)\\n    dropoff_latitude = Column(Float)\\n    distance = Column(Float)\\n\\n\\nclass HOURLY_WEATHER(Base):\\n    __tablename__ = \\\"hourly_weather\\\"\\n\\n    hourly_weather_id = Column(Integer, primary_key=True)\\n    date = Column(DateTime)\\n    hourlyPrecipitation = Column(Float)\\n    hourlyWindSpeed = Column(Float)\\n\\n\\nclass DAILY_WEATHER(Base):\\n    __tablename__ = \\\"daily_weather\\\"\\n\\n    daily_weather_id = Column(Integer, primary_key=True)\\n    date = Column(DateTime)\\n    dailySustainedWindSpeed = Column(Float)\";\n",
       "                var nbb_cells = Jupyter.notebook.get_cells();\n",
       "                for (var i = 0; i < nbb_cells.length; ++i) {\n",
       "                    if (nbb_cells[i].input_prompt_number == nbb_cell_id) {\n",
       "                        if (nbb_cells[i].get_text() == nbb_unformatted_code) {\n",
       "                             nbb_cells[i].set_text(nbb_formatted_code);\n",
       "                        }\n",
       "                        break;\n",
       "                    }\n",
       "                }\n",
       "            }, 500);\n",
       "            "
      ],
      "text/plain": [
       "<IPython.core.display.Javascript object>"
      ]
     },
     "metadata": {},
     "output_type": "display_data"
    }
   ],
   "source": [
    "# Define Classes\n",
    "\n",
    "class TAXI_TRIP(Base):\n",
    "    __tablename__ = \"taxi_trips\"\n",
    "    \n",
    "    taxi_id = Column(Integer, primary_key=True)\n",
    "    pickup_datetime = Column(DateTime)\n",
    "    dropoff_datetime = Column(DateTime)\n",
    "    pickup_longitude = Column(Float)\n",
    "    pickup_latitude = Column(Float)\n",
    "    dropoff_longitude = Column(Float)\n",
    "    dropoff_latitude = Column(Float)\n",
    "    distance = Column(Float)\n",
    "    tip_amount = Column(Float)\n",
    "    \n",
    "\n",
    "class UBER_TRIP(Base):\n",
    "    __tablename__ = \"uber_trips\"\n",
    "    \n",
    "    uber_id = Column(Integer, primary_key=True)\n",
    "    pickup_datetime = Column(DateTime)\n",
    "    pickup_longitude = Column(Float)\n",
    "    pickup_latitude = Column(Float)\n",
    "    dropoff_longitude = Column(Float)\n",
    "    dropoff_latitude = Column(Float)\n",
    "    distance = Column(Float)\n",
    "    \n",
    "\n",
    "class HOURLY_WEATHER(Base):\n",
    "    __tablename__ = \"hourly_weather\"\n",
    "    \n",
    "    hourly_weather_id = Column(Integer, primary_key=True)\n",
    "    date = Column(DateTime)\n",
    "    hourlyPrecipitation = Column(Float)\n",
    "    hourlyWindSpeed = Column(Float)\n",
    "    \n",
    "    \n",
    "class DAILY_WEATHER(Base):\n",
    "    __tablename__ = \"daily_weather\"\n",
    "    \n",
    "    daily_weather_id = Column(Integer, primary_key=True)\n",
    "    date = Column(DateTime)\n",
    "    dailySustainedWindSpeed = Column(Float)\n"
   ]
  },
  {
   "cell_type": "code",
   "execution_count": 214,
   "id": "f8e75605",
   "metadata": {},
   "outputs": [
    {
     "data": {
      "text/plain": [
       "Table('taxi_trips', MetaData(), Column('taxi_id', Integer(), table=<taxi_trips>, primary_key=True, nullable=False), Column('pickup_datetime', DateTime(), table=<taxi_trips>), Column('dropoff_datetime', DateTime(), table=<taxi_trips>), Column('pickup_longitude', Float(), table=<taxi_trips>), Column('pickup_latitude', Float(), table=<taxi_trips>), Column('dropoff_longitude', Float(), table=<taxi_trips>), Column('dropoff_latitude', Float(), table=<taxi_trips>), Column('distance', Float(), table=<taxi_trips>), Column('tip_amount', Float(), table=<taxi_trips>), schema=None)"
      ]
     },
     "execution_count": 214,
     "metadata": {},
     "output_type": "execute_result"
    },
    {
     "data": {
      "application/javascript": [
       "\n",
       "            setTimeout(function() {\n",
       "                var nbb_cell_id = 214;\n",
       "                var nbb_unformatted_code = \"TAXI_TRIP.__table__\";\n",
       "                var nbb_formatted_code = \"TAXI_TRIP.__table__\";\n",
       "                var nbb_cells = Jupyter.notebook.get_cells();\n",
       "                for (var i = 0; i < nbb_cells.length; ++i) {\n",
       "                    if (nbb_cells[i].input_prompt_number == nbb_cell_id) {\n",
       "                        if (nbb_cells[i].get_text() == nbb_unformatted_code) {\n",
       "                             nbb_cells[i].set_text(nbb_formatted_code);\n",
       "                        }\n",
       "                        break;\n",
       "                    }\n",
       "                }\n",
       "            }, 500);\n",
       "            "
      ],
      "text/plain": [
       "<IPython.core.display.Javascript object>"
      ]
     },
     "metadata": {},
     "output_type": "display_data"
    },
    {
     "data": {
      "application/javascript": [
       "\n",
       "            setTimeout(function() {\n",
       "                var nbb_cell_id = 214;\n",
       "                var nbb_unformatted_code = \"TAXI_TRIP.__table__\";\n",
       "                var nbb_formatted_code = \"TAXI_TRIP.__table__\";\n",
       "                var nbb_cells = Jupyter.notebook.get_cells();\n",
       "                for (var i = 0; i < nbb_cells.length; ++i) {\n",
       "                    if (nbb_cells[i].input_prompt_number == nbb_cell_id) {\n",
       "                        if (nbb_cells[i].get_text() == nbb_unformatted_code) {\n",
       "                             nbb_cells[i].set_text(nbb_formatted_code);\n",
       "                        }\n",
       "                        break;\n",
       "                    }\n",
       "                }\n",
       "            }, 500);\n",
       "            "
      ],
      "text/plain": [
       "<IPython.core.display.Javascript object>"
      ]
     },
     "metadata": {},
     "output_type": "display_data"
    }
   ],
   "source": [
    "TAXI_TRIP.__table__"
   ]
  },
  {
   "cell_type": "code",
   "execution_count": 237,
   "id": "9638d01a",
   "metadata": {},
   "outputs": [
    {
     "name": "stdout",
     "output_type": "stream",
     "text": [
      "[sqlalchemy] BEGIN (implicit)\n"
     ]
    },
    {
     "name": "stderr",
     "output_type": "stream",
     "text": [
      "INFO:sqlalchemy.engine.Engine:BEGIN (implicit)\n"
     ]
    },
    {
     "name": "stdout",
     "output_type": "stream",
     "text": [
      "[sqlalchemy] PRAGMA main.table_info(\"taxi_trips\")\n"
     ]
    },
    {
     "name": "stderr",
     "output_type": "stream",
     "text": [
      "INFO:sqlalchemy.engine.Engine:PRAGMA main.table_info(\"taxi_trips\")\n"
     ]
    },
    {
     "name": "stdout",
     "output_type": "stream",
     "text": [
      "[sqlalchemy] [raw sql] ()\n"
     ]
    },
    {
     "name": "stderr",
     "output_type": "stream",
     "text": [
      "INFO:sqlalchemy.engine.Engine:[raw sql] ()\n"
     ]
    },
    {
     "name": "stdout",
     "output_type": "stream",
     "text": [
      "[sqlalchemy] PRAGMA temp.table_info(\"taxi_trips\")\n"
     ]
    },
    {
     "name": "stderr",
     "output_type": "stream",
     "text": [
      "INFO:sqlalchemy.engine.Engine:PRAGMA temp.table_info(\"taxi_trips\")\n"
     ]
    },
    {
     "name": "stdout",
     "output_type": "stream",
     "text": [
      "[sqlalchemy] [raw sql] ()\n"
     ]
    },
    {
     "name": "stderr",
     "output_type": "stream",
     "text": [
      "INFO:sqlalchemy.engine.Engine:[raw sql] ()\n"
     ]
    },
    {
     "name": "stdout",
     "output_type": "stream",
     "text": [
      "[sqlalchemy] PRAGMA main.table_info(\"uber_trips\")\n"
     ]
    },
    {
     "name": "stderr",
     "output_type": "stream",
     "text": [
      "INFO:sqlalchemy.engine.Engine:PRAGMA main.table_info(\"uber_trips\")\n"
     ]
    },
    {
     "name": "stdout",
     "output_type": "stream",
     "text": [
      "[sqlalchemy] [raw sql] ()\n"
     ]
    },
    {
     "name": "stderr",
     "output_type": "stream",
     "text": [
      "INFO:sqlalchemy.engine.Engine:[raw sql] ()\n"
     ]
    },
    {
     "name": "stdout",
     "output_type": "stream",
     "text": [
      "[sqlalchemy] PRAGMA temp.table_info(\"uber_trips\")\n"
     ]
    },
    {
     "name": "stderr",
     "output_type": "stream",
     "text": [
      "INFO:sqlalchemy.engine.Engine:PRAGMA temp.table_info(\"uber_trips\")\n"
     ]
    },
    {
     "name": "stdout",
     "output_type": "stream",
     "text": [
      "[sqlalchemy] [raw sql] ()\n"
     ]
    },
    {
     "name": "stderr",
     "output_type": "stream",
     "text": [
      "INFO:sqlalchemy.engine.Engine:[raw sql] ()\n"
     ]
    },
    {
     "name": "stdout",
     "output_type": "stream",
     "text": [
      "[sqlalchemy] PRAGMA main.table_info(\"hourly_weather\")\n"
     ]
    },
    {
     "name": "stderr",
     "output_type": "stream",
     "text": [
      "INFO:sqlalchemy.engine.Engine:PRAGMA main.table_info(\"hourly_weather\")\n"
     ]
    },
    {
     "name": "stdout",
     "output_type": "stream",
     "text": [
      "[sqlalchemy] [raw sql] ()\n"
     ]
    },
    {
     "name": "stderr",
     "output_type": "stream",
     "text": [
      "INFO:sqlalchemy.engine.Engine:[raw sql] ()\n"
     ]
    },
    {
     "name": "stdout",
     "output_type": "stream",
     "text": [
      "[sqlalchemy] PRAGMA temp.table_info(\"hourly_weather\")\n"
     ]
    },
    {
     "name": "stderr",
     "output_type": "stream",
     "text": [
      "INFO:sqlalchemy.engine.Engine:PRAGMA temp.table_info(\"hourly_weather\")\n"
     ]
    },
    {
     "name": "stdout",
     "output_type": "stream",
     "text": [
      "[sqlalchemy] [raw sql] ()\n"
     ]
    },
    {
     "name": "stderr",
     "output_type": "stream",
     "text": [
      "INFO:sqlalchemy.engine.Engine:[raw sql] ()\n"
     ]
    },
    {
     "name": "stdout",
     "output_type": "stream",
     "text": [
      "[sqlalchemy] PRAGMA main.table_info(\"daily_weather\")\n"
     ]
    },
    {
     "name": "stderr",
     "output_type": "stream",
     "text": [
      "INFO:sqlalchemy.engine.Engine:PRAGMA main.table_info(\"daily_weather\")\n"
     ]
    },
    {
     "name": "stdout",
     "output_type": "stream",
     "text": [
      "[sqlalchemy] [raw sql] ()\n"
     ]
    },
    {
     "name": "stderr",
     "output_type": "stream",
     "text": [
      "INFO:sqlalchemy.engine.Engine:[raw sql] ()\n"
     ]
    },
    {
     "name": "stdout",
     "output_type": "stream",
     "text": [
      "[sqlalchemy] PRAGMA temp.table_info(\"daily_weather\")\n"
     ]
    },
    {
     "name": "stderr",
     "output_type": "stream",
     "text": [
      "INFO:sqlalchemy.engine.Engine:PRAGMA temp.table_info(\"daily_weather\")\n"
     ]
    },
    {
     "name": "stdout",
     "output_type": "stream",
     "text": [
      "[sqlalchemy] [raw sql] ()\n"
     ]
    },
    {
     "name": "stderr",
     "output_type": "stream",
     "text": [
      "INFO:sqlalchemy.engine.Engine:[raw sql] ()\n"
     ]
    },
    {
     "name": "stdout",
     "output_type": "stream",
     "text": [
      "[sqlalchemy] \n",
      "CREATE TABLE taxi_trips (\n",
      "\ttaxi_id INTEGER NOT NULL, \n",
      "\tpickup_datetime DATETIME, \n",
      "\tdropoff_datetime DATETIME, \n",
      "\tpickup_longitude FLOAT, \n",
      "\tpickup_latitude FLOAT, \n",
      "\tdropoff_longitude FLOAT, \n",
      "\tdropoff_latitude FLOAT, \n",
      "\tdistance FLOAT, \n",
      "\ttip_amount FLOAT, \n",
      "\tPRIMARY KEY (taxi_id)\n",
      ")\n",
      "\n",
      "\n"
     ]
    },
    {
     "name": "stderr",
     "output_type": "stream",
     "text": [
      "INFO:sqlalchemy.engine.Engine:\n",
      "CREATE TABLE taxi_trips (\n",
      "\ttaxi_id INTEGER NOT NULL, \n",
      "\tpickup_datetime DATETIME, \n",
      "\tdropoff_datetime DATETIME, \n",
      "\tpickup_longitude FLOAT, \n",
      "\tpickup_latitude FLOAT, \n",
      "\tdropoff_longitude FLOAT, \n",
      "\tdropoff_latitude FLOAT, \n",
      "\tdistance FLOAT, \n",
      "\ttip_amount FLOAT, \n",
      "\tPRIMARY KEY (taxi_id)\n",
      ")\n",
      "\n",
      "\n"
     ]
    },
    {
     "name": "stdout",
     "output_type": "stream",
     "text": [
      "[sqlalchemy] [no key 0.00085s] ()\n"
     ]
    },
    {
     "name": "stderr",
     "output_type": "stream",
     "text": [
      "INFO:sqlalchemy.engine.Engine:[no key 0.00085s] ()\n"
     ]
    },
    {
     "name": "stdout",
     "output_type": "stream",
     "text": [
      "[sqlalchemy] \n",
      "CREATE TABLE uber_trips (\n",
      "\tuber_id INTEGER NOT NULL, \n",
      "\tpickup_datetime DATETIME, \n",
      "\tpickup_longitude FLOAT, \n",
      "\tpickup_latitude FLOAT, \n",
      "\tdropoff_longitude FLOAT, \n",
      "\tdropoff_latitude FLOAT, \n",
      "\tdistance FLOAT, \n",
      "\tPRIMARY KEY (uber_id)\n",
      ")\n",
      "\n",
      "\n"
     ]
    },
    {
     "name": "stderr",
     "output_type": "stream",
     "text": [
      "INFO:sqlalchemy.engine.Engine:\n",
      "CREATE TABLE uber_trips (\n",
      "\tuber_id INTEGER NOT NULL, \n",
      "\tpickup_datetime DATETIME, \n",
      "\tpickup_longitude FLOAT, \n",
      "\tpickup_latitude FLOAT, \n",
      "\tdropoff_longitude FLOAT, \n",
      "\tdropoff_latitude FLOAT, \n",
      "\tdistance FLOAT, \n",
      "\tPRIMARY KEY (uber_id)\n",
      ")\n",
      "\n",
      "\n"
     ]
    },
    {
     "name": "stdout",
     "output_type": "stream",
     "text": [
      "[sqlalchemy] [no key 0.00093s] ()\n"
     ]
    },
    {
     "name": "stderr",
     "output_type": "stream",
     "text": [
      "INFO:sqlalchemy.engine.Engine:[no key 0.00093s] ()\n"
     ]
    },
    {
     "name": "stdout",
     "output_type": "stream",
     "text": [
      "[sqlalchemy] \n",
      "CREATE TABLE hourly_weather (\n",
      "\thourly_weather_id INTEGER NOT NULL, \n",
      "\tdate DATETIME, \n",
      "\t\"hourlyPrecipitation\" FLOAT, \n",
      "\t\"hourlyWindSpeed\" FLOAT, \n",
      "\tPRIMARY KEY (hourly_weather_id)\n",
      ")\n",
      "\n",
      "\n"
     ]
    },
    {
     "name": "stderr",
     "output_type": "stream",
     "text": [
      "INFO:sqlalchemy.engine.Engine:\n",
      "CREATE TABLE hourly_weather (\n",
      "\thourly_weather_id INTEGER NOT NULL, \n",
      "\tdate DATETIME, \n",
      "\t\"hourlyPrecipitation\" FLOAT, \n",
      "\t\"hourlyWindSpeed\" FLOAT, \n",
      "\tPRIMARY KEY (hourly_weather_id)\n",
      ")\n",
      "\n",
      "\n"
     ]
    },
    {
     "name": "stdout",
     "output_type": "stream",
     "text": [
      "[sqlalchemy] [no key 0.00087s] ()\n"
     ]
    },
    {
     "name": "stderr",
     "output_type": "stream",
     "text": [
      "INFO:sqlalchemy.engine.Engine:[no key 0.00087s] ()\n"
     ]
    },
    {
     "name": "stdout",
     "output_type": "stream",
     "text": [
      "[sqlalchemy] \n",
      "CREATE TABLE daily_weather (\n",
      "\tdaily_weather_id INTEGER NOT NULL, \n",
      "\tdate DATETIME, \n",
      "\t\"dailySustainedWindSpeed\" FLOAT, \n",
      "\tPRIMARY KEY (daily_weather_id)\n",
      ")\n",
      "\n",
      "\n"
     ]
    },
    {
     "name": "stderr",
     "output_type": "stream",
     "text": [
      "INFO:sqlalchemy.engine.Engine:\n",
      "CREATE TABLE daily_weather (\n",
      "\tdaily_weather_id INTEGER NOT NULL, \n",
      "\tdate DATETIME, \n",
      "\t\"dailySustainedWindSpeed\" FLOAT, \n",
      "\tPRIMARY KEY (daily_weather_id)\n",
      ")\n",
      "\n",
      "\n"
     ]
    },
    {
     "name": "stdout",
     "output_type": "stream",
     "text": [
      "[sqlalchemy] [no key 0.00072s] ()\n"
     ]
    },
    {
     "name": "stderr",
     "output_type": "stream",
     "text": [
      "INFO:sqlalchemy.engine.Engine:[no key 0.00072s] ()\n"
     ]
    },
    {
     "name": "stdout",
     "output_type": "stream",
     "text": [
      "[sqlalchemy] COMMIT\n"
     ]
    },
    {
     "name": "stderr",
     "output_type": "stream",
     "text": [
      "INFO:sqlalchemy.engine.Engine:COMMIT\n"
     ]
    },
    {
     "data": {
      "application/javascript": [
       "\n",
       "            setTimeout(function() {\n",
       "                var nbb_cell_id = 237;\n",
       "                var nbb_unformatted_code = \"# Create table in the database from Base class\\nfoo = Base.metadata.create_all(engine, checkfirst=True)\";\n",
       "                var nbb_formatted_code = \"# Create table in the database from Base class\\nfoo = Base.metadata.create_all(engine, checkfirst=True)\";\n",
       "                var nbb_cells = Jupyter.notebook.get_cells();\n",
       "                for (var i = 0; i < nbb_cells.length; ++i) {\n",
       "                    if (nbb_cells[i].input_prompt_number == nbb_cell_id) {\n",
       "                        if (nbb_cells[i].get_text() == nbb_unformatted_code) {\n",
       "                             nbb_cells[i].set_text(nbb_formatted_code);\n",
       "                        }\n",
       "                        break;\n",
       "                    }\n",
       "                }\n",
       "            }, 500);\n",
       "            "
      ],
      "text/plain": [
       "<IPython.core.display.Javascript object>"
      ]
     },
     "metadata": {},
     "output_type": "display_data"
    },
    {
     "data": {
      "application/javascript": [
       "\n",
       "            setTimeout(function() {\n",
       "                var nbb_cell_id = 237;\n",
       "                var nbb_unformatted_code = \"# Create table in the database from Base class\\nfoo = Base.metadata.create_all(engine, checkfirst=True)\";\n",
       "                var nbb_formatted_code = \"# Create table in the database from Base class\\nfoo = Base.metadata.create_all(engine, checkfirst=True)\";\n",
       "                var nbb_cells = Jupyter.notebook.get_cells();\n",
       "                for (var i = 0; i < nbb_cells.length; ++i) {\n",
       "                    if (nbb_cells[i].input_prompt_number == nbb_cell_id) {\n",
       "                        if (nbb_cells[i].get_text() == nbb_unformatted_code) {\n",
       "                             nbb_cells[i].set_text(nbb_formatted_code);\n",
       "                        }\n",
       "                        break;\n",
       "                    }\n",
       "                }\n",
       "            }, 500);\n",
       "            "
      ],
      "text/plain": [
       "<IPython.core.display.Javascript object>"
      ]
     },
     "metadata": {},
     "output_type": "display_data"
    }
   ],
   "source": [
    "# Create table in the database from Base class\n",
    "Base.metadata.create_all(engine, checkfirst=True)"
   ]
  },
  {
   "cell_type": "code",
   "execution_count": null,
   "id": "3f06d972",
   "metadata": {},
   "outputs": [],
   "source": []
  },
  {
   "cell_type": "code",
   "execution_count": 240,
   "id": "d2bea0ff",
   "metadata": {},
   "outputs": [
    {
     "data": {
      "application/javascript": [
       "\n",
       "            setTimeout(function() {\n",
       "                var nbb_cell_id = 240;\n",
       "                var nbb_unformatted_code = \"# if using SQL (as opposed to SQLAlchemy), define the commands\\n# to create your 4 tables/dataframes\\n\\n# Retrieve the schema from sqlalchemy\\nHOURLY_WEATHER_SCHEMA = \\\"\\\"\\\"\\nCREATE TABLE hourly_weather (\\n    hourly_weather_id INTEGER NOT NULL, \\n    date DATETIME, \\n    \\\"hourlyPrecipitation\\\" FLOAT, \\n    \\\"hourlyWindSpeed\\\" FLOAT, \\n    PRIMARY KEY (hourly_weather_id)\\n)\\n\\\"\\\"\\\"\\n\\nDAILY_WEATHER_SCHEMA = \\\"\\\"\\\"\\nCREATE TABLE daily_weather (\\n    daily_weather_id INTEGER NOT NULL, \\n    date DATETIME, \\n    \\\"dailySustainedWindSpeed\\\" FLOAT, \\n    PRIMARY KEY (daily_weather_id)\\n)\\n\\\"\\\"\\\"\\n\\nTAXI_TRIPS_SCHEMA = \\\"\\\"\\\"\\nCREATE TABLE taxi_trips (\\n    taxi_id INTEGER NOT NULL, \\n    pickup_datetime DATETIME, \\n    dropoff_datetime DATETIME, \\n    pickup_longitude FLOAT, \\n    pickup_latitude FLOAT, \\n    dropoff_longitude FLOAT, \\n    dropoff_latitude FLOAT, \\n    distance FLOAT, \\n    tip_amount FLOAT, \\n    PRIMARY KEY (taxi_id)\\n)\\n\\\"\\\"\\\"\\n\\nUBER_TRIPS_SCHEMA = \\\"\\\"\\\"\\nCREATE TABLE uber_trips (\\n    uber_id INTEGER NOT NULL, \\n    pickup_datetime DATETIME, \\n    pickup_longitude FLOAT, \\n    pickup_latitude FLOAT, \\n    dropoff_longitude FLOAT, \\n    dropoff_latitude FLOAT, \\n    distance FLOAT, \\n    PRIMARY KEY (uber_id)\\n)\\n\\\"\\\"\\\"\";\n",
       "                var nbb_formatted_code = \"# if using SQL (as opposed to SQLAlchemy), define the commands\\n# to create your 4 tables/dataframes\\n\\n# Retrieve the schema from sqlalchemy\\nHOURLY_WEATHER_SCHEMA = \\\"\\\"\\\"\\nCREATE TABLE hourly_weather (\\n    hourly_weather_id INTEGER NOT NULL, \\n    date DATETIME, \\n    \\\"hourlyPrecipitation\\\" FLOAT, \\n    \\\"hourlyWindSpeed\\\" FLOAT, \\n    PRIMARY KEY (hourly_weather_id)\\n)\\n\\\"\\\"\\\"\\n\\nDAILY_WEATHER_SCHEMA = \\\"\\\"\\\"\\nCREATE TABLE daily_weather (\\n    daily_weather_id INTEGER NOT NULL, \\n    date DATETIME, \\n    \\\"dailySustainedWindSpeed\\\" FLOAT, \\n    PRIMARY KEY (daily_weather_id)\\n)\\n\\\"\\\"\\\"\\n\\nTAXI_TRIPS_SCHEMA = \\\"\\\"\\\"\\nCREATE TABLE taxi_trips (\\n    taxi_id INTEGER NOT NULL, \\n    pickup_datetime DATETIME, \\n    dropoff_datetime DATETIME, \\n    pickup_longitude FLOAT, \\n    pickup_latitude FLOAT, \\n    dropoff_longitude FLOAT, \\n    dropoff_latitude FLOAT, \\n    distance FLOAT, \\n    tip_amount FLOAT, \\n    PRIMARY KEY (taxi_id)\\n)\\n\\\"\\\"\\\"\\n\\nUBER_TRIPS_SCHEMA = \\\"\\\"\\\"\\nCREATE TABLE uber_trips (\\n    uber_id INTEGER NOT NULL, \\n    pickup_datetime DATETIME, \\n    pickup_longitude FLOAT, \\n    pickup_latitude FLOAT, \\n    dropoff_longitude FLOAT, \\n    dropoff_latitude FLOAT, \\n    distance FLOAT, \\n    PRIMARY KEY (uber_id)\\n)\\n\\\"\\\"\\\"\";\n",
       "                var nbb_cells = Jupyter.notebook.get_cells();\n",
       "                for (var i = 0; i < nbb_cells.length; ++i) {\n",
       "                    if (nbb_cells[i].input_prompt_number == nbb_cell_id) {\n",
       "                        if (nbb_cells[i].get_text() == nbb_unformatted_code) {\n",
       "                             nbb_cells[i].set_text(nbb_formatted_code);\n",
       "                        }\n",
       "                        break;\n",
       "                    }\n",
       "                }\n",
       "            }, 500);\n",
       "            "
      ],
      "text/plain": [
       "<IPython.core.display.Javascript object>"
      ]
     },
     "metadata": {},
     "output_type": "display_data"
    },
    {
     "data": {
      "application/javascript": [
       "\n",
       "            setTimeout(function() {\n",
       "                var nbb_cell_id = 240;\n",
       "                var nbb_unformatted_code = \"# if using SQL (as opposed to SQLAlchemy), define the commands\\n# to create your 4 tables/dataframes\\n\\n# Retrieve the schema from sqlalchemy\\nHOURLY_WEATHER_SCHEMA = \\\"\\\"\\\"\\nCREATE TABLE hourly_weather (\\n    hourly_weather_id INTEGER NOT NULL, \\n    date DATETIME, \\n    \\\"hourlyPrecipitation\\\" FLOAT, \\n    \\\"hourlyWindSpeed\\\" FLOAT, \\n    PRIMARY KEY (hourly_weather_id)\\n)\\n\\\"\\\"\\\"\\n\\nDAILY_WEATHER_SCHEMA = \\\"\\\"\\\"\\nCREATE TABLE daily_weather (\\n    daily_weather_id INTEGER NOT NULL, \\n    date DATETIME, \\n    \\\"dailySustainedWindSpeed\\\" FLOAT, \\n    PRIMARY KEY (daily_weather_id)\\n)\\n\\\"\\\"\\\"\\n\\nTAXI_TRIPS_SCHEMA = \\\"\\\"\\\"\\nCREATE TABLE taxi_trips (\\n    taxi_id INTEGER NOT NULL, \\n    pickup_datetime DATETIME, \\n    dropoff_datetime DATETIME, \\n    pickup_longitude FLOAT, \\n    pickup_latitude FLOAT, \\n    dropoff_longitude FLOAT, \\n    dropoff_latitude FLOAT, \\n    distance FLOAT, \\n    tip_amount FLOAT, \\n    PRIMARY KEY (taxi_id)\\n)\\n\\\"\\\"\\\"\\n\\nUBER_TRIPS_SCHEMA = \\\"\\\"\\\"\\nCREATE TABLE uber_trips (\\n    uber_id INTEGER NOT NULL, \\n    pickup_datetime DATETIME, \\n    pickup_longitude FLOAT, \\n    pickup_latitude FLOAT, \\n    dropoff_longitude FLOAT, \\n    dropoff_latitude FLOAT, \\n    distance FLOAT, \\n    PRIMARY KEY (uber_id)\\n)\\n\\\"\\\"\\\"\";\n",
       "                var nbb_formatted_code = \"# if using SQL (as opposed to SQLAlchemy), define the commands\\n# to create your 4 tables/dataframes\\n\\n# Retrieve the schema from sqlalchemy\\nHOURLY_WEATHER_SCHEMA = \\\"\\\"\\\"\\nCREATE TABLE hourly_weather (\\n    hourly_weather_id INTEGER NOT NULL, \\n    date DATETIME, \\n    \\\"hourlyPrecipitation\\\" FLOAT, \\n    \\\"hourlyWindSpeed\\\" FLOAT, \\n    PRIMARY KEY (hourly_weather_id)\\n)\\n\\\"\\\"\\\"\\n\\nDAILY_WEATHER_SCHEMA = \\\"\\\"\\\"\\nCREATE TABLE daily_weather (\\n    daily_weather_id INTEGER NOT NULL, \\n    date DATETIME, \\n    \\\"dailySustainedWindSpeed\\\" FLOAT, \\n    PRIMARY KEY (daily_weather_id)\\n)\\n\\\"\\\"\\\"\\n\\nTAXI_TRIPS_SCHEMA = \\\"\\\"\\\"\\nCREATE TABLE taxi_trips (\\n    taxi_id INTEGER NOT NULL, \\n    pickup_datetime DATETIME, \\n    dropoff_datetime DATETIME, \\n    pickup_longitude FLOAT, \\n    pickup_latitude FLOAT, \\n    dropoff_longitude FLOAT, \\n    dropoff_latitude FLOAT, \\n    distance FLOAT, \\n    tip_amount FLOAT, \\n    PRIMARY KEY (taxi_id)\\n)\\n\\\"\\\"\\\"\\n\\nUBER_TRIPS_SCHEMA = \\\"\\\"\\\"\\nCREATE TABLE uber_trips (\\n    uber_id INTEGER NOT NULL, \\n    pickup_datetime DATETIME, \\n    pickup_longitude FLOAT, \\n    pickup_latitude FLOAT, \\n    dropoff_longitude FLOAT, \\n    dropoff_latitude FLOAT, \\n    distance FLOAT, \\n    PRIMARY KEY (uber_id)\\n)\\n\\\"\\\"\\\"\";\n",
       "                var nbb_cells = Jupyter.notebook.get_cells();\n",
       "                for (var i = 0; i < nbb_cells.length; ++i) {\n",
       "                    if (nbb_cells[i].input_prompt_number == nbb_cell_id) {\n",
       "                        if (nbb_cells[i].get_text() == nbb_unformatted_code) {\n",
       "                             nbb_cells[i].set_text(nbb_formatted_code);\n",
       "                        }\n",
       "                        break;\n",
       "                    }\n",
       "                }\n",
       "            }, 500);\n",
       "            "
      ],
      "text/plain": [
       "<IPython.core.display.Javascript object>"
      ]
     },
     "metadata": {},
     "output_type": "display_data"
    }
   ],
   "source": [
    "# if using SQL (as opposed to SQLAlchemy), define the commands\n",
    "# to create your 4 tables/dataframes\n",
    "\n",
    "# Retrieve the schema from sqlalchemy\n",
    "HOURLY_WEATHER_SCHEMA = \"\"\"\n",
    "CREATE TABLE hourly_weather (\n",
    "    hourly_weather_id INTEGER NOT NULL, \n",
    "    date DATETIME, \n",
    "    \"hourlyPrecipitation\" FLOAT, \n",
    "    \"hourlyWindSpeed\" FLOAT, \n",
    "    PRIMARY KEY (hourly_weather_id)\n",
    ")\n",
    "\"\"\"\n",
    "\n",
    "DAILY_WEATHER_SCHEMA = \"\"\"\n",
    "CREATE TABLE daily_weather (\n",
    "    daily_weather_id INTEGER NOT NULL, \n",
    "    date DATETIME, \n",
    "    \"dailySustainedWindSpeed\" FLOAT, \n",
    "    PRIMARY KEY (daily_weather_id)\n",
    ")\n",
    "\"\"\"\n",
    "\n",
    "TAXI_TRIPS_SCHEMA = \"\"\"\n",
    "CREATE TABLE taxi_trips (\n",
    "    taxi_id INTEGER NOT NULL, \n",
    "    pickup_datetime DATETIME, \n",
    "    dropoff_datetime DATETIME, \n",
    "    pickup_longitude FLOAT, \n",
    "    pickup_latitude FLOAT, \n",
    "    dropoff_longitude FLOAT, \n",
    "    dropoff_latitude FLOAT, \n",
    "    distance FLOAT, \n",
    "    tip_amount FLOAT, \n",
    "    PRIMARY KEY (taxi_id)\n",
    ")\n",
    "\"\"\"\n",
    "\n",
    "UBER_TRIPS_SCHEMA = \"\"\"\n",
    "CREATE TABLE uber_trips (\n",
    "    uber_id INTEGER NOT NULL, \n",
    "    pickup_datetime DATETIME, \n",
    "    pickup_longitude FLOAT, \n",
    "    pickup_latitude FLOAT, \n",
    "    dropoff_longitude FLOAT, \n",
    "    dropoff_latitude FLOAT, \n",
    "    distance FLOAT, \n",
    "    PRIMARY KEY (uber_id)\n",
    ")\n",
    "\"\"\""
   ]
  },
  {
   "cell_type": "code",
   "execution_count": 241,
   "id": "5f41e54b",
   "metadata": {},
   "outputs": [
    {
     "data": {
      "application/javascript": [
       "\n",
       "            setTimeout(function() {\n",
       "                var nbb_cell_id = 241;\n",
       "                var nbb_unformatted_code = \"# create that required schema.sql file\\nwith open(DATABASE_SCHEMA_FILE, \\\"w\\\") as f:\\n    f.write(HOURLY_WEATHER_SCHEMA)\\n    f.write(DAILY_WEATHER_SCHEMA)\\n    f.write(TAXI_TRIPS_SCHEMA)\\n    f.write(UBER_TRIPS_SCHEMA)\";\n",
       "                var nbb_formatted_code = \"# create that required schema.sql file\\nwith open(DATABASE_SCHEMA_FILE, \\\"w\\\") as f:\\n    f.write(HOURLY_WEATHER_SCHEMA)\\n    f.write(DAILY_WEATHER_SCHEMA)\\n    f.write(TAXI_TRIPS_SCHEMA)\\n    f.write(UBER_TRIPS_SCHEMA)\";\n",
       "                var nbb_cells = Jupyter.notebook.get_cells();\n",
       "                for (var i = 0; i < nbb_cells.length; ++i) {\n",
       "                    if (nbb_cells[i].input_prompt_number == nbb_cell_id) {\n",
       "                        if (nbb_cells[i].get_text() == nbb_unformatted_code) {\n",
       "                             nbb_cells[i].set_text(nbb_formatted_code);\n",
       "                        }\n",
       "                        break;\n",
       "                    }\n",
       "                }\n",
       "            }, 500);\n",
       "            "
      ],
      "text/plain": [
       "<IPython.core.display.Javascript object>"
      ]
     },
     "metadata": {},
     "output_type": "display_data"
    },
    {
     "data": {
      "application/javascript": [
       "\n",
       "            setTimeout(function() {\n",
       "                var nbb_cell_id = 241;\n",
       "                var nbb_unformatted_code = \"# create that required schema.sql file\\nwith open(DATABASE_SCHEMA_FILE, \\\"w\\\") as f:\\n    f.write(HOURLY_WEATHER_SCHEMA)\\n    f.write(DAILY_WEATHER_SCHEMA)\\n    f.write(TAXI_TRIPS_SCHEMA)\\n    f.write(UBER_TRIPS_SCHEMA)\";\n",
       "                var nbb_formatted_code = \"# create that required schema.sql file\\nwith open(DATABASE_SCHEMA_FILE, \\\"w\\\") as f:\\n    f.write(HOURLY_WEATHER_SCHEMA)\\n    f.write(DAILY_WEATHER_SCHEMA)\\n    f.write(TAXI_TRIPS_SCHEMA)\\n    f.write(UBER_TRIPS_SCHEMA)\";\n",
       "                var nbb_cells = Jupyter.notebook.get_cells();\n",
       "                for (var i = 0; i < nbb_cells.length; ++i) {\n",
       "                    if (nbb_cells[i].input_prompt_number == nbb_cell_id) {\n",
       "                        if (nbb_cells[i].get_text() == nbb_unformatted_code) {\n",
       "                             nbb_cells[i].set_text(nbb_formatted_code);\n",
       "                        }\n",
       "                        break;\n",
       "                    }\n",
       "                }\n",
       "            }, 500);\n",
       "            "
      ],
      "text/plain": [
       "<IPython.core.display.Javascript object>"
      ]
     },
     "metadata": {},
     "output_type": "display_data"
    }
   ],
   "source": [
    "# DATABASE_URL = \"sqlite:///project.db\"\n",
    "# DATABASE_SCHEMA_FILE = \"schema.sql\"\n",
    "\n",
    "# create that required schema.sql file\n",
    "with open(DATABASE_SCHEMA_FILE, \"w\") as f:\n",
    "    f.write(HOURLY_WEATHER_SCHEMA)\n",
    "    f.write(DAILY_WEATHER_SCHEMA)\n",
    "    f.write(TAXI_TRIPS_SCHEMA)\n",
    "    f.write(UBER_TRIPS_SCHEMA)"
   ]
  },
  {
   "cell_type": "code",
   "execution_count": null,
   "id": "02eccdba",
   "metadata": {},
   "outputs": [],
   "source": [
    "# create the tables with the schema files\n",
    "with engine.connect() as connection:\n",
    "    pass"
   ]
  },
  {
   "cell_type": "markdown",
   "id": "c122964f",
   "metadata": {},
   "source": [
    "### Add Data to Database\n",
    "\n",
    "_**TODO:** Write some prose that tells the reader what you're about to do here._"
   ]
  },
  {
   "cell_type": "code",
   "execution_count": null,
   "id": "0e68a363",
   "metadata": {},
   "outputs": [],
   "source": [
    "def write_dataframes_to_table(table_to_df_dict):\n",
    "    raise NotImplemented()"
   ]
  },
  {
   "cell_type": "code",
   "execution_count": null,
   "id": "45d6c06c",
   "metadata": {},
   "outputs": [],
   "source": [
    "map_table_name_to_dataframe = {\n",
    "    \"taxi_trips\": taxi_data,\n",
    "    \"uber_trips\": uber_data,\n",
    "    \"hourly_weather\": hourly_data,\n",
    "    \"daily_weather\": daily_data,\n",
    "}"
   ]
  },
  {
   "cell_type": "code",
   "execution_count": null,
   "id": "74004f96",
   "metadata": {},
   "outputs": [],
   "source": [
    "write_dataframes_to_table(map_table_name_to_dataframe)"
   ]
  },
  {
   "cell_type": "markdown",
   "id": "8cb6e33e",
   "metadata": {},
   "source": [
    "## Part 3: Understanding the Data"
   ]
  },
  {
   "cell_type": "markdown",
   "id": "b4753fcd",
   "metadata": {},
   "source": [
    "_A checklist of requirements to keep you on track. Remove this whole cell before submitting the project. The order of these tasks aren't necessarily the order in which they need to be done. It's okay to do them in an order that makes sense to you._\n",
    "\n",
    "* [ ] For 01-2009 through 06-2015, what hour of the day was the most popular to take a yellow taxi? The result should have 24 bins.\n",
    "* [ ] For the same time frame, what day of the week was the most popular to take an uber? The result should have 7 bins.\n",
    "* [ ] What is the 95% percentile of distance traveled for all hired trips during July 2013?\n",
    "* [ ] What were the top 10 days with the highest number of hired rides for 2009, and what was the average distance for each day?\n",
    "* [ ] Which 10 days in 2014 were the windiest, and how many hired trips were made on those days?\n",
    "* [ ] During Hurricane Sandy in NYC (Oct 29-30, 2012) and the week leading up to it, how many trips were taken each hour, and for each hour, how much precipitation did NYC receive and what was the sustained wind speed?"
   ]
  },
  {
   "cell_type": "code",
   "execution_count": null,
   "id": "6a849e92",
   "metadata": {},
   "outputs": [],
   "source": [
    "def write_query_to_file(query, outfile):\n",
    "    raise NotImplemented()"
   ]
  },
  {
   "cell_type": "markdown",
   "id": "ee70a777",
   "metadata": {},
   "source": [
    "### Query N\n",
    "\n",
    "_**TODO:** Write some prose that tells the reader what you're about to do here._\n",
    "\n",
    "_Repeat for each query_"
   ]
  },
  {
   "cell_type": "code",
   "execution_count": null,
   "id": "db871d3c",
   "metadata": {},
   "outputs": [],
   "source": [
    "QUERY_N = \"\"\"\n",
    "TODO\n",
    "\"\"\""
   ]
  },
  {
   "cell_type": "code",
   "execution_count": null,
   "id": "c5275f3a",
   "metadata": {},
   "outputs": [],
   "source": [
    "engine.execute(QUERY_N).fetchall()"
   ]
  },
  {
   "cell_type": "code",
   "execution_count": null,
   "id": "a2ef04df",
   "metadata": {},
   "outputs": [],
   "source": [
    "write_query_to_file(QUERY_N, \"some_descriptive_name.sql\")"
   ]
  },
  {
   "cell_type": "markdown",
   "id": "a13ced42",
   "metadata": {},
   "source": [
    "## Part 4: Visualizing the Data\n",
    "\n",
    "_A checklist of requirements to keep you on track. Remove this whole cell before submitting the project. The order of these tasks aren't necessarily the order in which they need to be done. It's okay to do them in an order that makes sense to you._\n",
    "\n",
    "* [ ] Create an appropriate visualization for the first query/question in part 3\n",
    "* [ ] Create a visualization that shows the average distance traveled per month (regardless of year - so group by each month). Include the 90% confidence interval around the mean in the visualization\n",
    "* [ ] Define three lat/long coordinate boxes around the three major New York airports: LGA, JFK, and EWR (you can use bboxfinder to help). Create a visualization that compares what day of the week was most popular for drop offs for each airport.\n",
    "* [ ] Create a heatmap of all hired trips over a map of the area. Consider using KeplerGL or another library that helps generate geospatial visualizations.\n",
    "* [ ] Create a scatter plot that compares tip amount versus distance.\n",
    "* [ ] Create another scatter plot that compares tip amount versus precipitation amount.\n",
    "\n",
    "_Be sure these cells are executed so that the visualizations are rendered when the notebook is submitted._"
   ]
  },
  {
   "cell_type": "markdown",
   "id": "6d9eef42",
   "metadata": {},
   "source": [
    "### Visualization N\n",
    "\n",
    "_**TODO:** Write some prose that tells the reader what you're about to do here._\n",
    "\n",
    "_Repeat for each visualization._\n",
    "\n",
    "_The example below makes use of the `matplotlib` library. There are other libraries, including `pandas` built-in plotting library, kepler for geospatial data representation, `seaborn`, and others._"
   ]
  },
  {
   "cell_type": "code",
   "execution_count": null,
   "id": "0de8394c",
   "metadata": {},
   "outputs": [],
   "source": [
    "# use a more descriptive name for your function\n",
    "def plot_visual_n(dataframe):\n",
    "    figure, axes = plt.subplots(figsize=(20, 10))\n",
    "    \n",
    "    values = \"...\"  # use the dataframe to pull out values needed to plot\n",
    "    \n",
    "    # you may want to use matplotlib to plot your visualizations;\n",
    "    # there are also many other plot types (other \n",
    "    # than axes.plot) you can use\n",
    "    axes.plot(values, \"...\")\n",
    "    # there are other methods to use to label your axes, to style \n",
    "    # and set up axes labels, etc\n",
    "    axes.set_title(\"Some Descriptive Title\")\n",
    "    \n",
    "    plt.show()"
   ]
  },
  {
   "cell_type": "code",
   "execution_count": null,
   "id": "847ced2f",
   "metadata": {},
   "outputs": [],
   "source": [
    "def get_data_for_visual_n():\n",
    "    # Query SQL database for the data needed.\n",
    "    # You can put the data queried into a pandas dataframe, if you wish\n",
    "    raise NotImplemented()"
   ]
  },
  {
   "cell_type": "code",
   "execution_count": null,
   "id": "3c63e845",
   "metadata": {},
   "outputs": [],
   "source": [
    "some_dataframe = get_data_for_visual_n()\n",
    "plot_visual_n(some_dataframe)"
   ]
  }
 ],
 "metadata": {
  "kernelspec": {
   "display_name": "Python 3 (ipykernel)",
   "language": "python",
   "name": "python3"
  },
  "language_info": {
   "codemirror_mode": {
    "name": "ipython",
    "version": 3
   },
   "file_extension": ".py",
   "mimetype": "text/x-python",
   "name": "python",
   "nbconvert_exporter": "python",
   "pygments_lexer": "ipython3",
   "version": "3.10.8"
  }
 },
 "nbformat": 4,
 "nbformat_minor": 5
}
