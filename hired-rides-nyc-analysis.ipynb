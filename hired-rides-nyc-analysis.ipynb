{
 "cells": [
  {
   "cell_type": "markdown",
   "id": "32f8ca24",
   "metadata": {},
   "source": [
    "# Understanding Hired Rides in NYC\n",
    "\n",
    "_[Project prompt](https://docs.google.com/document/d/1VERPjEZcC1XSs4-02aM-DbkNr_yaJVbFjLJxaYQswqA/edit#)_\n",
    "\n",
    "_This scaffolding notebook may be used to help setup your final project. It's **totally optional** whether you make use of this or not._\n",
    "\n",
    "_If you do use this notebook, everything provided is optional as well - you may remove or add prose and code as you wish._\n",
    "\n",
    "_Anything in italics (prose) or comments (in code) is meant to provide you with guidance. **Remove the italic lines and provided comments** before submitting the project, if you choose to use this scaffolding. We don't need the guidance when grading._\n",
    "\n",
    "_**All code below should be consider \"pseudo-code\" - not functional by itself, and only a suggestion at the approach.**_"
   ]
  },
  {
   "cell_type": "markdown",
   "id": "25627e8d",
   "metadata": {},
   "source": [
    "## Requirements\n",
    "\n",
    "_A checklist of requirements to keep you on track. Remove this whole cell before submitting the project._\n",
    "\n",
    "* Code clarity: make sure the code conforms to:\n",
    "    * [ ] [PEP 8](https://peps.python.org/pep-0008/) - You might find [this resource](https://realpython.com/python-pep8/) helpful as well as [this](https://github.com/dnanhkhoa/nb_black) or [this](https://jupyterlab-code-formatter.readthedocs.io/en/latest/) tool\n",
    "    * [ ] [PEP 257](https://peps.python.org/pep-0257/)\n",
    "    * [ ] Break each task down into logical functions\n",
    "* The following files are submitted for the project (see the project's GDoc for more details):\n",
    "    * [ ] `README.md`\n",
    "    * [ ] `requirements.txt`\n",
    "    * [ ] `.gitignore`\n",
    "    * [ ] `schema.sql`\n",
    "    * [ ] 6 query files (using the `.sql` extension), appropriately named for the purpose of the query\n",
    "    * [x] Jupyter Notebook containing the project (this file!)\n",
    "* [x] You can edit this cell and add a `x` inside the `[ ]` like this task to denote a completed task"
   ]
  },
  {
   "cell_type": "markdown",
   "id": "2f75fd94",
   "metadata": {},
   "source": [
    "## Project Setup"
   ]
  },
  {
   "cell_type": "code",
   "execution_count": 1,
   "id": "66dcde05",
   "metadata": {},
   "outputs": [],
   "source": [
    "# import libraries\n",
    "\n",
    "from math import radians, sin, cos, sqrt, atan2\n",
    "\n",
    "# import os\n",
    "import requests\n",
    "import bs4\n",
    "import re\n",
    "import geopandas\n",
    "import matplotlib.pyplot as plt\n",
    "import pandas as pd\n",
    "import sqlalchemy as db"
   ]
  },
  {
   "cell_type": "code",
   "execution_count": null,
   "id": "350b9f48",
   "metadata": {},
   "outputs": [],
   "source": []
  },
  {
   "cell_type": "code",
   "execution_count": 5,
   "id": "8b622a58",
   "metadata": {},
   "outputs": [
    {
     "data": {
      "application/javascript": [
       "\n",
       "            setTimeout(function() {\n",
       "                var nbb_cell_id = 5;\n",
       "                var nbb_unformatted_code = \"# notebook formatting\\n\\n%load_ext nb_black\";\n",
       "                var nbb_formatted_code = \"# notebook formatting\\n\\n%load_ext nb_black\";\n",
       "                var nbb_cells = Jupyter.notebook.get_cells();\n",
       "                for (var i = 0; i < nbb_cells.length; ++i) {\n",
       "                    if (nbb_cells[i].input_prompt_number == nbb_cell_id) {\n",
       "                        if (nbb_cells[i].get_text() == nbb_unformatted_code) {\n",
       "                             nbb_cells[i].set_text(nbb_formatted_code);\n",
       "                        }\n",
       "                        break;\n",
       "                    }\n",
       "                }\n",
       "            }, 500);\n",
       "            "
      ],
      "text/plain": [
       "<IPython.core.display.Javascript object>"
      ]
     },
     "metadata": {},
     "output_type": "display_data"
    }
   ],
   "source": [
    "# notebook formatting\n",
    "\n",
    "%load_ext nb_black"
   ]
  },
  {
   "cell_type": "code",
   "execution_count": 6,
   "id": "3f1242c4",
   "metadata": {},
   "outputs": [
    {
     "data": {
      "application/javascript": [
       "\n",
       "            setTimeout(function() {\n",
       "                var nbb_cell_id = 6;\n",
       "                var nbb_unformatted_code = \"# any constants you might need, for example:\\n\\nTAXI_URL = \\\"https://www1.nyc.gov/site/tlc/about/tlc-trip-record-data.page\\\"\\n# add other constants to refer to any local data, e.g. uber & weather\\nUBER_CSV = \\\"uber_rides_sample.csv\\\"\\n\\nNEW_YORK_BOX_COORDS = ((40.560445, -74.242330), (40.908524, -73.717047))\\n\\nDATABASE_URL = \\\"sqlite:///project.db\\\"\\nDATABASE_SCHEMA_FILE = \\\"schema.sql\\\"\\nQUERY_DIRECTORY = \\\"queries\\\"\";\n",
       "                var nbb_formatted_code = \"# any constants you might need, for example:\\n\\nTAXI_URL = \\\"https://www1.nyc.gov/site/tlc/about/tlc-trip-record-data.page\\\"\\n# add other constants to refer to any local data, e.g. uber & weather\\nUBER_CSV = \\\"uber_rides_sample.csv\\\"\\n\\nNEW_YORK_BOX_COORDS = ((40.560445, -74.242330), (40.908524, -73.717047))\\n\\nDATABASE_URL = \\\"sqlite:///project.db\\\"\\nDATABASE_SCHEMA_FILE = \\\"schema.sql\\\"\\nQUERY_DIRECTORY = \\\"queries\\\"\";\n",
       "                var nbb_cells = Jupyter.notebook.get_cells();\n",
       "                for (var i = 0; i < nbb_cells.length; ++i) {\n",
       "                    if (nbb_cells[i].input_prompt_number == nbb_cell_id) {\n",
       "                        if (nbb_cells[i].get_text() == nbb_unformatted_code) {\n",
       "                             nbb_cells[i].set_text(nbb_formatted_code);\n",
       "                        }\n",
       "                        break;\n",
       "                    }\n",
       "                }\n",
       "            }, 500);\n",
       "            "
      ],
      "text/plain": [
       "<IPython.core.display.Javascript object>"
      ]
     },
     "metadata": {},
     "output_type": "display_data"
    }
   ],
   "source": [
    "# any constants you might need, for example:\n",
    "\n",
    "TAXI_URL = \"https://www1.nyc.gov/site/tlc/about/tlc-trip-record-data.page\"\n",
    "# add other constants to refer to any local data, e.g. uber & weather\n",
    "UBER_CSV = \"uber_rides_sample.csv\"\n",
    "\n",
    "NEW_YORK_BOX_COORDS = ((40.560445, -74.242330), (40.908524, -73.717047))\n",
    "\n",
    "DATABASE_URL = \"sqlite:///project.db\"\n",
    "DATABASE_SCHEMA_FILE = \"schema.sql\"\n",
    "QUERY_DIRECTORY = \"queries\""
   ]
  },
  {
   "cell_type": "markdown",
   "id": "26ad10ea",
   "metadata": {},
   "source": [
    "## Part 1: Data Preprocessing"
   ]
  },
  {
   "cell_type": "markdown",
   "id": "ecf38168",
   "metadata": {},
   "source": [
    "_A checklist of requirements to keep you on track. Remove this whole cell before submitting the project. The order of these tasks aren't necessarily the order in which they need to be done. It's okay to do them in an order that makes sense to you._\n",
    "\n",
    "* [ ] Define a function that calculates the distance between two coordinates in kilometers that **only uses the `math` module** from the standard library.\n",
    "* [ ] Taxi data:\n",
    "    * [ ] Use the `re` module, and the packages `requests`, BeautifulSoup (`bs4`), and (optionally) `pandas` to programmatically download the required CSV files & load into memory.\n",
    "    * You may need to do this one file at a time - download, clean, sample. You can cache the sampling by saving it as a CSV file (and thereby freeing up memory on your computer) before moving onto the next file. \n",
    "* [ ] Weather & Uber data:\n",
    "    * [ ] Download the data manually in the link provided in the project doc.\n",
    "* [ ] All data:\n",
    "    * [ ] Load the data using `pandas`\n",
    "    * [ ] Clean the data, including:\n",
    "        * Remove unnecessary columns\n",
    "        * Remove invalid data points (take a moment to consider what's invalid)\n",
    "        * Normalize column names\n",
    "        * (Taxi & Uber data) Remove trips that start and/or end outside the designated [coordinate box](http://bboxfinder.com/#40.560445,-74.242330,40.908524,-73.717047)\n",
    "    * [ ] (Taxi data) Sample the data so that you have roughly the same amount of data points over the given date range for both Taxi data and Uber data.\n",
    "* [ ] Weather data:\n",
    "    * [ ] Split into two `pandas` DataFrames: one for required hourly data, and one for the required daily daya.\n",
    "    * [ ] You may find that the weather data you need later on does not exist at the frequency needed (daily vs hourly). You may calculate/generate samples from one to populate the other. Just document what you’re doing so we can follow along. "
   ]
  },
  {
   "cell_type": "markdown",
   "id": "6e26fe17",
   "metadata": {},
   "source": [
    "    \"\"\"Summary line.\n",
    "\n",
    "    Extended description of function.\n",
    "\n",
    "    Args:\n",
    "        arg1 (int): Description of arg1\n",
    "        arg2 (str): Description of arg2\n",
    "\n",
    "    Returns:\n",
    "        bool: Description of return value\n",
    "\n",
    "    \"\"\""
   ]
  },
  {
   "cell_type": "markdown",
   "id": "32074561",
   "metadata": {},
   "source": [
    "### Calculating distance\n",
    "_**TODO:** Write some prose that tells the reader what you're about to do here._"
   ]
  },
  {
   "cell_type": "code",
   "execution_count": 15,
   "id": "4cbbe6cc",
   "metadata": {},
   "outputs": [
    {
     "data": {
      "application/javascript": [
       "\n",
       "            setTimeout(function() {\n",
       "                var nbb_cell_id = 15;\n",
       "                var nbb_unformatted_code = \"def calculate_distance(from_coord, to_coord):\\n\\n    # convert degrees to radians\\n    lat1, lon1 = radians(from_coord[0]), radians(from_coord[1])\\n    lat2, lon2 = radians(to_coord[0]), radians(to_coord[1])\\n\\n    # apply Haversine formula\\n    dlat = lat2 - lat1\\n    dlon = lon2 - lon1\\n\\n    r = 6373.0  # radius of earth (km)\\n\\n    a = sin(dlat / 2) ** 2 + cos(lat1) * cos(lat2) * sin(dlon / 2) ** 2\\n    c = 2 * atan2(sqrt(a), sqrt(1 - a))\\n\\n    distance = r * c\\n\\n    return distance\";\n",
       "                var nbb_formatted_code = \"def calculate_distance(from_coord, to_coord):\\n\\n    # convert degrees to radians\\n    lat1, lon1 = radians(from_coord[0]), radians(from_coord[1])\\n    lat2, lon2 = radians(to_coord[0]), radians(to_coord[1])\\n\\n    # apply Haversine formula\\n    dlat = lat2 - lat1\\n    dlon = lon2 - lon1\\n\\n    r = 6373.0  # radius of earth (km)\\n\\n    a = sin(dlat / 2) ** 2 + cos(lat1) * cos(lat2) * sin(dlon / 2) ** 2\\n    c = 2 * atan2(sqrt(a), sqrt(1 - a))\\n\\n    distance = r * c\\n\\n    return distance\";\n",
       "                var nbb_cells = Jupyter.notebook.get_cells();\n",
       "                for (var i = 0; i < nbb_cells.length; ++i) {\n",
       "                    if (nbb_cells[i].input_prompt_number == nbb_cell_id) {\n",
       "                        if (nbb_cells[i].get_text() == nbb_unformatted_code) {\n",
       "                             nbb_cells[i].set_text(nbb_formatted_code);\n",
       "                        }\n",
       "                        break;\n",
       "                    }\n",
       "                }\n",
       "            }, 500);\n",
       "            "
      ],
      "text/plain": [
       "<IPython.core.display.Javascript object>"
      ]
     },
     "metadata": {},
     "output_type": "display_data"
    }
   ],
   "source": [
    "def calculate_distance(from_coord, to_coord):\n",
    "    \"\"\"Caculate the distance between two coordinates\n",
    "\n",
    "    Args:\n",
    "        from_coord (tuple): A pair values (float) of latitude and longitude\n",
    "        to_coord (tuple): A pair values (float) of latitude and longitude\n",
    "\n",
    "    Returns:\n",
    "        float: the distance\n",
    "\n",
    "    \"\"\"\n",
    "    \n",
    "    # convert degrees to radians\n",
    "    lat1, lon1 = radians(from_coord[0]), radians(from_coord[1])\n",
    "    lat2, lon2 = radians(to_coord[0]), radians(to_coord[1])\n",
    "\n",
    "    # apply Haversine formula\n",
    "    dlat = lat2 - lat1\n",
    "    dlon = lon2 - lon1\n",
    "\n",
    "    r = 6373.0  # radius of earth (km)\n",
    "\n",
    "    a = sin(dlat / 2) ** 2 + cos(lat1) * cos(lat2) * sin(dlon / 2) ** 2\n",
    "    c = 2 * atan2(sqrt(a), sqrt(1 - a))\n",
    "\n",
    "    distance = r * c\n",
    "\n",
    "    return distance"
   ]
  },
  {
   "cell_type": "code",
   "execution_count": 14,
   "id": "bf6e6a5e",
   "metadata": {},
   "outputs": [
    {
     "data": {
      "text/plain": [
       "58.8135468911925"
      ]
     },
     "execution_count": 14,
     "metadata": {},
     "output_type": "execute_result"
    },
    {
     "data": {
      "application/javascript": [
       "\n",
       "            setTimeout(function() {\n",
       "                var nbb_cell_id = 14;\n",
       "                var nbb_unformatted_code = \"calculate_distance(NEW_YORK_BOX_COORDS[0], NEW_YORK_BOX_COORDS[1])\";\n",
       "                var nbb_formatted_code = \"calculate_distance(NEW_YORK_BOX_COORDS[0], NEW_YORK_BOX_COORDS[1])\";\n",
       "                var nbb_cells = Jupyter.notebook.get_cells();\n",
       "                for (var i = 0; i < nbb_cells.length; ++i) {\n",
       "                    if (nbb_cells[i].input_prompt_number == nbb_cell_id) {\n",
       "                        if (nbb_cells[i].get_text() == nbb_unformatted_code) {\n",
       "                             nbb_cells[i].set_text(nbb_formatted_code);\n",
       "                        }\n",
       "                        break;\n",
       "                    }\n",
       "                }\n",
       "            }, 500);\n",
       "            "
      ],
      "text/plain": [
       "<IPython.core.display.Javascript object>"
      ]
     },
     "metadata": {},
     "output_type": "display_data"
    }
   ],
   "source": [
    "calculate_distance(NEW_YORK_BOX_COORDS[0], NEW_YORK_BOX_COORDS[1])"
   ]
  },
  {
   "cell_type": "code",
   "execution_count": null,
   "id": "6d6abf52",
   "metadata": {},
   "outputs": [],
   "source": [
    "def add_distance_column(dataframe):\n",
    "    raise NotImplemented()"
   ]
  },
  {
   "cell_type": "markdown",
   "id": "93daa717",
   "metadata": {},
   "source": [
    "### Processing Taxi Data\n",
    "\n",
    "_**TODO:** Write some prose that tells the reader what you're about to do here._"
   ]
  },
  {
   "cell_type": "code",
   "execution_count": 10,
   "id": "cbd0d198",
   "metadata": {},
   "outputs": [
    {
     "data": {
      "application/javascript": [
       "\n",
       "            setTimeout(function() {\n",
       "                var nbb_cell_id = 10;\n",
       "                var nbb_unformatted_code = \"def find_taxi_parquet_urls():\\n    \\\"\\\"\\\"Retrieve the yellow taxi parquet urls.\\n\\n    The function retrieves the url from January 2009 through June 2015.\\n\\n    Args:\\n        None\\n\\n    Returns:\\n        list: Desired urls as list of strings\\n\\n    \\\"\\\"\\\"\\n\\n    # Use requests library to get TAXI_URL html\\n    response = requests.get(TAXI_URL)\\n    html = response.content\\n\\n    # Use BeautifulSoup to get all yellow taxi parquet urls\\n    soup = bs4.BeautifulSoup(html, \\\"html.parser\\\")\\n    yellow_a_tags = soup.find_all(\\\"a\\\", attrs={\\\"title\\\": \\\"Yellow Taxi Trip Records\\\"})\\n    yellow_taxi_urls = [a[\\\"href\\\"] for a in yellow_a_tags]\\n\\n    # Use re moduel to filter the urls\\n    pattern = re.compile(\\n        r\\\"yellow_tripdata_20(09-(?:0\\\\d|1[0-2])|1[0-4]-(?:0\\\\d|1[0-2])|15-0[1-6]).parquet\\\"\\n    )\\n\\n    yellow_taxi_urls_desired = []\\n\\n    for link in yellow_taxi_urls:\\n        match = pattern.search(link)\\n        if match:\\n            yellow_taxi_urls_desired.append(match.string)\\n\\n    return yellow_taxi_urls_desired\";\n",
       "                var nbb_formatted_code = \"def find_taxi_parquet_urls():\\n    \\\"\\\"\\\"Retrieve the yellow taxi parquet urls.\\n\\n    The function retrieves the url from January 2009 through June 2015.\\n\\n    Args:\\n        None\\n\\n    Returns:\\n        list: Desired urls as list of strings\\n\\n    \\\"\\\"\\\"\\n\\n    # Use requests library to get TAXI_URL html\\n    response = requests.get(TAXI_URL)\\n    html = response.content\\n\\n    # Use BeautifulSoup to get all yellow taxi parquet urls\\n    soup = bs4.BeautifulSoup(html, \\\"html.parser\\\")\\n    yellow_a_tags = soup.find_all(\\\"a\\\", attrs={\\\"title\\\": \\\"Yellow Taxi Trip Records\\\"})\\n    yellow_taxi_urls = [a[\\\"href\\\"] for a in yellow_a_tags]\\n\\n    # Use re moduel to filter the urls\\n    pattern = re.compile(\\n        r\\\"yellow_tripdata_20(09-(?:0\\\\d|1[0-2])|1[0-4]-(?:0\\\\d|1[0-2])|15-0[1-6]).parquet\\\"\\n    )\\n\\n    yellow_taxi_urls_desired = []\\n\\n    for link in yellow_taxi_urls:\\n        match = pattern.search(link)\\n        if match:\\n            yellow_taxi_urls_desired.append(match.string)\\n\\n    return yellow_taxi_urls_desired\";\n",
       "                var nbb_cells = Jupyter.notebook.get_cells();\n",
       "                for (var i = 0; i < nbb_cells.length; ++i) {\n",
       "                    if (nbb_cells[i].input_prompt_number == nbb_cell_id) {\n",
       "                        if (nbb_cells[i].get_text() == nbb_unformatted_code) {\n",
       "                             nbb_cells[i].set_text(nbb_formatted_code);\n",
       "                        }\n",
       "                        break;\n",
       "                    }\n",
       "                }\n",
       "            }, 500);\n",
       "            "
      ],
      "text/plain": [
       "<IPython.core.display.Javascript object>"
      ]
     },
     "metadata": {},
     "output_type": "display_data"
    }
   ],
   "source": [
    "def find_taxi_parquet_urls():\n",
    "    \"\"\"Retrieve the yellow taxi parquet urls.\n",
    "\n",
    "    The function retrieves the url from January 2009 through June 2015.\n",
    "\n",
    "    Args:\n",
    "        None\n",
    "\n",
    "    Returns:\n",
    "        list: Desired urls as list of strings\n",
    "\n",
    "    \"\"\"\n",
    "\n",
    "    # Use requests library to get TAXI_URL html\n",
    "    response = requests.get(TAXI_URL)\n",
    "    html = response.content\n",
    "\n",
    "    # Use BeautifulSoup to get all yellow taxi parquet urls\n",
    "    soup = bs4.BeautifulSoup(html, \"html.parser\")\n",
    "    yellow_a_tags = soup.find_all(\"a\", attrs={\"title\": \"Yellow Taxi Trip Records\"})\n",
    "    yellow_taxi_urls = [a[\"href\"] for a in yellow_a_tags]\n",
    "\n",
    "    # Use re moduel to filter the urls\n",
    "    pattern = re.compile(\n",
    "        r\"yellow_tripdata_20(09-(?:0\\d|1[0-2])|1[0-4]-(?:0\\d|1[0-2])|15-0[1-6]).parquet\"\n",
    "    )\n",
    "\n",
    "    yellow_taxi_urls_desired = []\n",
    "\n",
    "    for link in yellow_taxi_urls:\n",
    "        match = pattern.search(link)\n",
    "        if match:\n",
    "            yellow_taxi_urls_desired.append(match.string)\n",
    "\n",
    "    return yellow_taxi_urls_desired"
   ]
  },
  {
   "cell_type": "code",
   "execution_count": 11,
   "id": "b7a2fe98",
   "metadata": {},
   "outputs": [
    {
     "data": {
      "application/javascript": [
       "\n",
       "            setTimeout(function() {\n",
       "                var nbb_cell_id = 11;\n",
       "                var nbb_unformatted_code = \"# find_taxi_parquet_urls()\";\n",
       "                var nbb_formatted_code = \"# find_taxi_parquet_urls()\";\n",
       "                var nbb_cells = Jupyter.notebook.get_cells();\n",
       "                for (var i = 0; i < nbb_cells.length; ++i) {\n",
       "                    if (nbb_cells[i].input_prompt_number == nbb_cell_id) {\n",
       "                        if (nbb_cells[i].get_text() == nbb_unformatted_code) {\n",
       "                             nbb_cells[i].set_text(nbb_formatted_code);\n",
       "                        }\n",
       "                        break;\n",
       "                    }\n",
       "                }\n",
       "            }, 500);\n",
       "            "
      ],
      "text/plain": [
       "<IPython.core.display.Javascript object>"
      ]
     },
     "metadata": {},
     "output_type": "display_data"
    }
   ],
   "source": [
    "# find_taxi_parquet_urls()"
   ]
  },
  {
   "cell_type": "code",
   "execution_count": 12,
   "id": "9bb298bd",
   "metadata": {},
   "outputs": [
    {
     "data": {
      "application/javascript": [
       "\n",
       "            setTimeout(function() {\n",
       "                var nbb_cell_id = 12;\n",
       "                var nbb_unformatted_code = \"def download_taxi_data(taxi_parquet_url):\\n    for url in taxi_parquet_url:\\n\\n        response = requests.get(url, stream=True)\\n        file_name = url.split(\\\"/\\\")[-1]\\n        # file_path = os.getcwd() + '/datasets/yellow_taxi_data/'\\n\\n        with open(file_name, \\\"wb\\\") as f:\\n            for chunk in response.iter_content(chunk_size=1024):\\n                if chunk:\\n                    f.write(chunk)\";\n",
       "                var nbb_formatted_code = \"def download_taxi_data(taxi_parquet_url):\\n    for url in taxi_parquet_url:\\n\\n        response = requests.get(url, stream=True)\\n        file_name = url.split(\\\"/\\\")[-1]\\n        # file_path = os.getcwd() + '/datasets/yellow_taxi_data/'\\n\\n        with open(file_name, \\\"wb\\\") as f:\\n            for chunk in response.iter_content(chunk_size=1024):\\n                if chunk:\\n                    f.write(chunk)\";\n",
       "                var nbb_cells = Jupyter.notebook.get_cells();\n",
       "                for (var i = 0; i < nbb_cells.length; ++i) {\n",
       "                    if (nbb_cells[i].input_prompt_number == nbb_cell_id) {\n",
       "                        if (nbb_cells[i].get_text() == nbb_unformatted_code) {\n",
       "                             nbb_cells[i].set_text(nbb_formatted_code);\n",
       "                        }\n",
       "                        break;\n",
       "                    }\n",
       "                }\n",
       "            }, 500);\n",
       "            "
      ],
      "text/plain": [
       "<IPython.core.display.Javascript object>"
      ]
     },
     "metadata": {},
     "output_type": "display_data"
    }
   ],
   "source": [
    "def download_taxi_data(taxi_parquet_url):\n",
    "    for url in taxi_parquet_url:\n",
    "\n",
    "        response = requests.get(url, stream=True)\n",
    "        file_name = url.split(\"/\")[-1]\n",
    "        # file_path = os.getcwd() + '/datasets/yellow_taxi_data/'\n",
    "\n",
    "        with open(file_name, \"wb\") as f:\n",
    "            for chunk in response.iter_content(chunk_size=1024):\n",
    "                if chunk:\n",
    "                    f.write(chunk)"
   ]
  },
  {
   "cell_type": "code",
   "execution_count": 13,
   "id": "30a25ab4",
   "metadata": {},
   "outputs": [
    {
     "data": {
      "application/javascript": [
       "\n",
       "            setTimeout(function() {\n",
       "                var nbb_cell_id = 13;\n",
       "                var nbb_unformatted_code = \"# Download the taxi parquet files to the current folder\\n\\ntaxi_parquet_url = find_taxi_parquet_urls()\\ndownload_taxi_data(taxi_parquet_url)\";\n",
       "                var nbb_formatted_code = \"# Download the taxi parquet files to the current folder\\n\\ntaxi_parquet_url = find_taxi_parquet_urls()\\ndownload_taxi_data(taxi_parquet_url)\";\n",
       "                var nbb_cells = Jupyter.notebook.get_cells();\n",
       "                for (var i = 0; i < nbb_cells.length; ++i) {\n",
       "                    if (nbb_cells[i].input_prompt_number == nbb_cell_id) {\n",
       "                        if (nbb_cells[i].get_text() == nbb_unformatted_code) {\n",
       "                             nbb_cells[i].set_text(nbb_formatted_code);\n",
       "                        }\n",
       "                        break;\n",
       "                    }\n",
       "                }\n",
       "            }, 500);\n",
       "            "
      ],
      "text/plain": [
       "<IPython.core.display.Javascript object>"
      ]
     },
     "metadata": {},
     "output_type": "display_data"
    }
   ],
   "source": [
    "# Download the taxi parquet files to the current folder\n",
    "\n",
    "taxi_parquet_url = find_taxi_parquet_urls()\n",
    "download_taxi_data(taxi_parquet_url)"
   ]
  },
  {
   "cell_type": "code",
   "execution_count": 49,
   "id": "bfe8b834",
   "metadata": {},
   "outputs": [
    {
     "data": {
      "text/plain": [
       "Index(['VendorID', 'tpep_pickup_datetime', 'tpep_dropoff_datetime',\n",
       "       'passenger_count', 'trip_distance', 'RatecodeID', 'store_and_fwd_flag',\n",
       "       'PULocationID', 'DOLocationID', 'payment_type', 'fare_amount', 'extra',\n",
       "       'mta_tax', 'tip_amount', 'tolls_amount', 'improvement_surcharge',\n",
       "       'total_amount', 'congestion_surcharge', 'airport_fee'],\n",
       "      dtype='object')"
      ]
     },
     "execution_count": 49,
     "metadata": {},
     "output_type": "execute_result"
    },
    {
     "data": {
      "application/javascript": [
       "\n",
       "            setTimeout(function() {\n",
       "                var nbb_cell_id = 49;\n",
       "                var nbb_unformatted_code = \"test = pd.read_parquet(\\\"yellow_tripdata_2014-12.parquet\\\")\\ncolumns_needed1 = [\\n    \\\"Trip_Pickup_DateTime\\\",\\n    \\\"Trip_Dropoff_DateTime\\\",\\n    \\\"Start_Lon\\\",\\n    \\\"Start_Lat\\\",\\n    \\\"End_Lon\\\",\\n    \\\"End_Lat\\\",\\n    \\\"Tip_Amt\\\",\\n]\\n\\ncolumns_needed2 = [\\n    \\\"tpep_pickup_datetime\\\",\\n    \\\"tpep_dropoff_datetime\\\",\\n    \\\"PULocationID\\\",\\n    \\\"DOLocationID\\\",\\n    \\\"tip_amount\\\",\\n]\\n\\ncolumns_needed3 = [\\n    \\\"pickup_datetime\\\",\\n    \\\"dropoff_datetime\\\",\\n    \\\"pickup_longitude\\\",\\n    \\\"pickup_latitude\\\",\\n    \\\"dropoff_longitude\\\",\\n    \\\"dropoff_latitude\\\",\\n    \\\"tip_amount\\\",\\n]\\n\\ntest.columns\";\n",
       "                var nbb_formatted_code = \"test = pd.read_parquet(\\\"yellow_tripdata_2014-12.parquet\\\")\\ncolumns_needed1 = [\\n    \\\"Trip_Pickup_DateTime\\\",\\n    \\\"Trip_Dropoff_DateTime\\\",\\n    \\\"Start_Lon\\\",\\n    \\\"Start_Lat\\\",\\n    \\\"End_Lon\\\",\\n    \\\"End_Lat\\\",\\n    \\\"Tip_Amt\\\",\\n]\\n\\ncolumns_needed2 = [\\n    \\\"tpep_pickup_datetime\\\",\\n    \\\"tpep_dropoff_datetime\\\",\\n    \\\"PULocationID\\\",\\n    \\\"DOLocationID\\\",\\n    \\\"tip_amount\\\",\\n]\\n\\ncolumns_needed3 = [\\n    \\\"pickup_datetime\\\",\\n    \\\"dropoff_datetime\\\",\\n    \\\"pickup_longitude\\\",\\n    \\\"pickup_latitude\\\",\\n    \\\"dropoff_longitude\\\",\\n    \\\"dropoff_latitude\\\",\\n    \\\"tip_amount\\\",\\n]\\n\\ntest.columns\";\n",
       "                var nbb_cells = Jupyter.notebook.get_cells();\n",
       "                for (var i = 0; i < nbb_cells.length; ++i) {\n",
       "                    if (nbb_cells[i].input_prompt_number == nbb_cell_id) {\n",
       "                        if (nbb_cells[i].get_text() == nbb_unformatted_code) {\n",
       "                             nbb_cells[i].set_text(nbb_formatted_code);\n",
       "                        }\n",
       "                        break;\n",
       "                    }\n",
       "                }\n",
       "            }, 500);\n",
       "            "
      ],
      "text/plain": [
       "<IPython.core.display.Javascript object>"
      ]
     },
     "metadata": {},
     "output_type": "display_data"
    }
   ],
   "source": [
    "test = pd.read_parquet(\"yellow_tripdata_2014-12.parquet\")\n",
    "columns_needed1 = [\n",
    "    \"Trip_Pickup_DateTime\",\n",
    "    \"Trip_Dropoff_DateTime\",\n",
    "    \"Start_Lon\",\n",
    "    \"Start_Lat\",\n",
    "    \"End_Lon\",\n",
    "    \"End_Lat\",\n",
    "    \"Tip_Amt\",\n",
    "]\n",
    "\n",
    "columns_needed2 = [\n",
    "    \"tpep_pickup_datetime\",\n",
    "    \"tpep_dropoff_datetime\",\n",
    "    \"PULocationID\",\n",
    "    \"DOLocationID\",\n",
    "    \"tip_amount\",\n",
    "]\n",
    "\n",
    "columns_needed3 = [\n",
    "    \"pickup_datetime\",\n",
    "    \"dropoff_datetime\",\n",
    "    \"pickup_longitude\",\n",
    "    \"pickup_latitude\",\n",
    "    \"dropoff_longitude\",\n",
    "    \"dropoff_latitude\",\n",
    "    \"tip_amount\",\n",
    "]\n",
    "\n",
    "test.columns"
   ]
  },
  {
   "cell_type": "code",
   "execution_count": 31,
   "id": "5f93715c",
   "metadata": {},
   "outputs": [
    {
     "data": {
      "text/html": [
       "<div>\n",
       "<style scoped>\n",
       "    .dataframe tbody tr th:only-of-type {\n",
       "        vertical-align: middle;\n",
       "    }\n",
       "\n",
       "    .dataframe tbody tr th {\n",
       "        vertical-align: top;\n",
       "    }\n",
       "\n",
       "    .dataframe thead th {\n",
       "        text-align: right;\n",
       "    }\n",
       "</style>\n",
       "<table border=\"1\" class=\"dataframe\">\n",
       "  <thead>\n",
       "    <tr style=\"text-align: right;\">\n",
       "      <th></th>\n",
       "      <th>vendor_id</th>\n",
       "      <th>pickup_datetime</th>\n",
       "      <th>dropoff_datetime</th>\n",
       "      <th>passenger_count</th>\n",
       "      <th>trip_distance</th>\n",
       "      <th>pickup_longitude</th>\n",
       "      <th>pickup_latitude</th>\n",
       "      <th>rate_code</th>\n",
       "      <th>store_and_fwd_flag</th>\n",
       "      <th>dropoff_longitude</th>\n",
       "      <th>dropoff_latitude</th>\n",
       "      <th>payment_type</th>\n",
       "      <th>fare_amount</th>\n",
       "      <th>surcharge</th>\n",
       "      <th>mta_tax</th>\n",
       "      <th>tip_amount</th>\n",
       "      <th>tolls_amount</th>\n",
       "      <th>total_amount</th>\n",
       "    </tr>\n",
       "  </thead>\n",
       "  <tbody>\n",
       "    <tr>\n",
       "      <th>0</th>\n",
       "      <td>VTS</td>\n",
       "      <td>2010-09-15 06:52:00</td>\n",
       "      <td>2010-09-15 06:56:00</td>\n",
       "      <td>1</td>\n",
       "      <td>0.39</td>\n",
       "      <td>-73.981725</td>\n",
       "      <td>40.763627</td>\n",
       "      <td>1</td>\n",
       "      <td>None</td>\n",
       "      <td>-73.975280</td>\n",
       "      <td>40.761040</td>\n",
       "      <td>CSH</td>\n",
       "      <td>3.7</td>\n",
       "      <td>0.0</td>\n",
       "      <td>0.5</td>\n",
       "      <td>0.0</td>\n",
       "      <td>0.00</td>\n",
       "      <td>4.20</td>\n",
       "    </tr>\n",
       "    <tr>\n",
       "      <th>1</th>\n",
       "      <td>VTS</td>\n",
       "      <td>2010-09-13 10:21:00</td>\n",
       "      <td>2010-09-13 10:34:00</td>\n",
       "      <td>1</td>\n",
       "      <td>1.48</td>\n",
       "      <td>-73.981770</td>\n",
       "      <td>40.745295</td>\n",
       "      <td>1</td>\n",
       "      <td>None</td>\n",
       "      <td>-73.992273</td>\n",
       "      <td>40.764130</td>\n",
       "      <td>CSH</td>\n",
       "      <td>8.1</td>\n",
       "      <td>0.0</td>\n",
       "      <td>0.5</td>\n",
       "      <td>0.0</td>\n",
       "      <td>0.00</td>\n",
       "      <td>8.60</td>\n",
       "    </tr>\n",
       "    <tr>\n",
       "      <th>2</th>\n",
       "      <td>VTS</td>\n",
       "      <td>2010-09-13 11:50:00</td>\n",
       "      <td>2010-09-13 11:59:00</td>\n",
       "      <td>1</td>\n",
       "      <td>1.37</td>\n",
       "      <td>-73.974165</td>\n",
       "      <td>40.750150</td>\n",
       "      <td>1</td>\n",
       "      <td>None</td>\n",
       "      <td>-73.948047</td>\n",
       "      <td>40.781815</td>\n",
       "      <td>CSH</td>\n",
       "      <td>6.9</td>\n",
       "      <td>0.0</td>\n",
       "      <td>0.5</td>\n",
       "      <td>0.0</td>\n",
       "      <td>0.00</td>\n",
       "      <td>7.40</td>\n",
       "    </tr>\n",
       "    <tr>\n",
       "      <th>3</th>\n",
       "      <td>VTS</td>\n",
       "      <td>2010-09-13 13:35:00</td>\n",
       "      <td>2010-09-13 14:07:00</td>\n",
       "      <td>1</td>\n",
       "      <td>11.11</td>\n",
       "      <td>-73.985448</td>\n",
       "      <td>40.717913</td>\n",
       "      <td>1</td>\n",
       "      <td>None</td>\n",
       "      <td>-74.015868</td>\n",
       "      <td>40.714947</td>\n",
       "      <td>CSH</td>\n",
       "      <td>27.3</td>\n",
       "      <td>0.0</td>\n",
       "      <td>0.5</td>\n",
       "      <td>0.0</td>\n",
       "      <td>4.57</td>\n",
       "      <td>32.37</td>\n",
       "    </tr>\n",
       "    <tr>\n",
       "      <th>4</th>\n",
       "      <td>VTS</td>\n",
       "      <td>2010-09-13 14:54:00</td>\n",
       "      <td>2010-09-13 15:13:00</td>\n",
       "      <td>3</td>\n",
       "      <td>3.52</td>\n",
       "      <td>-73.979482</td>\n",
       "      <td>40.746463</td>\n",
       "      <td>1</td>\n",
       "      <td>None</td>\n",
       "      <td>-73.967770</td>\n",
       "      <td>40.760060</td>\n",
       "      <td>CSH</td>\n",
       "      <td>12.5</td>\n",
       "      <td>0.0</td>\n",
       "      <td>0.5</td>\n",
       "      <td>0.0</td>\n",
       "      <td>0.00</td>\n",
       "      <td>13.00</td>\n",
       "    </tr>\n",
       "  </tbody>\n",
       "</table>\n",
       "</div>"
      ],
      "text/plain": [
       "  vendor_id      pickup_datetime     dropoff_datetime  passenger_count  \\\n",
       "0       VTS  2010-09-15 06:52:00  2010-09-15 06:56:00                1   \n",
       "1       VTS  2010-09-13 10:21:00  2010-09-13 10:34:00                1   \n",
       "2       VTS  2010-09-13 11:50:00  2010-09-13 11:59:00                1   \n",
       "3       VTS  2010-09-13 13:35:00  2010-09-13 14:07:00                1   \n",
       "4       VTS  2010-09-13 14:54:00  2010-09-13 15:13:00                3   \n",
       "\n",
       "   trip_distance  pickup_longitude  pickup_latitude rate_code  \\\n",
       "0           0.39        -73.981725        40.763627         1   \n",
       "1           1.48        -73.981770        40.745295         1   \n",
       "2           1.37        -73.974165        40.750150         1   \n",
       "3          11.11        -73.985448        40.717913         1   \n",
       "4           3.52        -73.979482        40.746463         1   \n",
       "\n",
       "  store_and_fwd_flag  dropoff_longitude  dropoff_latitude payment_type  \\\n",
       "0               None         -73.975280         40.761040          CSH   \n",
       "1               None         -73.992273         40.764130          CSH   \n",
       "2               None         -73.948047         40.781815          CSH   \n",
       "3               None         -74.015868         40.714947          CSH   \n",
       "4               None         -73.967770         40.760060          CSH   \n",
       "\n",
       "   fare_amount  surcharge  mta_tax  tip_amount  tolls_amount  total_amount  \n",
       "0          3.7        0.0      0.5         0.0          0.00          4.20  \n",
       "1          8.1        0.0      0.5         0.0          0.00          8.60  \n",
       "2          6.9        0.0      0.5         0.0          0.00          7.40  \n",
       "3         27.3        0.0      0.5         0.0          4.57         32.37  \n",
       "4         12.5        0.0      0.5         0.0          0.00         13.00  "
      ]
     },
     "execution_count": 31,
     "metadata": {},
     "output_type": "execute_result"
    },
    {
     "data": {
      "application/javascript": [
       "\n",
       "            setTimeout(function() {\n",
       "                var nbb_cell_id = 31;\n",
       "                var nbb_unformatted_code = \"test.head()\";\n",
       "                var nbb_formatted_code = \"test.head()\";\n",
       "                var nbb_cells = Jupyter.notebook.get_cells();\n",
       "                for (var i = 0; i < nbb_cells.length; ++i) {\n",
       "                    if (nbb_cells[i].input_prompt_number == nbb_cell_id) {\n",
       "                        if (nbb_cells[i].get_text() == nbb_unformatted_code) {\n",
       "                             nbb_cells[i].set_text(nbb_formatted_code);\n",
       "                        }\n",
       "                        break;\n",
       "                    }\n",
       "                }\n",
       "            }, 500);\n",
       "            "
      ],
      "text/plain": [
       "<IPython.core.display.Javascript object>"
      ]
     },
     "metadata": {},
     "output_type": "display_data"
    }
   ],
   "source": [
    "test.head()"
   ]
  },
  {
   "cell_type": "code",
   "execution_count": 134,
   "id": "2526419f",
   "metadata": {},
   "outputs": [
    {
     "data": {
      "text/html": [
       "<div>\n",
       "<style scoped>\n",
       "    .dataframe tbody tr th:only-of-type {\n",
       "        vertical-align: middle;\n",
       "    }\n",
       "\n",
       "    .dataframe tbody tr th {\n",
       "        vertical-align: top;\n",
       "    }\n",
       "\n",
       "    .dataframe thead th {\n",
       "        text-align: right;\n",
       "    }\n",
       "</style>\n",
       "<table border=\"1\" class=\"dataframe\">\n",
       "  <thead>\n",
       "    <tr style=\"text-align: right;\">\n",
       "      <th></th>\n",
       "      <th>OBJECTID</th>\n",
       "      <th>Shape_Leng</th>\n",
       "      <th>Shape_Area</th>\n",
       "      <th>zone</th>\n",
       "      <th>LocationID</th>\n",
       "      <th>borough</th>\n",
       "      <th>geometry</th>\n",
       "    </tr>\n",
       "  </thead>\n",
       "  <tbody>\n",
       "    <tr>\n",
       "      <th>0</th>\n",
       "      <td>1</td>\n",
       "      <td>0.116357</td>\n",
       "      <td>0.000782</td>\n",
       "      <td>Newark Airport</td>\n",
       "      <td>1</td>\n",
       "      <td>EWR</td>\n",
       "      <td>POLYGON ((-74.18445 40.69500, -74.18449 40.695...</td>\n",
       "    </tr>\n",
       "    <tr>\n",
       "      <th>1</th>\n",
       "      <td>2</td>\n",
       "      <td>0.433470</td>\n",
       "      <td>0.004866</td>\n",
       "      <td>Jamaica Bay</td>\n",
       "      <td>2</td>\n",
       "      <td>Queens</td>\n",
       "      <td>MULTIPOLYGON (((-73.82338 40.63899, -73.82277 ...</td>\n",
       "    </tr>\n",
       "    <tr>\n",
       "      <th>2</th>\n",
       "      <td>3</td>\n",
       "      <td>0.084341</td>\n",
       "      <td>0.000314</td>\n",
       "      <td>Allerton/Pelham Gardens</td>\n",
       "      <td>3</td>\n",
       "      <td>Bronx</td>\n",
       "      <td>POLYGON ((-73.84793 40.87134, -73.84725 40.870...</td>\n",
       "    </tr>\n",
       "    <tr>\n",
       "      <th>3</th>\n",
       "      <td>4</td>\n",
       "      <td>0.043567</td>\n",
       "      <td>0.000112</td>\n",
       "      <td>Alphabet City</td>\n",
       "      <td>4</td>\n",
       "      <td>Manhattan</td>\n",
       "      <td>POLYGON ((-73.97177 40.72582, -73.97179 40.725...</td>\n",
       "    </tr>\n",
       "    <tr>\n",
       "      <th>4</th>\n",
       "      <td>5</td>\n",
       "      <td>0.092146</td>\n",
       "      <td>0.000498</td>\n",
       "      <td>Arden Heights</td>\n",
       "      <td>5</td>\n",
       "      <td>Staten Island</td>\n",
       "      <td>POLYGON ((-74.17422 40.56257, -74.17349 40.562...</td>\n",
       "    </tr>\n",
       "    <tr>\n",
       "      <th>...</th>\n",
       "      <td>...</td>\n",
       "      <td>...</td>\n",
       "      <td>...</td>\n",
       "      <td>...</td>\n",
       "      <td>...</td>\n",
       "      <td>...</td>\n",
       "      <td>...</td>\n",
       "    </tr>\n",
       "    <tr>\n",
       "      <th>258</th>\n",
       "      <td>259</td>\n",
       "      <td>0.126750</td>\n",
       "      <td>0.000395</td>\n",
       "      <td>Woodlawn/Wakefield</td>\n",
       "      <td>259</td>\n",
       "      <td>Bronx</td>\n",
       "      <td>POLYGON ((-73.85107 40.91037, -73.85207 40.909...</td>\n",
       "    </tr>\n",
       "    <tr>\n",
       "      <th>259</th>\n",
       "      <td>260</td>\n",
       "      <td>0.133514</td>\n",
       "      <td>0.000422</td>\n",
       "      <td>Woodside</td>\n",
       "      <td>260</td>\n",
       "      <td>Queens</td>\n",
       "      <td>POLYGON ((-73.90175 40.76077, -73.90147 40.759...</td>\n",
       "    </tr>\n",
       "    <tr>\n",
       "      <th>260</th>\n",
       "      <td>261</td>\n",
       "      <td>0.027120</td>\n",
       "      <td>0.000034</td>\n",
       "      <td>World Trade Center</td>\n",
       "      <td>261</td>\n",
       "      <td>Manhattan</td>\n",
       "      <td>POLYGON ((-74.01333 40.70503, -74.01327 40.704...</td>\n",
       "    </tr>\n",
       "    <tr>\n",
       "      <th>261</th>\n",
       "      <td>262</td>\n",
       "      <td>0.049064</td>\n",
       "      <td>0.000122</td>\n",
       "      <td>Yorkville East</td>\n",
       "      <td>262</td>\n",
       "      <td>Manhattan</td>\n",
       "      <td>MULTIPOLYGON (((-73.94383 40.78286, -73.94376 ...</td>\n",
       "    </tr>\n",
       "    <tr>\n",
       "      <th>262</th>\n",
       "      <td>263</td>\n",
       "      <td>0.037017</td>\n",
       "      <td>0.000066</td>\n",
       "      <td>Yorkville West</td>\n",
       "      <td>263</td>\n",
       "      <td>Manhattan</td>\n",
       "      <td>POLYGON ((-73.95219 40.77302, -73.95268 40.772...</td>\n",
       "    </tr>\n",
       "  </tbody>\n",
       "</table>\n",
       "<p>263 rows × 7 columns</p>\n",
       "</div>"
      ],
      "text/plain": [
       "     OBJECTID  Shape_Leng  Shape_Area                     zone  LocationID  \\\n",
       "0           1    0.116357    0.000782           Newark Airport           1   \n",
       "1           2    0.433470    0.004866              Jamaica Bay           2   \n",
       "2           3    0.084341    0.000314  Allerton/Pelham Gardens           3   \n",
       "3           4    0.043567    0.000112            Alphabet City           4   \n",
       "4           5    0.092146    0.000498            Arden Heights           5   \n",
       "..        ...         ...         ...                      ...         ...   \n",
       "258       259    0.126750    0.000395       Woodlawn/Wakefield         259   \n",
       "259       260    0.133514    0.000422                 Woodside         260   \n",
       "260       261    0.027120    0.000034       World Trade Center         261   \n",
       "261       262    0.049064    0.000122           Yorkville East         262   \n",
       "262       263    0.037017    0.000066           Yorkville West         263   \n",
       "\n",
       "           borough                                           geometry  \n",
       "0              EWR  POLYGON ((-74.18445 40.69500, -74.18449 40.695...  \n",
       "1           Queens  MULTIPOLYGON (((-73.82338 40.63899, -73.82277 ...  \n",
       "2            Bronx  POLYGON ((-73.84793 40.87134, -73.84725 40.870...  \n",
       "3        Manhattan  POLYGON ((-73.97177 40.72582, -73.97179 40.725...  \n",
       "4    Staten Island  POLYGON ((-74.17422 40.56257, -74.17349 40.562...  \n",
       "..             ...                                                ...  \n",
       "258          Bronx  POLYGON ((-73.85107 40.91037, -73.85207 40.909...  \n",
       "259         Queens  POLYGON ((-73.90175 40.76077, -73.90147 40.759...  \n",
       "260      Manhattan  POLYGON ((-74.01333 40.70503, -74.01327 40.704...  \n",
       "261      Manhattan  MULTIPOLYGON (((-73.94383 40.78286, -73.94376 ...  \n",
       "262      Manhattan  POLYGON ((-73.95219 40.77302, -73.95268 40.772...  \n",
       "\n",
       "[263 rows x 7 columns]"
      ]
     },
     "execution_count": 134,
     "metadata": {},
     "output_type": "execute_result"
    },
    {
     "data": {
      "application/javascript": [
       "\n",
       "            setTimeout(function() {\n",
       "                var nbb_cell_id = 134;\n",
       "                var nbb_unformatted_code = \"gdf = geopandas.read_file(\\\"taxi_zones/taxi_zones.shp\\\").to_crs(4326)\\n\\n\\ndef convert_locationId(locationId, gdf):\\n\\n    geo_row = gdf.loc[gdf[\\\"LocationID\\\"] == locationId]\\n    lon = geo_row[\\\"geometry\\\"].centroid.x.tolist()[0]\\n    lat = geo_row[\\\"geometry\\\"].centroid.y.tolist()[0]\\n\\n    return lon, lat\\n\\n\\ngdf\";\n",
       "                var nbb_formatted_code = \"gdf = geopandas.read_file(\\\"taxi_zones/taxi_zones.shp\\\").to_crs(4326)\\n\\n\\ndef convert_locationId(locationId, gdf):\\n\\n    geo_row = gdf.loc[gdf[\\\"LocationID\\\"] == locationId]\\n    lon = geo_row[\\\"geometry\\\"].centroid.x.tolist()[0]\\n    lat = geo_row[\\\"geometry\\\"].centroid.y.tolist()[0]\\n\\n    return lon, lat\\n\\n\\ngdf\";\n",
       "                var nbb_cells = Jupyter.notebook.get_cells();\n",
       "                for (var i = 0; i < nbb_cells.length; ++i) {\n",
       "                    if (nbb_cells[i].input_prompt_number == nbb_cell_id) {\n",
       "                        if (nbb_cells[i].get_text() == nbb_unformatted_code) {\n",
       "                             nbb_cells[i].set_text(nbb_formatted_code);\n",
       "                        }\n",
       "                        break;\n",
       "                    }\n",
       "                }\n",
       "            }, 500);\n",
       "            "
      ],
      "text/plain": [
       "<IPython.core.display.Javascript object>"
      ]
     },
     "metadata": {},
     "output_type": "display_data"
    }
   ],
   "source": [
    "gdf = geopandas.read_file(\"taxi_zones/taxi_zones.shp\").to_crs(4326)\n",
    "\n",
    "\n",
    "def convert_locationId(locationId, gdf):\n",
    "\n",
    "    geo_row = gdf.loc[gdf[\"LocationID\"] == locationId]\n",
    "    lon = geo_row[\"geometry\"].centroid.x.tolist()[0]\n",
    "    lat = geo_row[\"geometry\"].centroid.y.tolist()[0]\n",
    "\n",
    "    return lon, lat\n"
   ]
  },
  {
   "cell_type": "code",
   "execution_count": 137,
   "id": "d377bf01",
   "metadata": {},
   "outputs": [
    {
     "name": "stderr",
     "output_type": "stream",
     "text": [
      "/var/folders/f2/c459b0lj7334qjj2s0crtt440000gn/T/ipykernel_19135/3346334721.py:7: UserWarning: Geometry is in a geographic CRS. Results from 'centroid' are likely incorrect. Use 'GeoSeries.to_crs()' to re-project geometries to a projected CRS before this operation.\n",
      "\n",
      "  lon = geo_row[\"geometry\"].centroid.x.tolist()[0]\n",
      "/var/folders/f2/c459b0lj7334qjj2s0crtt440000gn/T/ipykernel_19135/3346334721.py:8: UserWarning: Geometry is in a geographic CRS. Results from 'centroid' are likely incorrect. Use 'GeoSeries.to_crs()' to re-project geometries to a projected CRS before this operation.\n",
      "\n",
      "  lat = geo_row[\"geometry\"].centroid.y.tolist()[0]\n"
     ]
    },
    {
     "data": {
      "text/plain": [
       "-74.00748823642046"
      ]
     },
     "execution_count": 137,
     "metadata": {},
     "output_type": "execute_result"
    },
    {
     "data": {
      "application/javascript": [
       "\n",
       "            setTimeout(function() {\n",
       "                var nbb_cell_id = 137;\n",
       "                var nbb_unformatted_code = \"# Test convert_locationId\\n# geo_row = gdf.loc[gdf[\\\"LocationID\\\"] == 10]\\n# geo_row[\\\"geometry\\\"]\\nx, y = convert_locationId(11, gdf)\\nx\\n# x.tolist()[0]\\n\\n# row[\\\"geometry\\\"]\\n# df = pd.DataFrame()\\n# df[\\\"lon\\\"] = x\\n# df[\\\"lat\\\"] = y\\n# df\";\n",
       "                var nbb_formatted_code = \"# Test convert_locationId\\n# geo_row = gdf.loc[gdf[\\\"LocationID\\\"] == 10]\\n# geo_row[\\\"geometry\\\"]\\nx, y = convert_locationId(11, gdf)\\nx\\n# x.tolist()[0]\\n\\n# row[\\\"geometry\\\"]\\n# df = pd.DataFrame()\\n# df[\\\"lon\\\"] = x\\n# df[\\\"lat\\\"] = y\\n# df\";\n",
       "                var nbb_cells = Jupyter.notebook.get_cells();\n",
       "                for (var i = 0; i < nbb_cells.length; ++i) {\n",
       "                    if (nbb_cells[i].input_prompt_number == nbb_cell_id) {\n",
       "                        if (nbb_cells[i].get_text() == nbb_unformatted_code) {\n",
       "                             nbb_cells[i].set_text(nbb_formatted_code);\n",
       "                        }\n",
       "                        break;\n",
       "                    }\n",
       "                }\n",
       "            }, 500);\n",
       "            "
      ],
      "text/plain": [
       "<IPython.core.display.Javascript object>"
      ]
     },
     "metadata": {},
     "output_type": "display_data"
    }
   ],
   "source": [
    "# Test convert_locationId\n",
    "# geo_row = gdf.loc[gdf[\"LocationID\"] == 10]\n",
    "# geo_row[\"geometry\"]\n",
    "x, y = convert_locationId(11, gdf)\n",
    "x\n",
    "# x.tolist()[0]\n",
    "\n",
    "# row[\"geometry\"]\n",
    "# df = pd.DataFrame()\n",
    "# df[\"lon\"] = x\n",
    "# df[\"lat\"] = y\n",
    "# df"
   ]
  },
  {
   "cell_type": "code",
   "execution_count": 29,
   "id": "2f40130a",
   "metadata": {},
   "outputs": [
    {
     "data": {
      "application/javascript": [
       "\n",
       "            setTimeout(function() {\n",
       "                var nbb_cell_id = 29;\n",
       "                var nbb_unformatted_code = \"def get_and_clean_month_taxi_data(url):\\n    response = requests.get(url, stream=True)\\n    file_name = url.split(\\\"/\\\")[-1]\\n\\n    with open(file_name, \\\"wb\\\") as f:\\n        for chunk in response.iter_content(chunk_size=1024):\\n            if chunk:\\n                f.write(chunk)\\n\\n\\n# find_taxi_parquet_urls()[0]\\nget_and_clean_month_taxi_data(find_taxi_parquet_urls()[0])\";\n",
       "                var nbb_formatted_code = \"def get_and_clean_month_taxi_data(url):\\n    response = requests.get(url, stream=True)\\n    file_name = url.split(\\\"/\\\")[-1]\\n\\n    with open(file_name, \\\"wb\\\") as f:\\n        for chunk in response.iter_content(chunk_size=1024):\\n            if chunk:\\n                f.write(chunk)\\n\\n\\n# find_taxi_parquet_urls()[0]\\nget_and_clean_month_taxi_data(find_taxi_parquet_urls()[0])\";\n",
       "                var nbb_cells = Jupyter.notebook.get_cells();\n",
       "                for (var i = 0; i < nbb_cells.length; ++i) {\n",
       "                    if (nbb_cells[i].input_prompt_number == nbb_cell_id) {\n",
       "                        if (nbb_cells[i].get_text() == nbb_unformatted_code) {\n",
       "                             nbb_cells[i].set_text(nbb_formatted_code);\n",
       "                        }\n",
       "                        break;\n",
       "                    }\n",
       "                }\n",
       "            }, 500);\n",
       "            "
      ],
      "text/plain": [
       "<IPython.core.display.Javascript object>"
      ]
     },
     "metadata": {},
     "output_type": "display_data"
    }
   ],
   "source": [
    "def get_and_clean_month_taxi_data(url):\n",
    "    response = requests.get(url, stream=True)\n",
    "    file_name = url.split(\"/\")[-1]\n",
    "\n",
    "    with open(file_name, \"wb\") as f:\n",
    "        for chunk in response.iter_content(chunk_size=1024):\n",
    "            if chunk:\n",
    "                f.write(chunk)\n",
    "                \n",
    "    df = pd.read_parquet(file_name)\n",
    "    \n",
    "    \n",
    "\n",
    "\n",
    "# find_taxi_parquet_urls()[0]\n",
    "# get_and_clean_month_taxi_data(find_taxi_parquet_urls()[0])"
   ]
  },
  {
   "cell_type": "code",
   "execution_count": 133,
   "id": "dd8d0faf",
   "metadata": {},
   "outputs": [
    {
     "data": {
      "image/svg+xml": [
       "<svg xmlns=\"http://www.w3.org/2000/svg\" xmlns:xlink=\"http://www.w3.org/1999/xlink\" width=\"100.0\" height=\"100.0\" viewBox=\"-74.19147608774989 40.669513702724664 0.03988557225027023 0.03993949193040436\" preserveAspectRatio=\"xMinYMin meet\"><g transform=\"matrix(1,0,0,-1,0,81.37896689737974)\"><path fill-rule=\"evenodd\" fill=\"#66cc99\" stroke=\"#555555\" stroke-width=\"0.0007987898386080872\" opacity=\"0.6\" d=\"M -74.18445278891802,40.69499597745383 L -74.18448878844333,40.695094977636025 L -74.1844977880201,40.69518497774735 L -74.18438078482822,40.69587797817613 L -74.18428178331084,40.69621097828239 L -74.18402077937932,40.69707497854337 L -74.18391277740702,40.69750697872356 L -74.18375077612758,40.6977949786326 L -74.18363377370021,40.698325978886935 L -74.18356177314186,40.69845197884312 L -74.18354377264623,40.69855997890806 L -74.18350777199014,40.69870397896632 L -74.18327376563548,40.70008997978525 L -74.18315676045201,40.70121498061666 L -74.18316575500678,40.702384981791894 L -74.18313875388871,40.702627981966316 L -74.18309375286256,40.70285298207924 L -74.1829947514845,40.7031589821406 L -74.18284175013184,40.703464982069846 L -74.18264374896832,40.70373498185283 L -74.18242774806501,40.703950981537595 L -74.18220274729231,40.70413998117263 L -74.18203174682925,40.70425698086855 L -74.18180674630858,40.70439198044922 L -74.18157274591793,40.704499979980945 L -74.18132074553637,40.7046079794678 L -74.18080774494584,40.70478797838264 L -74.17946674301021,40.705345975612715 L -74.17887274238471,40.70554397433285 L -74.17831474182735,40.705723973121664 L -74.17776574130936,40.705894971921346 L -74.17709074073169,40.70609297043046 L -74.17699174057424,40.706137970225555 L -74.17689274037568,40.706191970028435 L -74.17664973946641,40.706416969625245 L -74.17642473830293,40.706695969312214 L -74.17628973746586,40.706893969150116 L -74.17608273658341,40.70710996882369 L -74.17599273625898,40.70719096867009 L -74.17589373598035,40.70726296848598 L -74.17565973556476,40.70737996800404 L -74.17538073529568,40.70746996738578 L -74.17515573520465,40.70751496686298 L -74.17475973503683,40.707595965943604 L -74.17417473500679,40.707667964543454 L -74.17388673486741,40.70773096387666 L -74.17347273499658,40.70774896285697 L -74.17275273511905,40.70780296110167 L -74.17188873507239,40.707910959028176 L -74.17163673499834,40.70795595843364 L -74.17133973510983,40.707964957697534 L -74.17120473521948,40.707955957352546 L -74.1699447357836,40.7079739542132 L -74.16888273648844,40.70793795152813 L -74.16681273790785,40.70785694629027 L -74.16442773940416,40.70779394028275 L -74.16401373969467,40.70777593923573 L -74.16233974078506,40.70772193501652 L -74.16081874191354,40.707640931165756 L -74.16057574219437,40.707604930536654 L -74.16033274247503,40.70756892990787 L -74.16006274296558,40.70748792918464 L -74.15938774428766,40.707262927366195 L -74.15904574496915,40.707145926445016 L -74.15891974518904,40.70710992611011 L -74.1582717465304,40.70687592436197 L -74.15459075362696,40.70565191458002 L -74.1540957547548,40.705444913254205 L -74.1540147550641,40.70538191302272 L -74.15387975536055,40.70532791266318 L -74.15376275506931,40.70540891241632 L -74.15323175601806,40.70524691102914 L -74.15317775573567,40.705318910932085 L -74.15306975594149,40.70528291064873 L -74.15359175958773,40.70437391147541 L -74.15386176173922,40.70384291186613 L -74.15513977099194,40.70155691377179 L -74.15544577287613,40.70108891425619 L -74.15575177456972,40.70066591476014 L -74.15600377621136,40.700260915141236 L -74.15635477824246,40.699756915699396 L -74.1574527850073,40.69809191735819 L -74.15754278563541,40.697938917482155 L -74.15758778616421,40.69781291751583 L -74.15762378673563,40.69767791752325 L -74.15829879069828,40.69670591853576 L -74.15951379816998,40.69488792026323 L -74.1595857986941,40.69476192035233 L -74.16014380136838,40.69410492122784 L -74.16057580507741,40.69322292166715 L -74.16262781730242,40.69028892440021 L -74.16279881840043,40.69002792460826 L -74.16290681904239,40.68987492474668 L -74.1629248190372,40.689874924786395 L -74.16295181902939,40.68987492484599 L -74.16306881891632,40.689892925116034 L -74.16309581874998,40.68992892519933 L -74.16322181847563,40.68998292551313 L -74.16331181840984,40.68999192571792 L -74.1634108183414,40.690000925942535 L -74.16352781826777,40.69000992620692 L -74.16380681802782,40.6900459268474 L -74.16410381778238,40.69008192752795 L -74.16417581776139,40.69008192768711 L -74.16422981786494,40.69005492778815 L -74.16436481790517,40.6900369280743 L -74.16450881810198,40.689982928355654 L -74.16467081849278,40.68988392864581 L -74.16479681901384,40.689757928837494 L -74.16491381973701,40.6895869289779 L -74.16499482059042,40.689388929019856 L -74.16528282262222,40.68891192932226 L -74.16542682326039,40.6887589295313 L -74.16548082380405,40.68863292956164 L -74.16560682468749,40.688425929692485 L -74.16576882640034,40.68802992976832 L -74.16587682705055,40.68787692989582 L -74.16583182838028,40.68757992958926 L -74.16582282878198,40.6874899295065 L -74.16580483026411,40.68715692923367 L -74.16582283077864,40.68703992919036 L -74.16589483163905,40.68684192920665 L -74.16604783287922,40.686553929333314 L -74.16639883515192,40.68602292971081 L -74.166506835726,40.68588792984601 L -74.16674083743138,40.68549193006308 L -74.16695683854236,40.685230930336054 L -74.16738884149035,40.68454693075864 L -74.16781184408619,40.68394393121207 L -74.1679108447476,40.68379093130824 L -74.16804584556247,40.68360193145311 L -74.1681628461004,40.68347593160596 L -74.16822584664996,40.68334993164497 L -74.16848684816446,40.68299893193124 L -74.1688648507854,40.68239593226932 L -74.16916185250028,40.681999932588674 L -74.169296853442,40.68178393270517 L -74.16947685441639,40.68155893290711 L -74.16981885677518,40.68101893320072 L -74.16995385739716,40.680874933368244 L -74.17005285830875,40.68066793341238 L -74.17041286055078,40.680154933753805 L -74.17051186126223,40.6799929338303 L -74.17067386277301,40.67965093389426 L -74.17093486435051,40.67929093414363 L -74.17144786795983,40.67847193453634 L -74.17151986835484,40.67838193461019 L -74.17160986890961,40.67825593469146 L -74.17193387081169,40.67782393499828 L -74.17200587120774,40.67773393507067 L -74.17283387638476,40.67656393577755 L -74.17314887801597,40.67619493610076 L -74.17322987853606,40.67607793616506 L -74.17329287881385,40.6760149362379 L -74.17358988012498,40.67571793657971 L -74.17423788360615,40.67493493720196 L -74.17437288412346,40.674817937368346 L -74.17484988632549,40.674322937882806 L -74.1750028870068,40.6741699380511 L -74.1753898888556,40.673755938450164 L -74.1760468920406,40.6730449391086 L -74.17630789329324,40.6727659393689 L -74.17641589394255,40.672621939450934 L -74.17663189495438,40.672396939668886 L -74.17678489593065,40.672180939772396 L -74.17697389702887,40.67193793991978 L -74.17709089772103,40.67178494000799 L -74.17734289873465,40.67155994028916 L -74.17754989934004,40.67142494056326 L -74.17778389982077,40.67131694091208 L -74.17802690030159,40.671208941277186 L -74.17862990105172,40.671037942267965 L -74.17888190120296,40.671001942713524 L -74.17912490123061,40.67099294316653 L -74.17933190113614,40.6710109435761 L -74.17979090044648,40.67115494458149 L -74.17997990018642,40.671208944991164 L -74.18010589992991,40.67126294528134 L -74.18030389975196,40.67129894569184 L -74.18133889781538,40.671703948048865 L -74.18213989626051,40.67202794989268 L -74.18384989324909,40.67264895378673 L -74.18437189199132,40.67290995505423 L -74.1845878914279,40.67302695558908 L -74.18492089026542,40.673269956478826 L -74.1850378898349,40.673359956796766 L -74.18513688936359,40.6734589570893 L -74.18547888722833,40.67390895821302 L -74.18594688364324,40.67466495990356 L -74.18670287828537,40.67578996255835 L -74.18733287372685,40.67674396480927 L -74.18767487109959,40.677292966072486 L -74.18795386953623,40.67761696697564 L -74.18819686806061,40.67792296779014 L -74.1885208653828,40.67848096904091 L -74.18877286356125,40.6788589699575 L -74.18905186126545,40.67933597103921 L -74.18935785921725,40.679758972121746 L -74.18949285762041,40.68009197276017 L -74.18969985426418,40.680793973951104 L -74.18977185263302,40.681135974473484 L -74.18978085233329,40.681198974560985 L -74.18983485176966,40.68131597480064 L -74.18991585068969,40.68154097521477 L -74.18996984944387,40.681801975613006 L -74.18999684730802,40.682251976163 L -74.18999684551822,40.682629976578006 L -74.1899698439896,40.68295397687714 L -74.1899878429206,40.68317897716178 L -74.18995184130887,40.683520977461434 L -74.18993384041788,40.683709977630905 L -74.18987083868474,40.68407897790251 L -74.1897808352119,40.68481697852001 L -74.18976283419384,40.68503297871801 L -74.18962782915854,40.68610397960007 L -74.18955582543023,40.6868959803093 L -74.18951982399221,40.68720198056517 L -74.18947482264193,40.68748998078148 L -74.18939382151414,40.68773298087026 L -74.18939382104611,40.68783198097798 L -74.18941182053078,40.6879399811346 L -74.18940281980987,40.68809298128149 L -74.18934881901595,40.68826398134982 L -74.18922281734875,40.68862398146574 L -74.18898881541512,40.68904698141151 L -74.18870081362672,40.6894429812061 L -74.18779181036786,40.690189979999566 L -74.18723380862745,40.690594979191545 L -74.18636980609877,40.69118897789152 L -74.1859108050162,40.69144997713775 L -74.18563180417534,40.69164797671807 L -74.18445278891802,40.69499597745383 z\" /></g></svg>"
      ],
      "text/plain": [
       "<shapely.geometry.polygon.Polygon at 0x2034eb370>"
      ]
     },
     "execution_count": 133,
     "metadata": {},
     "output_type": "execute_result"
    },
    {
     "data": {
      "application/javascript": [
       "\n",
       "            setTimeout(function() {\n",
       "                var nbb_cell_id = 133;\n",
       "                var nbb_unformatted_code = \"# Test geopandas pacakge\\n\\ngdf = geopandas.read_file(\\\"taxi_zones/taxi_zones.shp\\\").to_crs(4326)\\nlon = gdf[\\\"geometry\\\"][0].centroid.x\\nlat = gdf[\\\"geometry\\\"][0].centroid.y\\ngdf[\\\"geometry\\\"][0]\";\n",
       "                var nbb_formatted_code = \"# Test geopandas pacakge\\n\\ngdf = geopandas.read_file(\\\"taxi_zones/taxi_zones.shp\\\").to_crs(4326)\\nlon = gdf[\\\"geometry\\\"][0].centroid.x\\nlat = gdf[\\\"geometry\\\"][0].centroid.y\\ngdf[\\\"geometry\\\"][0]\";\n",
       "                var nbb_cells = Jupyter.notebook.get_cells();\n",
       "                for (var i = 0; i < nbb_cells.length; ++i) {\n",
       "                    if (nbb_cells[i].input_prompt_number == nbb_cell_id) {\n",
       "                        if (nbb_cells[i].get_text() == nbb_unformatted_code) {\n",
       "                             nbb_cells[i].set_text(nbb_formatted_code);\n",
       "                        }\n",
       "                        break;\n",
       "                    }\n",
       "                }\n",
       "            }, 500);\n",
       "            "
      ],
      "text/plain": [
       "<IPython.core.display.Javascript object>"
      ]
     },
     "metadata": {},
     "output_type": "display_data"
    }
   ],
   "source": [
    "# Test geopandas pacakge\n",
    "\n",
    "gdf = geopandas.read_file(\"taxi_zones/taxi_zones.shp\").to_crs(4326)\n",
    "lon = gdf[\"geometry\"][0].centroid.x\n",
    "lat = gdf[\"geometry\"][0].centroid.y"
   ]
  },
  {
   "cell_type": "code",
   "execution_count": 78,
   "id": "d62cf9f3",
   "metadata": {},
   "outputs": [
    {
     "data": {
      "image/svg+xml": [
       "<svg xmlns=\"http://www.w3.org/2000/svg\" xmlns:xlink=\"http://www.w3.org/1999/xlink\" width=\"100.0\" height=\"100.0\" viewBox=\"-74.19147608774989 40.669513702724664 0.03988557225027023 0.03993949193040436\" preserveAspectRatio=\"xMinYMin meet\"><g transform=\"matrix(1,0,0,-1,0,81.37896689737974)\"><path fill-rule=\"evenodd\" fill=\"#66cc99\" stroke=\"#555555\" stroke-width=\"0.0007987898386080872\" opacity=\"0.6\" d=\"M -74.18445278891802,40.69499597745383 L -74.18448878844333,40.695094977636025 L -74.1844977880201,40.69518497774735 L -74.18438078482822,40.69587797817613 L -74.18428178331084,40.69621097828239 L -74.18402077937932,40.69707497854337 L -74.18391277740702,40.69750697872356 L -74.18375077612758,40.6977949786326 L -74.18363377370021,40.698325978886935 L -74.18356177314186,40.69845197884312 L -74.18354377264623,40.69855997890806 L -74.18350777199014,40.69870397896632 L -74.18327376563548,40.70008997978525 L -74.18315676045201,40.70121498061666 L -74.18316575500678,40.702384981791894 L -74.18313875388871,40.702627981966316 L -74.18309375286256,40.70285298207924 L -74.1829947514845,40.7031589821406 L -74.18284175013184,40.703464982069846 L -74.18264374896832,40.70373498185283 L -74.18242774806501,40.703950981537595 L -74.18220274729231,40.70413998117263 L -74.18203174682925,40.70425698086855 L -74.18180674630858,40.70439198044922 L -74.18157274591793,40.704499979980945 L -74.18132074553637,40.7046079794678 L -74.18080774494584,40.70478797838264 L -74.17946674301021,40.705345975612715 L -74.17887274238471,40.70554397433285 L -74.17831474182735,40.705723973121664 L -74.17776574130936,40.705894971921346 L -74.17709074073169,40.70609297043046 L -74.17699174057424,40.706137970225555 L -74.17689274037568,40.706191970028435 L -74.17664973946641,40.706416969625245 L -74.17642473830293,40.706695969312214 L -74.17628973746586,40.706893969150116 L -74.17608273658341,40.70710996882369 L -74.17599273625898,40.70719096867009 L -74.17589373598035,40.70726296848598 L -74.17565973556476,40.70737996800404 L -74.17538073529568,40.70746996738578 L -74.17515573520465,40.70751496686298 L -74.17475973503683,40.707595965943604 L -74.17417473500679,40.707667964543454 L -74.17388673486741,40.70773096387666 L -74.17347273499658,40.70774896285697 L -74.17275273511905,40.70780296110167 L -74.17188873507239,40.707910959028176 L -74.17163673499834,40.70795595843364 L -74.17133973510983,40.707964957697534 L -74.17120473521948,40.707955957352546 L -74.1699447357836,40.7079739542132 L -74.16888273648844,40.70793795152813 L -74.16681273790785,40.70785694629027 L -74.16442773940416,40.70779394028275 L -74.16401373969467,40.70777593923573 L -74.16233974078506,40.70772193501652 L -74.16081874191354,40.707640931165756 L -74.16057574219437,40.707604930536654 L -74.16033274247503,40.70756892990787 L -74.16006274296558,40.70748792918464 L -74.15938774428766,40.707262927366195 L -74.15904574496915,40.707145926445016 L -74.15891974518904,40.70710992611011 L -74.1582717465304,40.70687592436197 L -74.15459075362696,40.70565191458002 L -74.1540957547548,40.705444913254205 L -74.1540147550641,40.70538191302272 L -74.15387975536055,40.70532791266318 L -74.15376275506931,40.70540891241632 L -74.15323175601806,40.70524691102914 L -74.15317775573567,40.705318910932085 L -74.15306975594149,40.70528291064873 L -74.15359175958773,40.70437391147541 L -74.15386176173922,40.70384291186613 L -74.15513977099194,40.70155691377179 L -74.15544577287613,40.70108891425619 L -74.15575177456972,40.70066591476014 L -74.15600377621136,40.700260915141236 L -74.15635477824246,40.699756915699396 L -74.1574527850073,40.69809191735819 L -74.15754278563541,40.697938917482155 L -74.15758778616421,40.69781291751583 L -74.15762378673563,40.69767791752325 L -74.15829879069828,40.69670591853576 L -74.15951379816998,40.69488792026323 L -74.1595857986941,40.69476192035233 L -74.16014380136838,40.69410492122784 L -74.16057580507741,40.69322292166715 L -74.16262781730242,40.69028892440021 L -74.16279881840043,40.69002792460826 L -74.16290681904239,40.68987492474668 L -74.1629248190372,40.689874924786395 L -74.16295181902939,40.68987492484599 L -74.16306881891632,40.689892925116034 L -74.16309581874998,40.68992892519933 L -74.16322181847563,40.68998292551313 L -74.16331181840984,40.68999192571792 L -74.1634108183414,40.690000925942535 L -74.16352781826777,40.69000992620692 L -74.16380681802782,40.6900459268474 L -74.16410381778238,40.69008192752795 L -74.16417581776139,40.69008192768711 L -74.16422981786494,40.69005492778815 L -74.16436481790517,40.6900369280743 L -74.16450881810198,40.689982928355654 L -74.16467081849278,40.68988392864581 L -74.16479681901384,40.689757928837494 L -74.16491381973701,40.6895869289779 L -74.16499482059042,40.689388929019856 L -74.16528282262222,40.68891192932226 L -74.16542682326039,40.6887589295313 L -74.16548082380405,40.68863292956164 L -74.16560682468749,40.688425929692485 L -74.16576882640034,40.68802992976832 L -74.16587682705055,40.68787692989582 L -74.16583182838028,40.68757992958926 L -74.16582282878198,40.6874899295065 L -74.16580483026411,40.68715692923367 L -74.16582283077864,40.68703992919036 L -74.16589483163905,40.68684192920665 L -74.16604783287922,40.686553929333314 L -74.16639883515192,40.68602292971081 L -74.166506835726,40.68588792984601 L -74.16674083743138,40.68549193006308 L -74.16695683854236,40.685230930336054 L -74.16738884149035,40.68454693075864 L -74.16781184408619,40.68394393121207 L -74.1679108447476,40.68379093130824 L -74.16804584556247,40.68360193145311 L -74.1681628461004,40.68347593160596 L -74.16822584664996,40.68334993164497 L -74.16848684816446,40.68299893193124 L -74.1688648507854,40.68239593226932 L -74.16916185250028,40.681999932588674 L -74.169296853442,40.68178393270517 L -74.16947685441639,40.68155893290711 L -74.16981885677518,40.68101893320072 L -74.16995385739716,40.680874933368244 L -74.17005285830875,40.68066793341238 L -74.17041286055078,40.680154933753805 L -74.17051186126223,40.6799929338303 L -74.17067386277301,40.67965093389426 L -74.17093486435051,40.67929093414363 L -74.17144786795983,40.67847193453634 L -74.17151986835484,40.67838193461019 L -74.17160986890961,40.67825593469146 L -74.17193387081169,40.67782393499828 L -74.17200587120774,40.67773393507067 L -74.17283387638476,40.67656393577755 L -74.17314887801597,40.67619493610076 L -74.17322987853606,40.67607793616506 L -74.17329287881385,40.6760149362379 L -74.17358988012498,40.67571793657971 L -74.17423788360615,40.67493493720196 L -74.17437288412346,40.674817937368346 L -74.17484988632549,40.674322937882806 L -74.1750028870068,40.6741699380511 L -74.1753898888556,40.673755938450164 L -74.1760468920406,40.6730449391086 L -74.17630789329324,40.6727659393689 L -74.17641589394255,40.672621939450934 L -74.17663189495438,40.672396939668886 L -74.17678489593065,40.672180939772396 L -74.17697389702887,40.67193793991978 L -74.17709089772103,40.67178494000799 L -74.17734289873465,40.67155994028916 L -74.17754989934004,40.67142494056326 L -74.17778389982077,40.67131694091208 L -74.17802690030159,40.671208941277186 L -74.17862990105172,40.671037942267965 L -74.17888190120296,40.671001942713524 L -74.17912490123061,40.67099294316653 L -74.17933190113614,40.6710109435761 L -74.17979090044648,40.67115494458149 L -74.17997990018642,40.671208944991164 L -74.18010589992991,40.67126294528134 L -74.18030389975196,40.67129894569184 L -74.18133889781538,40.671703948048865 L -74.18213989626051,40.67202794989268 L -74.18384989324909,40.67264895378673 L -74.18437189199132,40.67290995505423 L -74.1845878914279,40.67302695558908 L -74.18492089026542,40.673269956478826 L -74.1850378898349,40.673359956796766 L -74.18513688936359,40.6734589570893 L -74.18547888722833,40.67390895821302 L -74.18594688364324,40.67466495990356 L -74.18670287828537,40.67578996255835 L -74.18733287372685,40.67674396480927 L -74.18767487109959,40.677292966072486 L -74.18795386953623,40.67761696697564 L -74.18819686806061,40.67792296779014 L -74.1885208653828,40.67848096904091 L -74.18877286356125,40.6788589699575 L -74.18905186126545,40.67933597103921 L -74.18935785921725,40.679758972121746 L -74.18949285762041,40.68009197276017 L -74.18969985426418,40.680793973951104 L -74.18977185263302,40.681135974473484 L -74.18978085233329,40.681198974560985 L -74.18983485176966,40.68131597480064 L -74.18991585068969,40.68154097521477 L -74.18996984944387,40.681801975613006 L -74.18999684730802,40.682251976163 L -74.18999684551822,40.682629976578006 L -74.1899698439896,40.68295397687714 L -74.1899878429206,40.68317897716178 L -74.18995184130887,40.683520977461434 L -74.18993384041788,40.683709977630905 L -74.18987083868474,40.68407897790251 L -74.1897808352119,40.68481697852001 L -74.18976283419384,40.68503297871801 L -74.18962782915854,40.68610397960007 L -74.18955582543023,40.6868959803093 L -74.18951982399221,40.68720198056517 L -74.18947482264193,40.68748998078148 L -74.18939382151414,40.68773298087026 L -74.18939382104611,40.68783198097798 L -74.18941182053078,40.6879399811346 L -74.18940281980987,40.68809298128149 L -74.18934881901595,40.68826398134982 L -74.18922281734875,40.68862398146574 L -74.18898881541512,40.68904698141151 L -74.18870081362672,40.6894429812061 L -74.18779181036786,40.690189979999566 L -74.18723380862745,40.690594979191545 L -74.18636980609877,40.69118897789152 L -74.1859108050162,40.69144997713775 L -74.18563180417534,40.69164797671807 L -74.18445278891802,40.69499597745383 z\" /></g></svg>"
      ],
      "text/plain": [
       "<shapely.geometry.polygon.Polygon at 0x2728920b0>"
      ]
     },
     "execution_count": 78,
     "metadata": {},
     "output_type": "execute_result"
    },
    {
     "data": {
      "application/javascript": [
       "\n",
       "            setTimeout(function() {\n",
       "                var nbb_cell_id = 78;\n",
       "                var nbb_unformatted_code = \"geo_row = gdf.loc[gdf[\\\"LocationID\\\"] == 1]\\ngeo_row[\\\"geometry\\\"][0]\";\n",
       "                var nbb_formatted_code = \"geo_row = gdf.loc[gdf[\\\"LocationID\\\"] == 1]\\ngeo_row[\\\"geometry\\\"][0]\";\n",
       "                var nbb_cells = Jupyter.notebook.get_cells();\n",
       "                for (var i = 0; i < nbb_cells.length; ++i) {\n",
       "                    if (nbb_cells[i].input_prompt_number == nbb_cell_id) {\n",
       "                        if (nbb_cells[i].get_text() == nbb_unformatted_code) {\n",
       "                             nbb_cells[i].set_text(nbb_formatted_code);\n",
       "                        }\n",
       "                        break;\n",
       "                    }\n",
       "                }\n",
       "            }, 500);\n",
       "            "
      ],
      "text/plain": [
       "<IPython.core.display.Javascript object>"
      ]
     },
     "metadata": {},
     "output_type": "display_data"
    }
   ],
   "source": [
    "geo_row = gdf.loc[gdf[\"LocationID\"] == 1]\n",
    "geo_row[\"geometry\"][0]"
   ]
  },
  {
   "cell_type": "code",
   "execution_count": 69,
   "id": "35c9c0cd",
   "metadata": {},
   "outputs": [
    {
     "data": {
      "application/javascript": [
       "\n",
       "            setTimeout(function() {\n",
       "                var nbb_cell_id = 69;\n",
       "                var nbb_unformatted_code = \"def get_and_clean_taxi_data():\\n    all_taxi_dataframes = []\\n    \\n    all_csv_urls = find_taxi_csv_urls()\\n    for csv_url in all_csv_url:\\n        # maybe: first try to see if you've downloaded this exact\\n        # file already and saved it before trying again\\n        dataframe = get_and_clean_month_taxi_data(csv_url)\\n        add_distance_column(dataframe)\\n        # maybe: if the file hasn't been saved, save it so you can\\n        # avoid re-downloading it if you re-run the function\\n        \\n        all_taxi_dataframes.append(dataframe)\\n        \\n    # create one gigantic dataframe with data from every month needed\\n    taxi_data = pd.contact(all_taxi_dataframes)\\n    return taxi_data\";\n",
       "                var nbb_formatted_code = \"def get_and_clean_taxi_data():\\n    all_taxi_dataframes = []\\n\\n    all_csv_urls = find_taxi_csv_urls()\\n    for csv_url in all_csv_url:\\n        # maybe: first try to see if you've downloaded this exact\\n        # file already and saved it before trying again\\n        dataframe = get_and_clean_month_taxi_data(csv_url)\\n        add_distance_column(dataframe)\\n        # maybe: if the file hasn't been saved, save it so you can\\n        # avoid re-downloading it if you re-run the function\\n\\n        all_taxi_dataframes.append(dataframe)\\n\\n    # create one gigantic dataframe with data from every month needed\\n    taxi_data = pd.contact(all_taxi_dataframes)\\n    return taxi_data\";\n",
       "                var nbb_cells = Jupyter.notebook.get_cells();\n",
       "                for (var i = 0; i < nbb_cells.length; ++i) {\n",
       "                    if (nbb_cells[i].input_prompt_number == nbb_cell_id) {\n",
       "                        if (nbb_cells[i].get_text() == nbb_unformatted_code) {\n",
       "                             nbb_cells[i].set_text(nbb_formatted_code);\n",
       "                        }\n",
       "                        break;\n",
       "                    }\n",
       "                }\n",
       "            }, 500);\n",
       "            "
      ],
      "text/plain": [
       "<IPython.core.display.Javascript object>"
      ]
     },
     "metadata": {},
     "output_type": "display_data"
    }
   ],
   "source": [
    "def get_and_clean_taxi_data():\n",
    "    all_taxi_dataframes = []\n",
    "\n",
    "    all_csv_urls = find_taxi_csv_urls()\n",
    "    for csv_url in all_csv_url:\n",
    "        # maybe: first try to see if you've downloaded this exact\n",
    "        # file already and saved it before trying again\n",
    "        dataframe = get_and_clean_month_taxi_data(csv_url)\n",
    "        add_distance_column(dataframe)\n",
    "        # maybe: if the file hasn't been saved, save it so you can\n",
    "        # avoid re-downloading it if you re-run the function\n",
    "\n",
    "        all_taxi_dataframes.append(dataframe)\n",
    "\n",
    "    # create one gigantic dataframe with data from every month needed\n",
    "    taxi_data = pd.contact(all_taxi_dataframes)\n",
    "    return taxi_data"
   ]
  },
  {
   "cell_type": "markdown",
   "id": "094b4d6d",
   "metadata": {},
   "source": [
    "### Processing Uber Data\n",
    "\n",
    "_**TODO:** Write some prose that tells the reader what you're about to do here._"
   ]
  },
  {
   "cell_type": "code",
   "execution_count": 10,
   "id": "7c58e3a2",
   "metadata": {},
   "outputs": [],
   "source": [
    "def load_and_clean_uber_data(csv_file):\n",
    "    raise NotImplemented()"
   ]
  },
  {
   "cell_type": "code",
   "execution_count": null,
   "id": "f836f118",
   "metadata": {},
   "outputs": [],
   "source": [
    "def get_uber_data():\n",
    "    uber_dataframe = load_and_clean_uber_data(UBER_DATA)\n",
    "    add_distance_column(uber_dataframe)\n",
    "    return uber_dataframe"
   ]
  },
  {
   "cell_type": "markdown",
   "id": "45a15cbb",
   "metadata": {},
   "source": [
    "### Processing Weather Data\n",
    "\n",
    "_**TODO:** Write some prose that tells the reader what you're about to do here._"
   ]
  },
  {
   "cell_type": "code",
   "execution_count": 11,
   "id": "76e864ab",
   "metadata": {},
   "outputs": [],
   "source": [
    "def clean_month_weather_data_hourly(csv_file):\n",
    "    raise NotImplemented()"
   ]
  },
  {
   "cell_type": "code",
   "execution_count": null,
   "id": "0687581f",
   "metadata": {},
   "outputs": [],
   "source": [
    "def clean_month_weather_data_daily(csv_file):\n",
    "    raise NotImplemented()"
   ]
  },
  {
   "cell_type": "code",
   "execution_count": null,
   "id": "3ef8945d",
   "metadata": {},
   "outputs": [],
   "source": [
    "def load_and_clean_weather_data():\n",
    "    hourly_dataframes = []\n",
    "    daily_dataframes = []\n",
    "    \n",
    "    # add some way to find all weather CSV files\n",
    "    # or just add the name/paths manually\n",
    "    weather_csv_files = [\"TODO\"]\n",
    "    \n",
    "    for csv_file in weather_csv_files:\n",
    "        hourly_dataframe = clean_month_weather_data_hourly(csv_file)\n",
    "        daily_dataframe = clean_month_weather_data_daily(csv_file)\n",
    "        hourly_dataframes.append(hourly_dataframe)\n",
    "        daily_dataframes.append(daily_dataframe)\n",
    "        \n",
    "    # create two dataframes with hourly & daily data from every month\n",
    "    hourly_data = pd.concat(hourly_dataframes)\n",
    "    daily_data = pd.concat(daily_dataframes)\n",
    "    \n",
    "    return hourly_data, daily_data"
   ]
  },
  {
   "cell_type": "markdown",
   "id": "f900f7aa",
   "metadata": {},
   "source": [
    "### Process All Data\n",
    "\n",
    "_This is where you can actually execute all the required functions._\n",
    "\n",
    "_**TODO:** Write some prose that tells the reader what you're about to do here._"
   ]
  },
  {
   "cell_type": "code",
   "execution_count": null,
   "id": "f7cd53a6",
   "metadata": {},
   "outputs": [],
   "source": [
    "taxi_data = get_and_clean_taxi_data()\n",
    "uber_data = get_uber_data()\n",
    "hourly_weather_data, daily_weather_data = load_and_clean_weather_data()"
   ]
  },
  {
   "cell_type": "markdown",
   "id": "dd101f11",
   "metadata": {},
   "source": [
    "## Part 2: Storing Cleaned Data\n",
    "\n",
    "_Write some prose that tells the reader what you're about to do here._"
   ]
  },
  {
   "cell_type": "code",
   "execution_count": 14,
   "id": "f3529cf6",
   "metadata": {},
   "outputs": [],
   "source": [
    "engine = db.create_engine(DATABASE_URL)"
   ]
  },
  {
   "cell_type": "code",
   "execution_count": 15,
   "id": "d2bea0ff",
   "metadata": {},
   "outputs": [],
   "source": [
    "# if using SQL (as opposed to SQLAlchemy), define the commands \n",
    "# to create your 4 tables/dataframes\n",
    "HOURLY_WEATHER_SCHEMA = \"\"\"\n",
    "TODO\n",
    "\"\"\"\n",
    "\n",
    "DAILY_WEATHER_SCHEMA = \"\"\"\n",
    "TODO\n",
    "\"\"\"\n",
    "\n",
    "TAXI_TRIPS_SCHEMA = \"\"\"\n",
    "TODO\n",
    "\"\"\"\n",
    "\n",
    "UBER_TRIPS_SCHEMA = \"\"\"\n",
    "TODO\n",
    "\"\"\""
   ]
  },
  {
   "cell_type": "code",
   "execution_count": null,
   "id": "5f41e54b",
   "metadata": {},
   "outputs": [],
   "source": [
    "# create that required schema.sql file\n",
    "with open(DATABASE_SCHEMA_FILE, \"w\") as f:\n",
    "    f.write(HOURLY_WEATHER_SCHEMA)\n",
    "    f.write(DAILY_WEATHER_SCHEMA)\n",
    "    f.write(TAXI_TRIPS_SCHEMA)\n",
    "    f.write(UBER_TRIPS_SCHEMA)"
   ]
  },
  {
   "cell_type": "code",
   "execution_count": 16,
   "id": "02eccdba",
   "metadata": {},
   "outputs": [],
   "source": [
    "# create the tables with the schema files\n",
    "with engine.connect() as connection:\n",
    "    pass"
   ]
  },
  {
   "cell_type": "markdown",
   "id": "c122964f",
   "metadata": {},
   "source": [
    "### Add Data to Database\n",
    "\n",
    "_**TODO:** Write some prose that tells the reader what you're about to do here._"
   ]
  },
  {
   "cell_type": "code",
   "execution_count": 17,
   "id": "0e68a363",
   "metadata": {},
   "outputs": [],
   "source": [
    "def write_dataframes_to_table(table_to_df_dict):\n",
    "    raise NotImplemented()"
   ]
  },
  {
   "cell_type": "code",
   "execution_count": null,
   "id": "45d6c06c",
   "metadata": {},
   "outputs": [],
   "source": [
    "map_table_name_to_dataframe = {\n",
    "    \"taxi_trips\": taxi_data,\n",
    "    \"uber_trips\": uber_data,\n",
    "    \"hourly_weather\": hourly_data,\n",
    "    \"daily_weather\": daily_data,\n",
    "}"
   ]
  },
  {
   "cell_type": "code",
   "execution_count": null,
   "id": "74004f96",
   "metadata": {},
   "outputs": [],
   "source": [
    "write_dataframes_to_table(map_table_name_to_dataframe)"
   ]
  },
  {
   "cell_type": "markdown",
   "id": "8cb6e33e",
   "metadata": {},
   "source": [
    "## Part 3: Understanding the Data"
   ]
  },
  {
   "cell_type": "markdown",
   "id": "b4753fcd",
   "metadata": {},
   "source": [
    "_A checklist of requirements to keep you on track. Remove this whole cell before submitting the project. The order of these tasks aren't necessarily the order in which they need to be done. It's okay to do them in an order that makes sense to you._\n",
    "\n",
    "* [ ] For 01-2009 through 06-2015, what hour of the day was the most popular to take a yellow taxi? The result should have 24 bins.\n",
    "* [ ] For the same time frame, what day of the week was the most popular to take an uber? The result should have 7 bins.\n",
    "* [ ] What is the 95% percentile of distance traveled for all hired trips during July 2013?\n",
    "* [ ] What were the top 10 days with the highest number of hired rides for 2009, and what was the average distance for each day?\n",
    "* [ ] Which 10 days in 2014 were the windiest, and how many hired trips were made on those days?\n",
    "* [ ] During Hurricane Sandy in NYC (Oct 29-30, 2012) and the week leading up to it, how many trips were taken each hour, and for each hour, how much precipitation did NYC receive and what was the sustained wind speed?"
   ]
  },
  {
   "cell_type": "code",
   "execution_count": 18,
   "id": "6a849e92",
   "metadata": {},
   "outputs": [],
   "source": [
    "def write_query_to_file(query, outfile):\n",
    "    raise NotImplemented()"
   ]
  },
  {
   "cell_type": "markdown",
   "id": "ee70a777",
   "metadata": {},
   "source": [
    "### Query N\n",
    "\n",
    "_**TODO:** Write some prose that tells the reader what you're about to do here._\n",
    "\n",
    "_Repeat for each query_"
   ]
  },
  {
   "cell_type": "code",
   "execution_count": null,
   "id": "db871d3c",
   "metadata": {},
   "outputs": [],
   "source": [
    "QUERY_N = \"\"\"\n",
    "TODO\n",
    "\"\"\""
   ]
  },
  {
   "cell_type": "code",
   "execution_count": null,
   "id": "c5275f3a",
   "metadata": {},
   "outputs": [],
   "source": [
    "engine.execute(QUERY_N).fetchall()"
   ]
  },
  {
   "cell_type": "code",
   "execution_count": null,
   "id": "a2ef04df",
   "metadata": {},
   "outputs": [],
   "source": [
    "write_query_to_file(QUERY_N, \"some_descriptive_name.sql\")"
   ]
  },
  {
   "cell_type": "markdown",
   "id": "a13ced42",
   "metadata": {},
   "source": [
    "## Part 4: Visualizing the Data\n",
    "\n",
    "_A checklist of requirements to keep you on track. Remove this whole cell before submitting the project. The order of these tasks aren't necessarily the order in which they need to be done. It's okay to do them in an order that makes sense to you._\n",
    "\n",
    "* [ ] Create an appropriate visualization for the first query/question in part 3\n",
    "* [ ] Create a visualization that shows the average distance traveled per month (regardless of year - so group by each month). Include the 90% confidence interval around the mean in the visualization\n",
    "* [ ] Define three lat/long coordinate boxes around the three major New York airports: LGA, JFK, and EWR (you can use bboxfinder to help). Create a visualization that compares what day of the week was most popular for drop offs for each airport.\n",
    "* [ ] Create a heatmap of all hired trips over a map of the area. Consider using KeplerGL or another library that helps generate geospatial visualizations.\n",
    "* [ ] Create a scatter plot that compares tip amount versus distance.\n",
    "* [ ] Create another scatter plot that compares tip amount versus precipitation amount.\n",
    "\n",
    "_Be sure these cells are executed so that the visualizations are rendered when the notebook is submitted._"
   ]
  },
  {
   "cell_type": "markdown",
   "id": "6d9eef42",
   "metadata": {},
   "source": [
    "### Visualization N\n",
    "\n",
    "_**TODO:** Write some prose that tells the reader what you're about to do here._\n",
    "\n",
    "_Repeat for each visualization._\n",
    "\n",
    "_The example below makes use of the `matplotlib` library. There are other libraries, including `pandas` built-in plotting library, kepler for geospatial data representation, `seaborn`, and others._"
   ]
  },
  {
   "cell_type": "code",
   "execution_count": 19,
   "id": "0de8394c",
   "metadata": {},
   "outputs": [],
   "source": [
    "# use a more descriptive name for your function\n",
    "def plot_visual_n(dataframe):\n",
    "    figure, axes = plt.subplots(figsize=(20, 10))\n",
    "    \n",
    "    values = \"...\"  # use the dataframe to pull out values needed to plot\n",
    "    \n",
    "    # you may want to use matplotlib to plot your visualizations;\n",
    "    # there are also many other plot types (other \n",
    "    # than axes.plot) you can use\n",
    "    axes.plot(values, \"...\")\n",
    "    # there are other methods to use to label your axes, to style \n",
    "    # and set up axes labels, etc\n",
    "    axes.set_title(\"Some Descriptive Title\")\n",
    "    \n",
    "    plt.show()"
   ]
  },
  {
   "cell_type": "code",
   "execution_count": null,
   "id": "847ced2f",
   "metadata": {},
   "outputs": [],
   "source": [
    "def get_data_for_visual_n():\n",
    "    # Query SQL database for the data needed.\n",
    "    # You can put the data queried into a pandas dataframe, if you wish\n",
    "    raise NotImplemented()"
   ]
  },
  {
   "cell_type": "code",
   "execution_count": null,
   "id": "3c63e845",
   "metadata": {},
   "outputs": [],
   "source": [
    "some_dataframe = get_data_for_visual_n()\n",
    "plot_visual_n(some_dataframe)"
   ]
  }
 ],
 "metadata": {
  "kernelspec": {
   "display_name": "Python 3 (ipykernel)",
   "language": "python",
   "name": "python3"
  },
  "language_info": {
   "codemirror_mode": {
    "name": "ipython",
    "version": 3
   },
   "file_extension": ".py",
   "mimetype": "text/x-python",
   "name": "python",
   "nbconvert_exporter": "python",
   "pygments_lexer": "ipython3",
   "version": "3.10.8"
  }
 },
 "nbformat": 4,
 "nbformat_minor": 5
}
