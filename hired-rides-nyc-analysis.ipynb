{
 "cells": [
  {
   "cell_type": "markdown",
   "id": "32f8ca24",
   "metadata": {},
   "source": [
    "# Understanding Hired Rides in NYC\n",
    "\n",
    "_[Project prompt](https://docs.google.com/document/d/1VERPjEZcC1XSs4-02aM-DbkNr_yaJVbFjLJxaYQswqA/edit#)_\n",
    "\n",
    "_This scaffolding notebook may be used to help setup your final project. It's **totally optional** whether you make use of this or not._\n",
    "\n",
    "_If you do use this notebook, everything provided is optional as well - you may remove or add prose and code as you wish._\n",
    "\n",
    "_Anything in italics (prose) or comments (in code) is meant to provide you with guidance. **Remove the italic lines and provided comments** before submitting the project, if you choose to use this scaffolding. We don't need the guidance when grading._\n",
    "\n",
    "_**All code below should be consider \"pseudo-code\" - not functional by itself, and only a suggestion at the approach.**_"
   ]
  },
  {
   "cell_type": "markdown",
   "id": "25627e8d",
   "metadata": {},
   "source": [
    "## Requirements\n",
    "\n",
    "_A checklist of requirements to keep you on track. Remove this whole cell before submitting the project._\n",
    "\n",
    "* Code clarity: make sure the code conforms to:\n",
    "    * [ ] [PEP 8](https://peps.python.org/pep-0008/) - You might find [this resource](https://realpython.com/python-pep8/) helpful as well as [this](https://github.com/dnanhkhoa/nb_black) or [this](https://jupyterlab-code-formatter.readthedocs.io/en/latest/) tool\n",
    "    * [ ] [PEP 257](https://peps.python.org/pep-0257/)\n",
    "    * [ ] Break each task down into logical functions\n",
    "* The following files are submitted for the project (see the project's GDoc for more details):\n",
    "    * [ ] `README.md`\n",
    "    * [ ] `requirements.txt`\n",
    "    * [ ] `.gitignore`\n",
    "    * [ ] `schema.sql`\n",
    "    * [ ] 6 query files (using the `.sql` extension), appropriately named for the purpose of the query\n",
    "    * [x] Jupyter Notebook containing the project (this file!)\n",
    "* [x] You can edit this cell and add a `x` inside the `[ ]` like this task to denote a completed task"
   ]
  },
  {
   "cell_type": "markdown",
   "id": "2f75fd94",
   "metadata": {},
   "source": [
    "## Project Setup"
   ]
  },
  {
   "cell_type": "code",
   "execution_count": 285,
   "id": "66dcde05",
   "metadata": {},
   "outputs": [
    {
     "data": {
      "application/javascript": [
       "\n",
       "            setTimeout(function() {\n",
       "                var nbb_cell_id = 285;\n",
       "                var nbb_unformatted_code = \"# import libraries\\n\\nfrom math import radians, sin, cos, sqrt, atan2\\n\\n# import os\\nimport requests\\nimport bs4\\nimport re\\nimport geopandas\\nimport matplotlib.pyplot as plt\\nimport pandas as pd\\nimport sqlalchemy as db\";\n",
       "                var nbb_formatted_code = \"# import libraries\\n\\nfrom math import radians, sin, cos, sqrt, atan2\\n\\n# import os\\nimport requests\\nimport bs4\\nimport re\\nimport geopandas\\nimport matplotlib.pyplot as plt\\nimport pandas as pd\\nimport sqlalchemy as db\";\n",
       "                var nbb_cells = Jupyter.notebook.get_cells();\n",
       "                for (var i = 0; i < nbb_cells.length; ++i) {\n",
       "                    if (nbb_cells[i].input_prompt_number == nbb_cell_id) {\n",
       "                        if (nbb_cells[i].get_text() == nbb_unformatted_code) {\n",
       "                             nbb_cells[i].set_text(nbb_formatted_code);\n",
       "                        }\n",
       "                        break;\n",
       "                    }\n",
       "                }\n",
       "            }, 500);\n",
       "            "
      ],
      "text/plain": [
       "<IPython.core.display.Javascript object>"
      ]
     },
     "metadata": {},
     "output_type": "display_data"
    }
   ],
   "source": [
    "# import libraries\n",
    "\n",
    "from math import radians, sin, cos, sqrt, atan2\n",
    "\n",
    "# import os\n",
    "import requests\n",
    "import bs4\n",
    "import re\n",
    "import geopandas\n",
    "import matplotlib.pyplot as plt\n",
    "import pandas as pd\n",
    "import sqlalchemy as db"
   ]
  },
  {
   "cell_type": "code",
   "execution_count": 402,
   "id": "8b622a58",
   "metadata": {},
   "outputs": [
    {
     "data": {
      "application/javascript": [
       "\n",
       "            setTimeout(function() {\n",
       "                var nbb_cell_id = 401;\n",
       "                var nbb_unformatted_code = \"# notebook formatting\\n\\n%load_ext nb_black\\n# %reload_ext nb_black\";\n",
       "                var nbb_formatted_code = \"# notebook formatting\\n\\n%load_ext nb_black\\n# %reload_ext nb_black\";\n",
       "                var nbb_cells = Jupyter.notebook.get_cells();\n",
       "                for (var i = 0; i < nbb_cells.length; ++i) {\n",
       "                    if (nbb_cells[i].input_prompt_number == nbb_cell_id) {\n",
       "                        if (nbb_cells[i].get_text() == nbb_unformatted_code) {\n",
       "                             nbb_cells[i].set_text(nbb_formatted_code);\n",
       "                        }\n",
       "                        break;\n",
       "                    }\n",
       "                }\n",
       "            }, 500);\n",
       "            "
      ],
      "text/plain": [
       "<IPython.core.display.Javascript object>"
      ]
     },
     "metadata": {},
     "output_type": "display_data"
    },
    {
     "data": {
      "application/javascript": [
       "\n",
       "            setTimeout(function() {\n",
       "                var nbb_cell_id = 401;\n",
       "                var nbb_unformatted_code = \"# notebook formatting\\n\\n%load_ext nb_black\\n# %reload_ext nb_black\";\n",
       "                var nbb_formatted_code = \"# notebook formatting\\n\\n%load_ext nb_black\\n# %reload_ext nb_black\";\n",
       "                var nbb_cells = Jupyter.notebook.get_cells();\n",
       "                for (var i = 0; i < nbb_cells.length; ++i) {\n",
       "                    if (nbb_cells[i].input_prompt_number == nbb_cell_id) {\n",
       "                        if (nbb_cells[i].get_text() == nbb_unformatted_code) {\n",
       "                             nbb_cells[i].set_text(nbb_formatted_code);\n",
       "                        }\n",
       "                        break;\n",
       "                    }\n",
       "                }\n",
       "            }, 500);\n",
       "            "
      ],
      "text/plain": [
       "<IPython.core.display.Javascript object>"
      ]
     },
     "metadata": {},
     "output_type": "display_data"
    },
    {
     "data": {
      "application/javascript": [
       "\n",
       "            setTimeout(function() {\n",
       "                var nbb_cell_id = 401;\n",
       "                var nbb_unformatted_code = \"# notebook formatting\\n\\n%load_ext nb_black\\n# %reload_ext nb_black\";\n",
       "                var nbb_formatted_code = \"# notebook formatting\\n\\n%load_ext nb_black\\n# %reload_ext nb_black\";\n",
       "                var nbb_cells = Jupyter.notebook.get_cells();\n",
       "                for (var i = 0; i < nbb_cells.length; ++i) {\n",
       "                    if (nbb_cells[i].input_prompt_number == nbb_cell_id) {\n",
       "                        if (nbb_cells[i].get_text() == nbb_unformatted_code) {\n",
       "                             nbb_cells[i].set_text(nbb_formatted_code);\n",
       "                        }\n",
       "                        break;\n",
       "                    }\n",
       "                }\n",
       "            }, 500);\n",
       "            "
      ],
      "text/plain": [
       "<IPython.core.display.Javascript object>"
      ]
     },
     "metadata": {},
     "output_type": "display_data"
    },
    {
     "data": {
      "application/javascript": [
       "\n",
       "            setTimeout(function() {\n",
       "                var nbb_cell_id = 401;\n",
       "                var nbb_unformatted_code = \"# notebook formatting\\n\\n%load_ext nb_black\\n# %reload_ext nb_black\";\n",
       "                var nbb_formatted_code = \"# notebook formatting\\n\\n%load_ext nb_black\\n# %reload_ext nb_black\";\n",
       "                var nbb_cells = Jupyter.notebook.get_cells();\n",
       "                for (var i = 0; i < nbb_cells.length; ++i) {\n",
       "                    if (nbb_cells[i].input_prompt_number == nbb_cell_id) {\n",
       "                        if (nbb_cells[i].get_text() == nbb_unformatted_code) {\n",
       "                             nbb_cells[i].set_text(nbb_formatted_code);\n",
       "                        }\n",
       "                        break;\n",
       "                    }\n",
       "                }\n",
       "            }, 500);\n",
       "            "
      ],
      "text/plain": [
       "<IPython.core.display.Javascript object>"
      ]
     },
     "metadata": {},
     "output_type": "display_data"
    },
    {
     "data": {
      "application/javascript": [
       "\n",
       "            setTimeout(function() {\n",
       "                var nbb_cell_id = 401;\n",
       "                var nbb_unformatted_code = \"# notebook formatting\\n\\n%load_ext nb_black\\n# %reload_ext nb_black\";\n",
       "                var nbb_formatted_code = \"# notebook formatting\\n\\n%load_ext nb_black\\n# %reload_ext nb_black\";\n",
       "                var nbb_cells = Jupyter.notebook.get_cells();\n",
       "                for (var i = 0; i < nbb_cells.length; ++i) {\n",
       "                    if (nbb_cells[i].input_prompt_number == nbb_cell_id) {\n",
       "                        if (nbb_cells[i].get_text() == nbb_unformatted_code) {\n",
       "                             nbb_cells[i].set_text(nbb_formatted_code);\n",
       "                        }\n",
       "                        break;\n",
       "                    }\n",
       "                }\n",
       "            }, 500);\n",
       "            "
      ],
      "text/plain": [
       "<IPython.core.display.Javascript object>"
      ]
     },
     "metadata": {},
     "output_type": "display_data"
    }
   ],
   "source": [
    "# notebook formatting\n",
    "\n",
    "# %load_ext nb_black\n",
    "%reload_ext nb_black"
   ]
  },
  {
   "cell_type": "code",
   "execution_count": 421,
   "id": "3f1242c4",
   "metadata": {},
   "outputs": [
    {
     "data": {
      "application/javascript": [
       "\n",
       "            setTimeout(function() {\n",
       "                var nbb_cell_id = 420;\n",
       "                var nbb_unformatted_code = \"load_and_clean_uber_data(UBER_DATA)\";\n",
       "                var nbb_formatted_code = \"load_and_clean_uber_data(UBER_DATA)\";\n",
       "                var nbb_cells = Jupyter.notebook.get_cells();\n",
       "                for (var i = 0; i < nbb_cells.length; ++i) {\n",
       "                    if (nbb_cells[i].input_prompt_number == nbb_cell_id) {\n",
       "                        if (nbb_cells[i].get_text() == nbb_unformatted_code) {\n",
       "                             nbb_cells[i].set_text(nbb_formatted_code);\n",
       "                        }\n",
       "                        break;\n",
       "                    }\n",
       "                }\n",
       "            }, 500);\n",
       "            "
      ],
      "text/plain": [
       "<IPython.core.display.Javascript object>"
      ]
     },
     "metadata": {},
     "output_type": "display_data"
    },
    {
     "data": {
      "application/javascript": [
       "\n",
       "            setTimeout(function() {\n",
       "                var nbb_cell_id = 420;\n",
       "                var nbb_unformatted_code = \"load_and_clean_uber_data(UBER_DATA)\";\n",
       "                var nbb_formatted_code = \"load_and_clean_uber_data(UBER_DATA)\";\n",
       "                var nbb_cells = Jupyter.notebook.get_cells();\n",
       "                for (var i = 0; i < nbb_cells.length; ++i) {\n",
       "                    if (nbb_cells[i].input_prompt_number == nbb_cell_id) {\n",
       "                        if (nbb_cells[i].get_text() == nbb_unformatted_code) {\n",
       "                             nbb_cells[i].set_text(nbb_formatted_code);\n",
       "                        }\n",
       "                        break;\n",
       "                    }\n",
       "                }\n",
       "            }, 500);\n",
       "            "
      ],
      "text/plain": [
       "<IPython.core.display.Javascript object>"
      ]
     },
     "metadata": {},
     "output_type": "display_data"
    },
    {
     "data": {
      "application/javascript": [
       "\n",
       "            setTimeout(function() {\n",
       "                var nbb_cell_id = 420;\n",
       "                var nbb_unformatted_code = \"load_and_clean_uber_data(UBER_DATA)\";\n",
       "                var nbb_formatted_code = \"load_and_clean_uber_data(UBER_DATA)\";\n",
       "                var nbb_cells = Jupyter.notebook.get_cells();\n",
       "                for (var i = 0; i < nbb_cells.length; ++i) {\n",
       "                    if (nbb_cells[i].input_prompt_number == nbb_cell_id) {\n",
       "                        if (nbb_cells[i].get_text() == nbb_unformatted_code) {\n",
       "                             nbb_cells[i].set_text(nbb_formatted_code);\n",
       "                        }\n",
       "                        break;\n",
       "                    }\n",
       "                }\n",
       "            }, 500);\n",
       "            "
      ],
      "text/plain": [
       "<IPython.core.display.Javascript object>"
      ]
     },
     "metadata": {},
     "output_type": "display_data"
    },
    {
     "data": {
      "application/javascript": [
       "\n",
       "            setTimeout(function() {\n",
       "                var nbb_cell_id = 420;\n",
       "                var nbb_unformatted_code = \"load_and_clean_uber_data(UBER_DATA)\";\n",
       "                var nbb_formatted_code = \"load_and_clean_uber_data(UBER_DATA)\";\n",
       "                var nbb_cells = Jupyter.notebook.get_cells();\n",
       "                for (var i = 0; i < nbb_cells.length; ++i) {\n",
       "                    if (nbb_cells[i].input_prompt_number == nbb_cell_id) {\n",
       "                        if (nbb_cells[i].get_text() == nbb_unformatted_code) {\n",
       "                             nbb_cells[i].set_text(nbb_formatted_code);\n",
       "                        }\n",
       "                        break;\n",
       "                    }\n",
       "                }\n",
       "            }, 500);\n",
       "            "
      ],
      "text/plain": [
       "<IPython.core.display.Javascript object>"
      ]
     },
     "metadata": {},
     "output_type": "display_data"
    },
    {
     "data": {
      "application/javascript": [
       "\n",
       "            setTimeout(function() {\n",
       "                var nbb_cell_id = 420;\n",
       "                var nbb_unformatted_code = \"load_and_clean_uber_data(UBER_DATA)\";\n",
       "                var nbb_formatted_code = \"load_and_clean_uber_data(UBER_DATA)\";\n",
       "                var nbb_cells = Jupyter.notebook.get_cells();\n",
       "                for (var i = 0; i < nbb_cells.length; ++i) {\n",
       "                    if (nbb_cells[i].input_prompt_number == nbb_cell_id) {\n",
       "                        if (nbb_cells[i].get_text() == nbb_unformatted_code) {\n",
       "                             nbb_cells[i].set_text(nbb_formatted_code);\n",
       "                        }\n",
       "                        break;\n",
       "                    }\n",
       "                }\n",
       "            }, 500);\n",
       "            "
      ],
      "text/plain": [
       "<IPython.core.display.Javascript object>"
      ]
     },
     "metadata": {},
     "output_type": "display_data"
    }
   ],
   "source": [
    "# any constants you might need, for example:\n",
    "\n",
    "TAXI_URL = \"https://www1.nyc.gov/site/tlc/about/tlc-trip-record-data.page\"\n",
    "# add other constants to refer to any local data, e.g. uber & weather\n",
    "UBER_CSV = \"uber_rides_sample.csv\"\n",
    "\n",
    "NEW_YORK_BOX_COORDS = ((40.560445, -74.242330), (40.908524, -73.717047))\n",
    "\n",
    "DATABASE_URL = \"sqlite:///project.db\"\n",
    "DATABASE_SCHEMA_FILE = \"schema.sql\"\n",
    "QUERY_DIRECTORY = \"queries\""
   ]
  },
  {
   "cell_type": "markdown",
   "id": "26ad10ea",
   "metadata": {},
   "source": [
    "## Part 1: Data Preprocessing"
   ]
  },
  {
   "cell_type": "markdown",
   "id": "ecf38168",
   "metadata": {},
   "source": [
    "_A checklist of requirements to keep you on track. Remove this whole cell before submitting the project. The order of these tasks aren't necessarily the order in which they need to be done. It's okay to do them in an order that makes sense to you._\n",
    "\n",
    "* [ ] Define a function that calculates the distance between two coordinates in kilometers that **only uses the `math` module** from the standard library.\n",
    "* [ ] Taxi data:\n",
    "    * [ ] Use the `re` module, and the packages `requests`, BeautifulSoup (`bs4`), and (optionally) `pandas` to programmatically download the required CSV files & load into memory.\n",
    "    * You may need to do this one file at a time - download, clean, sample. You can cache the sampling by saving it as a CSV file (and thereby freeing up memory on your computer) before moving onto the next file. \n",
    "* [ ] Weather & Uber data:\n",
    "    * [ ] Download the data manually in the link provided in the project doc.\n",
    "* [ ] All data:\n",
    "    * [ ] Load the data using `pandas`\n",
    "    * [ ] Clean the data, including:\n",
    "        * Remove unnecessary columns\n",
    "        * Remove invalid data points (take a moment to consider what's invalid)\n",
    "        * Normalize column names\n",
    "        * (Taxi & Uber data) Remove trips that start and/or end outside the designated [coordinate box](http://bboxfinder.com/#40.560445,-74.242330,40.908524,-73.717047)\n",
    "    * [ ] (Taxi data) Sample the data so that you have roughly the same amount of data points over the given date range for both Taxi data and Uber data.\n",
    "* [ ] Weather data:\n",
    "    * [ ] Split into two `pandas` DataFrames: one for required hourly data, and one for the required daily daya.\n",
    "    * [ ] You may find that the weather data you need later on does not exist at the frequency needed (daily vs hourly). You may calculate/generate samples from one to populate the other. Just document what you’re doing so we can follow along. "
   ]
  },
  {
   "cell_type": "markdown",
   "id": "6e26fe17",
   "metadata": {},
   "source": [
    "    \"\"\"Summary line.\n",
    "\n",
    "    Extended description of function.\n",
    "\n",
    "    Args:\n",
    "        arg1 (int): Description of arg1\n",
    "        arg2 (str): Description of arg2\n",
    "\n",
    "    Returns:\n",
    "        bool: Description of return value\n",
    "\n",
    "    \"\"\""
   ]
  },
  {
   "cell_type": "markdown",
   "id": "32074561",
   "metadata": {},
   "source": [
    "### Calculating distance\n",
    "_**TODO:** Write some prose that tells the reader what you're about to do here._"
   ]
  },
  {
   "cell_type": "code",
   "execution_count": 291,
   "id": "4cbbe6cc",
   "metadata": {},
   "outputs": [
    {
     "data": {
      "application/javascript": [
       "\n",
       "            setTimeout(function() {\n",
       "                var nbb_cell_id = 291;\n",
       "                var nbb_unformatted_code = \"def calculate_distance(from_coord, to_coord):\\n    \\\"\\\"\\\"Caculate the distance between two coordinates\\n\\n    Args:\\n        from_coord (tuple): A pair values (float) of latitude and longitude\\n        to_coord (tuple): A pair values (float) of latitude and longitude\\n\\n    Returns:\\n        float: the distance, round to 3 decimals\\n\\n    \\\"\\\"\\\"\\n\\n    # convert degrees to radians\\n    lat1, lon1 = radians(from_coord[0]), radians(from_coord[1])\\n    lat2, lon2 = radians(to_coord[0]), radians(to_coord[1])\\n\\n    # apply Haversine formula\\n    dlat = lat2 - lat1\\n    dlon = lon2 - lon1\\n\\n    r = 6373.0  # radius of earth (km)\\n\\n    a = sin(dlat / 2) ** 2 + cos(lat1) * cos(lat2) * sin(dlon / 2) ** 2\\n    c = 2 * atan2(sqrt(a), sqrt(1 - a))\\n\\n    distance = round(r * c, 3)\\n\\n    return distance\";\n",
       "                var nbb_formatted_code = \"def calculate_distance(from_coord, to_coord):\\n    \\\"\\\"\\\"Caculate the distance between two coordinates\\n\\n    Args:\\n        from_coord (tuple): A pair values (float) of latitude and longitude\\n        to_coord (tuple): A pair values (float) of latitude and longitude\\n\\n    Returns:\\n        float: the distance, round to 3 decimals\\n\\n    \\\"\\\"\\\"\\n\\n    # convert degrees to radians\\n    lat1, lon1 = radians(from_coord[0]), radians(from_coord[1])\\n    lat2, lon2 = radians(to_coord[0]), radians(to_coord[1])\\n\\n    # apply Haversine formula\\n    dlat = lat2 - lat1\\n    dlon = lon2 - lon1\\n\\n    r = 6373.0  # radius of earth (km)\\n\\n    a = sin(dlat / 2) ** 2 + cos(lat1) * cos(lat2) * sin(dlon / 2) ** 2\\n    c = 2 * atan2(sqrt(a), sqrt(1 - a))\\n\\n    distance = round(r * c, 3)\\n\\n    return distance\";\n",
       "                var nbb_cells = Jupyter.notebook.get_cells();\n",
       "                for (var i = 0; i < nbb_cells.length; ++i) {\n",
       "                    if (nbb_cells[i].input_prompt_number == nbb_cell_id) {\n",
       "                        if (nbb_cells[i].get_text() == nbb_unformatted_code) {\n",
       "                             nbb_cells[i].set_text(nbb_formatted_code);\n",
       "                        }\n",
       "                        break;\n",
       "                    }\n",
       "                }\n",
       "            }, 500);\n",
       "            "
      ],
      "text/plain": [
       "<IPython.core.display.Javascript object>"
      ]
     },
     "metadata": {},
     "output_type": "display_data"
    }
   ],
   "source": [
    "def calculate_distance(from_coord, to_coord):\n",
    "    \"\"\"Caculate the distance between two coordinates\n",
    "\n",
    "    Args:\n",
    "        from_coord (tuple): A pair values (float) of latitude and longitude\n",
    "        to_coord (tuple): A pair values (float) of latitude and longitude\n",
    "\n",
    "    Returns:\n",
    "        float: the distance, round to 3 decimals\n",
    "\n",
    "    \"\"\"\n",
    "\n",
    "    # convert degrees to radians\n",
    "    lat1, lon1 = radians(from_coord[0]), radians(from_coord[1])\n",
    "    lat2, lon2 = radians(to_coord[0]), radians(to_coord[1])\n",
    "\n",
    "    # apply Haversine formula\n",
    "    dlat = lat2 - lat1\n",
    "    dlon = lon2 - lon1\n",
    "\n",
    "    r = 6373.0  # radius of earth (km)\n",
    "\n",
    "    a = sin(dlat / 2) ** 2 + cos(lat1) * cos(lat2) * sin(dlon / 2) ** 2\n",
    "    c = 2 * atan2(sqrt(a), sqrt(1 - a))\n",
    "\n",
    "    distance = round(r * c, 3)\n",
    "\n",
    "    return distance"
   ]
  },
  {
   "cell_type": "code",
   "execution_count": 288,
   "id": "bf6e6a5e",
   "metadata": {},
   "outputs": [
    {
     "data": {
      "text/plain": [
       "58.8135468911925"
      ]
     },
     "execution_count": 288,
     "metadata": {},
     "output_type": "execute_result"
    },
    {
     "data": {
      "application/javascript": [
       "\n",
       "            setTimeout(function() {\n",
       "                var nbb_cell_id = 288;\n",
       "                var nbb_unformatted_code = \"calculate_distance(NEW_YORK_BOX_COORDS[0], NEW_YORK_BOX_COORDS[1])\";\n",
       "                var nbb_formatted_code = \"calculate_distance(NEW_YORK_BOX_COORDS[0], NEW_YORK_BOX_COORDS[1])\";\n",
       "                var nbb_cells = Jupyter.notebook.get_cells();\n",
       "                for (var i = 0; i < nbb_cells.length; ++i) {\n",
       "                    if (nbb_cells[i].input_prompt_number == nbb_cell_id) {\n",
       "                        if (nbb_cells[i].get_text() == nbb_unformatted_code) {\n",
       "                             nbb_cells[i].set_text(nbb_formatted_code);\n",
       "                        }\n",
       "                        break;\n",
       "                    }\n",
       "                }\n",
       "            }, 500);\n",
       "            "
      ],
      "text/plain": [
       "<IPython.core.display.Javascript object>"
      ]
     },
     "metadata": {},
     "output_type": "display_data"
    }
   ],
   "source": [
    "calculate_distance(NEW_YORK_BOX_COORDS[0], NEW_YORK_BOX_COORDS[1])"
   ]
  },
  {
   "cell_type": "code",
   "execution_count": null,
   "id": "6d6abf52",
   "metadata": {},
   "outputs": [],
   "source": [
    "def add_distance_column(dataframe):\n",
    "    raise NotImplemented()"
   ]
  },
  {
   "cell_type": "markdown",
   "id": "93daa717",
   "metadata": {},
   "source": [
    "### Processing Taxi Data\n",
    "\n",
    "_**TODO:** Write some prose that tells the reader what you're about to do here._"
   ]
  },
  {
   "cell_type": "code",
   "execution_count": 10,
   "id": "cbd0d198",
   "metadata": {},
   "outputs": [
    {
     "data": {
      "application/javascript": [
       "\n",
       "            setTimeout(function() {\n",
       "                var nbb_cell_id = 10;\n",
       "                var nbb_unformatted_code = \"def find_taxi_parquet_urls():\\n    \\\"\\\"\\\"Retrieve the yellow taxi parquet urls.\\n\\n    The function retrieves the url from January 2009 through June 2015.\\n\\n    Args:\\n        None\\n\\n    Returns:\\n        list: Desired urls as list of strings\\n\\n    \\\"\\\"\\\"\\n\\n    # Use requests library to get TAXI_URL html\\n    response = requests.get(TAXI_URL)\\n    html = response.content\\n\\n    # Use BeautifulSoup to get all yellow taxi parquet urls\\n    soup = bs4.BeautifulSoup(html, \\\"html.parser\\\")\\n    yellow_a_tags = soup.find_all(\\\"a\\\", attrs={\\\"title\\\": \\\"Yellow Taxi Trip Records\\\"})\\n    yellow_taxi_urls = [a[\\\"href\\\"] for a in yellow_a_tags]\\n\\n    # Use re moduel to filter the urls\\n    pattern = re.compile(\\n        r\\\"yellow_tripdata_20(09-(?:0\\\\d|1[0-2])|1[0-4]-(?:0\\\\d|1[0-2])|15-0[1-6]).parquet\\\"\\n    )\\n\\n    yellow_taxi_urls_desired = []\\n\\n    for link in yellow_taxi_urls:\\n        match = pattern.search(link)\\n        if match:\\n            yellow_taxi_urls_desired.append(match.string)\\n\\n    return yellow_taxi_urls_desired\";\n",
       "                var nbb_formatted_code = \"def find_taxi_parquet_urls():\\n    \\\"\\\"\\\"Retrieve the yellow taxi parquet urls.\\n\\n    The function retrieves the url from January 2009 through June 2015.\\n\\n    Args:\\n        None\\n\\n    Returns:\\n        list: Desired urls as list of strings\\n\\n    \\\"\\\"\\\"\\n\\n    # Use requests library to get TAXI_URL html\\n    response = requests.get(TAXI_URL)\\n    html = response.content\\n\\n    # Use BeautifulSoup to get all yellow taxi parquet urls\\n    soup = bs4.BeautifulSoup(html, \\\"html.parser\\\")\\n    yellow_a_tags = soup.find_all(\\\"a\\\", attrs={\\\"title\\\": \\\"Yellow Taxi Trip Records\\\"})\\n    yellow_taxi_urls = [a[\\\"href\\\"] for a in yellow_a_tags]\\n\\n    # Use re moduel to filter the urls\\n    pattern = re.compile(\\n        r\\\"yellow_tripdata_20(09-(?:0\\\\d|1[0-2])|1[0-4]-(?:0\\\\d|1[0-2])|15-0[1-6]).parquet\\\"\\n    )\\n\\n    yellow_taxi_urls_desired = []\\n\\n    for link in yellow_taxi_urls:\\n        match = pattern.search(link)\\n        if match:\\n            yellow_taxi_urls_desired.append(match.string)\\n\\n    return yellow_taxi_urls_desired\";\n",
       "                var nbb_cells = Jupyter.notebook.get_cells();\n",
       "                for (var i = 0; i < nbb_cells.length; ++i) {\n",
       "                    if (nbb_cells[i].input_prompt_number == nbb_cell_id) {\n",
       "                        if (nbb_cells[i].get_text() == nbb_unformatted_code) {\n",
       "                             nbb_cells[i].set_text(nbb_formatted_code);\n",
       "                        }\n",
       "                        break;\n",
       "                    }\n",
       "                }\n",
       "            }, 500);\n",
       "            "
      ],
      "text/plain": [
       "<IPython.core.display.Javascript object>"
      ]
     },
     "metadata": {},
     "output_type": "display_data"
    }
   ],
   "source": [
    "def find_taxi_parquet_urls():\n",
    "    \"\"\"Retrieve the yellow taxi parquet urls.\n",
    "\n",
    "    The function retrieves the url from January 2009 through June 2015.\n",
    "\n",
    "    Args:\n",
    "        None\n",
    "\n",
    "    Returns:\n",
    "        list: Desired urls as list of strings\n",
    "\n",
    "    \"\"\"\n",
    "\n",
    "    # Use requests library to get TAXI_URL html\n",
    "    response = requests.get(TAXI_URL)\n",
    "    html = response.content\n",
    "\n",
    "    # Use BeautifulSoup to get all yellow taxi parquet urls\n",
    "    soup = bs4.BeautifulSoup(html, \"html.parser\")\n",
    "    yellow_a_tags = soup.find_all(\"a\", attrs={\"title\": \"Yellow Taxi Trip Records\"})\n",
    "    yellow_taxi_urls = [a[\"href\"] for a in yellow_a_tags]\n",
    "\n",
    "    # Use re moduel to filter the urls\n",
    "    pattern = re.compile(\n",
    "        r\"yellow_tripdata_20(09-(?:0\\d|1[0-2])|1[0-4]-(?:0\\d|1[0-2])|15-0[1-6]).parquet\"\n",
    "    )\n",
    "\n",
    "    yellow_taxi_urls_desired = []\n",
    "\n",
    "    for link in yellow_taxi_urls:\n",
    "        match = pattern.search(link)\n",
    "        if match:\n",
    "            yellow_taxi_urls_desired.append(match.string)\n",
    "\n",
    "    return yellow_taxi_urls_desired"
   ]
  },
  {
   "cell_type": "code",
   "execution_count": 349,
   "id": "b7a2fe98",
   "metadata": {},
   "outputs": [
    {
     "data": {
      "application/javascript": [
       "\n",
       "            setTimeout(function() {\n",
       "                var nbb_cell_id = 348;\n",
       "                var nbb_unformatted_code = \"find_taxi_parquet_urls()\";\n",
       "                var nbb_formatted_code = \"find_taxi_parquet_urls()\";\n",
       "                var nbb_cells = Jupyter.notebook.get_cells();\n",
       "                for (var i = 0; i < nbb_cells.length; ++i) {\n",
       "                    if (nbb_cells[i].input_prompt_number == nbb_cell_id) {\n",
       "                        if (nbb_cells[i].get_text() == nbb_unformatted_code) {\n",
       "                             nbb_cells[i].set_text(nbb_formatted_code);\n",
       "                        }\n",
       "                        break;\n",
       "                    }\n",
       "                }\n",
       "            }, 500);\n",
       "            "
      ],
      "text/plain": [
       "<IPython.core.display.Javascript object>"
      ]
     },
     "metadata": {},
     "output_type": "display_data"
    }
   ],
   "source": [
    "# find_taxi_parquet_urls()"
   ]
  },
  {
   "cell_type": "code",
   "execution_count": 12,
   "id": "9bb298bd",
   "metadata": {},
   "outputs": [
    {
     "data": {
      "application/javascript": [
       "\n",
       "            setTimeout(function() {\n",
       "                var nbb_cell_id = 12;\n",
       "                var nbb_unformatted_code = \"def download_taxi_data(taxi_parquet_url):\\n    for url in taxi_parquet_url:\\n\\n        response = requests.get(url, stream=True)\\n        file_name = url.split(\\\"/\\\")[-1]\\n        # file_path = os.getcwd() + '/datasets/yellow_taxi_data/'\\n\\n        with open(file_name, \\\"wb\\\") as f:\\n            for chunk in response.iter_content(chunk_size=1024):\\n                if chunk:\\n                    f.write(chunk)\";\n",
       "                var nbb_formatted_code = \"def download_taxi_data(taxi_parquet_url):\\n    for url in taxi_parquet_url:\\n\\n        response = requests.get(url, stream=True)\\n        file_name = url.split(\\\"/\\\")[-1]\\n        # file_path = os.getcwd() + '/datasets/yellow_taxi_data/'\\n\\n        with open(file_name, \\\"wb\\\") as f:\\n            for chunk in response.iter_content(chunk_size=1024):\\n                if chunk:\\n                    f.write(chunk)\";\n",
       "                var nbb_cells = Jupyter.notebook.get_cells();\n",
       "                for (var i = 0; i < nbb_cells.length; ++i) {\n",
       "                    if (nbb_cells[i].input_prompt_number == nbb_cell_id) {\n",
       "                        if (nbb_cells[i].get_text() == nbb_unformatted_code) {\n",
       "                             nbb_cells[i].set_text(nbb_formatted_code);\n",
       "                        }\n",
       "                        break;\n",
       "                    }\n",
       "                }\n",
       "            }, 500);\n",
       "            "
      ],
      "text/plain": [
       "<IPython.core.display.Javascript object>"
      ]
     },
     "metadata": {},
     "output_type": "display_data"
    }
   ],
   "source": [
    "def download_taxi_data(taxi_parquet_url):\n",
    "    for url in taxi_parquet_url:\n",
    "\n",
    "        response = requests.get(url, stream=True)\n",
    "        file_name = url.split(\"/\")[-1]\n",
    "        # file_path = os.getcwd() + '/datasets/yellow_taxi_data/'\n",
    "\n",
    "        with open(file_name, \"wb\") as f:\n",
    "            for chunk in response.iter_content(chunk_size=1024):\n",
    "                if chunk:\n",
    "                    f.write(chunk)"
   ]
  },
  {
   "cell_type": "code",
   "execution_count": 13,
   "id": "30a25ab4",
   "metadata": {},
   "outputs": [
    {
     "data": {
      "application/javascript": [
       "\n",
       "            setTimeout(function() {\n",
       "                var nbb_cell_id = 13;\n",
       "                var nbb_unformatted_code = \"# Download the taxi parquet files to the current folder\\n\\ntaxi_parquet_url = find_taxi_parquet_urls()\\ndownload_taxi_data(taxi_parquet_url)\";\n",
       "                var nbb_formatted_code = \"# Download the taxi parquet files to the current folder\\n\\ntaxi_parquet_url = find_taxi_parquet_urls()\\ndownload_taxi_data(taxi_parquet_url)\";\n",
       "                var nbb_cells = Jupyter.notebook.get_cells();\n",
       "                for (var i = 0; i < nbb_cells.length; ++i) {\n",
       "                    if (nbb_cells[i].input_prompt_number == nbb_cell_id) {\n",
       "                        if (nbb_cells[i].get_text() == nbb_unformatted_code) {\n",
       "                             nbb_cells[i].set_text(nbb_formatted_code);\n",
       "                        }\n",
       "                        break;\n",
       "                    }\n",
       "                }\n",
       "            }, 500);\n",
       "            "
      ],
      "text/plain": [
       "<IPython.core.display.Javascript object>"
      ]
     },
     "metadata": {},
     "output_type": "display_data"
    }
   ],
   "source": [
    "# Download the taxi parquet files to the current folder\n",
    "\n",
    "taxi_parquet_url = find_taxi_parquet_urls()\n",
    "download_taxi_data(taxi_parquet_url)"
   ]
  },
  {
   "cell_type": "code",
   "execution_count": 416,
   "id": "bfe8b834",
   "metadata": {},
   "outputs": [
    {
     "data": {
      "text/plain": [
       "Index(['vendor_name', 'Trip_Pickup_DateTime', 'Trip_Dropoff_DateTime',\n",
       "       'Passenger_Count', 'Trip_Distance', 'Start_Lon', 'Start_Lat',\n",
       "       'Rate_Code', 'store_and_forward', 'End_Lon', 'End_Lat', 'Payment_Type',\n",
       "       'Fare_Amt', 'surcharge', 'mta_tax', 'Tip_Amt', 'Tolls_Amt',\n",
       "       'Total_Amt'],\n",
       "      dtype='object')"
      ]
     },
     "execution_count": 416,
     "metadata": {},
     "output_type": "execute_result"
    },
    {
     "data": {
      "application/javascript": [
       "\n",
       "            setTimeout(function() {\n",
       "                var nbb_cell_id = 415;\n",
       "                var nbb_unformatted_code = \"columns_needed1 = [\\n    \\\"Trip_Pickup_DateTime\\\",\\n    \\\"Trip_Dropoff_DateTime\\\",\\n    \\\"Start_Lon\\\",\\n    \\\"Start_Lat\\\",\\n    \\\"End_Lon\\\",\\n    \\\"End_Lat\\\",\\n    \\\"Tip_Amt\\\",\\n]\\n\\ncolumns_needed2 = [\\n    \\\"tpep_pickup_datetime\\\",\\n    \\\"tpep_dropoff_datetime\\\",\\n    \\\"PULocationID\\\",\\n    \\\"DOLocationID\\\",\\n    \\\"tip_amount\\\",\\n] #2014-02\\n\\ncolumns_needed3 = [\\n    \\\"pickup_datetime\\\",\\n    \\\"dropoff_datetime\\\",\\n    \\\"pickup_longitude\\\",\\n    \\\"pickup_latitude\\\",\\n    \\\"dropoff_longitude\\\",\\n    \\\"dropoff_latitude\\\",\\n    \\\"tip_amount\\\",\\n]\\n\\ndf = pd.read_parquet(\\\"yellow_tripdata_2015-02.parquet\\\")\\n\\n\\ndf.columns\";\n",
       "                var nbb_formatted_code = \"columns_needed1 = [\\n    \\\"Trip_Pickup_DateTime\\\",\\n    \\\"Trip_Dropoff_DateTime\\\",\\n    \\\"Start_Lon\\\",\\n    \\\"Start_Lat\\\",\\n    \\\"End_Lon\\\",\\n    \\\"End_Lat\\\",\\n    \\\"Tip_Amt\\\",\\n]\\n\\ncolumns_needed2 = [\\n    \\\"tpep_pickup_datetime\\\",\\n    \\\"tpep_dropoff_datetime\\\",\\n    \\\"PULocationID\\\",\\n    \\\"DOLocationID\\\",\\n    \\\"tip_amount\\\",\\n]  # 2014-02\\n\\ncolumns_needed3 = [\\n    \\\"pickup_datetime\\\",\\n    \\\"dropoff_datetime\\\",\\n    \\\"pickup_longitude\\\",\\n    \\\"pickup_latitude\\\",\\n    \\\"dropoff_longitude\\\",\\n    \\\"dropoff_latitude\\\",\\n    \\\"tip_amount\\\",\\n]\\n\\ndf = pd.read_parquet(\\\"yellow_tripdata_2015-02.parquet\\\")\\n\\n\\ndf.columns\";\n",
       "                var nbb_cells = Jupyter.notebook.get_cells();\n",
       "                for (var i = 0; i < nbb_cells.length; ++i) {\n",
       "                    if (nbb_cells[i].input_prompt_number == nbb_cell_id) {\n",
       "                        if (nbb_cells[i].get_text() == nbb_unformatted_code) {\n",
       "                             nbb_cells[i].set_text(nbb_formatted_code);\n",
       "                        }\n",
       "                        break;\n",
       "                    }\n",
       "                }\n",
       "            }, 500);\n",
       "            "
      ],
      "text/plain": [
       "<IPython.core.display.Javascript object>"
      ]
     },
     "metadata": {},
     "output_type": "display_data"
    },
    {
     "data": {
      "application/javascript": [
       "\n",
       "            setTimeout(function() {\n",
       "                var nbb_cell_id = 415;\n",
       "                var nbb_unformatted_code = \"columns_needed1 = [\\n    \\\"Trip_Pickup_DateTime\\\",\\n    \\\"Trip_Dropoff_DateTime\\\",\\n    \\\"Start_Lon\\\",\\n    \\\"Start_Lat\\\",\\n    \\\"End_Lon\\\",\\n    \\\"End_Lat\\\",\\n    \\\"Tip_Amt\\\",\\n]\\n\\ncolumns_needed2 = [\\n    \\\"tpep_pickup_datetime\\\",\\n    \\\"tpep_dropoff_datetime\\\",\\n    \\\"PULocationID\\\",\\n    \\\"DOLocationID\\\",\\n    \\\"tip_amount\\\",\\n] #2014-02\\n\\ncolumns_needed3 = [\\n    \\\"pickup_datetime\\\",\\n    \\\"dropoff_datetime\\\",\\n    \\\"pickup_longitude\\\",\\n    \\\"pickup_latitude\\\",\\n    \\\"dropoff_longitude\\\",\\n    \\\"dropoff_latitude\\\",\\n    \\\"tip_amount\\\",\\n]\\n\\ndf = pd.read_parquet(\\\"yellow_tripdata_2015-02.parquet\\\")\\n\\n\\ndf.columns\";\n",
       "                var nbb_formatted_code = \"columns_needed1 = [\\n    \\\"Trip_Pickup_DateTime\\\",\\n    \\\"Trip_Dropoff_DateTime\\\",\\n    \\\"Start_Lon\\\",\\n    \\\"Start_Lat\\\",\\n    \\\"End_Lon\\\",\\n    \\\"End_Lat\\\",\\n    \\\"Tip_Amt\\\",\\n]\\n\\ncolumns_needed2 = [\\n    \\\"tpep_pickup_datetime\\\",\\n    \\\"tpep_dropoff_datetime\\\",\\n    \\\"PULocationID\\\",\\n    \\\"DOLocationID\\\",\\n    \\\"tip_amount\\\",\\n]  # 2014-02\\n\\ncolumns_needed3 = [\\n    \\\"pickup_datetime\\\",\\n    \\\"dropoff_datetime\\\",\\n    \\\"pickup_longitude\\\",\\n    \\\"pickup_latitude\\\",\\n    \\\"dropoff_longitude\\\",\\n    \\\"dropoff_latitude\\\",\\n    \\\"tip_amount\\\",\\n]\\n\\ndf = pd.read_parquet(\\\"yellow_tripdata_2015-02.parquet\\\")\\n\\n\\ndf.columns\";\n",
       "                var nbb_cells = Jupyter.notebook.get_cells();\n",
       "                for (var i = 0; i < nbb_cells.length; ++i) {\n",
       "                    if (nbb_cells[i].input_prompt_number == nbb_cell_id) {\n",
       "                        if (nbb_cells[i].get_text() == nbb_unformatted_code) {\n",
       "                             nbb_cells[i].set_text(nbb_formatted_code);\n",
       "                        }\n",
       "                        break;\n",
       "                    }\n",
       "                }\n",
       "            }, 500);\n",
       "            "
      ],
      "text/plain": [
       "<IPython.core.display.Javascript object>"
      ]
     },
     "metadata": {},
     "output_type": "display_data"
    },
    {
     "data": {
      "application/javascript": [
       "\n",
       "            setTimeout(function() {\n",
       "                var nbb_cell_id = 415;\n",
       "                var nbb_unformatted_code = \"columns_needed1 = [\\n    \\\"Trip_Pickup_DateTime\\\",\\n    \\\"Trip_Dropoff_DateTime\\\",\\n    \\\"Start_Lon\\\",\\n    \\\"Start_Lat\\\",\\n    \\\"End_Lon\\\",\\n    \\\"End_Lat\\\",\\n    \\\"Tip_Amt\\\",\\n]\\n\\ncolumns_needed2 = [\\n    \\\"tpep_pickup_datetime\\\",\\n    \\\"tpep_dropoff_datetime\\\",\\n    \\\"PULocationID\\\",\\n    \\\"DOLocationID\\\",\\n    \\\"tip_amount\\\",\\n] #2014-02\\n\\ncolumns_needed3 = [\\n    \\\"pickup_datetime\\\",\\n    \\\"dropoff_datetime\\\",\\n    \\\"pickup_longitude\\\",\\n    \\\"pickup_latitude\\\",\\n    \\\"dropoff_longitude\\\",\\n    \\\"dropoff_latitude\\\",\\n    \\\"tip_amount\\\",\\n]\\n\\ndf = pd.read_parquet(\\\"yellow_tripdata_2015-02.parquet\\\")\\n\\n\\ndf.columns\";\n",
       "                var nbb_formatted_code = \"columns_needed1 = [\\n    \\\"Trip_Pickup_DateTime\\\",\\n    \\\"Trip_Dropoff_DateTime\\\",\\n    \\\"Start_Lon\\\",\\n    \\\"Start_Lat\\\",\\n    \\\"End_Lon\\\",\\n    \\\"End_Lat\\\",\\n    \\\"Tip_Amt\\\",\\n]\\n\\ncolumns_needed2 = [\\n    \\\"tpep_pickup_datetime\\\",\\n    \\\"tpep_dropoff_datetime\\\",\\n    \\\"PULocationID\\\",\\n    \\\"DOLocationID\\\",\\n    \\\"tip_amount\\\",\\n]  # 2014-02\\n\\ncolumns_needed3 = [\\n    \\\"pickup_datetime\\\",\\n    \\\"dropoff_datetime\\\",\\n    \\\"pickup_longitude\\\",\\n    \\\"pickup_latitude\\\",\\n    \\\"dropoff_longitude\\\",\\n    \\\"dropoff_latitude\\\",\\n    \\\"tip_amount\\\",\\n]\\n\\ndf = pd.read_parquet(\\\"yellow_tripdata_2015-02.parquet\\\")\\n\\n\\ndf.columns\";\n",
       "                var nbb_cells = Jupyter.notebook.get_cells();\n",
       "                for (var i = 0; i < nbb_cells.length; ++i) {\n",
       "                    if (nbb_cells[i].input_prompt_number == nbb_cell_id) {\n",
       "                        if (nbb_cells[i].get_text() == nbb_unformatted_code) {\n",
       "                             nbb_cells[i].set_text(nbb_formatted_code);\n",
       "                        }\n",
       "                        break;\n",
       "                    }\n",
       "                }\n",
       "            }, 500);\n",
       "            "
      ],
      "text/plain": [
       "<IPython.core.display.Javascript object>"
      ]
     },
     "metadata": {},
     "output_type": "display_data"
    },
    {
     "data": {
      "application/javascript": [
       "\n",
       "            setTimeout(function() {\n",
       "                var nbb_cell_id = 415;\n",
       "                var nbb_unformatted_code = \"columns_needed1 = [\\n    \\\"Trip_Pickup_DateTime\\\",\\n    \\\"Trip_Dropoff_DateTime\\\",\\n    \\\"Start_Lon\\\",\\n    \\\"Start_Lat\\\",\\n    \\\"End_Lon\\\",\\n    \\\"End_Lat\\\",\\n    \\\"Tip_Amt\\\",\\n]\\n\\ncolumns_needed2 = [\\n    \\\"tpep_pickup_datetime\\\",\\n    \\\"tpep_dropoff_datetime\\\",\\n    \\\"PULocationID\\\",\\n    \\\"DOLocationID\\\",\\n    \\\"tip_amount\\\",\\n] #2014-02\\n\\ncolumns_needed3 = [\\n    \\\"pickup_datetime\\\",\\n    \\\"dropoff_datetime\\\",\\n    \\\"pickup_longitude\\\",\\n    \\\"pickup_latitude\\\",\\n    \\\"dropoff_longitude\\\",\\n    \\\"dropoff_latitude\\\",\\n    \\\"tip_amount\\\",\\n]\\n\\ndf = pd.read_parquet(\\\"yellow_tripdata_2015-02.parquet\\\")\\n\\n\\ndf.columns\";\n",
       "                var nbb_formatted_code = \"columns_needed1 = [\\n    \\\"Trip_Pickup_DateTime\\\",\\n    \\\"Trip_Dropoff_DateTime\\\",\\n    \\\"Start_Lon\\\",\\n    \\\"Start_Lat\\\",\\n    \\\"End_Lon\\\",\\n    \\\"End_Lat\\\",\\n    \\\"Tip_Amt\\\",\\n]\\n\\ncolumns_needed2 = [\\n    \\\"tpep_pickup_datetime\\\",\\n    \\\"tpep_dropoff_datetime\\\",\\n    \\\"PULocationID\\\",\\n    \\\"DOLocationID\\\",\\n    \\\"tip_amount\\\",\\n]  # 2014-02\\n\\ncolumns_needed3 = [\\n    \\\"pickup_datetime\\\",\\n    \\\"dropoff_datetime\\\",\\n    \\\"pickup_longitude\\\",\\n    \\\"pickup_latitude\\\",\\n    \\\"dropoff_longitude\\\",\\n    \\\"dropoff_latitude\\\",\\n    \\\"tip_amount\\\",\\n]\\n\\ndf = pd.read_parquet(\\\"yellow_tripdata_2015-02.parquet\\\")\\n\\n\\ndf.columns\";\n",
       "                var nbb_cells = Jupyter.notebook.get_cells();\n",
       "                for (var i = 0; i < nbb_cells.length; ++i) {\n",
       "                    if (nbb_cells[i].input_prompt_number == nbb_cell_id) {\n",
       "                        if (nbb_cells[i].get_text() == nbb_unformatted_code) {\n",
       "                             nbb_cells[i].set_text(nbb_formatted_code);\n",
       "                        }\n",
       "                        break;\n",
       "                    }\n",
       "                }\n",
       "            }, 500);\n",
       "            "
      ],
      "text/plain": [
       "<IPython.core.display.Javascript object>"
      ]
     },
     "metadata": {},
     "output_type": "display_data"
    },
    {
     "data": {
      "application/javascript": [
       "\n",
       "            setTimeout(function() {\n",
       "                var nbb_cell_id = 415;\n",
       "                var nbb_unformatted_code = \"columns_needed1 = [\\n    \\\"Trip_Pickup_DateTime\\\",\\n    \\\"Trip_Dropoff_DateTime\\\",\\n    \\\"Start_Lon\\\",\\n    \\\"Start_Lat\\\",\\n    \\\"End_Lon\\\",\\n    \\\"End_Lat\\\",\\n    \\\"Tip_Amt\\\",\\n]\\n\\ncolumns_needed2 = [\\n    \\\"tpep_pickup_datetime\\\",\\n    \\\"tpep_dropoff_datetime\\\",\\n    \\\"PULocationID\\\",\\n    \\\"DOLocationID\\\",\\n    \\\"tip_amount\\\",\\n] #2014-02\\n\\ncolumns_needed3 = [\\n    \\\"pickup_datetime\\\",\\n    \\\"dropoff_datetime\\\",\\n    \\\"pickup_longitude\\\",\\n    \\\"pickup_latitude\\\",\\n    \\\"dropoff_longitude\\\",\\n    \\\"dropoff_latitude\\\",\\n    \\\"tip_amount\\\",\\n]\\n\\ndf = pd.read_parquet(\\\"yellow_tripdata_2015-02.parquet\\\")\\n\\n\\ndf.columns\";\n",
       "                var nbb_formatted_code = \"columns_needed1 = [\\n    \\\"Trip_Pickup_DateTime\\\",\\n    \\\"Trip_Dropoff_DateTime\\\",\\n    \\\"Start_Lon\\\",\\n    \\\"Start_Lat\\\",\\n    \\\"End_Lon\\\",\\n    \\\"End_Lat\\\",\\n    \\\"Tip_Amt\\\",\\n]\\n\\ncolumns_needed2 = [\\n    \\\"tpep_pickup_datetime\\\",\\n    \\\"tpep_dropoff_datetime\\\",\\n    \\\"PULocationID\\\",\\n    \\\"DOLocationID\\\",\\n    \\\"tip_amount\\\",\\n]  # 2014-02\\n\\ncolumns_needed3 = [\\n    \\\"pickup_datetime\\\",\\n    \\\"dropoff_datetime\\\",\\n    \\\"pickup_longitude\\\",\\n    \\\"pickup_latitude\\\",\\n    \\\"dropoff_longitude\\\",\\n    \\\"dropoff_latitude\\\",\\n    \\\"tip_amount\\\",\\n]\\n\\ndf = pd.read_parquet(\\\"yellow_tripdata_2015-02.parquet\\\")\\n\\n\\ndf.columns\";\n",
       "                var nbb_cells = Jupyter.notebook.get_cells();\n",
       "                for (var i = 0; i < nbb_cells.length; ++i) {\n",
       "                    if (nbb_cells[i].input_prompt_number == nbb_cell_id) {\n",
       "                        if (nbb_cells[i].get_text() == nbb_unformatted_code) {\n",
       "                             nbb_cells[i].set_text(nbb_formatted_code);\n",
       "                        }\n",
       "                        break;\n",
       "                    }\n",
       "                }\n",
       "            }, 500);\n",
       "            "
      ],
      "text/plain": [
       "<IPython.core.display.Javascript object>"
      ]
     },
     "metadata": {},
     "output_type": "display_data"
    }
   ],
   "source": [
    "columns_needed1 = [\n",
    "    \"Trip_Pickup_DateTime\",\n",
    "    \"Trip_Dropoff_DateTime\",\n",
    "    \"Start_Lon\",\n",
    "    \"Start_Lat\",\n",
    "    \"End_Lon\",\n",
    "    \"End_Lat\",\n",
    "    \"Tip_Amt\",\n",
    "] #2009-02\n",
    "\n",
    "columns_needed2 = [\n",
    "    \"tpep_pickup_datetime\",\n",
    "    \"tpep_dropoff_datetime\",\n",
    "    \"PULocationID\",\n",
    "    \"DOLocationID\",\n",
    "    \"tip_amount\",\n",
    "] #2014-02\n",
    "\n",
    "columns_needed3 = [\n",
    "    \"pickup_datetime\",\n",
    "    \"dropoff_datetime\",\n",
    "    \"pickup_longitude\",\n",
    "    \"pickup_latitude\",\n",
    "    \"dropoff_longitude\",\n",
    "    \"dropoff_latitude\",\n",
    "    \"tip_amount\",\n",
    "]\n",
    "\n",
    "df = pd.read_parquet(\"yellow_tripdata_2009-02.parquet\")\n",
    "\n",
    "\n",
    "df.columns"
   ]
  },
  {
   "cell_type": "code",
   "execution_count": 389,
   "id": "5f93715c",
   "metadata": {},
   "outputs": [
    {
     "data": {
      "text/html": [
       "<div>\n",
       "<style scoped>\n",
       "    .dataframe tbody tr th:only-of-type {\n",
       "        vertical-align: middle;\n",
       "    }\n",
       "\n",
       "    .dataframe tbody tr th {\n",
       "        vertical-align: top;\n",
       "    }\n",
       "\n",
       "    .dataframe thead th {\n",
       "        text-align: right;\n",
       "    }\n",
       "</style>\n",
       "<table border=\"1\" class=\"dataframe\">\n",
       "  <thead>\n",
       "    <tr style=\"text-align: right;\">\n",
       "      <th></th>\n",
       "      <th>vendor_name</th>\n",
       "      <th>Trip_Pickup_DateTime</th>\n",
       "      <th>Trip_Dropoff_DateTime</th>\n",
       "      <th>Passenger_Count</th>\n",
       "      <th>Trip_Distance</th>\n",
       "      <th>Start_Lon</th>\n",
       "      <th>Start_Lat</th>\n",
       "      <th>Rate_Code</th>\n",
       "      <th>store_and_forward</th>\n",
       "      <th>End_Lon</th>\n",
       "      <th>End_Lat</th>\n",
       "      <th>Payment_Type</th>\n",
       "      <th>Fare_Amt</th>\n",
       "      <th>surcharge</th>\n",
       "      <th>mta_tax</th>\n",
       "      <th>Tip_Amt</th>\n",
       "      <th>Tolls_Amt</th>\n",
       "      <th>Total_Amt</th>\n",
       "    </tr>\n",
       "  </thead>\n",
       "  <tbody>\n",
       "    <tr>\n",
       "      <th>0</th>\n",
       "      <td>DDS</td>\n",
       "      <td>2009-02-03 08:25:00</td>\n",
       "      <td>2009-02-03 08:33:39</td>\n",
       "      <td>1</td>\n",
       "      <td>1.60</td>\n",
       "      <td>-73.992768</td>\n",
       "      <td>40.758325</td>\n",
       "      <td>NaN</td>\n",
       "      <td>NaN</td>\n",
       "      <td>-73.994710</td>\n",
       "      <td>40.739723</td>\n",
       "      <td>CASH</td>\n",
       "      <td>6.9</td>\n",
       "      <td>0.0</td>\n",
       "      <td>NaN</td>\n",
       "      <td>0.0</td>\n",
       "      <td>0.0</td>\n",
       "      <td>6.9</td>\n",
       "    </tr>\n",
       "    <tr>\n",
       "      <th>1</th>\n",
       "      <td>VTS</td>\n",
       "      <td>2009-02-28 00:26:00</td>\n",
       "      <td>2009-02-28 00:40:00</td>\n",
       "      <td>5</td>\n",
       "      <td>3.05</td>\n",
       "      <td>0.000000</td>\n",
       "      <td>0.000000</td>\n",
       "      <td>NaN</td>\n",
       "      <td>NaN</td>\n",
       "      <td>0.000000</td>\n",
       "      <td>0.000000</td>\n",
       "      <td>CASH</td>\n",
       "      <td>10.5</td>\n",
       "      <td>0.5</td>\n",
       "      <td>NaN</td>\n",
       "      <td>0.0</td>\n",
       "      <td>0.0</td>\n",
       "      <td>11.0</td>\n",
       "    </tr>\n",
       "    <tr>\n",
       "      <th>2</th>\n",
       "      <td>DDS</td>\n",
       "      <td>2009-02-22 00:39:23</td>\n",
       "      <td>2009-02-22 00:45:52</td>\n",
       "      <td>1</td>\n",
       "      <td>1.50</td>\n",
       "      <td>-73.137393</td>\n",
       "      <td>41.366138</td>\n",
       "      <td>NaN</td>\n",
       "      <td>NaN</td>\n",
       "      <td>-73.137393</td>\n",
       "      <td>41.366138</td>\n",
       "      <td>CASH</td>\n",
       "      <td>5.7</td>\n",
       "      <td>0.5</td>\n",
       "      <td>NaN</td>\n",
       "      <td>0.0</td>\n",
       "      <td>0.0</td>\n",
       "      <td>6.2</td>\n",
       "    </tr>\n",
       "    <tr>\n",
       "      <th>3</th>\n",
       "      <td>VTS</td>\n",
       "      <td>2009-02-28 12:47:00</td>\n",
       "      <td>2009-02-28 12:54:00</td>\n",
       "      <td>1</td>\n",
       "      <td>1.42</td>\n",
       "      <td>-73.980458</td>\n",
       "      <td>40.748445</td>\n",
       "      <td>NaN</td>\n",
       "      <td>NaN</td>\n",
       "      <td>-73.996103</td>\n",
       "      <td>40.737095</td>\n",
       "      <td>CASH</td>\n",
       "      <td>6.1</td>\n",
       "      <td>0.0</td>\n",
       "      <td>NaN</td>\n",
       "      <td>0.0</td>\n",
       "      <td>0.0</td>\n",
       "      <td>6.1</td>\n",
       "    </tr>\n",
       "    <tr>\n",
       "      <th>4</th>\n",
       "      <td>DDS</td>\n",
       "      <td>2009-02-05 18:34:35</td>\n",
       "      <td>2009-02-05 18:43:26</td>\n",
       "      <td>1</td>\n",
       "      <td>1.50</td>\n",
       "      <td>-73.137393</td>\n",
       "      <td>41.366138</td>\n",
       "      <td>NaN</td>\n",
       "      <td>NaN</td>\n",
       "      <td>-73.137393</td>\n",
       "      <td>41.366138</td>\n",
       "      <td>CASH</td>\n",
       "      <td>6.9</td>\n",
       "      <td>1.0</td>\n",
       "      <td>NaN</td>\n",
       "      <td>0.0</td>\n",
       "      <td>0.0</td>\n",
       "      <td>7.9</td>\n",
       "    </tr>\n",
       "  </tbody>\n",
       "</table>\n",
       "</div>"
      ],
      "text/plain": [
       "  vendor_name Trip_Pickup_DateTime Trip_Dropoff_DateTime  Passenger_Count  \\\n",
       "0         DDS  2009-02-03 08:25:00   2009-02-03 08:33:39                1   \n",
       "1         VTS  2009-02-28 00:26:00   2009-02-28 00:40:00                5   \n",
       "2         DDS  2009-02-22 00:39:23   2009-02-22 00:45:52                1   \n",
       "3         VTS  2009-02-28 12:47:00   2009-02-28 12:54:00                1   \n",
       "4         DDS  2009-02-05 18:34:35   2009-02-05 18:43:26                1   \n",
       "\n",
       "   Trip_Distance  Start_Lon  Start_Lat  Rate_Code  store_and_forward  \\\n",
       "0           1.60 -73.992768  40.758325        NaN                NaN   \n",
       "1           3.05   0.000000   0.000000        NaN                NaN   \n",
       "2           1.50 -73.137393  41.366138        NaN                NaN   \n",
       "3           1.42 -73.980458  40.748445        NaN                NaN   \n",
       "4           1.50 -73.137393  41.366138        NaN                NaN   \n",
       "\n",
       "     End_Lon    End_Lat Payment_Type  Fare_Amt  surcharge  mta_tax  Tip_Amt  \\\n",
       "0 -73.994710  40.739723         CASH       6.9        0.0      NaN      0.0   \n",
       "1   0.000000   0.000000         CASH      10.5        0.5      NaN      0.0   \n",
       "2 -73.137393  41.366138         CASH       5.7        0.5      NaN      0.0   \n",
       "3 -73.996103  40.737095         CASH       6.1        0.0      NaN      0.0   \n",
       "4 -73.137393  41.366138         CASH       6.9        1.0      NaN      0.0   \n",
       "\n",
       "   Tolls_Amt  Total_Amt  \n",
       "0        0.0        6.9  \n",
       "1        0.0       11.0  \n",
       "2        0.0        6.2  \n",
       "3        0.0        6.1  \n",
       "4        0.0        7.9  "
      ]
     },
     "execution_count": 389,
     "metadata": {},
     "output_type": "execute_result"
    },
    {
     "data": {
      "application/javascript": [
       "\n",
       "            setTimeout(function() {\n",
       "                var nbb_cell_id = 388;\n",
       "                var nbb_unformatted_code = \"columns_needed1 = [\\n    \\\"Trip_Pickup_DateTime\\\",\\n    \\\"Trip_Dropoff_DateTime\\\",\\n    \\\"Start_Lon\\\",\\n    \\\"Start_Lat\\\",\\n    \\\"End_Lon\\\",\\n    \\\"End_Lat\\\",\\n    \\\"Tip_Amt\\\",\\n]\\n\\ncolumns_needed2 = [\\n    \\\"tpep_pickup_datetime\\\",\\n    \\\"tpep_dropoff_datetime\\\",\\n    \\\"PULocationID\\\",\\n    \\\"DOLocationID\\\",\\n    \\\"tip_amount\\\",\\n]\\n\\ncolumns_needed3 = [\\n    \\\"pickup_datetime\\\",\\n    \\\"dropoff_datetime\\\",\\n    \\\"pickup_longitude\\\",\\n    \\\"pickup_latitude\\\",\\n    \\\"dropoff_longitude\\\",\\n    \\\"dropoff_latitude\\\",\\n    \\\"tip_amount\\\",\\n]\\n\\ndf = pd.read_parquet(\\\"yellow_tripdata_2009-02.parquet\\\")\\n\\n\\ndf.columns\";\n",
       "                var nbb_formatted_code = \"columns_needed1 = [\\n    \\\"Trip_Pickup_DateTime\\\",\\n    \\\"Trip_Dropoff_DateTime\\\",\\n    \\\"Start_Lon\\\",\\n    \\\"Start_Lat\\\",\\n    \\\"End_Lon\\\",\\n    \\\"End_Lat\\\",\\n    \\\"Tip_Amt\\\",\\n]\\n\\ncolumns_needed2 = [\\n    \\\"tpep_pickup_datetime\\\",\\n    \\\"tpep_dropoff_datetime\\\",\\n    \\\"PULocationID\\\",\\n    \\\"DOLocationID\\\",\\n    \\\"tip_amount\\\",\\n]\\n\\ncolumns_needed3 = [\\n    \\\"pickup_datetime\\\",\\n    \\\"dropoff_datetime\\\",\\n    \\\"pickup_longitude\\\",\\n    \\\"pickup_latitude\\\",\\n    \\\"dropoff_longitude\\\",\\n    \\\"dropoff_latitude\\\",\\n    \\\"tip_amount\\\",\\n]\\n\\ndf = pd.read_parquet(\\\"yellow_tripdata_2009-02.parquet\\\")\\n\\n\\ndf.columns\";\n",
       "                var nbb_cells = Jupyter.notebook.get_cells();\n",
       "                for (var i = 0; i < nbb_cells.length; ++i) {\n",
       "                    if (nbb_cells[i].input_prompt_number == nbb_cell_id) {\n",
       "                        if (nbb_cells[i].get_text() == nbb_unformatted_code) {\n",
       "                             nbb_cells[i].set_text(nbb_formatted_code);\n",
       "                        }\n",
       "                        break;\n",
       "                    }\n",
       "                }\n",
       "            }, 500);\n",
       "            "
      ],
      "text/plain": [
       "<IPython.core.display.Javascript object>"
      ]
     },
     "metadata": {},
     "output_type": "display_data"
    },
    {
     "data": {
      "application/javascript": [
       "\n",
       "            setTimeout(function() {\n",
       "                var nbb_cell_id = 388;\n",
       "                var nbb_unformatted_code = \"columns_needed1 = [\\n    \\\"Trip_Pickup_DateTime\\\",\\n    \\\"Trip_Dropoff_DateTime\\\",\\n    \\\"Start_Lon\\\",\\n    \\\"Start_Lat\\\",\\n    \\\"End_Lon\\\",\\n    \\\"End_Lat\\\",\\n    \\\"Tip_Amt\\\",\\n]\\n\\ncolumns_needed2 = [\\n    \\\"tpep_pickup_datetime\\\",\\n    \\\"tpep_dropoff_datetime\\\",\\n    \\\"PULocationID\\\",\\n    \\\"DOLocationID\\\",\\n    \\\"tip_amount\\\",\\n]\\n\\ncolumns_needed3 = [\\n    \\\"pickup_datetime\\\",\\n    \\\"dropoff_datetime\\\",\\n    \\\"pickup_longitude\\\",\\n    \\\"pickup_latitude\\\",\\n    \\\"dropoff_longitude\\\",\\n    \\\"dropoff_latitude\\\",\\n    \\\"tip_amount\\\",\\n]\\n\\ndf = pd.read_parquet(\\\"yellow_tripdata_2009-02.parquet\\\")\\n\\n\\ndf.columns\";\n",
       "                var nbb_formatted_code = \"columns_needed1 = [\\n    \\\"Trip_Pickup_DateTime\\\",\\n    \\\"Trip_Dropoff_DateTime\\\",\\n    \\\"Start_Lon\\\",\\n    \\\"Start_Lat\\\",\\n    \\\"End_Lon\\\",\\n    \\\"End_Lat\\\",\\n    \\\"Tip_Amt\\\",\\n]\\n\\ncolumns_needed2 = [\\n    \\\"tpep_pickup_datetime\\\",\\n    \\\"tpep_dropoff_datetime\\\",\\n    \\\"PULocationID\\\",\\n    \\\"DOLocationID\\\",\\n    \\\"tip_amount\\\",\\n]\\n\\ncolumns_needed3 = [\\n    \\\"pickup_datetime\\\",\\n    \\\"dropoff_datetime\\\",\\n    \\\"pickup_longitude\\\",\\n    \\\"pickup_latitude\\\",\\n    \\\"dropoff_longitude\\\",\\n    \\\"dropoff_latitude\\\",\\n    \\\"tip_amount\\\",\\n]\\n\\ndf = pd.read_parquet(\\\"yellow_tripdata_2009-02.parquet\\\")\\n\\n\\ndf.columns\";\n",
       "                var nbb_cells = Jupyter.notebook.get_cells();\n",
       "                for (var i = 0; i < nbb_cells.length; ++i) {\n",
       "                    if (nbb_cells[i].input_prompt_number == nbb_cell_id) {\n",
       "                        if (nbb_cells[i].get_text() == nbb_unformatted_code) {\n",
       "                             nbb_cells[i].set_text(nbb_formatted_code);\n",
       "                        }\n",
       "                        break;\n",
       "                    }\n",
       "                }\n",
       "            }, 500);\n",
       "            "
      ],
      "text/plain": [
       "<IPython.core.display.Javascript object>"
      ]
     },
     "metadata": {},
     "output_type": "display_data"
    }
   ],
   "source": [
    "df.head()"
   ]
  },
  {
   "cell_type": "code",
   "execution_count": 169,
   "id": "717377c1",
   "metadata": {},
   "outputs": [
    {
     "data": {
      "application/javascript": [
       "\n",
       "            setTimeout(function() {\n",
       "                var nbb_cell_id = 169;\n",
       "                var nbb_unformatted_code = \"gdf = geopandas.read_file(\\\"taxi_zones/taxi_zones.shp\\\").to_crs(4326)\\n\\ndef convert_locationId(locationId):\\n\\n    geo_row = gdf.loc[gdf[\\\"LocationID\\\"] == locationId]\\n    lon = geo_row[\\\"geometry\\\"].centroid.x.tolist()[0]\\n    lat = geo_row[\\\"geometry\\\"].centroid.y.tolist()[0]\\n\\n    return (lat, lon)\";\n",
       "                var nbb_formatted_code = \"gdf = geopandas.read_file(\\\"taxi_zones/taxi_zones.shp\\\").to_crs(4326)\\n\\n\\ndef convert_locationId(locationId):\\n\\n    geo_row = gdf.loc[gdf[\\\"LocationID\\\"] == locationId]\\n    lon = geo_row[\\\"geometry\\\"].centroid.x.tolist()[0]\\n    lat = geo_row[\\\"geometry\\\"].centroid.y.tolist()[0]\\n\\n    return (lat, lon)\";\n",
       "                var nbb_cells = Jupyter.notebook.get_cells();\n",
       "                for (var i = 0; i < nbb_cells.length; ++i) {\n",
       "                    if (nbb_cells[i].input_prompt_number == nbb_cell_id) {\n",
       "                        if (nbb_cells[i].get_text() == nbb_unformatted_code) {\n",
       "                             nbb_cells[i].set_text(nbb_formatted_code);\n",
       "                        }\n",
       "                        break;\n",
       "                    }\n",
       "                }\n",
       "            }, 500);\n",
       "            "
      ],
      "text/plain": [
       "<IPython.core.display.Javascript object>"
      ]
     },
     "metadata": {},
     "output_type": "display_data"
    }
   ],
   "source": [
    "# def convert_geometry(locationId):\n",
    "\n",
    "#     geo_row = gdf.loc[gdf[\"LocationID\"] == locationId]\n",
    "#     lon = geo_row[\"geometry\"].centroid.x.tolist()[0]\n",
    "#     lat = geo_row[\"geometry\"].centroid.y.tolist()[0]\n",
    "\n",
    "#     return (lat, lon)"
   ]
  },
  {
   "cell_type": "markdown",
   "id": "41bb06a7",
   "metadata": {},
   "source": [
    "### Load taxi zones shp file and convert the polygon to coordinates"
   ]
  },
  {
   "cell_type": "code",
   "execution_count": 332,
   "id": "443e0be5",
   "metadata": {},
   "outputs": [
    {
     "data": {
      "application/javascript": [
       "\n",
       "            setTimeout(function() {\n",
       "                var nbb_cell_id = 332;\n",
       "                var nbb_unformatted_code = \"def convert_geometry(polygon):\\n    \\\"\\\"\\\"Conver polygon to its center point\\n\\n    Args:\\n        polygon (Polygon): shapely.geometry.polygon.Polygon type\\n\\n    Returns:\\n        tuple: Contain the latitude and longitude values\\n\\n    \\\"\\\"\\\"\\n    lon = polygon.centroid.x\\n    lat = polygon.centroid.y\\n    return (lat, lon)\\n\\n\\ngdf = geopandas.read_file(\\\"taxi_zones/taxi_zones.shp\\\").to_crs(4326)\\n# gdf[\\\"center_lon\\\"] = gdf[\\\"geometry\\\"].apply(lambda p: p.centroid.x)\\n# gdf[\\\"center_lat\\\"] = gdf[\\\"geometry\\\"].apply(lambda p: p.centroid.y)\\ngdf[\\\"location_coordinate\\\"] = gdf[\\\"geometry\\\"].apply(convert_geometry)\\n\\n# Only keep the ID and coordinate columns\\ngdf = gdf[[\\\"LocationID\\\", \\\"location_coordinate\\\"]]\\n\\n# Remove duplicate LocationID: 56 and 103\\ngdf = gdf[~gdf[\\\"LocationID\\\"].duplicated(keep=False)]\";\n",
       "                var nbb_formatted_code = \"def convert_geometry(polygon):\\n    \\\"\\\"\\\"Conver polygon to its center point\\n\\n    Args:\\n        polygon (Polygon): shapely.geometry.polygon.Polygon type\\n\\n    Returns:\\n        tuple: Contain the latitude and longitude values\\n\\n    \\\"\\\"\\\"\\n    lon = polygon.centroid.x\\n    lat = polygon.centroid.y\\n    return (lat, lon)\\n\\n\\ngdf = geopandas.read_file(\\\"taxi_zones/taxi_zones.shp\\\").to_crs(4326)\\n# gdf[\\\"center_lon\\\"] = gdf[\\\"geometry\\\"].apply(lambda p: p.centroid.x)\\n# gdf[\\\"center_lat\\\"] = gdf[\\\"geometry\\\"].apply(lambda p: p.centroid.y)\\ngdf[\\\"location_coordinate\\\"] = gdf[\\\"geometry\\\"].apply(convert_geometry)\\n\\n# Only keep the ID and coordinate columns\\ngdf = gdf[[\\\"LocationID\\\", \\\"location_coordinate\\\"]]\\n\\n# Remove duplicate LocationID: 56 and 103\\ngdf = gdf[~gdf[\\\"LocationID\\\"].duplicated(keep=False)]\";\n",
       "                var nbb_cells = Jupyter.notebook.get_cells();\n",
       "                for (var i = 0; i < nbb_cells.length; ++i) {\n",
       "                    if (nbb_cells[i].input_prompt_number == nbb_cell_id) {\n",
       "                        if (nbb_cells[i].get_text() == nbb_unformatted_code) {\n",
       "                             nbb_cells[i].set_text(nbb_formatted_code);\n",
       "                        }\n",
       "                        break;\n",
       "                    }\n",
       "                }\n",
       "            }, 500);\n",
       "            "
      ],
      "text/plain": [
       "<IPython.core.display.Javascript object>"
      ]
     },
     "metadata": {},
     "output_type": "display_data"
    }
   ],
   "source": [
    "def convert_geometry(polygon):\n",
    "    \"\"\"Conver polygon to its center point\n",
    "\n",
    "    Args:\n",
    "        polygon (Polygon): shapely.geometry.polygon.Polygon type\n",
    "\n",
    "    Returns:\n",
    "        tuple: Contain the latitude and longitude values\n",
    "\n",
    "    \"\"\"\n",
    "    lon = polygon.centroid.x\n",
    "    lat = polygon.centroid.y\n",
    "    return (lat, lon)\n",
    "\n",
    "\n",
    "gdf = geopandas.read_file(\"taxi_zones/taxi_zones.shp\").to_crs(4326)\n",
    "# gdf[\"center_lon\"] = gdf[\"geometry\"].apply(lambda p: p.centroid.x)\n",
    "# gdf[\"center_lat\"] = gdf[\"geometry\"].apply(lambda p: p.centroid.y)\n",
    "gdf[\"location_coordinate\"] = gdf[\"geometry\"].apply(convert_geometry)\n",
    "\n",
    "# Only keep the ID and coordinate columns\n",
    "gdf = gdf[[\"LocationID\", \"location_coordinate\"]]\n",
    "\n",
    "# Remove duplicate LocationID: 56 and 103\n",
    "gdf = gdf[~gdf[\"LocationID\"].duplicated(keep=False)]"
   ]
  },
  {
   "cell_type": "code",
   "execution_count": 406,
   "id": "33dcfddc",
   "metadata": {},
   "outputs": [
    {
     "data": {
      "application/javascript": [
       "\n",
       "            setTimeout(function() {\n",
       "                var nbb_cell_id = 405;\n",
       "                var nbb_unformatted_code = \"get_and_clean_month_taxi_data('https://d37ci6vzurychx.cloudfront.net/trip-data/yellow_tripdata_2009-02.parquet')\";\n",
       "                var nbb_formatted_code = \"get_and_clean_month_taxi_data(\\n    \\\"https://d37ci6vzurychx.cloudfront.net/trip-data/yellow_tripdata_2009-02.parquet\\\"\\n)\";\n",
       "                var nbb_cells = Jupyter.notebook.get_cells();\n",
       "                for (var i = 0; i < nbb_cells.length; ++i) {\n",
       "                    if (nbb_cells[i].input_prompt_number == nbb_cell_id) {\n",
       "                        if (nbb_cells[i].get_text() == nbb_unformatted_code) {\n",
       "                             nbb_cells[i].set_text(nbb_formatted_code);\n",
       "                        }\n",
       "                        break;\n",
       "                    }\n",
       "                }\n",
       "            }, 500);\n",
       "            "
      ],
      "text/plain": [
       "<IPython.core.display.Javascript object>"
      ]
     },
     "metadata": {},
     "output_type": "display_data"
    },
    {
     "data": {
      "application/javascript": [
       "\n",
       "            setTimeout(function() {\n",
       "                var nbb_cell_id = 405;\n",
       "                var nbb_unformatted_code = \"get_and_clean_month_taxi_data('https://d37ci6vzurychx.cloudfront.net/trip-data/yellow_tripdata_2009-02.parquet')\";\n",
       "                var nbb_formatted_code = \"get_and_clean_month_taxi_data(\\n    \\\"https://d37ci6vzurychx.cloudfront.net/trip-data/yellow_tripdata_2009-02.parquet\\\"\\n)\";\n",
       "                var nbb_cells = Jupyter.notebook.get_cells();\n",
       "                for (var i = 0; i < nbb_cells.length; ++i) {\n",
       "                    if (nbb_cells[i].input_prompt_number == nbb_cell_id) {\n",
       "                        if (nbb_cells[i].get_text() == nbb_unformatted_code) {\n",
       "                             nbb_cells[i].set_text(nbb_formatted_code);\n",
       "                        }\n",
       "                        break;\n",
       "                    }\n",
       "                }\n",
       "            }, 500);\n",
       "            "
      ],
      "text/plain": [
       "<IPython.core.display.Javascript object>"
      ]
     },
     "metadata": {},
     "output_type": "display_data"
    },
    {
     "data": {
      "application/javascript": [
       "\n",
       "            setTimeout(function() {\n",
       "                var nbb_cell_id = 405;\n",
       "                var nbb_unformatted_code = \"get_and_clean_month_taxi_data('https://d37ci6vzurychx.cloudfront.net/trip-data/yellow_tripdata_2009-02.parquet')\";\n",
       "                var nbb_formatted_code = \"get_and_clean_month_taxi_data(\\n    \\\"https://d37ci6vzurychx.cloudfront.net/trip-data/yellow_tripdata_2009-02.parquet\\\"\\n)\";\n",
       "                var nbb_cells = Jupyter.notebook.get_cells();\n",
       "                for (var i = 0; i < nbb_cells.length; ++i) {\n",
       "                    if (nbb_cells[i].input_prompt_number == nbb_cell_id) {\n",
       "                        if (nbb_cells[i].get_text() == nbb_unformatted_code) {\n",
       "                             nbb_cells[i].set_text(nbb_formatted_code);\n",
       "                        }\n",
       "                        break;\n",
       "                    }\n",
       "                }\n",
       "            }, 500);\n",
       "            "
      ],
      "text/plain": [
       "<IPython.core.display.Javascript object>"
      ]
     },
     "metadata": {},
     "output_type": "display_data"
    },
    {
     "data": {
      "application/javascript": [
       "\n",
       "            setTimeout(function() {\n",
       "                var nbb_cell_id = 405;\n",
       "                var nbb_unformatted_code = \"get_and_clean_month_taxi_data('https://d37ci6vzurychx.cloudfront.net/trip-data/yellow_tripdata_2009-02.parquet')\";\n",
       "                var nbb_formatted_code = \"get_and_clean_month_taxi_data(\\n    \\\"https://d37ci6vzurychx.cloudfront.net/trip-data/yellow_tripdata_2009-02.parquet\\\"\\n)\";\n",
       "                var nbb_cells = Jupyter.notebook.get_cells();\n",
       "                for (var i = 0; i < nbb_cells.length; ++i) {\n",
       "                    if (nbb_cells[i].input_prompt_number == nbb_cell_id) {\n",
       "                        if (nbb_cells[i].get_text() == nbb_unformatted_code) {\n",
       "                             nbb_cells[i].set_text(nbb_formatted_code);\n",
       "                        }\n",
       "                        break;\n",
       "                    }\n",
       "                }\n",
       "            }, 500);\n",
       "            "
      ],
      "text/plain": [
       "<IPython.core.display.Javascript object>"
      ]
     },
     "metadata": {},
     "output_type": "display_data"
    },
    {
     "data": {
      "application/javascript": [
       "\n",
       "            setTimeout(function() {\n",
       "                var nbb_cell_id = 405;\n",
       "                var nbb_unformatted_code = \"get_and_clean_month_taxi_data('https://d37ci6vzurychx.cloudfront.net/trip-data/yellow_tripdata_2009-02.parquet')\";\n",
       "                var nbb_formatted_code = \"get_and_clean_month_taxi_data(\\n    \\\"https://d37ci6vzurychx.cloudfront.net/trip-data/yellow_tripdata_2009-02.parquet\\\"\\n)\";\n",
       "                var nbb_cells = Jupyter.notebook.get_cells();\n",
       "                for (var i = 0; i < nbb_cells.length; ++i) {\n",
       "                    if (nbb_cells[i].input_prompt_number == nbb_cell_id) {\n",
       "                        if (nbb_cells[i].get_text() == nbb_unformatted_code) {\n",
       "                             nbb_cells[i].set_text(nbb_formatted_code);\n",
       "                        }\n",
       "                        break;\n",
       "                    }\n",
       "                }\n",
       "            }, 500);\n",
       "            "
      ],
      "text/plain": [
       "<IPython.core.display.Javascript object>"
      ]
     },
     "metadata": {},
     "output_type": "display_data"
    }
   ],
   "source": [
    "def clean_taxi_data_with_locationId(df):\n",
    "    # Keep only the columns that matters\n",
    "    df = df[\n",
    "        [\n",
    "            \"tpep_pickup_datetime\",\n",
    "            \"tpep_dropoff_datetime\",\n",
    "            \"PULocationID\",\n",
    "            \"DOLocationID\",\n",
    "            \"tip_amount\",\n",
    "        ]\n",
    "    ]\n",
    "    # Drop rows where pickup location ID is the same as drop-off\n",
    "    df = df[df[\"PULocationID\"] != df[\"DOLocationID\"]]\n",
    "    \n",
    "    # Convert LocationID to coordinate\n",
    "    df[\"pickup_location\"] = df[\"PULocationID\"].map(\n",
    "        gdf.set_index(\"LocationID\")[\"location_coordinate\"]\n",
    "    )\n",
    "    df[\"dropoff_location\"] = df[\"DOLocationID\"].map(\n",
    "        gdf.set_index(\"LocationID\")[\"location_coordinate\"]\n",
    "    )\n",
    "    # Split the coordinate into latitude and longitude\n",
    "    df[[\"pickup_latitude\", \"pickup_longitude\"]] = pd.DataFrame(\n",
    "        df[\"pickup_location\"].tolist(), index=df.index\n",
    "    )\n",
    "    df[[\"dropoff_latitude\", \"dropoff_longitude\"]] = pd.DataFrame(\n",
    "        df[\"dropoff_location\"].tolist(), index=df.index\n",
    "    )\n",
    "    \n",
    "    # Drop LocationID columns\n",
    "    df = df.drop(\n",
    "        columns=[\"PULocationID\", \"DOLocationID\", \"pickup_location\", \"dropoff_location\"]\n",
    "    ).reset_index(drop=True)\n",
    "    \n",
    "    # Normalize column names\n",
    "    df = df.rename(columns={\"tpep_pickup_datetime\": \"pickup_datetime\", \"tpep_dropoff_datetime\": \"dropoff_datetime\"})\n",
    "    \n",
    "    return df"
   ]
  },
  {
   "cell_type": "code",
   "execution_count": 407,
   "id": "2f40130a",
   "metadata": {},
   "outputs": [
    {
     "data": {
      "application/javascript": [
       "\n",
       "            setTimeout(function() {\n",
       "                var nbb_cell_id = 406;\n",
       "                var nbb_unformatted_code = \"def clean_taxi_data_with_locationId(df):\\n    # Keep only the columns that matters\\n    df = df[\\n        [\\n            \\\"tpep_pickup_datetime\\\",\\n            \\\"tpep_dropoff_datetime\\\",\\n            \\\"PULocationID\\\",\\n            \\\"DOLocationID\\\",\\n            \\\"tip_amount\\\",\\n        ]\\n    ]\\n    # Drop rows where pickup location ID is the same as drop-off\\n    df = df[df[\\\"PULocationID\\\"] != df[\\\"DOLocationID\\\"]]\\n    \\n    # Convert LocationID to coordinate\\n    df[\\\"pickup_location\\\"] = df[\\\"PULocationID\\\"].map(\\n        gdf.set_index(\\\"LocationID\\\")[\\\"location_coordinate\\\"]\\n    )\\n    df[\\\"dropoff_location\\\"] = df[\\\"DOLocationID\\\"].map(\\n        gdf.set_index(\\\"LocationID\\\")[\\\"location_coordinate\\\"]\\n    )\\n    # Split the coordinate into latitude and longitude\\n    df[[\\\"pickup_latitude\\\", \\\"pickup_longitude\\\"]] = pd.DataFrame(\\n        df[\\\"pickup_location\\\"].tolist(), index=df.index\\n    )\\n    df[[\\\"dropoff_latitude\\\", \\\"dropoff_longitude\\\"]] = pd.DataFrame(\\n        df[\\\"dropoff_location\\\"].tolist(), index=df.index\\n    )\\n    \\n    # Drop LocationID columns\\n    df = df.drop(\\n        columns=[\\\"PULocationID\\\", \\\"DOLocationID\\\", \\\"pickup_location\\\", \\\"dropoff_location\\\"]\\n    ).reset_index(drop=True)\\n    \\n    # Normalize column names\\n    df = df.rename(columns={\\\"tpep_pickup_datetime\\\": \\\"pickup_datetime\\\", \\\"tpep_dropoff_datetime\\\": \\\"dropoff_datetime\\\"})\\n    \\n    return df\";\n",
       "                var nbb_formatted_code = \"def clean_taxi_data_with_locationId(df):\\n    # Keep only the columns that matters\\n    df = df[\\n        [\\n            \\\"tpep_pickup_datetime\\\",\\n            \\\"tpep_dropoff_datetime\\\",\\n            \\\"PULocationID\\\",\\n            \\\"DOLocationID\\\",\\n            \\\"tip_amount\\\",\\n        ]\\n    ]\\n    # Drop rows where pickup location ID is the same as drop-off\\n    df = df[df[\\\"PULocationID\\\"] != df[\\\"DOLocationID\\\"]]\\n\\n    # Convert LocationID to coordinate\\n    df[\\\"pickup_location\\\"] = df[\\\"PULocationID\\\"].map(\\n        gdf.set_index(\\\"LocationID\\\")[\\\"location_coordinate\\\"]\\n    )\\n    df[\\\"dropoff_location\\\"] = df[\\\"DOLocationID\\\"].map(\\n        gdf.set_index(\\\"LocationID\\\")[\\\"location_coordinate\\\"]\\n    )\\n    # Split the coordinate into latitude and longitude\\n    df[[\\\"pickup_latitude\\\", \\\"pickup_longitude\\\"]] = pd.DataFrame(\\n        df[\\\"pickup_location\\\"].tolist(), index=df.index\\n    )\\n    df[[\\\"dropoff_latitude\\\", \\\"dropoff_longitude\\\"]] = pd.DataFrame(\\n        df[\\\"dropoff_location\\\"].tolist(), index=df.index\\n    )\\n\\n    # Drop LocationID columns\\n    df = df.drop(\\n        columns=[\\\"PULocationID\\\", \\\"DOLocationID\\\", \\\"pickup_location\\\", \\\"dropoff_location\\\"]\\n    ).reset_index(drop=True)\\n\\n    # Normalize column names\\n    df = df.rename(\\n        columns={\\n            \\\"tpep_pickup_datetime\\\": \\\"pickup_datetime\\\",\\n            \\\"tpep_dropoff_datetime\\\": \\\"dropoff_datetime\\\",\\n        }\\n    )\\n\\n    return df\";\n",
       "                var nbb_cells = Jupyter.notebook.get_cells();\n",
       "                for (var i = 0; i < nbb_cells.length; ++i) {\n",
       "                    if (nbb_cells[i].input_prompt_number == nbb_cell_id) {\n",
       "                        if (nbb_cells[i].get_text() == nbb_unformatted_code) {\n",
       "                             nbb_cells[i].set_text(nbb_formatted_code);\n",
       "                        }\n",
       "                        break;\n",
       "                    }\n",
       "                }\n",
       "            }, 500);\n",
       "            "
      ],
      "text/plain": [
       "<IPython.core.display.Javascript object>"
      ]
     },
     "metadata": {},
     "output_type": "display_data"
    },
    {
     "data": {
      "application/javascript": [
       "\n",
       "            setTimeout(function() {\n",
       "                var nbb_cell_id = 406;\n",
       "                var nbb_unformatted_code = \"def clean_taxi_data_with_locationId(df):\\n    # Keep only the columns that matters\\n    df = df[\\n        [\\n            \\\"tpep_pickup_datetime\\\",\\n            \\\"tpep_dropoff_datetime\\\",\\n            \\\"PULocationID\\\",\\n            \\\"DOLocationID\\\",\\n            \\\"tip_amount\\\",\\n        ]\\n    ]\\n    # Drop rows where pickup location ID is the same as drop-off\\n    df = df[df[\\\"PULocationID\\\"] != df[\\\"DOLocationID\\\"]]\\n    \\n    # Convert LocationID to coordinate\\n    df[\\\"pickup_location\\\"] = df[\\\"PULocationID\\\"].map(\\n        gdf.set_index(\\\"LocationID\\\")[\\\"location_coordinate\\\"]\\n    )\\n    df[\\\"dropoff_location\\\"] = df[\\\"DOLocationID\\\"].map(\\n        gdf.set_index(\\\"LocationID\\\")[\\\"location_coordinate\\\"]\\n    )\\n    # Split the coordinate into latitude and longitude\\n    df[[\\\"pickup_latitude\\\", \\\"pickup_longitude\\\"]] = pd.DataFrame(\\n        df[\\\"pickup_location\\\"].tolist(), index=df.index\\n    )\\n    df[[\\\"dropoff_latitude\\\", \\\"dropoff_longitude\\\"]] = pd.DataFrame(\\n        df[\\\"dropoff_location\\\"].tolist(), index=df.index\\n    )\\n    \\n    # Drop LocationID columns\\n    df = df.drop(\\n        columns=[\\\"PULocationID\\\", \\\"DOLocationID\\\", \\\"pickup_location\\\", \\\"dropoff_location\\\"]\\n    ).reset_index(drop=True)\\n    \\n    # Normalize column names\\n    df = df.rename(columns={\\\"tpep_pickup_datetime\\\": \\\"pickup_datetime\\\", \\\"tpep_dropoff_datetime\\\": \\\"dropoff_datetime\\\"})\\n    \\n    return df\";\n",
       "                var nbb_formatted_code = \"def clean_taxi_data_with_locationId(df):\\n    # Keep only the columns that matters\\n    df = df[\\n        [\\n            \\\"tpep_pickup_datetime\\\",\\n            \\\"tpep_dropoff_datetime\\\",\\n            \\\"PULocationID\\\",\\n            \\\"DOLocationID\\\",\\n            \\\"tip_amount\\\",\\n        ]\\n    ]\\n    # Drop rows where pickup location ID is the same as drop-off\\n    df = df[df[\\\"PULocationID\\\"] != df[\\\"DOLocationID\\\"]]\\n\\n    # Convert LocationID to coordinate\\n    df[\\\"pickup_location\\\"] = df[\\\"PULocationID\\\"].map(\\n        gdf.set_index(\\\"LocationID\\\")[\\\"location_coordinate\\\"]\\n    )\\n    df[\\\"dropoff_location\\\"] = df[\\\"DOLocationID\\\"].map(\\n        gdf.set_index(\\\"LocationID\\\")[\\\"location_coordinate\\\"]\\n    )\\n    # Split the coordinate into latitude and longitude\\n    df[[\\\"pickup_latitude\\\", \\\"pickup_longitude\\\"]] = pd.DataFrame(\\n        df[\\\"pickup_location\\\"].tolist(), index=df.index\\n    )\\n    df[[\\\"dropoff_latitude\\\", \\\"dropoff_longitude\\\"]] = pd.DataFrame(\\n        df[\\\"dropoff_location\\\"].tolist(), index=df.index\\n    )\\n\\n    # Drop LocationID columns\\n    df = df.drop(\\n        columns=[\\\"PULocationID\\\", \\\"DOLocationID\\\", \\\"pickup_location\\\", \\\"dropoff_location\\\"]\\n    ).reset_index(drop=True)\\n\\n    # Normalize column names\\n    df = df.rename(\\n        columns={\\n            \\\"tpep_pickup_datetime\\\": \\\"pickup_datetime\\\",\\n            \\\"tpep_dropoff_datetime\\\": \\\"dropoff_datetime\\\",\\n        }\\n    )\\n\\n    return df\";\n",
       "                var nbb_cells = Jupyter.notebook.get_cells();\n",
       "                for (var i = 0; i < nbb_cells.length; ++i) {\n",
       "                    if (nbb_cells[i].input_prompt_number == nbb_cell_id) {\n",
       "                        if (nbb_cells[i].get_text() == nbb_unformatted_code) {\n",
       "                             nbb_cells[i].set_text(nbb_formatted_code);\n",
       "                        }\n",
       "                        break;\n",
       "                    }\n",
       "                }\n",
       "            }, 500);\n",
       "            "
      ],
      "text/plain": [
       "<IPython.core.display.Javascript object>"
      ]
     },
     "metadata": {},
     "output_type": "display_data"
    },
    {
     "data": {
      "application/javascript": [
       "\n",
       "            setTimeout(function() {\n",
       "                var nbb_cell_id = 406;\n",
       "                var nbb_unformatted_code = \"def clean_taxi_data_with_locationId(df):\\n    # Keep only the columns that matters\\n    df = df[\\n        [\\n            \\\"tpep_pickup_datetime\\\",\\n            \\\"tpep_dropoff_datetime\\\",\\n            \\\"PULocationID\\\",\\n            \\\"DOLocationID\\\",\\n            \\\"tip_amount\\\",\\n        ]\\n    ]\\n    # Drop rows where pickup location ID is the same as drop-off\\n    df = df[df[\\\"PULocationID\\\"] != df[\\\"DOLocationID\\\"]]\\n    \\n    # Convert LocationID to coordinate\\n    df[\\\"pickup_location\\\"] = df[\\\"PULocationID\\\"].map(\\n        gdf.set_index(\\\"LocationID\\\")[\\\"location_coordinate\\\"]\\n    )\\n    df[\\\"dropoff_location\\\"] = df[\\\"DOLocationID\\\"].map(\\n        gdf.set_index(\\\"LocationID\\\")[\\\"location_coordinate\\\"]\\n    )\\n    # Split the coordinate into latitude and longitude\\n    df[[\\\"pickup_latitude\\\", \\\"pickup_longitude\\\"]] = pd.DataFrame(\\n        df[\\\"pickup_location\\\"].tolist(), index=df.index\\n    )\\n    df[[\\\"dropoff_latitude\\\", \\\"dropoff_longitude\\\"]] = pd.DataFrame(\\n        df[\\\"dropoff_location\\\"].tolist(), index=df.index\\n    )\\n    \\n    # Drop LocationID columns\\n    df = df.drop(\\n        columns=[\\\"PULocationID\\\", \\\"DOLocationID\\\", \\\"pickup_location\\\", \\\"dropoff_location\\\"]\\n    ).reset_index(drop=True)\\n    \\n    # Normalize column names\\n    df = df.rename(columns={\\\"tpep_pickup_datetime\\\": \\\"pickup_datetime\\\", \\\"tpep_dropoff_datetime\\\": \\\"dropoff_datetime\\\"})\\n    \\n    return df\";\n",
       "                var nbb_formatted_code = \"def clean_taxi_data_with_locationId(df):\\n    # Keep only the columns that matters\\n    df = df[\\n        [\\n            \\\"tpep_pickup_datetime\\\",\\n            \\\"tpep_dropoff_datetime\\\",\\n            \\\"PULocationID\\\",\\n            \\\"DOLocationID\\\",\\n            \\\"tip_amount\\\",\\n        ]\\n    ]\\n    # Drop rows where pickup location ID is the same as drop-off\\n    df = df[df[\\\"PULocationID\\\"] != df[\\\"DOLocationID\\\"]]\\n\\n    # Convert LocationID to coordinate\\n    df[\\\"pickup_location\\\"] = df[\\\"PULocationID\\\"].map(\\n        gdf.set_index(\\\"LocationID\\\")[\\\"location_coordinate\\\"]\\n    )\\n    df[\\\"dropoff_location\\\"] = df[\\\"DOLocationID\\\"].map(\\n        gdf.set_index(\\\"LocationID\\\")[\\\"location_coordinate\\\"]\\n    )\\n    # Split the coordinate into latitude and longitude\\n    df[[\\\"pickup_latitude\\\", \\\"pickup_longitude\\\"]] = pd.DataFrame(\\n        df[\\\"pickup_location\\\"].tolist(), index=df.index\\n    )\\n    df[[\\\"dropoff_latitude\\\", \\\"dropoff_longitude\\\"]] = pd.DataFrame(\\n        df[\\\"dropoff_location\\\"].tolist(), index=df.index\\n    )\\n\\n    # Drop LocationID columns\\n    df = df.drop(\\n        columns=[\\\"PULocationID\\\", \\\"DOLocationID\\\", \\\"pickup_location\\\", \\\"dropoff_location\\\"]\\n    ).reset_index(drop=True)\\n\\n    # Normalize column names\\n    df = df.rename(\\n        columns={\\n            \\\"tpep_pickup_datetime\\\": \\\"pickup_datetime\\\",\\n            \\\"tpep_dropoff_datetime\\\": \\\"dropoff_datetime\\\",\\n        }\\n    )\\n\\n    return df\";\n",
       "                var nbb_cells = Jupyter.notebook.get_cells();\n",
       "                for (var i = 0; i < nbb_cells.length; ++i) {\n",
       "                    if (nbb_cells[i].input_prompt_number == nbb_cell_id) {\n",
       "                        if (nbb_cells[i].get_text() == nbb_unformatted_code) {\n",
       "                             nbb_cells[i].set_text(nbb_formatted_code);\n",
       "                        }\n",
       "                        break;\n",
       "                    }\n",
       "                }\n",
       "            }, 500);\n",
       "            "
      ],
      "text/plain": [
       "<IPython.core.display.Javascript object>"
      ]
     },
     "metadata": {},
     "output_type": "display_data"
    },
    {
     "data": {
      "application/javascript": [
       "\n",
       "            setTimeout(function() {\n",
       "                var nbb_cell_id = 406;\n",
       "                var nbb_unformatted_code = \"def clean_taxi_data_with_locationId(df):\\n    # Keep only the columns that matters\\n    df = df[\\n        [\\n            \\\"tpep_pickup_datetime\\\",\\n            \\\"tpep_dropoff_datetime\\\",\\n            \\\"PULocationID\\\",\\n            \\\"DOLocationID\\\",\\n            \\\"tip_amount\\\",\\n        ]\\n    ]\\n    # Drop rows where pickup location ID is the same as drop-off\\n    df = df[df[\\\"PULocationID\\\"] != df[\\\"DOLocationID\\\"]]\\n    \\n    # Convert LocationID to coordinate\\n    df[\\\"pickup_location\\\"] = df[\\\"PULocationID\\\"].map(\\n        gdf.set_index(\\\"LocationID\\\")[\\\"location_coordinate\\\"]\\n    )\\n    df[\\\"dropoff_location\\\"] = df[\\\"DOLocationID\\\"].map(\\n        gdf.set_index(\\\"LocationID\\\")[\\\"location_coordinate\\\"]\\n    )\\n    # Split the coordinate into latitude and longitude\\n    df[[\\\"pickup_latitude\\\", \\\"pickup_longitude\\\"]] = pd.DataFrame(\\n        df[\\\"pickup_location\\\"].tolist(), index=df.index\\n    )\\n    df[[\\\"dropoff_latitude\\\", \\\"dropoff_longitude\\\"]] = pd.DataFrame(\\n        df[\\\"dropoff_location\\\"].tolist(), index=df.index\\n    )\\n    \\n    # Drop LocationID columns\\n    df = df.drop(\\n        columns=[\\\"PULocationID\\\", \\\"DOLocationID\\\", \\\"pickup_location\\\", \\\"dropoff_location\\\"]\\n    ).reset_index(drop=True)\\n    \\n    # Normalize column names\\n    df = df.rename(columns={\\\"tpep_pickup_datetime\\\": \\\"pickup_datetime\\\", \\\"tpep_dropoff_datetime\\\": \\\"dropoff_datetime\\\"})\\n    \\n    return df\";\n",
       "                var nbb_formatted_code = \"def clean_taxi_data_with_locationId(df):\\n    # Keep only the columns that matters\\n    df = df[\\n        [\\n            \\\"tpep_pickup_datetime\\\",\\n            \\\"tpep_dropoff_datetime\\\",\\n            \\\"PULocationID\\\",\\n            \\\"DOLocationID\\\",\\n            \\\"tip_amount\\\",\\n        ]\\n    ]\\n    # Drop rows where pickup location ID is the same as drop-off\\n    df = df[df[\\\"PULocationID\\\"] != df[\\\"DOLocationID\\\"]]\\n\\n    # Convert LocationID to coordinate\\n    df[\\\"pickup_location\\\"] = df[\\\"PULocationID\\\"].map(\\n        gdf.set_index(\\\"LocationID\\\")[\\\"location_coordinate\\\"]\\n    )\\n    df[\\\"dropoff_location\\\"] = df[\\\"DOLocationID\\\"].map(\\n        gdf.set_index(\\\"LocationID\\\")[\\\"location_coordinate\\\"]\\n    )\\n    # Split the coordinate into latitude and longitude\\n    df[[\\\"pickup_latitude\\\", \\\"pickup_longitude\\\"]] = pd.DataFrame(\\n        df[\\\"pickup_location\\\"].tolist(), index=df.index\\n    )\\n    df[[\\\"dropoff_latitude\\\", \\\"dropoff_longitude\\\"]] = pd.DataFrame(\\n        df[\\\"dropoff_location\\\"].tolist(), index=df.index\\n    )\\n\\n    # Drop LocationID columns\\n    df = df.drop(\\n        columns=[\\\"PULocationID\\\", \\\"DOLocationID\\\", \\\"pickup_location\\\", \\\"dropoff_location\\\"]\\n    ).reset_index(drop=True)\\n\\n    # Normalize column names\\n    df = df.rename(\\n        columns={\\n            \\\"tpep_pickup_datetime\\\": \\\"pickup_datetime\\\",\\n            \\\"tpep_dropoff_datetime\\\": \\\"dropoff_datetime\\\",\\n        }\\n    )\\n\\n    return df\";\n",
       "                var nbb_cells = Jupyter.notebook.get_cells();\n",
       "                for (var i = 0; i < nbb_cells.length; ++i) {\n",
       "                    if (nbb_cells[i].input_prompt_number == nbb_cell_id) {\n",
       "                        if (nbb_cells[i].get_text() == nbb_unformatted_code) {\n",
       "                             nbb_cells[i].set_text(nbb_formatted_code);\n",
       "                        }\n",
       "                        break;\n",
       "                    }\n",
       "                }\n",
       "            }, 500);\n",
       "            "
      ],
      "text/plain": [
       "<IPython.core.display.Javascript object>"
      ]
     },
     "metadata": {},
     "output_type": "display_data"
    },
    {
     "data": {
      "application/javascript": [
       "\n",
       "            setTimeout(function() {\n",
       "                var nbb_cell_id = 406;\n",
       "                var nbb_unformatted_code = \"def clean_taxi_data_with_locationId(df):\\n    # Keep only the columns that matters\\n    df = df[\\n        [\\n            \\\"tpep_pickup_datetime\\\",\\n            \\\"tpep_dropoff_datetime\\\",\\n            \\\"PULocationID\\\",\\n            \\\"DOLocationID\\\",\\n            \\\"tip_amount\\\",\\n        ]\\n    ]\\n    # Drop rows where pickup location ID is the same as drop-off\\n    df = df[df[\\\"PULocationID\\\"] != df[\\\"DOLocationID\\\"]]\\n    \\n    # Convert LocationID to coordinate\\n    df[\\\"pickup_location\\\"] = df[\\\"PULocationID\\\"].map(\\n        gdf.set_index(\\\"LocationID\\\")[\\\"location_coordinate\\\"]\\n    )\\n    df[\\\"dropoff_location\\\"] = df[\\\"DOLocationID\\\"].map(\\n        gdf.set_index(\\\"LocationID\\\")[\\\"location_coordinate\\\"]\\n    )\\n    # Split the coordinate into latitude and longitude\\n    df[[\\\"pickup_latitude\\\", \\\"pickup_longitude\\\"]] = pd.DataFrame(\\n        df[\\\"pickup_location\\\"].tolist(), index=df.index\\n    )\\n    df[[\\\"dropoff_latitude\\\", \\\"dropoff_longitude\\\"]] = pd.DataFrame(\\n        df[\\\"dropoff_location\\\"].tolist(), index=df.index\\n    )\\n    \\n    # Drop LocationID columns\\n    df = df.drop(\\n        columns=[\\\"PULocationID\\\", \\\"DOLocationID\\\", \\\"pickup_location\\\", \\\"dropoff_location\\\"]\\n    ).reset_index(drop=True)\\n    \\n    # Normalize column names\\n    df = df.rename(columns={\\\"tpep_pickup_datetime\\\": \\\"pickup_datetime\\\", \\\"tpep_dropoff_datetime\\\": \\\"dropoff_datetime\\\"})\\n    \\n    return df\";\n",
       "                var nbb_formatted_code = \"def clean_taxi_data_with_locationId(df):\\n    # Keep only the columns that matters\\n    df = df[\\n        [\\n            \\\"tpep_pickup_datetime\\\",\\n            \\\"tpep_dropoff_datetime\\\",\\n            \\\"PULocationID\\\",\\n            \\\"DOLocationID\\\",\\n            \\\"tip_amount\\\",\\n        ]\\n    ]\\n    # Drop rows where pickup location ID is the same as drop-off\\n    df = df[df[\\\"PULocationID\\\"] != df[\\\"DOLocationID\\\"]]\\n\\n    # Convert LocationID to coordinate\\n    df[\\\"pickup_location\\\"] = df[\\\"PULocationID\\\"].map(\\n        gdf.set_index(\\\"LocationID\\\")[\\\"location_coordinate\\\"]\\n    )\\n    df[\\\"dropoff_location\\\"] = df[\\\"DOLocationID\\\"].map(\\n        gdf.set_index(\\\"LocationID\\\")[\\\"location_coordinate\\\"]\\n    )\\n    # Split the coordinate into latitude and longitude\\n    df[[\\\"pickup_latitude\\\", \\\"pickup_longitude\\\"]] = pd.DataFrame(\\n        df[\\\"pickup_location\\\"].tolist(), index=df.index\\n    )\\n    df[[\\\"dropoff_latitude\\\", \\\"dropoff_longitude\\\"]] = pd.DataFrame(\\n        df[\\\"dropoff_location\\\"].tolist(), index=df.index\\n    )\\n\\n    # Drop LocationID columns\\n    df = df.drop(\\n        columns=[\\\"PULocationID\\\", \\\"DOLocationID\\\", \\\"pickup_location\\\", \\\"dropoff_location\\\"]\\n    ).reset_index(drop=True)\\n\\n    # Normalize column names\\n    df = df.rename(\\n        columns={\\n            \\\"tpep_pickup_datetime\\\": \\\"pickup_datetime\\\",\\n            \\\"tpep_dropoff_datetime\\\": \\\"dropoff_datetime\\\",\\n        }\\n    )\\n\\n    return df\";\n",
       "                var nbb_cells = Jupyter.notebook.get_cells();\n",
       "                for (var i = 0; i < nbb_cells.length; ++i) {\n",
       "                    if (nbb_cells[i].input_prompt_number == nbb_cell_id) {\n",
       "                        if (nbb_cells[i].get_text() == nbb_unformatted_code) {\n",
       "                             nbb_cells[i].set_text(nbb_formatted_code);\n",
       "                        }\n",
       "                        break;\n",
       "                    }\n",
       "                }\n",
       "            }, 500);\n",
       "            "
      ],
      "text/plain": [
       "<IPython.core.display.Javascript object>"
      ]
     },
     "metadata": {},
     "output_type": "display_data"
    }
   ],
   "source": [
    "def get_and_clean_month_taxi_data(url):\n",
    "    response = requests.get(url, stream=True)\n",
    "    file_name = url.split(\"/\")[-1]\n",
    "\n",
    "    with open(file_name, \"wb\") as f:\n",
    "        for chunk in response.iter_content(chunk_size=1024):\n",
    "            if chunk:\n",
    "                f.write(chunk)\n",
    "\n",
    "    df = pd.read_parquet(file_name)\n",
    "\n",
    "    # There are three dataset types for taxi data\n",
    "    # 1. Has location ID\n",
    "    if \"PULocationID\" in df.columns:\n",
    "        df = clean_taxi_data_with_locationId(df)\n",
    "\n",
    "    # 2. Column names with \"Start_Lon\", \"Start_Lat\", \"End_Lon\", \"End_Lat\"\n",
    "    elif \"Start_Lon\" in df.columns:\n",
    "        # Keep columns we need\n",
    "        df = df[\n",
    "            [\n",
    "                \"Trip_Pickup_DateTime\",\n",
    "                \"Trip_Dropoff_DateTime\",\n",
    "                \"Start_Lon\",\n",
    "                \"Start_Lat\",\n",
    "                \"End_Lon\",\n",
    "                \"End_Lat\",\n",
    "                \"Tip_Amt\",\n",
    "            ]\n",
    "        ]\n",
    "        # Normalize columns\n",
    "        df = df.rename(\n",
    "            columns={\n",
    "                \"Trip_Pickup_DateTime\": \"pickup_datetime\",\n",
    "                \"Trip_Dropoff_DateTime\": \"dropoff_datetime\",\n",
    "                \"Start_Lon\": \"pickup_longitude\",\n",
    "                \"Start_Lat\": \"pickup_latitude\",\n",
    "                \"End_Lon\": \"dropoff_longitude\",\n",
    "                \"End_Lat\": \"dropoff_latitude\",\n",
    "                \"Tip_Amt\": \"tip_amount\",\n",
    "            }\n",
    "        )\n",
    "    # 3. Column names with \"pickup_datetime\" etc. which is our standard\n",
    "    elif \"pickup_datetime\" in df.columns:\n",
    "        # Keep columns we need\n",
    "        df = [\n",
    "            \"pickup_datetime\",\n",
    "            \"dropoff_datetime\",\n",
    "            \"pickup_longitude\",\n",
    "            \"pickup_latitude\",\n",
    "            \"dropoff_longitude\",\n",
    "            \"dropoff_latitude\",\n",
    "            \"tip_amount\",\n",
    "        ]\n",
    "\n",
    "    else:\n",
    "        raise (\"Dataset with unknown columns naming standard\")\n",
    "\n",
    "    # Drop out-off-region rows\n",
    "    df = df.drop(\n",
    "        df[\n",
    "            (df.pickup_latitude > 40.908524)\n",
    "            | (df.pickup_latitude < 40.560445)\n",
    "            | (df.pickup_longitude > -73.717047)\n",
    "            | (df.pickup_longitude < -74.242330)\n",
    "            | (df.dropoff_latitude > 40.908524)\n",
    "            | (df.dropoff_latitude < 40.560445)\n",
    "            | (df.dropoff_longitude > -73.717047)\n",
    "            | (df.dropoff_longitude < -74.242330)\n",
    "        ].index\n",
    "    )\n",
    "\n",
    "    return df.reset_index(drop=True)"
   ]
  },
  {
   "cell_type": "code",
   "execution_count": 448,
   "id": "cde7e8fa",
   "metadata": {},
   "outputs": [
    {
     "data": {
      "application/javascript": [
       "\n",
       "            setTimeout(function() {\n",
       "                var nbb_cell_id = 447;\n",
       "                var nbb_unformatted_code = \"foo[\\\"pickup_datetime\\\"].dt.tz_localize(None)\";\n",
       "                var nbb_formatted_code = \"foo[\\\"pickup_datetime\\\"].dt.tz_localize(None)\";\n",
       "                var nbb_cells = Jupyter.notebook.get_cells();\n",
       "                for (var i = 0; i < nbb_cells.length; ++i) {\n",
       "                    if (nbb_cells[i].input_prompt_number == nbb_cell_id) {\n",
       "                        if (nbb_cells[i].get_text() == nbb_unformatted_code) {\n",
       "                             nbb_cells[i].set_text(nbb_formatted_code);\n",
       "                        }\n",
       "                        break;\n",
       "                    }\n",
       "                }\n",
       "            }, 500);\n",
       "            "
      ],
      "text/plain": [
       "<IPython.core.display.Javascript object>"
      ]
     },
     "metadata": {},
     "output_type": "display_data"
    },
    {
     "data": {
      "application/javascript": [
       "\n",
       "            setTimeout(function() {\n",
       "                var nbb_cell_id = 447;\n",
       "                var nbb_unformatted_code = \"foo[\\\"pickup_datetime\\\"].dt.tz_localize(None)\";\n",
       "                var nbb_formatted_code = \"foo[\\\"pickup_datetime\\\"].dt.tz_localize(None)\";\n",
       "                var nbb_cells = Jupyter.notebook.get_cells();\n",
       "                for (var i = 0; i < nbb_cells.length; ++i) {\n",
       "                    if (nbb_cells[i].input_prompt_number == nbb_cell_id) {\n",
       "                        if (nbb_cells[i].get_text() == nbb_unformatted_code) {\n",
       "                             nbb_cells[i].set_text(nbb_formatted_code);\n",
       "                        }\n",
       "                        break;\n",
       "                    }\n",
       "                }\n",
       "            }, 500);\n",
       "            "
      ],
      "text/plain": [
       "<IPython.core.display.Javascript object>"
      ]
     },
     "metadata": {},
     "output_type": "display_data"
    },
    {
     "data": {
      "application/javascript": [
       "\n",
       "            setTimeout(function() {\n",
       "                var nbb_cell_id = 447;\n",
       "                var nbb_unformatted_code = \"foo[\\\"pickup_datetime\\\"].dt.tz_localize(None)\";\n",
       "                var nbb_formatted_code = \"foo[\\\"pickup_datetime\\\"].dt.tz_localize(None)\";\n",
       "                var nbb_cells = Jupyter.notebook.get_cells();\n",
       "                for (var i = 0; i < nbb_cells.length; ++i) {\n",
       "                    if (nbb_cells[i].input_prompt_number == nbb_cell_id) {\n",
       "                        if (nbb_cells[i].get_text() == nbb_unformatted_code) {\n",
       "                             nbb_cells[i].set_text(nbb_formatted_code);\n",
       "                        }\n",
       "                        break;\n",
       "                    }\n",
       "                }\n",
       "            }, 500);\n",
       "            "
      ],
      "text/plain": [
       "<IPython.core.display.Javascript object>"
      ]
     },
     "metadata": {},
     "output_type": "display_data"
    },
    {
     "data": {
      "application/javascript": [
       "\n",
       "            setTimeout(function() {\n",
       "                var nbb_cell_id = 447;\n",
       "                var nbb_unformatted_code = \"foo[\\\"pickup_datetime\\\"].dt.tz_localize(None)\";\n",
       "                var nbb_formatted_code = \"foo[\\\"pickup_datetime\\\"].dt.tz_localize(None)\";\n",
       "                var nbb_cells = Jupyter.notebook.get_cells();\n",
       "                for (var i = 0; i < nbb_cells.length; ++i) {\n",
       "                    if (nbb_cells[i].input_prompt_number == nbb_cell_id) {\n",
       "                        if (nbb_cells[i].get_text() == nbb_unformatted_code) {\n",
       "                             nbb_cells[i].set_text(nbb_formatted_code);\n",
       "                        }\n",
       "                        break;\n",
       "                    }\n",
       "                }\n",
       "            }, 500);\n",
       "            "
      ],
      "text/plain": [
       "<IPython.core.display.Javascript object>"
      ]
     },
     "metadata": {},
     "output_type": "display_data"
    },
    {
     "data": {
      "application/javascript": [
       "\n",
       "            setTimeout(function() {\n",
       "                var nbb_cell_id = 447;\n",
       "                var nbb_unformatted_code = \"foo[\\\"pickup_datetime\\\"].dt.tz_localize(None)\";\n",
       "                var nbb_formatted_code = \"foo[\\\"pickup_datetime\\\"].dt.tz_localize(None)\";\n",
       "                var nbb_cells = Jupyter.notebook.get_cells();\n",
       "                for (var i = 0; i < nbb_cells.length; ++i) {\n",
       "                    if (nbb_cells[i].input_prompt_number == nbb_cell_id) {\n",
       "                        if (nbb_cells[i].get_text() == nbb_unformatted_code) {\n",
       "                             nbb_cells[i].set_text(nbb_formatted_code);\n",
       "                        }\n",
       "                        break;\n",
       "                    }\n",
       "                }\n",
       "            }, 500);\n",
       "            "
      ],
      "text/plain": [
       "<IPython.core.display.Javascript object>"
      ]
     },
     "metadata": {},
     "output_type": "display_data"
    }
   ],
   "source": [
    "foo = get_and_clean_month_taxi_data(\n",
    "    \"https://d37ci6vzurychx.cloudfront.net/trip-data/yellow_tripdata_2009-02.parquet\"\n",
    ")"
   ]
  },
  {
   "cell_type": "code",
   "execution_count": 449,
   "id": "6421d079",
   "metadata": {},
   "outputs": [
    {
     "data": {
      "text/plain": [
       "pickup_datetime       object\n",
       "dropoff_datetime      object\n",
       "pickup_longitude     float64\n",
       "pickup_latitude      float64\n",
       "dropoff_longitude    float64\n",
       "dropoff_latitude     float64\n",
       "tip_amount           float64\n",
       "dtype: object"
      ]
     },
     "execution_count": 449,
     "metadata": {},
     "output_type": "execute_result"
    },
    {
     "data": {
      "application/javascript": [
       "\n",
       "            setTimeout(function() {\n",
       "                var nbb_cell_id = 448;\n",
       "                var nbb_unformatted_code = \"foo = get_and_clean_month_taxi_data(\\n    \\\"https://d37ci6vzurychx.cloudfront.net/trip-data/yellow_tripdata_2009-02.parquet\\\"\\n)\";\n",
       "                var nbb_formatted_code = \"foo = get_and_clean_month_taxi_data(\\n    \\\"https://d37ci6vzurychx.cloudfront.net/trip-data/yellow_tripdata_2009-02.parquet\\\"\\n)\";\n",
       "                var nbb_cells = Jupyter.notebook.get_cells();\n",
       "                for (var i = 0; i < nbb_cells.length; ++i) {\n",
       "                    if (nbb_cells[i].input_prompt_number == nbb_cell_id) {\n",
       "                        if (nbb_cells[i].get_text() == nbb_unformatted_code) {\n",
       "                             nbb_cells[i].set_text(nbb_formatted_code);\n",
       "                        }\n",
       "                        break;\n",
       "                    }\n",
       "                }\n",
       "            }, 500);\n",
       "            "
      ],
      "text/plain": [
       "<IPython.core.display.Javascript object>"
      ]
     },
     "metadata": {},
     "output_type": "display_data"
    },
    {
     "data": {
      "application/javascript": [
       "\n",
       "            setTimeout(function() {\n",
       "                var nbb_cell_id = 448;\n",
       "                var nbb_unformatted_code = \"foo = get_and_clean_month_taxi_data(\\n    \\\"https://d37ci6vzurychx.cloudfront.net/trip-data/yellow_tripdata_2009-02.parquet\\\"\\n)\";\n",
       "                var nbb_formatted_code = \"foo = get_and_clean_month_taxi_data(\\n    \\\"https://d37ci6vzurychx.cloudfront.net/trip-data/yellow_tripdata_2009-02.parquet\\\"\\n)\";\n",
       "                var nbb_cells = Jupyter.notebook.get_cells();\n",
       "                for (var i = 0; i < nbb_cells.length; ++i) {\n",
       "                    if (nbb_cells[i].input_prompt_number == nbb_cell_id) {\n",
       "                        if (nbb_cells[i].get_text() == nbb_unformatted_code) {\n",
       "                             nbb_cells[i].set_text(nbb_formatted_code);\n",
       "                        }\n",
       "                        break;\n",
       "                    }\n",
       "                }\n",
       "            }, 500);\n",
       "            "
      ],
      "text/plain": [
       "<IPython.core.display.Javascript object>"
      ]
     },
     "metadata": {},
     "output_type": "display_data"
    },
    {
     "data": {
      "application/javascript": [
       "\n",
       "            setTimeout(function() {\n",
       "                var nbb_cell_id = 448;\n",
       "                var nbb_unformatted_code = \"foo = get_and_clean_month_taxi_data(\\n    \\\"https://d37ci6vzurychx.cloudfront.net/trip-data/yellow_tripdata_2009-02.parquet\\\"\\n)\";\n",
       "                var nbb_formatted_code = \"foo = get_and_clean_month_taxi_data(\\n    \\\"https://d37ci6vzurychx.cloudfront.net/trip-data/yellow_tripdata_2009-02.parquet\\\"\\n)\";\n",
       "                var nbb_cells = Jupyter.notebook.get_cells();\n",
       "                for (var i = 0; i < nbb_cells.length; ++i) {\n",
       "                    if (nbb_cells[i].input_prompt_number == nbb_cell_id) {\n",
       "                        if (nbb_cells[i].get_text() == nbb_unformatted_code) {\n",
       "                             nbb_cells[i].set_text(nbb_formatted_code);\n",
       "                        }\n",
       "                        break;\n",
       "                    }\n",
       "                }\n",
       "            }, 500);\n",
       "            "
      ],
      "text/plain": [
       "<IPython.core.display.Javascript object>"
      ]
     },
     "metadata": {},
     "output_type": "display_data"
    },
    {
     "data": {
      "application/javascript": [
       "\n",
       "            setTimeout(function() {\n",
       "                var nbb_cell_id = 448;\n",
       "                var nbb_unformatted_code = \"foo = get_and_clean_month_taxi_data(\\n    \\\"https://d37ci6vzurychx.cloudfront.net/trip-data/yellow_tripdata_2009-02.parquet\\\"\\n)\";\n",
       "                var nbb_formatted_code = \"foo = get_and_clean_month_taxi_data(\\n    \\\"https://d37ci6vzurychx.cloudfront.net/trip-data/yellow_tripdata_2009-02.parquet\\\"\\n)\";\n",
       "                var nbb_cells = Jupyter.notebook.get_cells();\n",
       "                for (var i = 0; i < nbb_cells.length; ++i) {\n",
       "                    if (nbb_cells[i].input_prompt_number == nbb_cell_id) {\n",
       "                        if (nbb_cells[i].get_text() == nbb_unformatted_code) {\n",
       "                             nbb_cells[i].set_text(nbb_formatted_code);\n",
       "                        }\n",
       "                        break;\n",
       "                    }\n",
       "                }\n",
       "            }, 500);\n",
       "            "
      ],
      "text/plain": [
       "<IPython.core.display.Javascript object>"
      ]
     },
     "metadata": {},
     "output_type": "display_data"
    },
    {
     "data": {
      "application/javascript": [
       "\n",
       "            setTimeout(function() {\n",
       "                var nbb_cell_id = 448;\n",
       "                var nbb_unformatted_code = \"foo = get_and_clean_month_taxi_data(\\n    \\\"https://d37ci6vzurychx.cloudfront.net/trip-data/yellow_tripdata_2009-02.parquet\\\"\\n)\";\n",
       "                var nbb_formatted_code = \"foo = get_and_clean_month_taxi_data(\\n    \\\"https://d37ci6vzurychx.cloudfront.net/trip-data/yellow_tripdata_2009-02.parquet\\\"\\n)\";\n",
       "                var nbb_cells = Jupyter.notebook.get_cells();\n",
       "                for (var i = 0; i < nbb_cells.length; ++i) {\n",
       "                    if (nbb_cells[i].input_prompt_number == nbb_cell_id) {\n",
       "                        if (nbb_cells[i].get_text() == nbb_unformatted_code) {\n",
       "                             nbb_cells[i].set_text(nbb_formatted_code);\n",
       "                        }\n",
       "                        break;\n",
       "                    }\n",
       "                }\n",
       "            }, 500);\n",
       "            "
      ],
      "text/plain": [
       "<IPython.core.display.Javascript object>"
      ]
     },
     "metadata": {},
     "output_type": "display_data"
    }
   ],
   "source": [
    "# TODO convert datetime\n",
    "foo.dtypes"
   ]
  },
  {
   "cell_type": "code",
   "execution_count": 69,
   "id": "35c9c0cd",
   "metadata": {},
   "outputs": [
    {
     "data": {
      "application/javascript": [
       "\n",
       "            setTimeout(function() {\n",
       "                var nbb_cell_id = 69;\n",
       "                var nbb_unformatted_code = \"def get_and_clean_taxi_data():\\n    all_taxi_dataframes = []\\n    \\n    all_csv_urls = find_taxi_csv_urls()\\n    for csv_url in all_csv_url:\\n        # maybe: first try to see if you've downloaded this exact\\n        # file already and saved it before trying again\\n        dataframe = get_and_clean_month_taxi_data(csv_url)\\n        add_distance_column(dataframe)\\n        # maybe: if the file hasn't been saved, save it so you can\\n        # avoid re-downloading it if you re-run the function\\n        \\n        all_taxi_dataframes.append(dataframe)\\n        \\n    # create one gigantic dataframe with data from every month needed\\n    taxi_data = pd.contact(all_taxi_dataframes)\\n    return taxi_data\";\n",
       "                var nbb_formatted_code = \"def get_and_clean_taxi_data():\\n    all_taxi_dataframes = []\\n\\n    all_csv_urls = find_taxi_csv_urls()\\n    for csv_url in all_csv_url:\\n        # maybe: first try to see if you've downloaded this exact\\n        # file already and saved it before trying again\\n        dataframe = get_and_clean_month_taxi_data(csv_url)\\n        add_distance_column(dataframe)\\n        # maybe: if the file hasn't been saved, save it so you can\\n        # avoid re-downloading it if you re-run the function\\n\\n        all_taxi_dataframes.append(dataframe)\\n\\n    # create one gigantic dataframe with data from every month needed\\n    taxi_data = pd.contact(all_taxi_dataframes)\\n    return taxi_data\";\n",
       "                var nbb_cells = Jupyter.notebook.get_cells();\n",
       "                for (var i = 0; i < nbb_cells.length; ++i) {\n",
       "                    if (nbb_cells[i].input_prompt_number == nbb_cell_id) {\n",
       "                        if (nbb_cells[i].get_text() == nbb_unformatted_code) {\n",
       "                             nbb_cells[i].set_text(nbb_formatted_code);\n",
       "                        }\n",
       "                        break;\n",
       "                    }\n",
       "                }\n",
       "            }, 500);\n",
       "            "
      ],
      "text/plain": [
       "<IPython.core.display.Javascript object>"
      ]
     },
     "metadata": {},
     "output_type": "display_data"
    }
   ],
   "source": [
    "def get_and_clean_taxi_data():\n",
    "    all_taxi_dataframes = []\n",
    "\n",
    "    all_csv_urls = find_taxi_csv_urls()\n",
    "    for csv_url in all_csv_url:\n",
    "        # maybe: first try to see if you've downloaded this exact\n",
    "        # file already and saved it before trying again\n",
    "        dataframe = get_and_clean_month_taxi_data(csv_url)\n",
    "        add_distance_column(dataframe)\n",
    "        # maybe: if the file hasn't been saved, save it so you can\n",
    "        # avoid re-downloading it if you re-run the function\n",
    "\n",
    "        all_taxi_dataframes.append(dataframe)\n",
    "\n",
    "    # create one gigantic dataframe with data from every month needed\n",
    "    taxi_data = pd.contact(all_taxi_dataframes)\n",
    "    return taxi_data"
   ]
  },
  {
   "cell_type": "markdown",
   "id": "094b4d6d",
   "metadata": {},
   "source": [
    "### Processing Uber Data\n",
    "\n",
    "_**TODO:** Write some prose that tells the reader what you're about to do here._"
   ]
  },
  {
   "cell_type": "code",
   "execution_count": 433,
   "id": "7c58e3a2",
   "metadata": {},
   "outputs": [
    {
     "data": {
      "application/javascript": [
       "\n",
       "            setTimeout(function() {\n",
       "                var nbb_cell_id = 432;\n",
       "                var nbb_unformatted_code = \"foo = load_and_clean_uber_data(UBER_CSV)\\nfoo\";\n",
       "                var nbb_formatted_code = \"foo = load_and_clean_uber_data(UBER_CSV)\\nfoo\";\n",
       "                var nbb_cells = Jupyter.notebook.get_cells();\n",
       "                for (var i = 0; i < nbb_cells.length; ++i) {\n",
       "                    if (nbb_cells[i].input_prompt_number == nbb_cell_id) {\n",
       "                        if (nbb_cells[i].get_text() == nbb_unformatted_code) {\n",
       "                             nbb_cells[i].set_text(nbb_formatted_code);\n",
       "                        }\n",
       "                        break;\n",
       "                    }\n",
       "                }\n",
       "            }, 500);\n",
       "            "
      ],
      "text/plain": [
       "<IPython.core.display.Javascript object>"
      ]
     },
     "metadata": {},
     "output_type": "display_data"
    },
    {
     "data": {
      "application/javascript": [
       "\n",
       "            setTimeout(function() {\n",
       "                var nbb_cell_id = 432;\n",
       "                var nbb_unformatted_code = \"foo = load_and_clean_uber_data(UBER_CSV)\\nfoo\";\n",
       "                var nbb_formatted_code = \"foo = load_and_clean_uber_data(UBER_CSV)\\nfoo\";\n",
       "                var nbb_cells = Jupyter.notebook.get_cells();\n",
       "                for (var i = 0; i < nbb_cells.length; ++i) {\n",
       "                    if (nbb_cells[i].input_prompt_number == nbb_cell_id) {\n",
       "                        if (nbb_cells[i].get_text() == nbb_unformatted_code) {\n",
       "                             nbb_cells[i].set_text(nbb_formatted_code);\n",
       "                        }\n",
       "                        break;\n",
       "                    }\n",
       "                }\n",
       "            }, 500);\n",
       "            "
      ],
      "text/plain": [
       "<IPython.core.display.Javascript object>"
      ]
     },
     "metadata": {},
     "output_type": "display_data"
    },
    {
     "data": {
      "application/javascript": [
       "\n",
       "            setTimeout(function() {\n",
       "                var nbb_cell_id = 432;\n",
       "                var nbb_unformatted_code = \"foo = load_and_clean_uber_data(UBER_CSV)\\nfoo\";\n",
       "                var nbb_formatted_code = \"foo = load_and_clean_uber_data(UBER_CSV)\\nfoo\";\n",
       "                var nbb_cells = Jupyter.notebook.get_cells();\n",
       "                for (var i = 0; i < nbb_cells.length; ++i) {\n",
       "                    if (nbb_cells[i].input_prompt_number == nbb_cell_id) {\n",
       "                        if (nbb_cells[i].get_text() == nbb_unformatted_code) {\n",
       "                             nbb_cells[i].set_text(nbb_formatted_code);\n",
       "                        }\n",
       "                        break;\n",
       "                    }\n",
       "                }\n",
       "            }, 500);\n",
       "            "
      ],
      "text/plain": [
       "<IPython.core.display.Javascript object>"
      ]
     },
     "metadata": {},
     "output_type": "display_data"
    },
    {
     "data": {
      "application/javascript": [
       "\n",
       "            setTimeout(function() {\n",
       "                var nbb_cell_id = 432;\n",
       "                var nbb_unformatted_code = \"foo = load_and_clean_uber_data(UBER_CSV)\\nfoo\";\n",
       "                var nbb_formatted_code = \"foo = load_and_clean_uber_data(UBER_CSV)\\nfoo\";\n",
       "                var nbb_cells = Jupyter.notebook.get_cells();\n",
       "                for (var i = 0; i < nbb_cells.length; ++i) {\n",
       "                    if (nbb_cells[i].input_prompt_number == nbb_cell_id) {\n",
       "                        if (nbb_cells[i].get_text() == nbb_unformatted_code) {\n",
       "                             nbb_cells[i].set_text(nbb_formatted_code);\n",
       "                        }\n",
       "                        break;\n",
       "                    }\n",
       "                }\n",
       "            }, 500);\n",
       "            "
      ],
      "text/plain": [
       "<IPython.core.display.Javascript object>"
      ]
     },
     "metadata": {},
     "output_type": "display_data"
    },
    {
     "data": {
      "application/javascript": [
       "\n",
       "            setTimeout(function() {\n",
       "                var nbb_cell_id = 432;\n",
       "                var nbb_unformatted_code = \"foo = load_and_clean_uber_data(UBER_CSV)\\nfoo\";\n",
       "                var nbb_formatted_code = \"foo = load_and_clean_uber_data(UBER_CSV)\\nfoo\";\n",
       "                var nbb_cells = Jupyter.notebook.get_cells();\n",
       "                for (var i = 0; i < nbb_cells.length; ++i) {\n",
       "                    if (nbb_cells[i].input_prompt_number == nbb_cell_id) {\n",
       "                        if (nbb_cells[i].get_text() == nbb_unformatted_code) {\n",
       "                             nbb_cells[i].set_text(nbb_formatted_code);\n",
       "                        }\n",
       "                        break;\n",
       "                    }\n",
       "                }\n",
       "            }, 500);\n",
       "            "
      ],
      "text/plain": [
       "<IPython.core.display.Javascript object>"
      ]
     },
     "metadata": {},
     "output_type": "display_data"
    }
   ],
   "source": [
    "def load_and_clean_uber_data(csv_file):\n",
    "    # Load and filter the columns\n",
    "    df = pd.read_csv(\n",
    "        csv_file,\n",
    "        usecols=[\n",
    "            \"pickup_datetime\",\n",
    "            \"pickup_longitude\",\n",
    "            \"pickup_latitude\",\n",
    "            \"dropoff_longitude\",\n",
    "            \"dropoff_latitude\",\n",
    "        ],\n",
    "    )\n",
    "    df[\"pickup_datetime\"] = pd.to_datetime(df[\"pickup_datetime\"])\n",
    "    return df\n",
    "foo = load_and_clean_uber_data(UBER_CSV)"
   ]
  },
  {
   "cell_type": "code",
   "execution_count": 438,
   "id": "325104f3",
   "metadata": {},
   "outputs": [
    {
     "data": {
      "text/html": [
       "<div>\n",
       "<style scoped>\n",
       "    .dataframe tbody tr th:only-of-type {\n",
       "        vertical-align: middle;\n",
       "    }\n",
       "\n",
       "    .dataframe tbody tr th {\n",
       "        vertical-align: top;\n",
       "    }\n",
       "\n",
       "    .dataframe thead th {\n",
       "        text-align: right;\n",
       "    }\n",
       "</style>\n",
       "<table border=\"1\" class=\"dataframe\">\n",
       "  <thead>\n",
       "    <tr style=\"text-align: right;\">\n",
       "      <th></th>\n",
       "      <th>pickup_datetime</th>\n",
       "      <th>pickup_longitude</th>\n",
       "      <th>pickup_latitude</th>\n",
       "      <th>dropoff_longitude</th>\n",
       "      <th>dropoff_latitude</th>\n",
       "    </tr>\n",
       "  </thead>\n",
       "  <tbody>\n",
       "    <tr>\n",
       "      <th>0</th>\n",
       "      <td>2015-05-07 19:52:06 UTC</td>\n",
       "      <td>-73.999817</td>\n",
       "      <td>40.738354</td>\n",
       "      <td>-73.999512</td>\n",
       "      <td>40.723217</td>\n",
       "    </tr>\n",
       "    <tr>\n",
       "      <th>1</th>\n",
       "      <td>2009-07-17 20:04:56 UTC</td>\n",
       "      <td>-73.994355</td>\n",
       "      <td>40.728225</td>\n",
       "      <td>-73.994710</td>\n",
       "      <td>40.750325</td>\n",
       "    </tr>\n",
       "    <tr>\n",
       "      <th>2</th>\n",
       "      <td>2009-08-24 21:45:00 UTC</td>\n",
       "      <td>-74.005043</td>\n",
       "      <td>40.740770</td>\n",
       "      <td>-73.962565</td>\n",
       "      <td>40.772647</td>\n",
       "    </tr>\n",
       "    <tr>\n",
       "      <th>3</th>\n",
       "      <td>2009-06-26 08:22:21 UTC</td>\n",
       "      <td>-73.976124</td>\n",
       "      <td>40.790844</td>\n",
       "      <td>-73.965316</td>\n",
       "      <td>40.803349</td>\n",
       "    </tr>\n",
       "    <tr>\n",
       "      <th>4</th>\n",
       "      <td>2014-08-28 17:47:00 UTC</td>\n",
       "      <td>-73.925023</td>\n",
       "      <td>40.744085</td>\n",
       "      <td>-73.973082</td>\n",
       "      <td>40.761247</td>\n",
       "    </tr>\n",
       "    <tr>\n",
       "      <th>...</th>\n",
       "      <td>...</td>\n",
       "      <td>...</td>\n",
       "      <td>...</td>\n",
       "      <td>...</td>\n",
       "      <td>...</td>\n",
       "    </tr>\n",
       "    <tr>\n",
       "      <th>199995</th>\n",
       "      <td>2012-10-28 10:49:00 UTC</td>\n",
       "      <td>-73.987042</td>\n",
       "      <td>40.739367</td>\n",
       "      <td>-73.986525</td>\n",
       "      <td>40.740297</td>\n",
       "    </tr>\n",
       "    <tr>\n",
       "      <th>199996</th>\n",
       "      <td>2014-03-14 01:09:00 UTC</td>\n",
       "      <td>-73.984722</td>\n",
       "      <td>40.736837</td>\n",
       "      <td>-74.006672</td>\n",
       "      <td>40.739620</td>\n",
       "    </tr>\n",
       "    <tr>\n",
       "      <th>199997</th>\n",
       "      <td>2009-06-29 00:42:00 UTC</td>\n",
       "      <td>-73.986017</td>\n",
       "      <td>40.756487</td>\n",
       "      <td>-73.858957</td>\n",
       "      <td>40.692588</td>\n",
       "    </tr>\n",
       "    <tr>\n",
       "      <th>199998</th>\n",
       "      <td>2015-05-20 14:56:25 UTC</td>\n",
       "      <td>-73.997124</td>\n",
       "      <td>40.725452</td>\n",
       "      <td>-73.983215</td>\n",
       "      <td>40.695415</td>\n",
       "    </tr>\n",
       "    <tr>\n",
       "      <th>199999</th>\n",
       "      <td>2010-05-15 04:08:00 UTC</td>\n",
       "      <td>-73.984395</td>\n",
       "      <td>40.720077</td>\n",
       "      <td>-73.985508</td>\n",
       "      <td>40.768793</td>\n",
       "    </tr>\n",
       "  </tbody>\n",
       "</table>\n",
       "<p>200000 rows × 5 columns</p>\n",
       "</div>"
      ],
      "text/plain": [
       "                pickup_datetime  pickup_longitude  pickup_latitude  \\\n",
       "0       2015-05-07 19:52:06 UTC        -73.999817        40.738354   \n",
       "1       2009-07-17 20:04:56 UTC        -73.994355        40.728225   \n",
       "2       2009-08-24 21:45:00 UTC        -74.005043        40.740770   \n",
       "3       2009-06-26 08:22:21 UTC        -73.976124        40.790844   \n",
       "4       2014-08-28 17:47:00 UTC        -73.925023        40.744085   \n",
       "...                         ...               ...              ...   \n",
       "199995  2012-10-28 10:49:00 UTC        -73.987042        40.739367   \n",
       "199996  2014-03-14 01:09:00 UTC        -73.984722        40.736837   \n",
       "199997  2009-06-29 00:42:00 UTC        -73.986017        40.756487   \n",
       "199998  2015-05-20 14:56:25 UTC        -73.997124        40.725452   \n",
       "199999  2010-05-15 04:08:00 UTC        -73.984395        40.720077   \n",
       "\n",
       "        dropoff_longitude  dropoff_latitude  \n",
       "0              -73.999512         40.723217  \n",
       "1              -73.994710         40.750325  \n",
       "2              -73.962565         40.772647  \n",
       "3              -73.965316         40.803349  \n",
       "4              -73.973082         40.761247  \n",
       "...                   ...               ...  \n",
       "199995         -73.986525         40.740297  \n",
       "199996         -74.006672         40.739620  \n",
       "199997         -73.858957         40.692588  \n",
       "199998         -73.983215         40.695415  \n",
       "199999         -73.985508         40.768793  \n",
       "\n",
       "[200000 rows x 5 columns]"
      ]
     },
     "execution_count": 438,
     "metadata": {},
     "output_type": "execute_result"
    },
    {
     "data": {
      "application/javascript": [
       "\n",
       "            setTimeout(function() {\n",
       "                var nbb_cell_id = 437;\n",
       "                var nbb_unformatted_code = \"df = pd.read_csv(\\n        UBER_DATA,\\n        usecols=[\\n            \\\"pickup_datetime\\\",\\n            \\\"pickup_longitude\\\",\\n            \\\"pickup_latitude\\\",\\n            \\\"dropoff_longitude\\\",\\n            \\\"dropoff_latitude\\\",\\n        ],\\n    )\\ndf\";\n",
       "                var nbb_formatted_code = \"df = pd.read_csv(\\n    UBER_DATA,\\n    usecols=[\\n        \\\"pickup_datetime\\\",\\n        \\\"pickup_longitude\\\",\\n        \\\"pickup_latitude\\\",\\n        \\\"dropoff_longitude\\\",\\n        \\\"dropoff_latitude\\\",\\n    ],\\n)\\ndf\";\n",
       "                var nbb_cells = Jupyter.notebook.get_cells();\n",
       "                for (var i = 0; i < nbb_cells.length; ++i) {\n",
       "                    if (nbb_cells[i].input_prompt_number == nbb_cell_id) {\n",
       "                        if (nbb_cells[i].get_text() == nbb_unformatted_code) {\n",
       "                             nbb_cells[i].set_text(nbb_formatted_code);\n",
       "                        }\n",
       "                        break;\n",
       "                    }\n",
       "                }\n",
       "            }, 500);\n",
       "            "
      ],
      "text/plain": [
       "<IPython.core.display.Javascript object>"
      ]
     },
     "metadata": {},
     "output_type": "display_data"
    },
    {
     "data": {
      "application/javascript": [
       "\n",
       "            setTimeout(function() {\n",
       "                var nbb_cell_id = 437;\n",
       "                var nbb_unformatted_code = \"df = pd.read_csv(\\n        UBER_DATA,\\n        usecols=[\\n            \\\"pickup_datetime\\\",\\n            \\\"pickup_longitude\\\",\\n            \\\"pickup_latitude\\\",\\n            \\\"dropoff_longitude\\\",\\n            \\\"dropoff_latitude\\\",\\n        ],\\n    )\\ndf\";\n",
       "                var nbb_formatted_code = \"df = pd.read_csv(\\n    UBER_DATA,\\n    usecols=[\\n        \\\"pickup_datetime\\\",\\n        \\\"pickup_longitude\\\",\\n        \\\"pickup_latitude\\\",\\n        \\\"dropoff_longitude\\\",\\n        \\\"dropoff_latitude\\\",\\n    ],\\n)\\ndf\";\n",
       "                var nbb_cells = Jupyter.notebook.get_cells();\n",
       "                for (var i = 0; i < nbb_cells.length; ++i) {\n",
       "                    if (nbb_cells[i].input_prompt_number == nbb_cell_id) {\n",
       "                        if (nbb_cells[i].get_text() == nbb_unformatted_code) {\n",
       "                             nbb_cells[i].set_text(nbb_formatted_code);\n",
       "                        }\n",
       "                        break;\n",
       "                    }\n",
       "                }\n",
       "            }, 500);\n",
       "            "
      ],
      "text/plain": [
       "<IPython.core.display.Javascript object>"
      ]
     },
     "metadata": {},
     "output_type": "display_data"
    },
    {
     "data": {
      "application/javascript": [
       "\n",
       "            setTimeout(function() {\n",
       "                var nbb_cell_id = 437;\n",
       "                var nbb_unformatted_code = \"df = pd.read_csv(\\n        UBER_DATA,\\n        usecols=[\\n            \\\"pickup_datetime\\\",\\n            \\\"pickup_longitude\\\",\\n            \\\"pickup_latitude\\\",\\n            \\\"dropoff_longitude\\\",\\n            \\\"dropoff_latitude\\\",\\n        ],\\n    )\\ndf\";\n",
       "                var nbb_formatted_code = \"df = pd.read_csv(\\n    UBER_DATA,\\n    usecols=[\\n        \\\"pickup_datetime\\\",\\n        \\\"pickup_longitude\\\",\\n        \\\"pickup_latitude\\\",\\n        \\\"dropoff_longitude\\\",\\n        \\\"dropoff_latitude\\\",\\n    ],\\n)\\ndf\";\n",
       "                var nbb_cells = Jupyter.notebook.get_cells();\n",
       "                for (var i = 0; i < nbb_cells.length; ++i) {\n",
       "                    if (nbb_cells[i].input_prompt_number == nbb_cell_id) {\n",
       "                        if (nbb_cells[i].get_text() == nbb_unformatted_code) {\n",
       "                             nbb_cells[i].set_text(nbb_formatted_code);\n",
       "                        }\n",
       "                        break;\n",
       "                    }\n",
       "                }\n",
       "            }, 500);\n",
       "            "
      ],
      "text/plain": [
       "<IPython.core.display.Javascript object>"
      ]
     },
     "metadata": {},
     "output_type": "display_data"
    },
    {
     "data": {
      "application/javascript": [
       "\n",
       "            setTimeout(function() {\n",
       "                var nbb_cell_id = 437;\n",
       "                var nbb_unformatted_code = \"df = pd.read_csv(\\n        UBER_DATA,\\n        usecols=[\\n            \\\"pickup_datetime\\\",\\n            \\\"pickup_longitude\\\",\\n            \\\"pickup_latitude\\\",\\n            \\\"dropoff_longitude\\\",\\n            \\\"dropoff_latitude\\\",\\n        ],\\n    )\\ndf\";\n",
       "                var nbb_formatted_code = \"df = pd.read_csv(\\n    UBER_DATA,\\n    usecols=[\\n        \\\"pickup_datetime\\\",\\n        \\\"pickup_longitude\\\",\\n        \\\"pickup_latitude\\\",\\n        \\\"dropoff_longitude\\\",\\n        \\\"dropoff_latitude\\\",\\n    ],\\n)\\ndf\";\n",
       "                var nbb_cells = Jupyter.notebook.get_cells();\n",
       "                for (var i = 0; i < nbb_cells.length; ++i) {\n",
       "                    if (nbb_cells[i].input_prompt_number == nbb_cell_id) {\n",
       "                        if (nbb_cells[i].get_text() == nbb_unformatted_code) {\n",
       "                             nbb_cells[i].set_text(nbb_formatted_code);\n",
       "                        }\n",
       "                        break;\n",
       "                    }\n",
       "                }\n",
       "            }, 500);\n",
       "            "
      ],
      "text/plain": [
       "<IPython.core.display.Javascript object>"
      ]
     },
     "metadata": {},
     "output_type": "display_data"
    },
    {
     "data": {
      "application/javascript": [
       "\n",
       "            setTimeout(function() {\n",
       "                var nbb_cell_id = 437;\n",
       "                var nbb_unformatted_code = \"df = pd.read_csv(\\n        UBER_DATA,\\n        usecols=[\\n            \\\"pickup_datetime\\\",\\n            \\\"pickup_longitude\\\",\\n            \\\"pickup_latitude\\\",\\n            \\\"dropoff_longitude\\\",\\n            \\\"dropoff_latitude\\\",\\n        ],\\n    )\\ndf\";\n",
       "                var nbb_formatted_code = \"df = pd.read_csv(\\n    UBER_DATA,\\n    usecols=[\\n        \\\"pickup_datetime\\\",\\n        \\\"pickup_longitude\\\",\\n        \\\"pickup_latitude\\\",\\n        \\\"dropoff_longitude\\\",\\n        \\\"dropoff_latitude\\\",\\n    ],\\n)\\ndf\";\n",
       "                var nbb_cells = Jupyter.notebook.get_cells();\n",
       "                for (var i = 0; i < nbb_cells.length; ++i) {\n",
       "                    if (nbb_cells[i].input_prompt_number == nbb_cell_id) {\n",
       "                        if (nbb_cells[i].get_text() == nbb_unformatted_code) {\n",
       "                             nbb_cells[i].set_text(nbb_formatted_code);\n",
       "                        }\n",
       "                        break;\n",
       "                    }\n",
       "                }\n",
       "            }, 500);\n",
       "            "
      ],
      "text/plain": [
       "<IPython.core.display.Javascript object>"
      ]
     },
     "metadata": {},
     "output_type": "display_data"
    }
   ],
   "source": [
    "df = pd.read_csv(\n",
    "    UBER_CSV,\n",
    "    usecols=[\n",
    "        \"pickup_datetime\",\n",
    "        \"pickup_longitude\",\n",
    "        \"pickup_latitude\",\n",
    "        \"dropoff_longitude\",\n",
    "        \"dropoff_latitude\",\n",
    "    ],\n",
    ")\n",
    "df"
   ]
  },
  {
   "cell_type": "code",
   "execution_count": 446,
   "id": "312d504d",
   "metadata": {},
   "outputs": [
    {
     "data": {
      "text/html": [
       "<div>\n",
       "<style scoped>\n",
       "    .dataframe tbody tr th:only-of-type {\n",
       "        vertical-align: middle;\n",
       "    }\n",
       "\n",
       "    .dataframe tbody tr th {\n",
       "        vertical-align: top;\n",
       "    }\n",
       "\n",
       "    .dataframe thead th {\n",
       "        text-align: right;\n",
       "    }\n",
       "</style>\n",
       "<table border=\"1\" class=\"dataframe\">\n",
       "  <thead>\n",
       "    <tr style=\"text-align: right;\">\n",
       "      <th></th>\n",
       "      <th>pickup_datetime</th>\n",
       "      <th>pickup_longitude</th>\n",
       "      <th>pickup_latitude</th>\n",
       "      <th>dropoff_longitude</th>\n",
       "      <th>dropoff_latitude</th>\n",
       "    </tr>\n",
       "  </thead>\n",
       "  <tbody>\n",
       "    <tr>\n",
       "      <th>0</th>\n",
       "      <td>2015-05-07 15:52:06-04:00</td>\n",
       "      <td>-73.999817</td>\n",
       "      <td>40.738354</td>\n",
       "      <td>-73.999512</td>\n",
       "      <td>40.723217</td>\n",
       "    </tr>\n",
       "    <tr>\n",
       "      <th>1</th>\n",
       "      <td>2009-07-17 16:04:56-04:00</td>\n",
       "      <td>-73.994355</td>\n",
       "      <td>40.728225</td>\n",
       "      <td>-73.994710</td>\n",
       "      <td>40.750325</td>\n",
       "    </tr>\n",
       "    <tr>\n",
       "      <th>2</th>\n",
       "      <td>2009-08-24 17:45:00-04:00</td>\n",
       "      <td>-74.005043</td>\n",
       "      <td>40.740770</td>\n",
       "      <td>-73.962565</td>\n",
       "      <td>40.772647</td>\n",
       "    </tr>\n",
       "    <tr>\n",
       "      <th>3</th>\n",
       "      <td>2009-06-26 04:22:21-04:00</td>\n",
       "      <td>-73.976124</td>\n",
       "      <td>40.790844</td>\n",
       "      <td>-73.965316</td>\n",
       "      <td>40.803349</td>\n",
       "    </tr>\n",
       "    <tr>\n",
       "      <th>4</th>\n",
       "      <td>2014-08-28 13:47:00-04:00</td>\n",
       "      <td>-73.925023</td>\n",
       "      <td>40.744085</td>\n",
       "      <td>-73.973082</td>\n",
       "      <td>40.761247</td>\n",
       "    </tr>\n",
       "    <tr>\n",
       "      <th>...</th>\n",
       "      <td>...</td>\n",
       "      <td>...</td>\n",
       "      <td>...</td>\n",
       "      <td>...</td>\n",
       "      <td>...</td>\n",
       "    </tr>\n",
       "    <tr>\n",
       "      <th>199995</th>\n",
       "      <td>2012-10-28 06:49:00-04:00</td>\n",
       "      <td>-73.987042</td>\n",
       "      <td>40.739367</td>\n",
       "      <td>-73.986525</td>\n",
       "      <td>40.740297</td>\n",
       "    </tr>\n",
       "    <tr>\n",
       "      <th>199996</th>\n",
       "      <td>2014-03-13 21:09:00-04:00</td>\n",
       "      <td>-73.984722</td>\n",
       "      <td>40.736837</td>\n",
       "      <td>-74.006672</td>\n",
       "      <td>40.739620</td>\n",
       "    </tr>\n",
       "    <tr>\n",
       "      <th>199997</th>\n",
       "      <td>2009-06-28 20:42:00-04:00</td>\n",
       "      <td>-73.986017</td>\n",
       "      <td>40.756487</td>\n",
       "      <td>-73.858957</td>\n",
       "      <td>40.692588</td>\n",
       "    </tr>\n",
       "    <tr>\n",
       "      <th>199998</th>\n",
       "      <td>2015-05-20 10:56:25-04:00</td>\n",
       "      <td>-73.997124</td>\n",
       "      <td>40.725452</td>\n",
       "      <td>-73.983215</td>\n",
       "      <td>40.695415</td>\n",
       "    </tr>\n",
       "    <tr>\n",
       "      <th>199999</th>\n",
       "      <td>2010-05-15 00:08:00-04:00</td>\n",
       "      <td>-73.984395</td>\n",
       "      <td>40.720077</td>\n",
       "      <td>-73.985508</td>\n",
       "      <td>40.768793</td>\n",
       "    </tr>\n",
       "  </tbody>\n",
       "</table>\n",
       "<p>200000 rows × 5 columns</p>\n",
       "</div>"
      ],
      "text/plain": [
       "                 pickup_datetime  pickup_longitude  pickup_latitude  \\\n",
       "0      2015-05-07 15:52:06-04:00        -73.999817        40.738354   \n",
       "1      2009-07-17 16:04:56-04:00        -73.994355        40.728225   \n",
       "2      2009-08-24 17:45:00-04:00        -74.005043        40.740770   \n",
       "3      2009-06-26 04:22:21-04:00        -73.976124        40.790844   \n",
       "4      2014-08-28 13:47:00-04:00        -73.925023        40.744085   \n",
       "...                          ...               ...              ...   \n",
       "199995 2012-10-28 06:49:00-04:00        -73.987042        40.739367   \n",
       "199996 2014-03-13 21:09:00-04:00        -73.984722        40.736837   \n",
       "199997 2009-06-28 20:42:00-04:00        -73.986017        40.756487   \n",
       "199998 2015-05-20 10:56:25-04:00        -73.997124        40.725452   \n",
       "199999 2010-05-15 00:08:00-04:00        -73.984395        40.720077   \n",
       "\n",
       "        dropoff_longitude  dropoff_latitude  \n",
       "0              -73.999512         40.723217  \n",
       "1              -73.994710         40.750325  \n",
       "2              -73.962565         40.772647  \n",
       "3              -73.965316         40.803349  \n",
       "4              -73.973082         40.761247  \n",
       "...                   ...               ...  \n",
       "199995         -73.986525         40.740297  \n",
       "199996         -74.006672         40.739620  \n",
       "199997         -73.858957         40.692588  \n",
       "199998         -73.983215         40.695415  \n",
       "199999         -73.985508         40.768793  \n",
       "\n",
       "[200000 rows x 5 columns]"
      ]
     },
     "execution_count": 446,
     "metadata": {},
     "output_type": "execute_result"
    },
    {
     "data": {
      "application/javascript": [
       "\n",
       "            setTimeout(function() {\n",
       "                var nbb_cell_id = 445;\n",
       "                var nbb_unformatted_code = \"foo[\\\"pickup_datetime\\\"] = foo[\\\"pickup_datetime\\\"].dt.tz_convert(\\\"US/Eastern\\\")\\n# foo[\\\"pickup_datetime\\\"].dt.tz_localize(None)\";\n",
       "                var nbb_formatted_code = \"foo[\\\"pickup_datetime\\\"] = foo[\\\"pickup_datetime\\\"].dt.tz_convert(\\\"US/Eastern\\\")\\n# foo[\\\"pickup_datetime\\\"].dt.tz_localize(None)\";\n",
       "                var nbb_cells = Jupyter.notebook.get_cells();\n",
       "                for (var i = 0; i < nbb_cells.length; ++i) {\n",
       "                    if (nbb_cells[i].input_prompt_number == nbb_cell_id) {\n",
       "                        if (nbb_cells[i].get_text() == nbb_unformatted_code) {\n",
       "                             nbb_cells[i].set_text(nbb_formatted_code);\n",
       "                        }\n",
       "                        break;\n",
       "                    }\n",
       "                }\n",
       "            }, 500);\n",
       "            "
      ],
      "text/plain": [
       "<IPython.core.display.Javascript object>"
      ]
     },
     "metadata": {},
     "output_type": "display_data"
    },
    {
     "data": {
      "application/javascript": [
       "\n",
       "            setTimeout(function() {\n",
       "                var nbb_cell_id = 445;\n",
       "                var nbb_unformatted_code = \"foo[\\\"pickup_datetime\\\"] = foo[\\\"pickup_datetime\\\"].dt.tz_convert(\\\"US/Eastern\\\")\\n# foo[\\\"pickup_datetime\\\"].dt.tz_localize(None)\";\n",
       "                var nbb_formatted_code = \"foo[\\\"pickup_datetime\\\"] = foo[\\\"pickup_datetime\\\"].dt.tz_convert(\\\"US/Eastern\\\")\\n# foo[\\\"pickup_datetime\\\"].dt.tz_localize(None)\";\n",
       "                var nbb_cells = Jupyter.notebook.get_cells();\n",
       "                for (var i = 0; i < nbb_cells.length; ++i) {\n",
       "                    if (nbb_cells[i].input_prompt_number == nbb_cell_id) {\n",
       "                        if (nbb_cells[i].get_text() == nbb_unformatted_code) {\n",
       "                             nbb_cells[i].set_text(nbb_formatted_code);\n",
       "                        }\n",
       "                        break;\n",
       "                    }\n",
       "                }\n",
       "            }, 500);\n",
       "            "
      ],
      "text/plain": [
       "<IPython.core.display.Javascript object>"
      ]
     },
     "metadata": {},
     "output_type": "display_data"
    },
    {
     "data": {
      "application/javascript": [
       "\n",
       "            setTimeout(function() {\n",
       "                var nbb_cell_id = 445;\n",
       "                var nbb_unformatted_code = \"foo[\\\"pickup_datetime\\\"] = foo[\\\"pickup_datetime\\\"].dt.tz_convert(\\\"US/Eastern\\\")\\n# foo[\\\"pickup_datetime\\\"].dt.tz_localize(None)\";\n",
       "                var nbb_formatted_code = \"foo[\\\"pickup_datetime\\\"] = foo[\\\"pickup_datetime\\\"].dt.tz_convert(\\\"US/Eastern\\\")\\n# foo[\\\"pickup_datetime\\\"].dt.tz_localize(None)\";\n",
       "                var nbb_cells = Jupyter.notebook.get_cells();\n",
       "                for (var i = 0; i < nbb_cells.length; ++i) {\n",
       "                    if (nbb_cells[i].input_prompt_number == nbb_cell_id) {\n",
       "                        if (nbb_cells[i].get_text() == nbb_unformatted_code) {\n",
       "                             nbb_cells[i].set_text(nbb_formatted_code);\n",
       "                        }\n",
       "                        break;\n",
       "                    }\n",
       "                }\n",
       "            }, 500);\n",
       "            "
      ],
      "text/plain": [
       "<IPython.core.display.Javascript object>"
      ]
     },
     "metadata": {},
     "output_type": "display_data"
    },
    {
     "data": {
      "application/javascript": [
       "\n",
       "            setTimeout(function() {\n",
       "                var nbb_cell_id = 445;\n",
       "                var nbb_unformatted_code = \"foo[\\\"pickup_datetime\\\"] = foo[\\\"pickup_datetime\\\"].dt.tz_convert(\\\"US/Eastern\\\")\\n# foo[\\\"pickup_datetime\\\"].dt.tz_localize(None)\";\n",
       "                var nbb_formatted_code = \"foo[\\\"pickup_datetime\\\"] = foo[\\\"pickup_datetime\\\"].dt.tz_convert(\\\"US/Eastern\\\")\\n# foo[\\\"pickup_datetime\\\"].dt.tz_localize(None)\";\n",
       "                var nbb_cells = Jupyter.notebook.get_cells();\n",
       "                for (var i = 0; i < nbb_cells.length; ++i) {\n",
       "                    if (nbb_cells[i].input_prompt_number == nbb_cell_id) {\n",
       "                        if (nbb_cells[i].get_text() == nbb_unformatted_code) {\n",
       "                             nbb_cells[i].set_text(nbb_formatted_code);\n",
       "                        }\n",
       "                        break;\n",
       "                    }\n",
       "                }\n",
       "            }, 500);\n",
       "            "
      ],
      "text/plain": [
       "<IPython.core.display.Javascript object>"
      ]
     },
     "metadata": {},
     "output_type": "display_data"
    },
    {
     "data": {
      "application/javascript": [
       "\n",
       "            setTimeout(function() {\n",
       "                var nbb_cell_id = 445;\n",
       "                var nbb_unformatted_code = \"foo[\\\"pickup_datetime\\\"] = foo[\\\"pickup_datetime\\\"].dt.tz_convert(\\\"US/Eastern\\\")\\n# foo[\\\"pickup_datetime\\\"].dt.tz_localize(None)\";\n",
       "                var nbb_formatted_code = \"foo[\\\"pickup_datetime\\\"] = foo[\\\"pickup_datetime\\\"].dt.tz_convert(\\\"US/Eastern\\\")\\n# foo[\\\"pickup_datetime\\\"].dt.tz_localize(None)\";\n",
       "                var nbb_cells = Jupyter.notebook.get_cells();\n",
       "                for (var i = 0; i < nbb_cells.length; ++i) {\n",
       "                    if (nbb_cells[i].input_prompt_number == nbb_cell_id) {\n",
       "                        if (nbb_cells[i].get_text() == nbb_unformatted_code) {\n",
       "                             nbb_cells[i].set_text(nbb_formatted_code);\n",
       "                        }\n",
       "                        break;\n",
       "                    }\n",
       "                }\n",
       "            }, 500);\n",
       "            "
      ],
      "text/plain": [
       "<IPython.core.display.Javascript object>"
      ]
     },
     "metadata": {},
     "output_type": "display_data"
    }
   ],
   "source": [
    "foo[\"pickup_datetime\"] = foo[\"pickup_datetime\"].dt.tz_convert(\"US/Eastern\")\n",
    "foo\n",
    "# foo[\"pickup_datetime\"].dt.tz_localize(None)"
   ]
  },
  {
   "cell_type": "code",
   "execution_count": 447,
   "id": "99323c3d",
   "metadata": {},
   "outputs": [
    {
     "data": {
      "text/plain": [
       "0        2015-05-07 15:52:06\n",
       "1        2009-07-17 16:04:56\n",
       "2        2009-08-24 17:45:00\n",
       "3        2009-06-26 04:22:21\n",
       "4        2014-08-28 13:47:00\n",
       "                 ...        \n",
       "199995   2012-10-28 06:49:00\n",
       "199996   2014-03-13 21:09:00\n",
       "199997   2009-06-28 20:42:00\n",
       "199998   2015-05-20 10:56:25\n",
       "199999   2010-05-15 00:08:00\n",
       "Name: pickup_datetime, Length: 200000, dtype: datetime64[ns]"
      ]
     },
     "execution_count": 447,
     "metadata": {},
     "output_type": "execute_result"
    },
    {
     "data": {
      "application/javascript": [
       "\n",
       "            setTimeout(function() {\n",
       "                var nbb_cell_id = 446;\n",
       "                var nbb_unformatted_code = \"foo[\\\"pickup_datetime\\\"] = foo[\\\"pickup_datetime\\\"].dt.tz_convert(\\\"US/Eastern\\\")\\nfoo\\n# foo[\\\"pickup_datetime\\\"].dt.tz_localize(None)\";\n",
       "                var nbb_formatted_code = \"foo[\\\"pickup_datetime\\\"] = foo[\\\"pickup_datetime\\\"].dt.tz_convert(\\\"US/Eastern\\\")\\nfoo\\n# foo[\\\"pickup_datetime\\\"].dt.tz_localize(None)\";\n",
       "                var nbb_cells = Jupyter.notebook.get_cells();\n",
       "                for (var i = 0; i < nbb_cells.length; ++i) {\n",
       "                    if (nbb_cells[i].input_prompt_number == nbb_cell_id) {\n",
       "                        if (nbb_cells[i].get_text() == nbb_unformatted_code) {\n",
       "                             nbb_cells[i].set_text(nbb_formatted_code);\n",
       "                        }\n",
       "                        break;\n",
       "                    }\n",
       "                }\n",
       "            }, 500);\n",
       "            "
      ],
      "text/plain": [
       "<IPython.core.display.Javascript object>"
      ]
     },
     "metadata": {},
     "output_type": "display_data"
    },
    {
     "data": {
      "application/javascript": [
       "\n",
       "            setTimeout(function() {\n",
       "                var nbb_cell_id = 446;\n",
       "                var nbb_unformatted_code = \"foo[\\\"pickup_datetime\\\"] = foo[\\\"pickup_datetime\\\"].dt.tz_convert(\\\"US/Eastern\\\")\\nfoo\\n# foo[\\\"pickup_datetime\\\"].dt.tz_localize(None)\";\n",
       "                var nbb_formatted_code = \"foo[\\\"pickup_datetime\\\"] = foo[\\\"pickup_datetime\\\"].dt.tz_convert(\\\"US/Eastern\\\")\\nfoo\\n# foo[\\\"pickup_datetime\\\"].dt.tz_localize(None)\";\n",
       "                var nbb_cells = Jupyter.notebook.get_cells();\n",
       "                for (var i = 0; i < nbb_cells.length; ++i) {\n",
       "                    if (nbb_cells[i].input_prompt_number == nbb_cell_id) {\n",
       "                        if (nbb_cells[i].get_text() == nbb_unformatted_code) {\n",
       "                             nbb_cells[i].set_text(nbb_formatted_code);\n",
       "                        }\n",
       "                        break;\n",
       "                    }\n",
       "                }\n",
       "            }, 500);\n",
       "            "
      ],
      "text/plain": [
       "<IPython.core.display.Javascript object>"
      ]
     },
     "metadata": {},
     "output_type": "display_data"
    },
    {
     "data": {
      "application/javascript": [
       "\n",
       "            setTimeout(function() {\n",
       "                var nbb_cell_id = 446;\n",
       "                var nbb_unformatted_code = \"foo[\\\"pickup_datetime\\\"] = foo[\\\"pickup_datetime\\\"].dt.tz_convert(\\\"US/Eastern\\\")\\nfoo\\n# foo[\\\"pickup_datetime\\\"].dt.tz_localize(None)\";\n",
       "                var nbb_formatted_code = \"foo[\\\"pickup_datetime\\\"] = foo[\\\"pickup_datetime\\\"].dt.tz_convert(\\\"US/Eastern\\\")\\nfoo\\n# foo[\\\"pickup_datetime\\\"].dt.tz_localize(None)\";\n",
       "                var nbb_cells = Jupyter.notebook.get_cells();\n",
       "                for (var i = 0; i < nbb_cells.length; ++i) {\n",
       "                    if (nbb_cells[i].input_prompt_number == nbb_cell_id) {\n",
       "                        if (nbb_cells[i].get_text() == nbb_unformatted_code) {\n",
       "                             nbb_cells[i].set_text(nbb_formatted_code);\n",
       "                        }\n",
       "                        break;\n",
       "                    }\n",
       "                }\n",
       "            }, 500);\n",
       "            "
      ],
      "text/plain": [
       "<IPython.core.display.Javascript object>"
      ]
     },
     "metadata": {},
     "output_type": "display_data"
    },
    {
     "data": {
      "application/javascript": [
       "\n",
       "            setTimeout(function() {\n",
       "                var nbb_cell_id = 446;\n",
       "                var nbb_unformatted_code = \"foo[\\\"pickup_datetime\\\"] = foo[\\\"pickup_datetime\\\"].dt.tz_convert(\\\"US/Eastern\\\")\\nfoo\\n# foo[\\\"pickup_datetime\\\"].dt.tz_localize(None)\";\n",
       "                var nbb_formatted_code = \"foo[\\\"pickup_datetime\\\"] = foo[\\\"pickup_datetime\\\"].dt.tz_convert(\\\"US/Eastern\\\")\\nfoo\\n# foo[\\\"pickup_datetime\\\"].dt.tz_localize(None)\";\n",
       "                var nbb_cells = Jupyter.notebook.get_cells();\n",
       "                for (var i = 0; i < nbb_cells.length; ++i) {\n",
       "                    if (nbb_cells[i].input_prompt_number == nbb_cell_id) {\n",
       "                        if (nbb_cells[i].get_text() == nbb_unformatted_code) {\n",
       "                             nbb_cells[i].set_text(nbb_formatted_code);\n",
       "                        }\n",
       "                        break;\n",
       "                    }\n",
       "                }\n",
       "            }, 500);\n",
       "            "
      ],
      "text/plain": [
       "<IPython.core.display.Javascript object>"
      ]
     },
     "metadata": {},
     "output_type": "display_data"
    },
    {
     "data": {
      "application/javascript": [
       "\n",
       "            setTimeout(function() {\n",
       "                var nbb_cell_id = 446;\n",
       "                var nbb_unformatted_code = \"foo[\\\"pickup_datetime\\\"] = foo[\\\"pickup_datetime\\\"].dt.tz_convert(\\\"US/Eastern\\\")\\nfoo\\n# foo[\\\"pickup_datetime\\\"].dt.tz_localize(None)\";\n",
       "                var nbb_formatted_code = \"foo[\\\"pickup_datetime\\\"] = foo[\\\"pickup_datetime\\\"].dt.tz_convert(\\\"US/Eastern\\\")\\nfoo\\n# foo[\\\"pickup_datetime\\\"].dt.tz_localize(None)\";\n",
       "                var nbb_cells = Jupyter.notebook.get_cells();\n",
       "                for (var i = 0; i < nbb_cells.length; ++i) {\n",
       "                    if (nbb_cells[i].input_prompt_number == nbb_cell_id) {\n",
       "                        if (nbb_cells[i].get_text() == nbb_unformatted_code) {\n",
       "                             nbb_cells[i].set_text(nbb_formatted_code);\n",
       "                        }\n",
       "                        break;\n",
       "                    }\n",
       "                }\n",
       "            }, 500);\n",
       "            "
      ],
      "text/plain": [
       "<IPython.core.display.Javascript object>"
      ]
     },
     "metadata": {},
     "output_type": "display_data"
    }
   ],
   "source": [
    "foo[\"pickup_datetime\"].dt.tz_localize(None) # remove timezone"
   ]
  },
  {
   "cell_type": "code",
   "execution_count": null,
   "id": "f836f118",
   "metadata": {},
   "outputs": [],
   "source": [
    "def get_uber_data():\n",
    "    uber_dataframe = load_and_clean_uber_data(UBER_DATA)\n",
    "    add_distance_column(uber_dataframe)\n",
    "    return uber_dataframe"
   ]
  },
  {
   "cell_type": "markdown",
   "id": "45a15cbb",
   "metadata": {},
   "source": [
    "### Processing Weather Data\n",
    "\n",
    "_**TODO:** Write some prose that tells the reader what you're about to do here._"
   ]
  },
  {
   "cell_type": "code",
   "execution_count": 11,
   "id": "76e864ab",
   "metadata": {},
   "outputs": [],
   "source": [
    "def clean_month_weather_data_hourly(csv_file):\n",
    "    raise NotImplemented()"
   ]
  },
  {
   "cell_type": "code",
   "execution_count": null,
   "id": "0687581f",
   "metadata": {},
   "outputs": [],
   "source": [
    "def clean_month_weather_data_daily(csv_file):\n",
    "    raise NotImplemented()"
   ]
  },
  {
   "cell_type": "code",
   "execution_count": null,
   "id": "3ef8945d",
   "metadata": {},
   "outputs": [],
   "source": [
    "def load_and_clean_weather_data():\n",
    "    hourly_dataframes = []\n",
    "    daily_dataframes = []\n",
    "    \n",
    "    # add some way to find all weather CSV files\n",
    "    # or just add the name/paths manually\n",
    "    weather_csv_files = [\"TODO\"]\n",
    "    \n",
    "    for csv_file in weather_csv_files:\n",
    "        hourly_dataframe = clean_month_weather_data_hourly(csv_file)\n",
    "        daily_dataframe = clean_month_weather_data_daily(csv_file)\n",
    "        hourly_dataframes.append(hourly_dataframe)\n",
    "        daily_dataframes.append(daily_dataframe)\n",
    "        \n",
    "    # create two dataframes with hourly & daily data from every month\n",
    "    hourly_data = pd.concat(hourly_dataframes)\n",
    "    daily_data = pd.concat(daily_dataframes)\n",
    "    \n",
    "    return hourly_data, daily_data"
   ]
  },
  {
   "cell_type": "markdown",
   "id": "f900f7aa",
   "metadata": {},
   "source": [
    "### Process All Data\n",
    "\n",
    "_This is where you can actually execute all the required functions._\n",
    "\n",
    "_**TODO:** Write some prose that tells the reader what you're about to do here._"
   ]
  },
  {
   "cell_type": "code",
   "execution_count": null,
   "id": "f7cd53a6",
   "metadata": {},
   "outputs": [],
   "source": [
    "taxi_data = get_and_clean_taxi_data()\n",
    "uber_data = get_uber_data()\n",
    "hourly_weather_data, daily_weather_data = load_and_clean_weather_data()"
   ]
  },
  {
   "cell_type": "markdown",
   "id": "dd101f11",
   "metadata": {},
   "source": [
    "## Part 2: Storing Cleaned Data\n",
    "\n",
    "_Write some prose that tells the reader what you're about to do here._"
   ]
  },
  {
   "cell_type": "code",
   "execution_count": 14,
   "id": "f3529cf6",
   "metadata": {},
   "outputs": [],
   "source": [
    "engine = db.create_engine(DATABASE_URL)"
   ]
  },
  {
   "cell_type": "code",
   "execution_count": 15,
   "id": "d2bea0ff",
   "metadata": {},
   "outputs": [],
   "source": [
    "# if using SQL (as opposed to SQLAlchemy), define the commands \n",
    "# to create your 4 tables/dataframes\n",
    "HOURLY_WEATHER_SCHEMA = \"\"\"\n",
    "TODO\n",
    "\"\"\"\n",
    "\n",
    "DAILY_WEATHER_SCHEMA = \"\"\"\n",
    "TODO\n",
    "\"\"\"\n",
    "\n",
    "TAXI_TRIPS_SCHEMA = \"\"\"\n",
    "TODO\n",
    "\"\"\"\n",
    "\n",
    "UBER_TRIPS_SCHEMA = \"\"\"\n",
    "TODO\n",
    "\"\"\""
   ]
  },
  {
   "cell_type": "code",
   "execution_count": null,
   "id": "5f41e54b",
   "metadata": {},
   "outputs": [],
   "source": [
    "# create that required schema.sql file\n",
    "with open(DATABASE_SCHEMA_FILE, \"w\") as f:\n",
    "    f.write(HOURLY_WEATHER_SCHEMA)\n",
    "    f.write(DAILY_WEATHER_SCHEMA)\n",
    "    f.write(TAXI_TRIPS_SCHEMA)\n",
    "    f.write(UBER_TRIPS_SCHEMA)"
   ]
  },
  {
   "cell_type": "code",
   "execution_count": 16,
   "id": "02eccdba",
   "metadata": {},
   "outputs": [],
   "source": [
    "# create the tables with the schema files\n",
    "with engine.connect() as connection:\n",
    "    pass"
   ]
  },
  {
   "cell_type": "markdown",
   "id": "c122964f",
   "metadata": {},
   "source": [
    "### Add Data to Database\n",
    "\n",
    "_**TODO:** Write some prose that tells the reader what you're about to do here._"
   ]
  },
  {
   "cell_type": "code",
   "execution_count": 17,
   "id": "0e68a363",
   "metadata": {},
   "outputs": [],
   "source": [
    "def write_dataframes_to_table(table_to_df_dict):\n",
    "    raise NotImplemented()"
   ]
  },
  {
   "cell_type": "code",
   "execution_count": null,
   "id": "45d6c06c",
   "metadata": {},
   "outputs": [],
   "source": [
    "map_table_name_to_dataframe = {\n",
    "    \"taxi_trips\": taxi_data,\n",
    "    \"uber_trips\": uber_data,\n",
    "    \"hourly_weather\": hourly_data,\n",
    "    \"daily_weather\": daily_data,\n",
    "}"
   ]
  },
  {
   "cell_type": "code",
   "execution_count": null,
   "id": "74004f96",
   "metadata": {},
   "outputs": [],
   "source": [
    "write_dataframes_to_table(map_table_name_to_dataframe)"
   ]
  },
  {
   "cell_type": "markdown",
   "id": "8cb6e33e",
   "metadata": {},
   "source": [
    "## Part 3: Understanding the Data"
   ]
  },
  {
   "cell_type": "markdown",
   "id": "b4753fcd",
   "metadata": {},
   "source": [
    "_A checklist of requirements to keep you on track. Remove this whole cell before submitting the project. The order of these tasks aren't necessarily the order in which they need to be done. It's okay to do them in an order that makes sense to you._\n",
    "\n",
    "* [ ] For 01-2009 through 06-2015, what hour of the day was the most popular to take a yellow taxi? The result should have 24 bins.\n",
    "* [ ] For the same time frame, what day of the week was the most popular to take an uber? The result should have 7 bins.\n",
    "* [ ] What is the 95% percentile of distance traveled for all hired trips during July 2013?\n",
    "* [ ] What were the top 10 days with the highest number of hired rides for 2009, and what was the average distance for each day?\n",
    "* [ ] Which 10 days in 2014 were the windiest, and how many hired trips were made on those days?\n",
    "* [ ] During Hurricane Sandy in NYC (Oct 29-30, 2012) and the week leading up to it, how many trips were taken each hour, and for each hour, how much precipitation did NYC receive and what was the sustained wind speed?"
   ]
  },
  {
   "cell_type": "code",
   "execution_count": 18,
   "id": "6a849e92",
   "metadata": {},
   "outputs": [],
   "source": [
    "def write_query_to_file(query, outfile):\n",
    "    raise NotImplemented()"
   ]
  },
  {
   "cell_type": "markdown",
   "id": "ee70a777",
   "metadata": {},
   "source": [
    "### Query N\n",
    "\n",
    "_**TODO:** Write some prose that tells the reader what you're about to do here._\n",
    "\n",
    "_Repeat for each query_"
   ]
  },
  {
   "cell_type": "code",
   "execution_count": null,
   "id": "db871d3c",
   "metadata": {},
   "outputs": [],
   "source": [
    "QUERY_N = \"\"\"\n",
    "TODO\n",
    "\"\"\""
   ]
  },
  {
   "cell_type": "code",
   "execution_count": null,
   "id": "c5275f3a",
   "metadata": {},
   "outputs": [],
   "source": [
    "engine.execute(QUERY_N).fetchall()"
   ]
  },
  {
   "cell_type": "code",
   "execution_count": null,
   "id": "a2ef04df",
   "metadata": {},
   "outputs": [],
   "source": [
    "write_query_to_file(QUERY_N, \"some_descriptive_name.sql\")"
   ]
  },
  {
   "cell_type": "markdown",
   "id": "a13ced42",
   "metadata": {},
   "source": [
    "## Part 4: Visualizing the Data\n",
    "\n",
    "_A checklist of requirements to keep you on track. Remove this whole cell before submitting the project. The order of these tasks aren't necessarily the order in which they need to be done. It's okay to do them in an order that makes sense to you._\n",
    "\n",
    "* [ ] Create an appropriate visualization for the first query/question in part 3\n",
    "* [ ] Create a visualization that shows the average distance traveled per month (regardless of year - so group by each month). Include the 90% confidence interval around the mean in the visualization\n",
    "* [ ] Define three lat/long coordinate boxes around the three major New York airports: LGA, JFK, and EWR (you can use bboxfinder to help). Create a visualization that compares what day of the week was most popular for drop offs for each airport.\n",
    "* [ ] Create a heatmap of all hired trips over a map of the area. Consider using KeplerGL or another library that helps generate geospatial visualizations.\n",
    "* [ ] Create a scatter plot that compares tip amount versus distance.\n",
    "* [ ] Create another scatter plot that compares tip amount versus precipitation amount.\n",
    "\n",
    "_Be sure these cells are executed so that the visualizations are rendered when the notebook is submitted._"
   ]
  },
  {
   "cell_type": "markdown",
   "id": "6d9eef42",
   "metadata": {},
   "source": [
    "### Visualization N\n",
    "\n",
    "_**TODO:** Write some prose that tells the reader what you're about to do here._\n",
    "\n",
    "_Repeat for each visualization._\n",
    "\n",
    "_The example below makes use of the `matplotlib` library. There are other libraries, including `pandas` built-in plotting library, kepler for geospatial data representation, `seaborn`, and others._"
   ]
  },
  {
   "cell_type": "code",
   "execution_count": 19,
   "id": "0de8394c",
   "metadata": {},
   "outputs": [],
   "source": [
    "# use a more descriptive name for your function\n",
    "def plot_visual_n(dataframe):\n",
    "    figure, axes = plt.subplots(figsize=(20, 10))\n",
    "    \n",
    "    values = \"...\"  # use the dataframe to pull out values needed to plot\n",
    "    \n",
    "    # you may want to use matplotlib to plot your visualizations;\n",
    "    # there are also many other plot types (other \n",
    "    # than axes.plot) you can use\n",
    "    axes.plot(values, \"...\")\n",
    "    # there are other methods to use to label your axes, to style \n",
    "    # and set up axes labels, etc\n",
    "    axes.set_title(\"Some Descriptive Title\")\n",
    "    \n",
    "    plt.show()"
   ]
  },
  {
   "cell_type": "code",
   "execution_count": null,
   "id": "847ced2f",
   "metadata": {},
   "outputs": [],
   "source": [
    "def get_data_for_visual_n():\n",
    "    # Query SQL database for the data needed.\n",
    "    # You can put the data queried into a pandas dataframe, if you wish\n",
    "    raise NotImplemented()"
   ]
  },
  {
   "cell_type": "code",
   "execution_count": null,
   "id": "3c63e845",
   "metadata": {},
   "outputs": [],
   "source": [
    "some_dataframe = get_data_for_visual_n()\n",
    "plot_visual_n(some_dataframe)"
   ]
  }
 ],
 "metadata": {
  "kernelspec": {
   "display_name": "Python 3 (ipykernel)",
   "language": "python",
   "name": "python3"
  },
  "language_info": {
   "codemirror_mode": {
    "name": "ipython",
    "version": 3
   },
   "file_extension": ".py",
   "mimetype": "text/x-python",
   "name": "python",
   "nbconvert_exporter": "python",
   "pygments_lexer": "ipython3",
   "version": "3.10.8"
  }
 },
 "nbformat": 4,
 "nbformat_minor": 5
}
